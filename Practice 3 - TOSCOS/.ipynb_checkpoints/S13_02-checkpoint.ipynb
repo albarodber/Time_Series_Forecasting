{
 "cells": [
  {
   "cell_type": "markdown",
   "metadata": {
    "id": "AWSteL8ZF2DF"
   },
   "source": [
    "# SERIES TEMPORALES: MODELOS PREDICTIVOS\n",
    "## GREYKITE (Linkedin)\n",
    "\n",
    "`v2.2`\n",
    "---\n",
    "\n"
   ]
  },
  {
   "cell_type": "markdown",
   "metadata": {
    "id": "_Ibb__nDCH6a"
   },
   "source": [
    "\n",
    "Referencias\n",
    "===========\n",
    "\n",
    "https://engineering.linkedin.com/blog/2021/greykite--a-flexible--intuitive--and-fast-forecasting-library\n",
    "\n",
    "\n",
    "\n",
    "\n",
    "\n",
    "\n"
   ]
  },
  {
   "cell_type": "code",
   "execution_count": 1,
   "metadata": {
    "colab": {
     "base_uri": "https://localhost:8080/",
     "height": 0
    },
    "id": "1Cvhy9KNWGXU",
    "outputId": "17d1f609-e345-48c6-faef-5f412806ed7b"
   },
   "outputs": [
    {
     "name": "stdout",
     "output_type": "stream",
     "text": [
      "Mounted at /content/mnt\n"
     ]
    }
   ],
   "source": [
    "# \n",
    "import os, sys\n",
    "from google.colab import drive\n",
    "drive.mount('/content/mnt', force_remount=True)\n",
    "nb_path = '/content/notebooks'\n",
    "os.symlink('/content/mnt/My Drive/Colab Notebooks/Librerias', nb_path)\n",
    "#sys.path.insert(0, nb_path)  # or append(nb_path)\n",
    "sys.path.append(nb_path)  # or append(nb_path)"
   ]
  },
  {
   "cell_type": "code",
   "execution_count": 1,
   "metadata": {
    "id": "3CrEfELLc65N"
   },
   "outputs": [],
   "source": [
    "import warnings\n",
    "warnings.filterwarnings('ignore')"
   ]
  },
  {
   "cell_type": "code",
   "execution_count": 5,
   "metadata": {
    "id": "ks2BFXjdFdqd"
   },
   "outputs": [
    {
     "ename": "ModuleNotFoundError",
     "evalue": "No module named 'causalimpact'",
     "output_type": "error",
     "traceback": [
      "\u001b[1;31m---------------------------------------------------------------------------\u001b[0m",
      "\u001b[1;31mModuleNotFoundError\u001b[0m                       Traceback (most recent call last)",
      "Cell \u001b[1;32mIn [5], line 4\u001b[0m\n\u001b[0;32m      2\u001b[0m \u001b[38;5;28;01mimport\u001b[39;00m \u001b[38;5;21;01mpandas\u001b[39;00m \u001b[38;5;28;01mas\u001b[39;00m \u001b[38;5;21;01mpd\u001b[39;00m\n\u001b[0;32m      3\u001b[0m \u001b[38;5;28;01mfrom\u001b[39;00m \u001b[38;5;21;01mstatsmodels\u001b[39;00m\u001b[38;5;21;01m.\u001b[39;00m\u001b[38;5;21;01mtsa\u001b[39;00m\u001b[38;5;21;01m.\u001b[39;00m\u001b[38;5;21;01marima_process\u001b[39;00m \u001b[38;5;28;01mimport\u001b[39;00m ArmaProcess\n\u001b[1;32m----> 4\u001b[0m \u001b[38;5;28;01mfrom\u001b[39;00m \u001b[38;5;21;01mcausalimpact\u001b[39;00m \u001b[38;5;28;01mimport\u001b[39;00m CausalImpact\n",
      "\u001b[1;31mModuleNotFoundError\u001b[0m: No module named 'causalimpact'"
     ]
    }
   ],
   "source": [
    "import numpy as np\n",
    "import pandas as pd\n",
    "from statsmodels.tsa.arima_process import ArmaProcess\n",
    "from causalimpact import CausalImpact"
   ]
  },
  {
   "cell_type": "code",
   "execution_count": 3,
   "metadata": {},
   "outputs": [
    {
     "name": "stdout",
     "output_type": "stream",
     "text": [
      "Collecting causalimpact\n",
      "  Downloading causalimpact-0.2.4-py3-none-any.whl (16 kB)\n",
      "Requirement already satisfied: numpy in c:\\users\\alba\\anaconda3\\lib\\site-packages (from causalimpact) (1.21.5)\n",
      "Requirement already satisfied: matplotlib in c:\\users\\alba\\anaconda3\\lib\\site-packages (from causalimpact) (3.5.2)\n",
      "Requirement already satisfied: statsmodels in c:\\users\\alba\\anaconda3\\lib\\site-packages (from causalimpact) (0.13.2)\n",
      "Collecting pymc3\n",
      "  Downloading pymc3-3.11.5-py3-none-any.whl (872 kB)\n",
      "     -------------------------------------- 872.2/872.2 kB 7.8 MB/s eta 0:00:00\n",
      "Requirement already satisfied: pandas in c:\\users\\alba\\anaconda3\\lib\\site-packages (from causalimpact) (1.4.4)\n",
      "Requirement already satisfied: kiwisolver>=1.0.1 in c:\\users\\alba\\anaconda3\\lib\\site-packages (from matplotlib->causalimpact) (1.4.2)\n",
      "Requirement already satisfied: python-dateutil>=2.7 in c:\\users\\alba\\appdata\\roaming\\python\\python39\\site-packages (from matplotlib->causalimpact) (2.8.2)\n",
      "Requirement already satisfied: cycler>=0.10 in c:\\users\\alba\\anaconda3\\lib\\site-packages (from matplotlib->causalimpact) (0.11.0)\n",
      "Requirement already satisfied: fonttools>=4.22.0 in c:\\users\\alba\\anaconda3\\lib\\site-packages (from matplotlib->causalimpact) (4.25.0)\n",
      "Requirement already satisfied: packaging>=20.0 in c:\\users\\alba\\appdata\\roaming\\python\\python39\\site-packages (from matplotlib->causalimpact) (21.3)\n",
      "Requirement already satisfied: pyparsing>=2.2.1 in c:\\users\\alba\\appdata\\roaming\\python\\python39\\site-packages (from matplotlib->causalimpact) (3.0.9)\n",
      "Requirement already satisfied: pillow>=6.2.0 in c:\\users\\alba\\anaconda3\\lib\\site-packages (from matplotlib->causalimpact) (9.2.0)\n",
      "Requirement already satisfied: pytz>=2020.1 in c:\\users\\alba\\anaconda3\\lib\\site-packages (from pandas->causalimpact) (2022.1)\n",
      "Collecting theano-pymc==1.1.2\n",
      "  Downloading Theano-PyMC-1.1.2.tar.gz (1.8 MB)\n",
      "     ---------------------------------------- 1.8/1.8 MB 16.4 MB/s eta 0:00:00\n",
      "  Preparing metadata (setup.py): started\n",
      "  Preparing metadata (setup.py): finished with status 'done'\n",
      "Collecting fastprogress>=0.2.0\n",
      "  Downloading fastprogress-1.0.3-py3-none-any.whl (12 kB)\n",
      "Requirement already satisfied: cachetools>=4.2.1 in c:\\users\\alba\\anaconda3\\lib\\site-packages (from pymc3->causalimpact) (5.2.0)\n",
      "Requirement already satisfied: patsy>=0.5.1 in c:\\users\\alba\\anaconda3\\lib\\site-packages (from pymc3->causalimpact) (0.5.2)\n",
      "Requirement already satisfied: typing-extensions>=3.7.4 in c:\\users\\alba\\anaconda3\\lib\\site-packages (from pymc3->causalimpact) (4.3.0)\n",
      "Collecting deprecat\n",
      "  Downloading deprecat-2.1.1-py2.py3-none-any.whl (9.8 kB)\n",
      "Collecting arviz>=0.11.0\n",
      "  Using cached arviz-0.14.0-py3-none-any.whl (1.7 MB)\n",
      "Collecting semver>=2.13.0\n",
      "  Downloading semver-2.13.0-py2.py3-none-any.whl (12 kB)\n",
      "Requirement already satisfied: dill in c:\\users\\alba\\anaconda3\\lib\\site-packages (from pymc3->causalimpact) (0.3.4)\n",
      "Collecting scipy<1.8.0,>=1.7.3\n",
      "  Downloading scipy-1.7.3-cp39-cp39-win_amd64.whl (34.3 MB)\n",
      "     --------------------------------------- 34.3/34.3 MB 21.1 MB/s eta 0:00:00\n",
      "Requirement already satisfied: filelock in c:\\users\\alba\\anaconda3\\lib\\site-packages (from theano-pymc==1.1.2->pymc3->causalimpact) (3.6.0)\n",
      "Collecting xarray-einstats>=0.3\n",
      "  Using cached xarray_einstats-0.4.0-py3-none-any.whl (25 kB)\n",
      "Requirement already satisfied: setuptools>=60.0.0 in c:\\users\\alba\\anaconda3\\lib\\site-packages (from arviz>=0.11.0->pymc3->causalimpact) (63.4.1)\n",
      "Collecting netcdf4\n",
      "  Using cached netCDF4-1.6.2-cp39-cp39-win_amd64.whl (5.2 MB)\n",
      "Collecting arviz>=0.11.0\n",
      "  Downloading arviz-0.13.0-py3-none-any.whl (1.7 MB)\n",
      "     ---------------------------------------- 1.7/1.7 MB 21.1 MB/s eta 0:00:00\n",
      "  Downloading arviz-0.12.1-py3-none-any.whl (1.6 MB)\n",
      "     ---------------------------------------- 1.6/1.6 MB 20.0 MB/s eta 0:00:00\n",
      "Requirement already satisfied: xarray>=0.16.1 in c:\\users\\alba\\anaconda3\\lib\\site-packages (from arviz>=0.11.0->pymc3->causalimpact) (0.20.1)\n",
      "Requirement already satisfied: six in c:\\users\\alba\\appdata\\roaming\\python\\python39\\site-packages (from patsy>=0.5.1->pymc3->causalimpact) (1.16.0)\n",
      "Requirement already satisfied: wrapt<2,>=1.10 in c:\\users\\alba\\anaconda3\\lib\\site-packages (from deprecat->pymc3->causalimpact) (1.14.1)\n",
      "Collecting cftime\n",
      "  Using cached cftime-1.6.2-cp39-cp39-win_amd64.whl (171 kB)\n",
      "Building wheels for collected packages: theano-pymc\n",
      "  Building wheel for theano-pymc (setup.py): started\n",
      "  Building wheel for theano-pymc (setup.py): finished with status 'done'\n",
      "  Created wheel for theano-pymc: filename=Theano_PyMC-1.1.2-py3-none-any.whl size=1529975 sha256=c4d2432ce74f2d80738c87a534d68097f70e34fa0073e19fc713f5897e7dbbfc\n",
      "  Stored in directory: c:\\users\\alba\\appdata\\local\\pip\\cache\\wheels\\04\\22\\4d\\832878ba2fe9ea3543f0189b9288a78e4aa4e0afc851a6890c\n",
      "Successfully built theano-pymc\n",
      "Installing collected packages: semver, scipy, fastprogress, deprecat, cftime, theano-pymc, netcdf4, xarray-einstats, arviz, pymc3, causalimpact\n",
      "  Attempting uninstall: scipy\n",
      "    Found existing installation: scipy 1.9.3\n",
      "    Uninstalling scipy-1.9.3:\n",
      "      Successfully uninstalled scipy-1.9.3\n",
      "Note: you may need to restart the kernel to use updated packages.\n"
     ]
    },
    {
     "name": "stderr",
     "output_type": "stream",
     "text": [
      "ERROR: Could not install packages due to an OSError: [WinError 5] Acceso denegado: 'C:\\\\Users\\\\Alba\\\\anaconda3\\\\Lib\\\\site-packages\\\\~cipy\\\\.libs\\\\libansari.54HGNEJBQIYZX5TZPCQGLNVIPFU6NWEX.gfortran-win_amd64.dll'\n",
      "Consider using the `--user` option or check the permissions.\n",
      "\n"
     ]
    }
   ],
   "source": [
    "pip install causalimpact"
   ]
  },
  {
   "cell_type": "code",
   "execution_count": null,
   "metadata": {
    "id": "vii2X7Ghq_tj"
   },
   "outputs": [],
   "source": [
    "# Performance\n",
    "from sktime.performance_metrics.forecasting import MeanSquaredError\n",
    "from sktime.performance_metrics.forecasting import MeanAbsolutePercentageError\n",
    "from sktime.performance_metrics.forecasting import mean_absolute_percentage_error\n",
    "RMSE = MeanSquaredError(square_root=True)\n",
    "MAPE = MeanAbsolutePercentageError(symmetric=False)\n",
    "\n",
    "def ForecastPerformance(original,forecast):\n",
    "    print(f'RMSE: {round(RMSE(original, forecast),2)}')\n",
    "    print(f'MAPE: {round(MAPE(original, forecast)*100,2)}%')"
   ]
  },
  {
   "cell_type": "code",
   "execution_count": null,
   "metadata": {
    "id": "Gl0P3KqGvThe"
   },
   "outputs": [],
   "source": [
    "!pip install greykite"
   ]
  },
  {
   "cell_type": "code",
   "execution_count": null,
   "metadata": {
    "id": "53AoMZYpv_S7"
   },
   "outputs": [],
   "source": [
    "from collections import defaultdict\n",
    "\n",
    "import plotly\n",
    "import pandas as pd\n",
    "\n",
    "from greykite.framework.benchmark.data_loader_ts import DataLoaderTS\n",
    "from greykite.framework.templates.autogen.forecast_config import EvaluationPeriodParam\n",
    "from greykite.framework.templates.autogen.forecast_config import ForecastConfig\n",
    "from greykite.framework.templates.autogen.forecast_config import MetadataParam\n",
    "from greykite.framework.templates.autogen.forecast_config import ModelComponentsParam\n",
    "from greykite.framework.templates.forecaster import Forecaster\n",
    "from greykite.framework.templates.model_templates import ModelTemplateEnum\n",
    "from greykite.framework.utils.result_summary import summarize_grid_search_results\n",
    "from greykite.framework.input.univariate_time_series import UnivariateTimeSeries"
   ]
  },
  {
   "cell_type": "markdown",
   "metadata": {
    "id": "7ZP3LjLbvrhC"
   },
   "source": [
    "\n",
    "# Ejemplo monthly data\n",
    "\n",
    "\n"
   ]
  },
  {
   "cell_type": "markdown",
   "metadata": {
    "id": "9Pr8JOa1vrhF"
   },
   "source": [
    "Loads dataset into ``UnivariateTimeSeries``.\n",
    "\n"
   ]
  },
  {
   "cell_type": "code",
   "execution_count": 2,
   "metadata": {
    "colab": {
     "base_uri": "https://localhost:8080/",
     "height": 0
    },
    "id": "2wglbWlWvrhG",
    "outputId": "55ca1144-a252-4d44-9f73-fe6a356a2703"
   },
   "outputs": [
    {
     "data": {
      "text/plain": [
       "<greykite.framework.input.univariate_time_series.UnivariateTimeSeries at 0x7fea07cfcd00>"
      ]
     },
     "execution_count": 2,
     "metadata": {},
     "output_type": "execute_result"
    }
   ],
   "source": [
    "dl = DataLoaderTS()\n",
    "agg_func = {\"count\": \"sum\"}\n",
    "df = dl.load_bikesharing(agg_freq=\"monthly\", agg_func=agg_func)\n",
    "# In this monthly data the last month data is incomplete, therefore we drop it\n",
    "df.drop(df.tail(1).index,inplace=True)\n",
    "df.reset_index(drop=True)\n",
    "ts = UnivariateTimeSeries()\n",
    "ts.load_data(\n",
    "    df=df,\n",
    "    time_col=\"ts\",\n",
    "    value_col=\"count\",\n",
    "    freq=\"MS\")"
   ]
  },
  {
   "cell_type": "markdown",
   "metadata": {
    "id": "XcJGsjORvrhH"
   },
   "source": [
    "## Exploratory data analysis (EDA)\n",
    "\n",
    "\n"
   ]
  },
  {
   "cell_type": "markdown",
   "metadata": {
    "id": "HhcEUVQyvrhH"
   },
   "source": [
    "A quick description of the data can be obtained as follows.\n",
    "\n"
   ]
  },
  {
   "cell_type": "code",
   "execution_count": 3,
   "metadata": {
    "colab": {
     "base_uri": "https://localhost:8080/",
     "height": 0
    },
    "id": "WmDHP_Y_vrhI",
    "outputId": "ebe7a000-8e08-4df6-aa09-f11a2537e2c1"
   },
   "outputs": [
    {
     "name": "stdout",
     "output_type": "stream",
     "text": [
      "{'data_points': 108, 'mean_increment_secs': 2629143.925233645, 'min_timestamp': Timestamp('2010-09-01 00:00:00'), 'max_timestamp': Timestamp('2019-08-01 00:00:00')}\n",
      "count       108.000000\n",
      "mean     231254.101852\n",
      "std      106017.804606\n",
      "min        4001.000000\n",
      "25%      144661.750000\n",
      "50%      227332.000000\n",
      "75%      327851.250000\n",
      "max      404811.000000\n",
      "Name: y, dtype: float64\n",
      "          ts  count\n",
      "0 2010-09-01   4001\n",
      "1 2010-10-01  35949\n",
      "2 2010-11-01  47391\n",
      "3 2010-12-01  28253\n",
      "4 2011-01-01  37499\n"
     ]
    }
   ],
   "source": [
    "print(ts.describe_time_col())\n",
    "print(ts.describe_value_col())\n",
    "print(df.head())"
   ]
  },
  {
   "cell_type": "markdown",
   "metadata": {
    "id": "AVgINX_7vrhI"
   },
   "source": [
    "Let's plot the original timeseries.\n",
    "(The interactive plot is generated by ``plotly``: **click to zoom!**)\n",
    "\n"
   ]
  },
  {
   "cell_type": "code",
   "execution_count": 4,
   "metadata": {
    "colab": {
     "base_uri": "https://localhost:8080/",
     "height": 542
    },
    "id": "S0z-_fyrvrhJ",
    "outputId": "b25df1f2-4ed5-4ab3-9236-2874e4875c48"
   },
   "outputs": [
    {
     "data": {
      "text/html": [
       "<html>\n",
       "<head><meta charset=\"utf-8\" /></head>\n",
       "<body>\n",
       "    <div>            <script src=\"https://cdnjs.cloudflare.com/ajax/libs/mathjax/2.7.5/MathJax.js?config=TeX-AMS-MML_SVG\"></script><script type=\"text/javascript\">if (window.MathJax) {MathJax.Hub.Config({SVG: {font: \"STIX-Web\"}});}</script>                <script type=\"text/javascript\">window.PlotlyConfig = {MathJaxConfig: 'local'};</script>\n",
       "        <script src=\"https://cdn.plot.ly/plotly-2.8.3.min.js\"></script>                <div id=\"007afd51-e99a-4fcf-8b3f-f2778b0818ef\" class=\"plotly-graph-div\" style=\"height:525px; width:100%;\"></div>            <script type=\"text/javascript\">                                    window.PLOTLYENV=window.PLOTLYENV || {};                                    if (document.getElementById(\"007afd51-e99a-4fcf-8b3f-f2778b0818ef\")) {                    Plotly.newPlot(                        \"007afd51-e99a-4fcf-8b3f-f2778b0818ef\",                        [{\"line\":{\"color\":\"rgb(32, 149, 212)\"},\"mode\":\"lines\",\"name\":\"count\",\"opacity\":0.8,\"x\":[\"2010-09-01T00:00:00\",\"2010-10-01T00:00:00\",\"2010-11-01T00:00:00\",\"2010-12-01T00:00:00\",\"2011-01-01T00:00:00\",\"2011-02-01T00:00:00\",\"2011-03-01T00:00:00\",\"2011-04-01T00:00:00\",\"2011-05-01T00:00:00\",\"2011-06-01T00:00:00\",\"2011-07-01T00:00:00\",\"2011-08-01T00:00:00\",\"2011-09-01T00:00:00\",\"2011-10-01T00:00:00\",\"2011-11-01T00:00:00\",\"2011-12-01T00:00:00\",\"2012-01-01T00:00:00\",\"2012-02-01T00:00:00\",\"2012-03-01T00:00:00\",\"2012-04-01T00:00:00\",\"2012-05-01T00:00:00\",\"2012-06-01T00:00:00\",\"2012-07-01T00:00:00\",\"2012-08-01T00:00:00\",\"2012-09-01T00:00:00\",\"2012-10-01T00:00:00\",\"2012-11-01T00:00:00\",\"2012-12-01T00:00:00\",\"2013-01-01T00:00:00\",\"2013-02-01T00:00:00\",\"2013-03-01T00:00:00\",\"2013-04-01T00:00:00\",\"2013-05-01T00:00:00\",\"2013-06-01T00:00:00\",\"2013-07-01T00:00:00\",\"2013-08-01T00:00:00\",\"2013-09-01T00:00:00\",\"2013-10-01T00:00:00\",\"2013-11-01T00:00:00\",\"2013-12-01T00:00:00\",\"2014-01-01T00:00:00\",\"2014-02-01T00:00:00\",\"2014-03-01T00:00:00\",\"2014-04-01T00:00:00\",\"2014-05-01T00:00:00\",\"2014-06-01T00:00:00\",\"2014-07-01T00:00:00\",\"2014-08-01T00:00:00\",\"2014-09-01T00:00:00\",\"2014-10-01T00:00:00\",\"2014-11-01T00:00:00\",\"2014-12-01T00:00:00\",\"2015-01-01T00:00:00\",\"2015-02-01T00:00:00\",\"2015-03-01T00:00:00\",\"2015-04-01T00:00:00\",\"2015-05-01T00:00:00\",\"2015-06-01T00:00:00\",\"2015-07-01T00:00:00\",\"2015-08-01T00:00:00\",\"2015-09-01T00:00:00\",\"2015-10-01T00:00:00\",\"2015-11-01T00:00:00\",\"2015-12-01T00:00:00\",\"2016-01-01T00:00:00\",\"2016-02-01T00:00:00\",\"2016-03-01T00:00:00\",\"2016-04-01T00:00:00\",\"2016-05-01T00:00:00\",\"2016-06-01T00:00:00\",\"2016-07-01T00:00:00\",\"2016-08-01T00:00:00\",\"2016-09-01T00:00:00\",\"2016-10-01T00:00:00\",\"2016-11-01T00:00:00\",\"2016-12-01T00:00:00\",\"2017-01-01T00:00:00\",\"2017-02-01T00:00:00\",\"2017-03-01T00:00:00\",\"2017-04-01T00:00:00\",\"2017-05-01T00:00:00\",\"2017-06-01T00:00:00\",\"2017-07-01T00:00:00\",\"2017-08-01T00:00:00\",\"2017-09-01T00:00:00\",\"2017-10-01T00:00:00\",\"2017-11-01T00:00:00\",\"2017-12-01T00:00:00\",\"2018-01-01T00:00:00\",\"2018-02-01T00:00:00\",\"2018-03-01T00:00:00\",\"2018-04-01T00:00:00\",\"2018-05-01T00:00:00\",\"2018-06-01T00:00:00\",\"2018-07-01T00:00:00\",\"2018-08-01T00:00:00\",\"2018-09-01T00:00:00\",\"2018-10-01T00:00:00\",\"2018-11-01T00:00:00\",\"2018-12-01T00:00:00\",\"2019-01-01T00:00:00\",\"2019-02-01T00:00:00\",\"2019-03-01T00:00:00\",\"2019-04-01T00:00:00\",\"2019-05-01T00:00:00\",\"2019-06-01T00:00:00\",\"2019-07-01T00:00:00\",\"2019-08-01T00:00:00\"],\"y\":[4001,35949,47391,28253,37499,47538,63211,93048,133816,141709,139603,135018,125869,122105,101014,86328,95850,102254,163154,172520,193680,200620,201577,212070,216317,196874,151328,122656,124977,110090,157390,236423,250358,253876,267986,288700,282038,254591,192491,136609,112686,122672,165769,269495,306646,316641,327797,320890,323972,297921,197110,151567,127388,108058,188262,318295,367203,314276,363902,364456,328014,290339,228359,187349,123262,145646,283436,285528,288749,368043,366497,357324,344381,343295,259098,168728,174806,226305,245370,365973,339685,398684,397742,402521,391330,384901,252550,177932,168568,182362,238951,328939,374122,392256,404811,403896,325799,343026,202365,177581,150786,158105,253832,347955,337600,350221,356652,359982],\"type\":\"scatter\"}],                        {\"legend\":{\"traceorder\":\"reversed\"},\"showlegend\":true,\"title\":{\"text\":\"count vs ts\",\"x\":0.5},\"xaxis\":{\"title\":{\"text\":\"ts\"}},\"yaxis\":{\"title\":{\"text\":\"count\"}},\"template\":{\"data\":{\"bar\":[{\"error_x\":{\"color\":\"#2a3f5f\"},\"error_y\":{\"color\":\"#2a3f5f\"},\"marker\":{\"line\":{\"color\":\"#E5ECF6\",\"width\":0.5},\"pattern\":{\"fillmode\":\"overlay\",\"size\":10,\"solidity\":0.2}},\"type\":\"bar\"}],\"barpolar\":[{\"marker\":{\"line\":{\"color\":\"#E5ECF6\",\"width\":0.5},\"pattern\":{\"fillmode\":\"overlay\",\"size\":10,\"solidity\":0.2}},\"type\":\"barpolar\"}],\"carpet\":[{\"aaxis\":{\"endlinecolor\":\"#2a3f5f\",\"gridcolor\":\"white\",\"linecolor\":\"white\",\"minorgridcolor\":\"white\",\"startlinecolor\":\"#2a3f5f\"},\"baxis\":{\"endlinecolor\":\"#2a3f5f\",\"gridcolor\":\"white\",\"linecolor\":\"white\",\"minorgridcolor\":\"white\",\"startlinecolor\":\"#2a3f5f\"},\"type\":\"carpet\"}],\"choropleth\":[{\"colorbar\":{\"outlinewidth\":0,\"ticks\":\"\"},\"type\":\"choropleth\"}],\"contour\":[{\"colorbar\":{\"outlinewidth\":0,\"ticks\":\"\"},\"colorscale\":[[0.0,\"#0d0887\"],[0.1111111111111111,\"#46039f\"],[0.2222222222222222,\"#7201a8\"],[0.3333333333333333,\"#9c179e\"],[0.4444444444444444,\"#bd3786\"],[0.5555555555555556,\"#d8576b\"],[0.6666666666666666,\"#ed7953\"],[0.7777777777777778,\"#fb9f3a\"],[0.8888888888888888,\"#fdca26\"],[1.0,\"#f0f921\"]],\"type\":\"contour\"}],\"contourcarpet\":[{\"colorbar\":{\"outlinewidth\":0,\"ticks\":\"\"},\"type\":\"contourcarpet\"}],\"heatmap\":[{\"colorbar\":{\"outlinewidth\":0,\"ticks\":\"\"},\"colorscale\":[[0.0,\"#0d0887\"],[0.1111111111111111,\"#46039f\"],[0.2222222222222222,\"#7201a8\"],[0.3333333333333333,\"#9c179e\"],[0.4444444444444444,\"#bd3786\"],[0.5555555555555556,\"#d8576b\"],[0.6666666666666666,\"#ed7953\"],[0.7777777777777778,\"#fb9f3a\"],[0.8888888888888888,\"#fdca26\"],[1.0,\"#f0f921\"]],\"type\":\"heatmap\"}],\"heatmapgl\":[{\"colorbar\":{\"outlinewidth\":0,\"ticks\":\"\"},\"colorscale\":[[0.0,\"#0d0887\"],[0.1111111111111111,\"#46039f\"],[0.2222222222222222,\"#7201a8\"],[0.3333333333333333,\"#9c179e\"],[0.4444444444444444,\"#bd3786\"],[0.5555555555555556,\"#d8576b\"],[0.6666666666666666,\"#ed7953\"],[0.7777777777777778,\"#fb9f3a\"],[0.8888888888888888,\"#fdca26\"],[1.0,\"#f0f921\"]],\"type\":\"heatmapgl\"}],\"histogram\":[{\"marker\":{\"pattern\":{\"fillmode\":\"overlay\",\"size\":10,\"solidity\":0.2}},\"type\":\"histogram\"}],\"histogram2d\":[{\"colorbar\":{\"outlinewidth\":0,\"ticks\":\"\"},\"colorscale\":[[0.0,\"#0d0887\"],[0.1111111111111111,\"#46039f\"],[0.2222222222222222,\"#7201a8\"],[0.3333333333333333,\"#9c179e\"],[0.4444444444444444,\"#bd3786\"],[0.5555555555555556,\"#d8576b\"],[0.6666666666666666,\"#ed7953\"],[0.7777777777777778,\"#fb9f3a\"],[0.8888888888888888,\"#fdca26\"],[1.0,\"#f0f921\"]],\"type\":\"histogram2d\"}],\"histogram2dcontour\":[{\"colorbar\":{\"outlinewidth\":0,\"ticks\":\"\"},\"colorscale\":[[0.0,\"#0d0887\"],[0.1111111111111111,\"#46039f\"],[0.2222222222222222,\"#7201a8\"],[0.3333333333333333,\"#9c179e\"],[0.4444444444444444,\"#bd3786\"],[0.5555555555555556,\"#d8576b\"],[0.6666666666666666,\"#ed7953\"],[0.7777777777777778,\"#fb9f3a\"],[0.8888888888888888,\"#fdca26\"],[1.0,\"#f0f921\"]],\"type\":\"histogram2dcontour\"}],\"mesh3d\":[{\"colorbar\":{\"outlinewidth\":0,\"ticks\":\"\"},\"type\":\"mesh3d\"}],\"parcoords\":[{\"line\":{\"colorbar\":{\"outlinewidth\":0,\"ticks\":\"\"}},\"type\":\"parcoords\"}],\"pie\":[{\"automargin\":true,\"type\":\"pie\"}],\"scatter\":[{\"marker\":{\"colorbar\":{\"outlinewidth\":0,\"ticks\":\"\"}},\"type\":\"scatter\"}],\"scatter3d\":[{\"line\":{\"colorbar\":{\"outlinewidth\":0,\"ticks\":\"\"}},\"marker\":{\"colorbar\":{\"outlinewidth\":0,\"ticks\":\"\"}},\"type\":\"scatter3d\"}],\"scattercarpet\":[{\"marker\":{\"colorbar\":{\"outlinewidth\":0,\"ticks\":\"\"}},\"type\":\"scattercarpet\"}],\"scattergeo\":[{\"marker\":{\"colorbar\":{\"outlinewidth\":0,\"ticks\":\"\"}},\"type\":\"scattergeo\"}],\"scattergl\":[{\"marker\":{\"colorbar\":{\"outlinewidth\":0,\"ticks\":\"\"}},\"type\":\"scattergl\"}],\"scattermapbox\":[{\"marker\":{\"colorbar\":{\"outlinewidth\":0,\"ticks\":\"\"}},\"type\":\"scattermapbox\"}],\"scatterpolar\":[{\"marker\":{\"colorbar\":{\"outlinewidth\":0,\"ticks\":\"\"}},\"type\":\"scatterpolar\"}],\"scatterpolargl\":[{\"marker\":{\"colorbar\":{\"outlinewidth\":0,\"ticks\":\"\"}},\"type\":\"scatterpolargl\"}],\"scatterternary\":[{\"marker\":{\"colorbar\":{\"outlinewidth\":0,\"ticks\":\"\"}},\"type\":\"scatterternary\"}],\"surface\":[{\"colorbar\":{\"outlinewidth\":0,\"ticks\":\"\"},\"colorscale\":[[0.0,\"#0d0887\"],[0.1111111111111111,\"#46039f\"],[0.2222222222222222,\"#7201a8\"],[0.3333333333333333,\"#9c179e\"],[0.4444444444444444,\"#bd3786\"],[0.5555555555555556,\"#d8576b\"],[0.6666666666666666,\"#ed7953\"],[0.7777777777777778,\"#fb9f3a\"],[0.8888888888888888,\"#fdca26\"],[1.0,\"#f0f921\"]],\"type\":\"surface\"}],\"table\":[{\"cells\":{\"fill\":{\"color\":\"#EBF0F8\"},\"line\":{\"color\":\"white\"}},\"header\":{\"fill\":{\"color\":\"#C8D4E3\"},\"line\":{\"color\":\"white\"}},\"type\":\"table\"}]},\"layout\":{\"annotationdefaults\":{\"arrowcolor\":\"#2a3f5f\",\"arrowhead\":0,\"arrowwidth\":1},\"autotypenumbers\":\"strict\",\"coloraxis\":{\"colorbar\":{\"outlinewidth\":0,\"ticks\":\"\"}},\"colorscale\":{\"diverging\":[[0,\"#8e0152\"],[0.1,\"#c51b7d\"],[0.2,\"#de77ae\"],[0.3,\"#f1b6da\"],[0.4,\"#fde0ef\"],[0.5,\"#f7f7f7\"],[0.6,\"#e6f5d0\"],[0.7,\"#b8e186\"],[0.8,\"#7fbc41\"],[0.9,\"#4d9221\"],[1,\"#276419\"]],\"sequential\":[[0.0,\"#0d0887\"],[0.1111111111111111,\"#46039f\"],[0.2222222222222222,\"#7201a8\"],[0.3333333333333333,\"#9c179e\"],[0.4444444444444444,\"#bd3786\"],[0.5555555555555556,\"#d8576b\"],[0.6666666666666666,\"#ed7953\"],[0.7777777777777778,\"#fb9f3a\"],[0.8888888888888888,\"#fdca26\"],[1.0,\"#f0f921\"]],\"sequentialminus\":[[0.0,\"#0d0887\"],[0.1111111111111111,\"#46039f\"],[0.2222222222222222,\"#7201a8\"],[0.3333333333333333,\"#9c179e\"],[0.4444444444444444,\"#bd3786\"],[0.5555555555555556,\"#d8576b\"],[0.6666666666666666,\"#ed7953\"],[0.7777777777777778,\"#fb9f3a\"],[0.8888888888888888,\"#fdca26\"],[1.0,\"#f0f921\"]]},\"colorway\":[\"#636efa\",\"#EF553B\",\"#00cc96\",\"#ab63fa\",\"#FFA15A\",\"#19d3f3\",\"#FF6692\",\"#B6E880\",\"#FF97FF\",\"#FECB52\"],\"font\":{\"color\":\"#2a3f5f\"},\"geo\":{\"bgcolor\":\"white\",\"lakecolor\":\"white\",\"landcolor\":\"#E5ECF6\",\"showlakes\":true,\"showland\":true,\"subunitcolor\":\"white\"},\"hoverlabel\":{\"align\":\"left\"},\"hovermode\":\"closest\",\"mapbox\":{\"style\":\"light\"},\"paper_bgcolor\":\"white\",\"plot_bgcolor\":\"#E5ECF6\",\"polar\":{\"angularaxis\":{\"gridcolor\":\"white\",\"linecolor\":\"white\",\"ticks\":\"\"},\"bgcolor\":\"#E5ECF6\",\"radialaxis\":{\"gridcolor\":\"white\",\"linecolor\":\"white\",\"ticks\":\"\"}},\"scene\":{\"xaxis\":{\"backgroundcolor\":\"#E5ECF6\",\"gridcolor\":\"white\",\"gridwidth\":2,\"linecolor\":\"white\",\"showbackground\":true,\"ticks\":\"\",\"zerolinecolor\":\"white\"},\"yaxis\":{\"backgroundcolor\":\"#E5ECF6\",\"gridcolor\":\"white\",\"gridwidth\":2,\"linecolor\":\"white\",\"showbackground\":true,\"ticks\":\"\",\"zerolinecolor\":\"white\"},\"zaxis\":{\"backgroundcolor\":\"#E5ECF6\",\"gridcolor\":\"white\",\"gridwidth\":2,\"linecolor\":\"white\",\"showbackground\":true,\"ticks\":\"\",\"zerolinecolor\":\"white\"}},\"shapedefaults\":{\"line\":{\"color\":\"#2a3f5f\"}},\"ternary\":{\"aaxis\":{\"gridcolor\":\"white\",\"linecolor\":\"white\",\"ticks\":\"\"},\"baxis\":{\"gridcolor\":\"white\",\"linecolor\":\"white\",\"ticks\":\"\"},\"bgcolor\":\"#E5ECF6\",\"caxis\":{\"gridcolor\":\"white\",\"linecolor\":\"white\",\"ticks\":\"\"}},\"title\":{\"x\":0.05},\"xaxis\":{\"automargin\":true,\"gridcolor\":\"white\",\"linecolor\":\"white\",\"ticks\":\"\",\"title\":{\"standoff\":15},\"zerolinecolor\":\"white\",\"zerolinewidth\":2},\"yaxis\":{\"automargin\":true,\"gridcolor\":\"white\",\"linecolor\":\"white\",\"ticks\":\"\",\"title\":{\"standoff\":15},\"zerolinecolor\":\"white\",\"zerolinewidth\":2}}}},                        {\"responsive\": true}                    ).then(function(){\n",
       "                            \n",
       "var gd = document.getElementById('007afd51-e99a-4fcf-8b3f-f2778b0818ef');\n",
       "var x = new MutationObserver(function (mutations, observer) {{\n",
       "        var display = window.getComputedStyle(gd).display;\n",
       "        if (!display || display === 'none') {{\n",
       "            console.log([gd, 'removed!']);\n",
       "            Plotly.purge(gd);\n",
       "            observer.disconnect();\n",
       "        }}\n",
       "}});\n",
       "\n",
       "// Listen for the removal of the full notebook cells\n",
       "var notebookContainer = gd.closest('#notebook-container');\n",
       "if (notebookContainer) {{\n",
       "    x.observe(notebookContainer, {childList: true});\n",
       "}}\n",
       "\n",
       "// Listen for the clearing of the current output cell\n",
       "var outputEl = gd.closest('.output');\n",
       "if (outputEl) {{\n",
       "    x.observe(outputEl, {childList: true});\n",
       "}}\n",
       "\n",
       "                        })                };                            </script>        </div>\n",
       "</body>\n",
       "</html>"
      ]
     },
     "metadata": {},
     "output_type": "display_data"
    }
   ],
   "source": [
    "fig = ts.plot()\n",
    "plotly.io.show(fig)"
   ]
  },
  {
   "cell_type": "markdown",
   "metadata": {
    "id": "IOgDy_rlvrhK"
   },
   "source": [
    "\n",
    "\n",
    "Se pueden trazar gráficos exploratorios para revelar las propiedades de la serie temporal. El gráfico de superposición mensual se puede utilizar para inspeccionar los patrones anuales. Se superpone a varios años uno encima del otro."
   ]
  },
  {
   "cell_type": "code",
   "execution_count": 5,
   "metadata": {
    "colab": {
     "base_uri": "https://localhost:8080/",
     "height": 542
    },
    "id": "XPPNhtmTvrhK",
    "outputId": "67ea2125-fbf6-4155-b194-e02578a0f2db"
   },
   "outputs": [
    {
     "data": {
      "text/html": [
       "<html>\n",
       "<head><meta charset=\"utf-8\" /></head>\n",
       "<body>\n",
       "    <div>            <script src=\"https://cdnjs.cloudflare.com/ajax/libs/mathjax/2.7.5/MathJax.js?config=TeX-AMS-MML_SVG\"></script><script type=\"text/javascript\">if (window.MathJax) {MathJax.Hub.Config({SVG: {font: \"STIX-Web\"}});}</script>                <script type=\"text/javascript\">window.PlotlyConfig = {MathJaxConfig: 'local'};</script>\n",
       "        <script src=\"https://cdn.plot.ly/plotly-2.8.3.min.js\"></script>                <div id=\"766b21c3-da83-49bd-be03-01c4e38384b9\" class=\"plotly-graph-div\" style=\"height:525px; width:100%;\"></div>            <script type=\"text/javascript\">                                    window.PLOTLYENV=window.PLOTLYENV || {};                                    if (document.getElementById(\"766b21c3-da83-49bd-be03-01c4e38384b9\")) {                    Plotly.newPlot(                        \"766b21c3-da83-49bd-be03-01c4e38384b9\",                        [{\"line\":{\"width\":1},\"mode\":\"lines\",\"name\":\"2010\",\"opacity\":0.5,\"x\":[1,2,3,4,5,6,7,8,9,10,11,12],\"y\":[null,null,null,null,null,null,null,null,4001.0,35949.0,47391.0,28253.0],\"type\":\"scatter\"},{\"line\":{\"width\":1},\"mode\":\"lines\",\"name\":\"2011\",\"opacity\":0.5,\"x\":[1,2,3,4,5,6,7,8,9,10,11,12],\"y\":[37499.0,47538.0,63211.0,93048.0,133816.0,141709.0,139603.0,135018.0,125869.0,122105.0,101014.0,86328.0],\"type\":\"scatter\"},{\"line\":{\"width\":1},\"mode\":\"lines\",\"name\":\"2012\",\"opacity\":0.5,\"x\":[1,2,3,4,5,6,7,8,9,10,11,12],\"y\":[95850.0,102254.0,163154.0,172520.0,193680.0,200620.0,201577.0,212070.0,216317.0,196874.0,151328.0,122656.0],\"type\":\"scatter\"},{\"line\":{\"width\":1},\"mode\":\"lines\",\"name\":\"2013\",\"opacity\":0.5,\"x\":[1,2,3,4,5,6,7,8,9,10,11,12],\"y\":[124977.0,110090.0,157390.0,236423.0,250358.0,253876.0,267986.0,288700.0,282038.0,254591.0,192491.0,136609.0],\"type\":\"scatter\"},{\"line\":{\"width\":1},\"mode\":\"lines\",\"name\":\"2014\",\"opacity\":0.5,\"x\":[1,2,3,4,5,6,7,8,9,10,11,12],\"y\":[112686.0,122672.0,165769.0,269495.0,306646.0,316641.0,327797.0,320890.0,323972.0,297921.0,197110.0,151567.0],\"type\":\"scatter\"},{\"line\":{\"width\":1},\"mode\":\"lines\",\"name\":\"2015\",\"opacity\":0.5,\"x\":[1,2,3,4,5,6,7,8,9,10,11,12],\"y\":[127388.0,108058.0,188262.0,318295.0,367203.0,314276.0,363902.0,364456.0,328014.0,290339.0,228359.0,187349.0],\"type\":\"scatter\"},{\"line\":{\"width\":1},\"mode\":\"lines\",\"name\":\"2016\",\"opacity\":0.5,\"x\":[1,2,3,4,5,6,7,8,9,10,11,12],\"y\":[123262.0,145646.0,283436.0,285528.0,288749.0,368043.0,366497.0,357324.0,344381.0,343295.0,259098.0,168728.0],\"type\":\"scatter\"},{\"line\":{\"width\":1},\"mode\":\"lines\",\"name\":\"2017\",\"opacity\":0.5,\"x\":[1,2,3,4,5,6,7,8,9,10,11,12],\"y\":[174806.0,226305.0,245370.0,365973.0,339685.0,398684.0,397742.0,402521.0,391330.0,384901.0,252550.0,177932.0],\"type\":\"scatter\"},{\"line\":{\"width\":1},\"mode\":\"lines\",\"name\":\"2018\",\"opacity\":0.5,\"x\":[1,2,3,4,5,6,7,8,9,10,11,12],\"y\":[168568.0,182362.0,238951.0,328939.0,374122.0,392256.0,404811.0,403896.0,325799.0,343026.0,202365.0,177581.0],\"type\":\"scatter\"},{\"line\":{\"width\":1},\"mode\":\"lines\",\"name\":\"2019\",\"opacity\":0.5,\"x\":[1,2,3,4,5,6,7,8,9,10,11,12],\"y\":[150786.0,158105.0,253832.0,347955.0,337600.0,350221.0,356652.0,359982.0,null,null,null,null],\"type\":\"scatter\"}],                        {\"legend\":{\"traceorder\":\"reversed\"},\"showlegend\":true,\"title\":{\"text\":\"yearly seasonality for each year (centered)\",\"x\":0.5},\"xaxis\":{\"title\":{\"text\":\"month of year\"}},\"yaxis\":{\"title\":{\"text\":\"count\"}},\"template\":{\"data\":{\"bar\":[{\"error_x\":{\"color\":\"#2a3f5f\"},\"error_y\":{\"color\":\"#2a3f5f\"},\"marker\":{\"line\":{\"color\":\"#E5ECF6\",\"width\":0.5},\"pattern\":{\"fillmode\":\"overlay\",\"size\":10,\"solidity\":0.2}},\"type\":\"bar\"}],\"barpolar\":[{\"marker\":{\"line\":{\"color\":\"#E5ECF6\",\"width\":0.5},\"pattern\":{\"fillmode\":\"overlay\",\"size\":10,\"solidity\":0.2}},\"type\":\"barpolar\"}],\"carpet\":[{\"aaxis\":{\"endlinecolor\":\"#2a3f5f\",\"gridcolor\":\"white\",\"linecolor\":\"white\",\"minorgridcolor\":\"white\",\"startlinecolor\":\"#2a3f5f\"},\"baxis\":{\"endlinecolor\":\"#2a3f5f\",\"gridcolor\":\"white\",\"linecolor\":\"white\",\"minorgridcolor\":\"white\",\"startlinecolor\":\"#2a3f5f\"},\"type\":\"carpet\"}],\"choropleth\":[{\"colorbar\":{\"outlinewidth\":0,\"ticks\":\"\"},\"type\":\"choropleth\"}],\"contour\":[{\"colorbar\":{\"outlinewidth\":0,\"ticks\":\"\"},\"colorscale\":[[0.0,\"#0d0887\"],[0.1111111111111111,\"#46039f\"],[0.2222222222222222,\"#7201a8\"],[0.3333333333333333,\"#9c179e\"],[0.4444444444444444,\"#bd3786\"],[0.5555555555555556,\"#d8576b\"],[0.6666666666666666,\"#ed7953\"],[0.7777777777777778,\"#fb9f3a\"],[0.8888888888888888,\"#fdca26\"],[1.0,\"#f0f921\"]],\"type\":\"contour\"}],\"contourcarpet\":[{\"colorbar\":{\"outlinewidth\":0,\"ticks\":\"\"},\"type\":\"contourcarpet\"}],\"heatmap\":[{\"colorbar\":{\"outlinewidth\":0,\"ticks\":\"\"},\"colorscale\":[[0.0,\"#0d0887\"],[0.1111111111111111,\"#46039f\"],[0.2222222222222222,\"#7201a8\"],[0.3333333333333333,\"#9c179e\"],[0.4444444444444444,\"#bd3786\"],[0.5555555555555556,\"#d8576b\"],[0.6666666666666666,\"#ed7953\"],[0.7777777777777778,\"#fb9f3a\"],[0.8888888888888888,\"#fdca26\"],[1.0,\"#f0f921\"]],\"type\":\"heatmap\"}],\"heatmapgl\":[{\"colorbar\":{\"outlinewidth\":0,\"ticks\":\"\"},\"colorscale\":[[0.0,\"#0d0887\"],[0.1111111111111111,\"#46039f\"],[0.2222222222222222,\"#7201a8\"],[0.3333333333333333,\"#9c179e\"],[0.4444444444444444,\"#bd3786\"],[0.5555555555555556,\"#d8576b\"],[0.6666666666666666,\"#ed7953\"],[0.7777777777777778,\"#fb9f3a\"],[0.8888888888888888,\"#fdca26\"],[1.0,\"#f0f921\"]],\"type\":\"heatmapgl\"}],\"histogram\":[{\"marker\":{\"pattern\":{\"fillmode\":\"overlay\",\"size\":10,\"solidity\":0.2}},\"type\":\"histogram\"}],\"histogram2d\":[{\"colorbar\":{\"outlinewidth\":0,\"ticks\":\"\"},\"colorscale\":[[0.0,\"#0d0887\"],[0.1111111111111111,\"#46039f\"],[0.2222222222222222,\"#7201a8\"],[0.3333333333333333,\"#9c179e\"],[0.4444444444444444,\"#bd3786\"],[0.5555555555555556,\"#d8576b\"],[0.6666666666666666,\"#ed7953\"],[0.7777777777777778,\"#fb9f3a\"],[0.8888888888888888,\"#fdca26\"],[1.0,\"#f0f921\"]],\"type\":\"histogram2d\"}],\"histogram2dcontour\":[{\"colorbar\":{\"outlinewidth\":0,\"ticks\":\"\"},\"colorscale\":[[0.0,\"#0d0887\"],[0.1111111111111111,\"#46039f\"],[0.2222222222222222,\"#7201a8\"],[0.3333333333333333,\"#9c179e\"],[0.4444444444444444,\"#bd3786\"],[0.5555555555555556,\"#d8576b\"],[0.6666666666666666,\"#ed7953\"],[0.7777777777777778,\"#fb9f3a\"],[0.8888888888888888,\"#fdca26\"],[1.0,\"#f0f921\"]],\"type\":\"histogram2dcontour\"}],\"mesh3d\":[{\"colorbar\":{\"outlinewidth\":0,\"ticks\":\"\"},\"type\":\"mesh3d\"}],\"parcoords\":[{\"line\":{\"colorbar\":{\"outlinewidth\":0,\"ticks\":\"\"}},\"type\":\"parcoords\"}],\"pie\":[{\"automargin\":true,\"type\":\"pie\"}],\"scatter\":[{\"marker\":{\"colorbar\":{\"outlinewidth\":0,\"ticks\":\"\"}},\"type\":\"scatter\"}],\"scatter3d\":[{\"line\":{\"colorbar\":{\"outlinewidth\":0,\"ticks\":\"\"}},\"marker\":{\"colorbar\":{\"outlinewidth\":0,\"ticks\":\"\"}},\"type\":\"scatter3d\"}],\"scattercarpet\":[{\"marker\":{\"colorbar\":{\"outlinewidth\":0,\"ticks\":\"\"}},\"type\":\"scattercarpet\"}],\"scattergeo\":[{\"marker\":{\"colorbar\":{\"outlinewidth\":0,\"ticks\":\"\"}},\"type\":\"scattergeo\"}],\"scattergl\":[{\"marker\":{\"colorbar\":{\"outlinewidth\":0,\"ticks\":\"\"}},\"type\":\"scattergl\"}],\"scattermapbox\":[{\"marker\":{\"colorbar\":{\"outlinewidth\":0,\"ticks\":\"\"}},\"type\":\"scattermapbox\"}],\"scatterpolar\":[{\"marker\":{\"colorbar\":{\"outlinewidth\":0,\"ticks\":\"\"}},\"type\":\"scatterpolar\"}],\"scatterpolargl\":[{\"marker\":{\"colorbar\":{\"outlinewidth\":0,\"ticks\":\"\"}},\"type\":\"scatterpolargl\"}],\"scatterternary\":[{\"marker\":{\"colorbar\":{\"outlinewidth\":0,\"ticks\":\"\"}},\"type\":\"scatterternary\"}],\"surface\":[{\"colorbar\":{\"outlinewidth\":0,\"ticks\":\"\"},\"colorscale\":[[0.0,\"#0d0887\"],[0.1111111111111111,\"#46039f\"],[0.2222222222222222,\"#7201a8\"],[0.3333333333333333,\"#9c179e\"],[0.4444444444444444,\"#bd3786\"],[0.5555555555555556,\"#d8576b\"],[0.6666666666666666,\"#ed7953\"],[0.7777777777777778,\"#fb9f3a\"],[0.8888888888888888,\"#fdca26\"],[1.0,\"#f0f921\"]],\"type\":\"surface\"}],\"table\":[{\"cells\":{\"fill\":{\"color\":\"#EBF0F8\"},\"line\":{\"color\":\"white\"}},\"header\":{\"fill\":{\"color\":\"#C8D4E3\"},\"line\":{\"color\":\"white\"}},\"type\":\"table\"}]},\"layout\":{\"annotationdefaults\":{\"arrowcolor\":\"#2a3f5f\",\"arrowhead\":0,\"arrowwidth\":1},\"autotypenumbers\":\"strict\",\"coloraxis\":{\"colorbar\":{\"outlinewidth\":0,\"ticks\":\"\"}},\"colorscale\":{\"diverging\":[[0,\"#8e0152\"],[0.1,\"#c51b7d\"],[0.2,\"#de77ae\"],[0.3,\"#f1b6da\"],[0.4,\"#fde0ef\"],[0.5,\"#f7f7f7\"],[0.6,\"#e6f5d0\"],[0.7,\"#b8e186\"],[0.8,\"#7fbc41\"],[0.9,\"#4d9221\"],[1,\"#276419\"]],\"sequential\":[[0.0,\"#0d0887\"],[0.1111111111111111,\"#46039f\"],[0.2222222222222222,\"#7201a8\"],[0.3333333333333333,\"#9c179e\"],[0.4444444444444444,\"#bd3786\"],[0.5555555555555556,\"#d8576b\"],[0.6666666666666666,\"#ed7953\"],[0.7777777777777778,\"#fb9f3a\"],[0.8888888888888888,\"#fdca26\"],[1.0,\"#f0f921\"]],\"sequentialminus\":[[0.0,\"#0d0887\"],[0.1111111111111111,\"#46039f\"],[0.2222222222222222,\"#7201a8\"],[0.3333333333333333,\"#9c179e\"],[0.4444444444444444,\"#bd3786\"],[0.5555555555555556,\"#d8576b\"],[0.6666666666666666,\"#ed7953\"],[0.7777777777777778,\"#fb9f3a\"],[0.8888888888888888,\"#fdca26\"],[1.0,\"#f0f921\"]]},\"colorway\":[\"#636efa\",\"#EF553B\",\"#00cc96\",\"#ab63fa\",\"#FFA15A\",\"#19d3f3\",\"#FF6692\",\"#B6E880\",\"#FF97FF\",\"#FECB52\"],\"font\":{\"color\":\"#2a3f5f\"},\"geo\":{\"bgcolor\":\"white\",\"lakecolor\":\"white\",\"landcolor\":\"#E5ECF6\",\"showlakes\":true,\"showland\":true,\"subunitcolor\":\"white\"},\"hoverlabel\":{\"align\":\"left\"},\"hovermode\":\"closest\",\"mapbox\":{\"style\":\"light\"},\"paper_bgcolor\":\"white\",\"plot_bgcolor\":\"#E5ECF6\",\"polar\":{\"angularaxis\":{\"gridcolor\":\"white\",\"linecolor\":\"white\",\"ticks\":\"\"},\"bgcolor\":\"#E5ECF6\",\"radialaxis\":{\"gridcolor\":\"white\",\"linecolor\":\"white\",\"ticks\":\"\"}},\"scene\":{\"xaxis\":{\"backgroundcolor\":\"#E5ECF6\",\"gridcolor\":\"white\",\"gridwidth\":2,\"linecolor\":\"white\",\"showbackground\":true,\"ticks\":\"\",\"zerolinecolor\":\"white\"},\"yaxis\":{\"backgroundcolor\":\"#E5ECF6\",\"gridcolor\":\"white\",\"gridwidth\":2,\"linecolor\":\"white\",\"showbackground\":true,\"ticks\":\"\",\"zerolinecolor\":\"white\"},\"zaxis\":{\"backgroundcolor\":\"#E5ECF6\",\"gridcolor\":\"white\",\"gridwidth\":2,\"linecolor\":\"white\",\"showbackground\":true,\"ticks\":\"\",\"zerolinecolor\":\"white\"}},\"shapedefaults\":{\"line\":{\"color\":\"#2a3f5f\"}},\"ternary\":{\"aaxis\":{\"gridcolor\":\"white\",\"linecolor\":\"white\",\"ticks\":\"\"},\"baxis\":{\"gridcolor\":\"white\",\"linecolor\":\"white\",\"ticks\":\"\"},\"bgcolor\":\"#E5ECF6\",\"caxis\":{\"gridcolor\":\"white\",\"linecolor\":\"white\",\"ticks\":\"\"}},\"title\":{\"x\":0.05},\"xaxis\":{\"automargin\":true,\"gridcolor\":\"white\",\"linecolor\":\"white\",\"ticks\":\"\",\"title\":{\"standoff\":15},\"zerolinecolor\":\"white\",\"zerolinewidth\":2},\"yaxis\":{\"automargin\":true,\"gridcolor\":\"white\",\"linecolor\":\"white\",\"ticks\":\"\",\"title\":{\"standoff\":15},\"zerolinecolor\":\"white\",\"zerolinewidth\":2}}}},                        {\"responsive\": true}                    ).then(function(){\n",
       "                            \n",
       "var gd = document.getElementById('766b21c3-da83-49bd-be03-01c4e38384b9');\n",
       "var x = new MutationObserver(function (mutations, observer) {{\n",
       "        var display = window.getComputedStyle(gd).display;\n",
       "        if (!display || display === 'none') {{\n",
       "            console.log([gd, 'removed!']);\n",
       "            Plotly.purge(gd);\n",
       "            observer.disconnect();\n",
       "        }}\n",
       "}});\n",
       "\n",
       "// Listen for the removal of the full notebook cells\n",
       "var notebookContainer = gd.closest('#notebook-container');\n",
       "if (notebookContainer) {{\n",
       "    x.observe(notebookContainer, {childList: true});\n",
       "}}\n",
       "\n",
       "// Listen for the clearing of the current output cell\n",
       "var outputEl = gd.closest('.output');\n",
       "if (outputEl) {{\n",
       "    x.observe(outputEl, {childList: true});\n",
       "}}\n",
       "\n",
       "                        })                };                            </script>        </div>\n",
       "</body>\n",
       "</html>"
      ]
     },
     "metadata": {},
     "output_type": "display_data"
    }
   ],
   "source": [
    "fig = ts.plot_quantiles_and_overlays(\n",
    "     groupby_time_feature=\"month\",\n",
    "     show_mean=False,\n",
    "     show_quantiles=False,\n",
    "     show_overlays=True,\n",
    "     overlay_label_time_feature=\"year\",\n",
    "     overlay_style={\"line\": {\"width\": 1}, \"opacity\": 0.5},\n",
    "     center_values=False,\n",
    "     xlabel=\"month of year\",\n",
    "     ylabel=ts.original_value_col,\n",
    "     title=\"yearly seasonality for each year (centered)\",)\n",
    "plotly.io.show(fig)"
   ]
  },
  {
   "cell_type": "markdown",
   "metadata": {
    "id": "8iMxYJhavrhK"
   },
   "source": [
    "Especificar metadata.\n",
    "\n"
   ]
  },
  {
   "cell_type": "code",
   "execution_count": 6,
   "metadata": {
    "id": "d4PgwP2QvrhL"
   },
   "outputs": [],
   "source": [
    "forecast_horizon = 4\n",
    "time_col = \"ts\"\n",
    "value_col = \"count\"\n",
    "meta_data_params = MetadataParam(\n",
    "    time_col=time_col,\n",
    "    value_col=value_col,\n",
    "    freq=\"MS\",\n",
    ")"
   ]
  },
  {
   "cell_type": "markdown",
   "metadata": {
    "id": "KPvCetLGvrhL"
   },
   "source": [
    "Especificar parámetros de evaluación comunes.\n",
    "Establecer datos de entrada mínimos para el entrenamiento.\n",
    "\n"
   ]
  },
  {
   "cell_type": "code",
   "execution_count": 7,
   "metadata": {
    "id": "hUSMLY1CvrhL"
   },
   "outputs": [],
   "source": [
    "cv_min_train_periods = 24\n",
    "# Let CV use most recent splits for cross-validation.\n",
    "cv_use_most_recent_splits = True\n",
    "# Determine the maximum number of validations.\n",
    "cv_max_splits = 5\n",
    "evaluation_period_param = EvaluationPeriodParam(\n",
    "    test_horizon=forecast_horizon,\n",
    "    cv_horizon=forecast_horizon,\n",
    "    periods_between_train_test=0,\n",
    "    cv_min_train_periods=cv_min_train_periods,\n",
    "    cv_expanding_window=True,\n",
    "    cv_use_most_recent_splits=cv_use_most_recent_splits,\n",
    "    cv_periods_between_splits=None,\n",
    "    cv_periods_between_train_test=0,\n",
    "    cv_max_splits=cv_max_splits,\n",
    ")"
   ]
  },
  {
   "cell_type": "markdown",
   "metadata": {
    "id": "VCox3O59vrhL"
   },
   "source": [
    "\n",
    "\n",
    "\n",
    "Ajuste un modelo simple sin autorregresión.\n",
    "\n",
    "Los parámetros de modelado importantes para los datos mensuales son los siguientes: \n",
    "\n",
    "Estos se conectan a ModelComponentsParam. \n",
    "\n",
    "Extra_pred_cols se usa para especificar el crecimiento y la estacionalidad anual. \n",
    "\n",
    "El crecimiento se modela con \"ct_sqrt\", \"ct1\" para mayor flexibilidad, ya que tenemos datos a largo plazo y la regularización cresta evitará el ajuste excesivo de la tendencia. \n",
    "\n",
    "La estacionalidad anual se modela categóricamente con \"C(mes)\" en lugar de la serie de Fourier. Esto se debe a que en los datos mensuales, la cantidad de puntos de datos en el año es bastante pequeña (12) en comparación con los datos diarios donde hay muchos puntos en el año, lo que hace que la representación categórica no sea factible. \n",
    "\n"
   ]
  },
  {
   "cell_type": "code",
   "execution_count": 8,
   "metadata": {
    "colab": {
     "base_uri": "https://localhost:8080/",
     "height": 0
    },
    "id": "54WcDKezvrhM",
    "outputId": "ec0df3c7-31ed-4a38-fd72-c0112c19651e"
   },
   "outputs": [
    {
     "name": "stdout",
     "output_type": "stream",
     "text": [
      "Fitting 5 folds for each of 1 candidates, totalling 5 fits\n",
      "================================ Model Summary =================================\n",
      "\n",
      "Number of observations: 108,   Number of features: 21\n",
      "Method: Ridge regression\n",
      "Number of nonzero features: 21\n",
      "Regularization parameter: 0.01269\n",
      "\n",
      "Residuals:\n",
      "         Min           1Q       Median           3Q          Max\n",
      "  -5.631e+04   -2.219e+04       2946.0    2.172e+04    6.649e+04\n",
      "\n",
      "           Pred_col   Estimate  Std. Err Pr(>)_boot sig. code                    95%CI\n",
      "          Intercept -9.460e+04 3.282e+04      0.002        ** (-1.458e+05, -2.087e+04)\n",
      "C(month,... 13)))_2     5660.0 2.052e+04      0.802            (-3.374e+04, 4.624e+04)\n",
      "C(month,... 13)))_3  6.530e+04 1.773e+04     <2e-16       ***   (2.956e+04, 9.771e+04)\n",
      "C(month,... 13)))_4  1.362e+05 1.713e+04     <2e-16       ***   (1.012e+05, 1.674e+05)\n",
      "C(month,... 13)))_5  1.534e+05 1.825e+04     <2e-16       ***   (1.163e+05, 1.887e+05)\n",
      "C(month,... 13)))_6  1.675e+05 1.743e+04     <2e-16       ***   (1.318e+05, 1.989e+05)\n",
      "C(month,... 13)))_7  1.756e+05 1.858e+04     <2e-16       ***   (1.386e+05, 2.104e+05)\n",
      "C(month,... 13)))_8  1.758e+05 1.871e+04     <2e-16       ***   (1.363e+05, 2.109e+05)\n",
      "C(month,... 13)))_9  1.477e+05 1.905e+04     <2e-16       ***   (1.087e+05, 1.833e+05)\n",
      "C(month,...13)))_10  1.345e+05 1.785e+04     <2e-16       ***   (9.920e+04, 1.667e+05)\n",
      "C(month,...13)))_11  6.066e+04 1.710e+04      0.004        **   (2.387e+04, 9.419e+04)\n",
      "C(month,...13)))_12  1.422e+04 1.918e+04      0.426            (-2.561e+04, 5.101e+04)\n",
      "            ct_sqrt  3.313e+05 1.092e+05     <2e-16       ***   (5.890e+04, 4.630e+05)\n",
      "                ct1  3.895e+04 1.296e+05      0.780            (-1.930e+05, 2.836e+05)\n",
      "  cp0_2011_12_31_00  2.954e+04 7.782e+04      0.698            (-1.165e+05, 1.827e+05)\n",
      "  cp1_2012_01_30_00  1.218e+04 7.764e+04      0.870            (-1.370e+05, 1.666e+05)\n",
      "  cp2_2012_12_31_00 -7.390e+04 9.836e+04      0.452            (-2.791e+05, 9.603e+04)\n",
      "  cp3_2014_12_30_00 -1.254e+04 6.021e+04      0.842            (-1.348e+05, 9.945e+04)\n",
      "  cp4_2015_02_01_00  4.932e+04 4.704e+04      0.300            (-5.064e+04, 1.277e+05)\n",
      "  cp5_2015_04_29_00 -3.631e+04 9.086e+04      0.670            (-2.062e+05, 1.589e+05)\n",
      "  cp6_2017_08_31_00 -7.053e+04 2.054e+04     <2e-16       *** (-1.129e+05, -3.300e+04)\n",
      "Signif. Code: 0 '***' 0.001 '**' 0.01 '*' 0.05 '.' 0.1 ' ' 1\n",
      "\n",
      "Multiple R-squared: 0.9248,   Adjusted R-squared: 0.9113\n",
      "F-statistic: 68.337 on 16 and 90 DF,   p-value: 1.110e-16\n",
      "Model AIC: 2759.1,   model BIC: 2805.3\n",
      "\n",
      "WARNING: the condition number is large, 2.44e+04. This might indicate that there are strong multicollinearity or other numerical problems.\n",
      "WARNING: the F-ratio and its p-value on regularized methods might be misleading, they are provided only for reference purposes.\n",
      "\n",
      "                                                   0\n",
      "rank_test_MAPE                                     1\n",
      "mean_test_MAPE                                 17.95\n",
      "split_test_MAPE   (16.97, 21.68, 5.09, 23.25, 22.77)\n",
      "mean_train_MAPE                                30.74\n",
      "split_train_MAPE  (34.41, 28.6, 31.42, 29.18, 30.07)\n",
      "mean_fit_time                                   1.69\n",
      "mean_score_time                                 0.27\n",
      "params                                            []\n",
      "                                                               train  \\\n",
      "CORR                                                        0.959601   \n",
      "R2                                                          0.920783   \n",
      "MSE                                                 870383619.075692   \n",
      "RMSE                                                    29502.264643   \n",
      "MAE                                                     25057.504616   \n",
      "MedAE                                                   23885.308137   \n",
      "MAPE                                                       31.179462   \n",
      "MedAPE                                                      9.409044   \n",
      "sMAPE                                                      10.578591   \n",
      "Q80                                                     12528.752308   \n",
      "Q95                                                     12528.752308   \n",
      "Q99                                                     12528.752308   \n",
      "OutsideTolerance1p                                          0.980769   \n",
      "OutsideTolerance2p                                          0.894231   \n",
      "OutsideTolerance3p                                          0.836538   \n",
      "OutsideTolerance4p                                          0.826923   \n",
      "OutsideTolerance5p                                          0.740385   \n",
      "Outside Tolerance (fraction)                                    None   \n",
      "R2_null_model_score                                             None   \n",
      "Prediction Band Width (%)                                  98.515506   \n",
      "Prediction Band Coverage (fraction)                         0.980769   \n",
      "Coverage: Lower Band                                             0.5   \n",
      "Coverage: Upper Band                                        0.480769   \n",
      "Coverage Diff: Actual_Coverage - Intended_Coverage          0.030769   \n",
      "\n",
      "                                                                test  \n",
      "CORR                                                        0.959809  \n",
      "R2                                                          -2.06113  \n",
      "MSE                                                 224026154.952861  \n",
      "RMSE                                                    14967.503297  \n",
      "MAE                                                     14721.300357  \n",
      "MedAE                                                   13428.221312  \n",
      "MAPE                                                        4.182279  \n",
      "MedAPE                                                      3.799328  \n",
      "sMAPE                                                       2.137084  \n",
      "Q80                                                     11777.040286  \n",
      "Q95                                                     13985.235339  \n",
      "Q99                                                     14574.087354  \n",
      "OutsideTolerance1p                                               1.0  \n",
      "OutsideTolerance2p                                               1.0  \n",
      "OutsideTolerance3p                                               1.0  \n",
      "OutsideTolerance4p                                              0.25  \n",
      "OutsideTolerance5p                                              0.25  \n",
      "Outside Tolerance (fraction)                                    None  \n",
      "R2_null_model_score                                             None  \n",
      "Prediction Band Width (%)                                  33.116597  \n",
      "Prediction Band Coverage (fraction)                              1.0  \n",
      "Coverage: Lower Band                                             0.0  \n",
      "Coverage: Upper Band                                             1.0  \n",
      "Coverage Diff: Actual_Coverage - Intended_Coverage              0.05  \n"
     ]
    }
   ],
   "source": [
    "extra_pred_cols = [\"ct_sqrt\", \"ct1\", \"C(month, levels=list(range(1, 13)))\"]\n",
    "autoregression = None\n",
    "\n",
    "# Specify the model parameters\n",
    "model_components = ModelComponentsParam(\n",
    "    growth=dict(growth_term=None),\n",
    "    seasonality=dict(\n",
    "        yearly_seasonality=[False],\n",
    "        quarterly_seasonality=[False],\n",
    "        monthly_seasonality=[False],\n",
    "        weekly_seasonality=[False],\n",
    "        daily_seasonality=[False]\n",
    "    ),\n",
    "    custom=dict(\n",
    "        fit_algorithm_dict=dict(fit_algorithm=\"ridge\"),\n",
    "        extra_pred_cols=extra_pred_cols\n",
    "    ),\n",
    "    regressors=dict(regressor_cols=None),\n",
    "    autoregression=autoregression,\n",
    "    uncertainty=dict(uncertainty_dict=None),\n",
    "    events=dict(holiday_lookup_countries=None),\n",
    ")\n",
    "\n",
    "# Run the forecast model\n",
    "forecaster = Forecaster()\n",
    "result = forecaster.run_forecast_config(\n",
    "    df=df,\n",
    "    config=ForecastConfig(\n",
    "        model_template=ModelTemplateEnum.SILVERKITE.name,\n",
    "        coverage=0.95,\n",
    "        forecast_horizon=forecast_horizon,\n",
    "        metadata_param=meta_data_params,\n",
    "        evaluation_period_param=evaluation_period_param,\n",
    "        model_components_param=model_components\n",
    "    )\n",
    ")\n",
    "\n",
    "# Get the useful fields from the forecast result\n",
    "model = result.model[-1]\n",
    "backtest = result.backtest\n",
    "forecast = result.forecast\n",
    "grid_search = result.grid_search\n",
    "\n",
    "# Check model coefficients / variables\n",
    "# Get model summary with p-values\n",
    "print(model.summary())\n",
    "\n",
    "# Get cross-validation results\n",
    "cv_results = summarize_grid_search_results(\n",
    "    grid_search=grid_search,\n",
    "    decimals=2,\n",
    "    cv_report_metrics=None,\n",
    "    column_order=[\n",
    "        \"rank\", \"mean_test\", \"split_test\", \"mean_train\", \"split_train\",\n",
    "        \"mean_fit_time\", \"mean_score_time\", \"params\"])\n",
    "# Transposes to save space in the printed output\n",
    "print(cv_results.transpose())\n",
    "\n",
    "# Check historical evaluation metrics (on the historical training/test set).\n",
    "backtest_eval = defaultdict(list)\n",
    "for metric, value in backtest.train_evaluation.items():\n",
    "    backtest_eval[metric].append(value)\n",
    "    backtest_eval[metric].append(backtest.test_evaluation[metric])\n",
    "metrics = pd.DataFrame(backtest_eval, index=[\"train\", \"test\"]).T\n",
    "print(metrics)"
   ]
  },
  {
   "cell_type": "markdown",
   "metadata": {
    "id": "zJgqk2ONvrhM"
   },
   "source": [
    "Fit/backtest plot:\n",
    "\n"
   ]
  },
  {
   "cell_type": "code",
   "execution_count": 9,
   "metadata": {
    "colab": {
     "base_uri": "https://localhost:8080/",
     "height": 542
    },
    "id": "f9gdpQWgvrhM",
    "outputId": "890a9938-4c7b-48f9-9dc8-919910ded724"
   },
   "outputs": [
    {
     "data": {
      "text/html": [
       "<html>\n",
       "<head><meta charset=\"utf-8\" /></head>\n",
       "<body>\n",
       "    <div>            <script src=\"https://cdnjs.cloudflare.com/ajax/libs/mathjax/2.7.5/MathJax.js?config=TeX-AMS-MML_SVG\"></script><script type=\"text/javascript\">if (window.MathJax) {MathJax.Hub.Config({SVG: {font: \"STIX-Web\"}});}</script>                <script type=\"text/javascript\">window.PlotlyConfig = {MathJaxConfig: 'local'};</script>\n",
       "        <script src=\"https://cdn.plot.ly/plotly-2.8.3.min.js\"></script>                <div id=\"f47b6b7e-3b0a-45d6-b85f-170c7256afb6\" class=\"plotly-graph-div\" style=\"height:525px; width:100%;\"></div>            <script type=\"text/javascript\">                                    window.PLOTLYENV=window.PLOTLYENV || {};                                    if (document.getElementById(\"f47b6b7e-3b0a-45d6-b85f-170c7256afb6\")) {                    Plotly.newPlot(                        \"f47b6b7e-3b0a-45d6-b85f-170c7256afb6\",                        [{\"legendgroup\":\"interval\",\"line\":{\"color\":\"rgba(0, 90, 181, 0.5)\",\"width\":0.0},\"mode\":\"lines\",\"name\":\"Lower Bound\",\"x\":[\"2010-09-01T00:00:00\",\"2010-10-01T00:00:00\",\"2010-11-01T00:00:00\",\"2010-12-01T00:00:00\",\"2011-01-01T00:00:00\",\"2011-02-01T00:00:00\",\"2011-03-01T00:00:00\",\"2011-04-01T00:00:00\",\"2011-05-01T00:00:00\",\"2011-06-01T00:00:00\",\"2011-07-01T00:00:00\",\"2011-08-01T00:00:00\",\"2011-09-01T00:00:00\",\"2011-10-01T00:00:00\",\"2011-11-01T00:00:00\",\"2011-12-01T00:00:00\",\"2012-01-01T00:00:00\",\"2012-02-01T00:00:00\",\"2012-03-01T00:00:00\",\"2012-04-01T00:00:00\",\"2012-05-01T00:00:00\",\"2012-06-01T00:00:00\",\"2012-07-01T00:00:00\",\"2012-08-01T00:00:00\",\"2012-09-01T00:00:00\",\"2012-10-01T00:00:00\",\"2012-11-01T00:00:00\",\"2012-12-01T00:00:00\",\"2013-01-01T00:00:00\",\"2013-02-01T00:00:00\",\"2013-03-01T00:00:00\",\"2013-04-01T00:00:00\",\"2013-05-01T00:00:00\",\"2013-06-01T00:00:00\",\"2013-07-01T00:00:00\",\"2013-08-01T00:00:00\",\"2013-09-01T00:00:00\",\"2013-10-01T00:00:00\",\"2013-11-01T00:00:00\",\"2013-12-01T00:00:00\",\"2014-01-01T00:00:00\",\"2014-02-01T00:00:00\",\"2014-03-01T00:00:00\",\"2014-04-01T00:00:00\",\"2014-05-01T00:00:00\",\"2014-06-01T00:00:00\",\"2014-07-01T00:00:00\",\"2014-08-01T00:00:00\",\"2014-09-01T00:00:00\",\"2014-10-01T00:00:00\",\"2014-11-01T00:00:00\",\"2014-12-01T00:00:00\",\"2015-01-01T00:00:00\",\"2015-02-01T00:00:00\",\"2015-03-01T00:00:00\",\"2015-04-01T00:00:00\",\"2015-05-01T00:00:00\",\"2015-06-01T00:00:00\",\"2015-07-01T00:00:00\",\"2015-08-01T00:00:00\",\"2015-09-01T00:00:00\",\"2015-10-01T00:00:00\",\"2015-11-01T00:00:00\",\"2015-12-01T00:00:00\",\"2016-01-01T00:00:00\",\"2016-02-01T00:00:00\",\"2016-03-01T00:00:00\",\"2016-04-01T00:00:00\",\"2016-05-01T00:00:00\",\"2016-06-01T00:00:00\",\"2016-07-01T00:00:00\",\"2016-08-01T00:00:00\",\"2016-09-01T00:00:00\",\"2016-10-01T00:00:00\",\"2016-11-01T00:00:00\",\"2016-12-01T00:00:00\",\"2017-01-01T00:00:00\",\"2017-02-01T00:00:00\",\"2017-03-01T00:00:00\",\"2017-04-01T00:00:00\",\"2017-05-01T00:00:00\",\"2017-06-01T00:00:00\",\"2017-07-01T00:00:00\",\"2017-08-01T00:00:00\",\"2017-09-01T00:00:00\",\"2017-10-01T00:00:00\",\"2017-11-01T00:00:00\",\"2017-12-01T00:00:00\",\"2018-01-01T00:00:00\",\"2018-02-01T00:00:00\",\"2018-03-01T00:00:00\",\"2018-04-01T00:00:00\",\"2018-05-01T00:00:00\",\"2018-06-01T00:00:00\",\"2018-07-01T00:00:00\",\"2018-08-01T00:00:00\",\"2018-09-01T00:00:00\",\"2018-10-01T00:00:00\",\"2018-11-01T00:00:00\",\"2018-12-01T00:00:00\",\"2019-01-01T00:00:00\",\"2019-02-01T00:00:00\",\"2019-03-01T00:00:00\",\"2019-04-01T00:00:00\",\"2019-05-01T00:00:00\",\"2019-06-01T00:00:00\",\"2019-07-01T00:00:00\",\"2019-08-01T00:00:00\"],\"y\":[-576.8697817863576,16196.858012636498,-44276.68384695226,-80648.98427106703,-84010.04469315727,-72551.20798860428,-6441.980836740622,71107.54931516956,93046.05317711634,112961.17841586912,126567.88178752906,131519.6031091584,109450.44780066384,101440.09054576403,32712.208560698215,-9002.469101239505,-16533.434407157343,-8187.34444828234,55827.7588269039,131292.3166754903,151520.34865457198,169916.8921091528,182248.19889510475,186046.71670147724,162964.08270810236,154085.49876820896,84560.02941125784,42156.96271037635,33989.905460352384,40642.45423229532,102956.14007422216,176754.03555424773,195413.87561082805,212231.51649692794,223071.2430647533,225362.5851184033,200804.37069137703,190525.30487483338,119578.73140221492,75823.62252235397,66281.58766795202,72487.89737613827,134415.35443573026,207802.97564825666,226081.96481091052,242521.66676198767,253009.77447884582,254951.44874168426,230056.60193855822,219463.42449245596,148203.6090988762,104155.71214427975,94321.22235785406,100319.84540418083,162067.60798712046,235264.57049274544,253366.9304807572,269474.67576405284,279648.6495428566,281272.7133774296,256067.02699866059,245179.1826131469,173620.93732606625,129289.83993058519,119168.24317896106,124804.74232092816,186292.17729592358,259136.32457967586,276901.84778599604,292823.2567840917,302821.1423017407,304267.4549548524,278888.12800001854,267836.0093982873,196111.75899965817,151623.50338173012,141342.98696597904,146834.21293888037,208130.88814791047,280836.1047972561,298469.97107863164,314258.12160588417,324129.6548910474,325448.00884585426,299943.28465508134,285277.23704617645,209820.95452338643,161723.2688452846,147715.22471342987,149476.19095918967,207405.47259692207,276384.516772056,290414.36641540297,302480.32926260127,308751.5906722396,306351.5159699715,277130.19261188613,262364.06642669835,186806.07078294578,138611.55509250815,124505.0640018359,126169.17666798203,184012.31174759753,252897.41858306533,266837.7650206822,278812.65471451374,284997.1143609774,282508.6878741003],\"type\":\"scatter\"},{\"fill\":\"tonexty\",\"fillcolor\":\"rgba(0, 90, 181, 0.15)\",\"legendgroup\":\"interval\",\"line\":{\"color\":\"rgba(0, 90, 181, 0.5)\",\"width\":0.0},\"mode\":\"lines\",\"name\":\"Upper Bound\",\"x\":[\"2010-09-01T00:00:00\",\"2010-10-01T00:00:00\",\"2010-11-01T00:00:00\",\"2010-12-01T00:00:00\",\"2011-01-01T00:00:00\",\"2011-02-01T00:00:00\",\"2011-03-01T00:00:00\",\"2011-04-01T00:00:00\",\"2011-05-01T00:00:00\",\"2011-06-01T00:00:00\",\"2011-07-01T00:00:00\",\"2011-08-01T00:00:00\",\"2011-09-01T00:00:00\",\"2011-10-01T00:00:00\",\"2011-11-01T00:00:00\",\"2011-12-01T00:00:00\",\"2012-01-01T00:00:00\",\"2012-02-01T00:00:00\",\"2012-03-01T00:00:00\",\"2012-04-01T00:00:00\",\"2012-05-01T00:00:00\",\"2012-06-01T00:00:00\",\"2012-07-01T00:00:00\",\"2012-08-01T00:00:00\",\"2012-09-01T00:00:00\",\"2012-10-01T00:00:00\",\"2012-11-01T00:00:00\",\"2012-12-01T00:00:00\",\"2013-01-01T00:00:00\",\"2013-02-01T00:00:00\",\"2013-03-01T00:00:00\",\"2013-04-01T00:00:00\",\"2013-05-01T00:00:00\",\"2013-06-01T00:00:00\",\"2013-07-01T00:00:00\",\"2013-08-01T00:00:00\",\"2013-09-01T00:00:00\",\"2013-10-01T00:00:00\",\"2013-11-01T00:00:00\",\"2013-12-01T00:00:00\",\"2014-01-01T00:00:00\",\"2014-02-01T00:00:00\",\"2014-03-01T00:00:00\",\"2014-04-01T00:00:00\",\"2014-05-01T00:00:00\",\"2014-06-01T00:00:00\",\"2014-07-01T00:00:00\",\"2014-08-01T00:00:00\",\"2014-09-01T00:00:00\",\"2014-10-01T00:00:00\",\"2014-11-01T00:00:00\",\"2014-12-01T00:00:00\",\"2015-01-01T00:00:00\",\"2015-02-01T00:00:00\",\"2015-03-01T00:00:00\",\"2015-04-01T00:00:00\",\"2015-05-01T00:00:00\",\"2015-06-01T00:00:00\",\"2015-07-01T00:00:00\",\"2015-08-01T00:00:00\",\"2015-09-01T00:00:00\",\"2015-10-01T00:00:00\",\"2015-11-01T00:00:00\",\"2015-12-01T00:00:00\",\"2016-01-01T00:00:00\",\"2016-02-01T00:00:00\",\"2016-03-01T00:00:00\",\"2016-04-01T00:00:00\",\"2016-05-01T00:00:00\",\"2016-06-01T00:00:00\",\"2016-07-01T00:00:00\",\"2016-08-01T00:00:00\",\"2016-09-01T00:00:00\",\"2016-10-01T00:00:00\",\"2016-11-01T00:00:00\",\"2016-12-01T00:00:00\",\"2017-01-01T00:00:00\",\"2017-02-01T00:00:00\",\"2017-03-01T00:00:00\",\"2017-04-01T00:00:00\",\"2017-05-01T00:00:00\",\"2017-06-01T00:00:00\",\"2017-07-01T00:00:00\",\"2017-08-01T00:00:00\",\"2017-09-01T00:00:00\",\"2017-10-01T00:00:00\",\"2017-11-01T00:00:00\",\"2017-12-01T00:00:00\",\"2018-01-01T00:00:00\",\"2018-02-01T00:00:00\",\"2018-03-01T00:00:00\",\"2018-04-01T00:00:00\",\"2018-05-01T00:00:00\",\"2018-06-01T00:00:00\",\"2018-07-01T00:00:00\",\"2018-08-01T00:00:00\",\"2018-09-01T00:00:00\",\"2018-10-01T00:00:00\",\"2018-11-01T00:00:00\",\"2018-12-01T00:00:00\",\"2019-01-01T00:00:00\",\"2019-02-01T00:00:00\",\"2019-03-01T00:00:00\",\"2019-04-01T00:00:00\",\"2019-05-01T00:00:00\",\"2019-06-01T00:00:00\",\"2019-07-01T00:00:00\",\"2019-08-01T00:00:00\"],\"y\":[115629.91851852562,132403.6463129485,71930.10445335972,35557.804029244944,32196.743607154713,43655.5803117077,109764.80746357136,187314.33761548152,209252.84147742833,229167.96671618108,242774.67008784105,247726.3914094704,225657.23610097583,217646.87884607603,148918.9968610102,107204.31919907247,99673.35389315464,108019.44385202964,172034.5471272159,247499.1049758023,267727.136954884,286123.6804094648,298454.98719541676,302253.50500178925,279170.87100841437,270292.28706852096,200766.81771156983,158363.7510106883,150196.69376066438,156849.24253260728,219162.92837453412,292960.82385455974,311620.66391114006,328438.30479723995,339278.0313650653,341569.3734187153,317011.15899168904,306732.0931751454,235785.51970252692,192030.41082266596,182488.375968264,188694.68567645026,250622.14273604227,324009.76394856867,342288.7531112225,358728.4550622997,369216.56277915783,371158.23704199627,346263.3902388702,335670.21279276797,264410.3973991882,220362.50044459174,210528.01065816602,216526.63370449282,278274.39628743246,351471.35879305744,369573.7187810692,385681.46406436485,395855.4378431686,397479.5016777416,372273.8152989726,361385.9709134589,289827.72562637826,245496.6282308972,235375.03147927305,241011.53062124015,302498.9655962356,375343.11287998786,393108.63608630805,409030.0450844037,419027.9306020527,420474.2432551644,395094.91630033054,384042.7976985993,312318.5472999702,267830.2916820421,257549.77526629105,263041.0012391924,324337.6764482225,397042.8930975681,414676.75937894365,430464.9099061962,440336.4431913594,441654.79714616627,416150.07295539335,401484.02534648846,326027.74282369844,277930.0571455966,263922.0130137419,265682.9792595017,323612.2608972341,392591.305072368,406621.154715715,418687.1175629133,424958.3789725516,422558.3042702835,393336.98091219814,378570.85472701036,303012.8590832578,254818.34339282016,240711.8523021479,242375.96496829402,300219.10004790954,369104.20688337734,383044.5533209942,395019.44301482575,401203.9026612894,398715.4761744123],\"type\":\"scatter\"},{\"line\":{\"color\":\"rgba(250, 43, 20, 0.7)\"},\"marker\":{\"color\":\"rgba(250, 43, 20, 0.7)\",\"size\":2.0},\"mode\":\"lines+markers\",\"name\":\"Actual\",\"opacity\":1.0,\"x\":[\"2010-09-01T00:00:00\",\"2010-10-01T00:00:00\",\"2010-11-01T00:00:00\",\"2010-12-01T00:00:00\",\"2011-01-01T00:00:00\",\"2011-02-01T00:00:00\",\"2011-03-01T00:00:00\",\"2011-04-01T00:00:00\",\"2011-05-01T00:00:00\",\"2011-06-01T00:00:00\",\"2011-07-01T00:00:00\",\"2011-08-01T00:00:00\",\"2011-09-01T00:00:00\",\"2011-10-01T00:00:00\",\"2011-11-01T00:00:00\",\"2011-12-01T00:00:00\",\"2012-01-01T00:00:00\",\"2012-02-01T00:00:00\",\"2012-03-01T00:00:00\",\"2012-04-01T00:00:00\",\"2012-05-01T00:00:00\",\"2012-06-01T00:00:00\",\"2012-07-01T00:00:00\",\"2012-08-01T00:00:00\",\"2012-09-01T00:00:00\",\"2012-10-01T00:00:00\",\"2012-11-01T00:00:00\",\"2012-12-01T00:00:00\",\"2013-01-01T00:00:00\",\"2013-02-01T00:00:00\",\"2013-03-01T00:00:00\",\"2013-04-01T00:00:00\",\"2013-05-01T00:00:00\",\"2013-06-01T00:00:00\",\"2013-07-01T00:00:00\",\"2013-08-01T00:00:00\",\"2013-09-01T00:00:00\",\"2013-10-01T00:00:00\",\"2013-11-01T00:00:00\",\"2013-12-01T00:00:00\",\"2014-01-01T00:00:00\",\"2014-02-01T00:00:00\",\"2014-03-01T00:00:00\",\"2014-04-01T00:00:00\",\"2014-05-01T00:00:00\",\"2014-06-01T00:00:00\",\"2014-07-01T00:00:00\",\"2014-08-01T00:00:00\",\"2014-09-01T00:00:00\",\"2014-10-01T00:00:00\",\"2014-11-01T00:00:00\",\"2014-12-01T00:00:00\",\"2015-01-01T00:00:00\",\"2015-02-01T00:00:00\",\"2015-03-01T00:00:00\",\"2015-04-01T00:00:00\",\"2015-05-01T00:00:00\",\"2015-06-01T00:00:00\",\"2015-07-01T00:00:00\",\"2015-08-01T00:00:00\",\"2015-09-01T00:00:00\",\"2015-10-01T00:00:00\",\"2015-11-01T00:00:00\",\"2015-12-01T00:00:00\",\"2016-01-01T00:00:00\",\"2016-02-01T00:00:00\",\"2016-03-01T00:00:00\",\"2016-04-01T00:00:00\",\"2016-05-01T00:00:00\",\"2016-06-01T00:00:00\",\"2016-07-01T00:00:00\",\"2016-08-01T00:00:00\",\"2016-09-01T00:00:00\",\"2016-10-01T00:00:00\",\"2016-11-01T00:00:00\",\"2016-12-01T00:00:00\",\"2017-01-01T00:00:00\",\"2017-02-01T00:00:00\",\"2017-03-01T00:00:00\",\"2017-04-01T00:00:00\",\"2017-05-01T00:00:00\",\"2017-06-01T00:00:00\",\"2017-07-01T00:00:00\",\"2017-08-01T00:00:00\",\"2017-09-01T00:00:00\",\"2017-10-01T00:00:00\",\"2017-11-01T00:00:00\",\"2017-12-01T00:00:00\",\"2018-01-01T00:00:00\",\"2018-02-01T00:00:00\",\"2018-03-01T00:00:00\",\"2018-04-01T00:00:00\",\"2018-05-01T00:00:00\",\"2018-06-01T00:00:00\",\"2018-07-01T00:00:00\",\"2018-08-01T00:00:00\",\"2018-09-01T00:00:00\",\"2018-10-01T00:00:00\",\"2018-11-01T00:00:00\",\"2018-12-01T00:00:00\",\"2019-01-01T00:00:00\",\"2019-02-01T00:00:00\",\"2019-03-01T00:00:00\",\"2019-04-01T00:00:00\",\"2019-05-01T00:00:00\",\"2019-06-01T00:00:00\",\"2019-07-01T00:00:00\",\"2019-08-01T00:00:00\"],\"y\":[4001,35949,47391,28253,37499,47538,63211,93048,133816,141709,139603,135018,125869,122105,101014,86328,95850,102254,163154,172520,193680,200620,201577,212070,216317,196874,151328,122656,124977,110090,157390,236423,250358,253876,267986,288700,282038,254591,192491,136609,112686,122672,165769,269495,306646,316641,327797,320890,323972,297921,197110,151567,127388,108058,188262,318295,367203,314276,363902,364456,328014,290339,228359,187349,123262,145646,283436,285528,288749,368043,366497,357324,344381,343295,259098,168728,174806,226305,245370,365973,339685,398684,397742,402521,391330,384901,252550,177932,168568,182362,238951,328939,374122,392256,404811,403896,325799,343026,202365,177581,150786,158105,253832,347955,337600,350221,356652,359982],\"type\":\"scatter\"},{\"line\":{\"color\":\"rgba(0, 90, 181, 0.7)\",\"dash\":\"solid\"},\"name\":\"Forecast\",\"x\":[\"2010-09-01T00:00:00\",\"2010-10-01T00:00:00\",\"2010-11-01T00:00:00\",\"2010-12-01T00:00:00\",\"2011-01-01T00:00:00\",\"2011-02-01T00:00:00\",\"2011-03-01T00:00:00\",\"2011-04-01T00:00:00\",\"2011-05-01T00:00:00\",\"2011-06-01T00:00:00\",\"2011-07-01T00:00:00\",\"2011-08-01T00:00:00\",\"2011-09-01T00:00:00\",\"2011-10-01T00:00:00\",\"2011-11-01T00:00:00\",\"2011-12-01T00:00:00\",\"2012-01-01T00:00:00\",\"2012-02-01T00:00:00\",\"2012-03-01T00:00:00\",\"2012-04-01T00:00:00\",\"2012-05-01T00:00:00\",\"2012-06-01T00:00:00\",\"2012-07-01T00:00:00\",\"2012-08-01T00:00:00\",\"2012-09-01T00:00:00\",\"2012-10-01T00:00:00\",\"2012-11-01T00:00:00\",\"2012-12-01T00:00:00\",\"2013-01-01T00:00:00\",\"2013-02-01T00:00:00\",\"2013-03-01T00:00:00\",\"2013-04-01T00:00:00\",\"2013-05-01T00:00:00\",\"2013-06-01T00:00:00\",\"2013-07-01T00:00:00\",\"2013-08-01T00:00:00\",\"2013-09-01T00:00:00\",\"2013-10-01T00:00:00\",\"2013-11-01T00:00:00\",\"2013-12-01T00:00:00\",\"2014-01-01T00:00:00\",\"2014-02-01T00:00:00\",\"2014-03-01T00:00:00\",\"2014-04-01T00:00:00\",\"2014-05-01T00:00:00\",\"2014-06-01T00:00:00\",\"2014-07-01T00:00:00\",\"2014-08-01T00:00:00\",\"2014-09-01T00:00:00\",\"2014-10-01T00:00:00\",\"2014-11-01T00:00:00\",\"2014-12-01T00:00:00\",\"2015-01-01T00:00:00\",\"2015-02-01T00:00:00\",\"2015-03-01T00:00:00\",\"2015-04-01T00:00:00\",\"2015-05-01T00:00:00\",\"2015-06-01T00:00:00\",\"2015-07-01T00:00:00\",\"2015-08-01T00:00:00\",\"2015-09-01T00:00:00\",\"2015-10-01T00:00:00\",\"2015-11-01T00:00:00\",\"2015-12-01T00:00:00\",\"2016-01-01T00:00:00\",\"2016-02-01T00:00:00\",\"2016-03-01T00:00:00\",\"2016-04-01T00:00:00\",\"2016-05-01T00:00:00\",\"2016-06-01T00:00:00\",\"2016-07-01T00:00:00\",\"2016-08-01T00:00:00\",\"2016-09-01T00:00:00\",\"2016-10-01T00:00:00\",\"2016-11-01T00:00:00\",\"2016-12-01T00:00:00\",\"2017-01-01T00:00:00\",\"2017-02-01T00:00:00\",\"2017-03-01T00:00:00\",\"2017-04-01T00:00:00\",\"2017-05-01T00:00:00\",\"2017-06-01T00:00:00\",\"2017-07-01T00:00:00\",\"2017-08-01T00:00:00\",\"2017-09-01T00:00:00\",\"2017-10-01T00:00:00\",\"2017-11-01T00:00:00\",\"2017-12-01T00:00:00\",\"2018-01-01T00:00:00\",\"2018-02-01T00:00:00\",\"2018-03-01T00:00:00\",\"2018-04-01T00:00:00\",\"2018-05-01T00:00:00\",\"2018-06-01T00:00:00\",\"2018-07-01T00:00:00\",\"2018-08-01T00:00:00\",\"2018-09-01T00:00:00\",\"2018-10-01T00:00:00\",\"2018-11-01T00:00:00\",\"2018-12-01T00:00:00\",\"2019-01-01T00:00:00\",\"2019-02-01T00:00:00\",\"2019-03-01T00:00:00\",\"2019-04-01T00:00:00\",\"2019-05-01T00:00:00\",\"2019-06-01T00:00:00\",\"2019-07-01T00:00:00\",\"2019-08-01T00:00:00\"],\"y\":[57526.52436836963,74300.25216279249,13826.710303203727,-22545.590120911045,-25906.650543001277,-14447.813838448288,51661.41331341537,129210.94346532554,151149.44732727233,171064.5725660251,184671.27593768504,189622.9972593144,167553.84195081983,159543.48469592002,90815.6027108542,49100.925048916484,41569.959742998646,49916.04970187365,113931.15297705989,189395.7108256463,209623.74280472798,228020.2862593088,240351.59304526076,244150.11085163325,221067.47685825836,212188.89291836496,142663.42356141383,100260.35686053234,92093.29961050837,98745.84838245131,161059.53422437815,234857.42970440374,253517.26976098405,270334.91064708395,281174.6372149093,283465.9792685593,258907.76484153303,248628.6990249894,177682.1255523709,133927.01667250996,124384.981818108,130591.29152629426,192518.74858588626,265906.36979841266,284185.3589610665,300625.0609121437,311113.1686290018,313054.84289184026,288159.9960887142,277566.81864261196,206307.0032490322,162259.10629443574,152424.61650801005,158423.23955433682,220171.00213727646,293367.96464290144,311470.3246309132,327578.06991420884,337752.0436930126,339376.1075275856,314170.4211488166,303282.5767633029,231724.33147622226,187393.23408074118,177271.63732911705,182908.13647108414,244395.5714460796,317239.71872983186,335005.24193615204,350926.6509342477,360924.5364518967,362370.8491050084,336991.52215017454,325939.4035484433,254215.15314981417,209726.89753188612,199446.38111613505,204937.60708903638,266234.2822980665,338939.4989474121,356573.36522878765,372361.5157560402,382233.0490412034,383551.40299601026,358046.67880523734,343380.63119633246,267924.34867354244,219826.6629954406,205818.61886358587,207579.58510934567,265508.8667470781,334487.910922212,348517.760565559,360583.7234127573,366854.9848223956,364454.9101201275,335233.58676204213,320467.46057685436,244909.4649331018,196714.94924266415,182608.4581519919,184272.57081813802,242115.70589775353,311000.81273322133,324941.1591708382,336916.04886466975,343100.5085111334,340612.0820242563],\"type\":\"scatter\"}],                        {\"legend\":{\"traceorder\":\"reversed\"},\"showlegend\":true,\"title\":{\"text\":\"Forecast vs Actual\",\"x\":0.5},\"xaxis\":{\"title\":{\"text\":\"ts\"}},\"yaxis\":{\"title\":{\"text\":\"count\"}},\"template\":{\"data\":{\"bar\":[{\"error_x\":{\"color\":\"#2a3f5f\"},\"error_y\":{\"color\":\"#2a3f5f\"},\"marker\":{\"line\":{\"color\":\"#E5ECF6\",\"width\":0.5},\"pattern\":{\"fillmode\":\"overlay\",\"size\":10,\"solidity\":0.2}},\"type\":\"bar\"}],\"barpolar\":[{\"marker\":{\"line\":{\"color\":\"#E5ECF6\",\"width\":0.5},\"pattern\":{\"fillmode\":\"overlay\",\"size\":10,\"solidity\":0.2}},\"type\":\"barpolar\"}],\"carpet\":[{\"aaxis\":{\"endlinecolor\":\"#2a3f5f\",\"gridcolor\":\"white\",\"linecolor\":\"white\",\"minorgridcolor\":\"white\",\"startlinecolor\":\"#2a3f5f\"},\"baxis\":{\"endlinecolor\":\"#2a3f5f\",\"gridcolor\":\"white\",\"linecolor\":\"white\",\"minorgridcolor\":\"white\",\"startlinecolor\":\"#2a3f5f\"},\"type\":\"carpet\"}],\"choropleth\":[{\"colorbar\":{\"outlinewidth\":0,\"ticks\":\"\"},\"type\":\"choropleth\"}],\"contour\":[{\"colorbar\":{\"outlinewidth\":0,\"ticks\":\"\"},\"colorscale\":[[0.0,\"#0d0887\"],[0.1111111111111111,\"#46039f\"],[0.2222222222222222,\"#7201a8\"],[0.3333333333333333,\"#9c179e\"],[0.4444444444444444,\"#bd3786\"],[0.5555555555555556,\"#d8576b\"],[0.6666666666666666,\"#ed7953\"],[0.7777777777777778,\"#fb9f3a\"],[0.8888888888888888,\"#fdca26\"],[1.0,\"#f0f921\"]],\"type\":\"contour\"}],\"contourcarpet\":[{\"colorbar\":{\"outlinewidth\":0,\"ticks\":\"\"},\"type\":\"contourcarpet\"}],\"heatmap\":[{\"colorbar\":{\"outlinewidth\":0,\"ticks\":\"\"},\"colorscale\":[[0.0,\"#0d0887\"],[0.1111111111111111,\"#46039f\"],[0.2222222222222222,\"#7201a8\"],[0.3333333333333333,\"#9c179e\"],[0.4444444444444444,\"#bd3786\"],[0.5555555555555556,\"#d8576b\"],[0.6666666666666666,\"#ed7953\"],[0.7777777777777778,\"#fb9f3a\"],[0.8888888888888888,\"#fdca26\"],[1.0,\"#f0f921\"]],\"type\":\"heatmap\"}],\"heatmapgl\":[{\"colorbar\":{\"outlinewidth\":0,\"ticks\":\"\"},\"colorscale\":[[0.0,\"#0d0887\"],[0.1111111111111111,\"#46039f\"],[0.2222222222222222,\"#7201a8\"],[0.3333333333333333,\"#9c179e\"],[0.4444444444444444,\"#bd3786\"],[0.5555555555555556,\"#d8576b\"],[0.6666666666666666,\"#ed7953\"],[0.7777777777777778,\"#fb9f3a\"],[0.8888888888888888,\"#fdca26\"],[1.0,\"#f0f921\"]],\"type\":\"heatmapgl\"}],\"histogram\":[{\"marker\":{\"pattern\":{\"fillmode\":\"overlay\",\"size\":10,\"solidity\":0.2}},\"type\":\"histogram\"}],\"histogram2d\":[{\"colorbar\":{\"outlinewidth\":0,\"ticks\":\"\"},\"colorscale\":[[0.0,\"#0d0887\"],[0.1111111111111111,\"#46039f\"],[0.2222222222222222,\"#7201a8\"],[0.3333333333333333,\"#9c179e\"],[0.4444444444444444,\"#bd3786\"],[0.5555555555555556,\"#d8576b\"],[0.6666666666666666,\"#ed7953\"],[0.7777777777777778,\"#fb9f3a\"],[0.8888888888888888,\"#fdca26\"],[1.0,\"#f0f921\"]],\"type\":\"histogram2d\"}],\"histogram2dcontour\":[{\"colorbar\":{\"outlinewidth\":0,\"ticks\":\"\"},\"colorscale\":[[0.0,\"#0d0887\"],[0.1111111111111111,\"#46039f\"],[0.2222222222222222,\"#7201a8\"],[0.3333333333333333,\"#9c179e\"],[0.4444444444444444,\"#bd3786\"],[0.5555555555555556,\"#d8576b\"],[0.6666666666666666,\"#ed7953\"],[0.7777777777777778,\"#fb9f3a\"],[0.8888888888888888,\"#fdca26\"],[1.0,\"#f0f921\"]],\"type\":\"histogram2dcontour\"}],\"mesh3d\":[{\"colorbar\":{\"outlinewidth\":0,\"ticks\":\"\"},\"type\":\"mesh3d\"}],\"parcoords\":[{\"line\":{\"colorbar\":{\"outlinewidth\":0,\"ticks\":\"\"}},\"type\":\"parcoords\"}],\"pie\":[{\"automargin\":true,\"type\":\"pie\"}],\"scatter\":[{\"marker\":{\"colorbar\":{\"outlinewidth\":0,\"ticks\":\"\"}},\"type\":\"scatter\"}],\"scatter3d\":[{\"line\":{\"colorbar\":{\"outlinewidth\":0,\"ticks\":\"\"}},\"marker\":{\"colorbar\":{\"outlinewidth\":0,\"ticks\":\"\"}},\"type\":\"scatter3d\"}],\"scattercarpet\":[{\"marker\":{\"colorbar\":{\"outlinewidth\":0,\"ticks\":\"\"}},\"type\":\"scattercarpet\"}],\"scattergeo\":[{\"marker\":{\"colorbar\":{\"outlinewidth\":0,\"ticks\":\"\"}},\"type\":\"scattergeo\"}],\"scattergl\":[{\"marker\":{\"colorbar\":{\"outlinewidth\":0,\"ticks\":\"\"}},\"type\":\"scattergl\"}],\"scattermapbox\":[{\"marker\":{\"colorbar\":{\"outlinewidth\":0,\"ticks\":\"\"}},\"type\":\"scattermapbox\"}],\"scatterpolar\":[{\"marker\":{\"colorbar\":{\"outlinewidth\":0,\"ticks\":\"\"}},\"type\":\"scatterpolar\"}],\"scatterpolargl\":[{\"marker\":{\"colorbar\":{\"outlinewidth\":0,\"ticks\":\"\"}},\"type\":\"scatterpolargl\"}],\"scatterternary\":[{\"marker\":{\"colorbar\":{\"outlinewidth\":0,\"ticks\":\"\"}},\"type\":\"scatterternary\"}],\"surface\":[{\"colorbar\":{\"outlinewidth\":0,\"ticks\":\"\"},\"colorscale\":[[0.0,\"#0d0887\"],[0.1111111111111111,\"#46039f\"],[0.2222222222222222,\"#7201a8\"],[0.3333333333333333,\"#9c179e\"],[0.4444444444444444,\"#bd3786\"],[0.5555555555555556,\"#d8576b\"],[0.6666666666666666,\"#ed7953\"],[0.7777777777777778,\"#fb9f3a\"],[0.8888888888888888,\"#fdca26\"],[1.0,\"#f0f921\"]],\"type\":\"surface\"}],\"table\":[{\"cells\":{\"fill\":{\"color\":\"#EBF0F8\"},\"line\":{\"color\":\"white\"}},\"header\":{\"fill\":{\"color\":\"#C8D4E3\"},\"line\":{\"color\":\"white\"}},\"type\":\"table\"}]},\"layout\":{\"annotationdefaults\":{\"arrowcolor\":\"#2a3f5f\",\"arrowhead\":0,\"arrowwidth\":1},\"autotypenumbers\":\"strict\",\"coloraxis\":{\"colorbar\":{\"outlinewidth\":0,\"ticks\":\"\"}},\"colorscale\":{\"diverging\":[[0,\"#8e0152\"],[0.1,\"#c51b7d\"],[0.2,\"#de77ae\"],[0.3,\"#f1b6da\"],[0.4,\"#fde0ef\"],[0.5,\"#f7f7f7\"],[0.6,\"#e6f5d0\"],[0.7,\"#b8e186\"],[0.8,\"#7fbc41\"],[0.9,\"#4d9221\"],[1,\"#276419\"]],\"sequential\":[[0.0,\"#0d0887\"],[0.1111111111111111,\"#46039f\"],[0.2222222222222222,\"#7201a8\"],[0.3333333333333333,\"#9c179e\"],[0.4444444444444444,\"#bd3786\"],[0.5555555555555556,\"#d8576b\"],[0.6666666666666666,\"#ed7953\"],[0.7777777777777778,\"#fb9f3a\"],[0.8888888888888888,\"#fdca26\"],[1.0,\"#f0f921\"]],\"sequentialminus\":[[0.0,\"#0d0887\"],[0.1111111111111111,\"#46039f\"],[0.2222222222222222,\"#7201a8\"],[0.3333333333333333,\"#9c179e\"],[0.4444444444444444,\"#bd3786\"],[0.5555555555555556,\"#d8576b\"],[0.6666666666666666,\"#ed7953\"],[0.7777777777777778,\"#fb9f3a\"],[0.8888888888888888,\"#fdca26\"],[1.0,\"#f0f921\"]]},\"colorway\":[\"#636efa\",\"#EF553B\",\"#00cc96\",\"#ab63fa\",\"#FFA15A\",\"#19d3f3\",\"#FF6692\",\"#B6E880\",\"#FF97FF\",\"#FECB52\"],\"font\":{\"color\":\"#2a3f5f\"},\"geo\":{\"bgcolor\":\"white\",\"lakecolor\":\"white\",\"landcolor\":\"#E5ECF6\",\"showlakes\":true,\"showland\":true,\"subunitcolor\":\"white\"},\"hoverlabel\":{\"align\":\"left\"},\"hovermode\":\"closest\",\"mapbox\":{\"style\":\"light\"},\"paper_bgcolor\":\"white\",\"plot_bgcolor\":\"#E5ECF6\",\"polar\":{\"angularaxis\":{\"gridcolor\":\"white\",\"linecolor\":\"white\",\"ticks\":\"\"},\"bgcolor\":\"#E5ECF6\",\"radialaxis\":{\"gridcolor\":\"white\",\"linecolor\":\"white\",\"ticks\":\"\"}},\"scene\":{\"xaxis\":{\"backgroundcolor\":\"#E5ECF6\",\"gridcolor\":\"white\",\"gridwidth\":2,\"linecolor\":\"white\",\"showbackground\":true,\"ticks\":\"\",\"zerolinecolor\":\"white\"},\"yaxis\":{\"backgroundcolor\":\"#E5ECF6\",\"gridcolor\":\"white\",\"gridwidth\":2,\"linecolor\":\"white\",\"showbackground\":true,\"ticks\":\"\",\"zerolinecolor\":\"white\"},\"zaxis\":{\"backgroundcolor\":\"#E5ECF6\",\"gridcolor\":\"white\",\"gridwidth\":2,\"linecolor\":\"white\",\"showbackground\":true,\"ticks\":\"\",\"zerolinecolor\":\"white\"}},\"shapedefaults\":{\"line\":{\"color\":\"#2a3f5f\"}},\"ternary\":{\"aaxis\":{\"gridcolor\":\"white\",\"linecolor\":\"white\",\"ticks\":\"\"},\"baxis\":{\"gridcolor\":\"white\",\"linecolor\":\"white\",\"ticks\":\"\"},\"bgcolor\":\"#E5ECF6\",\"caxis\":{\"gridcolor\":\"white\",\"linecolor\":\"white\",\"ticks\":\"\"}},\"title\":{\"x\":0.05},\"xaxis\":{\"automargin\":true,\"gridcolor\":\"white\",\"linecolor\":\"white\",\"ticks\":\"\",\"title\":{\"standoff\":15},\"zerolinecolor\":\"white\",\"zerolinewidth\":2},\"yaxis\":{\"automargin\":true,\"gridcolor\":\"white\",\"linecolor\":\"white\",\"ticks\":\"\",\"title\":{\"standoff\":15},\"zerolinecolor\":\"white\",\"zerolinewidth\":2}}},\"shapes\":[{\"line\":{\"color\":\"rgba(100, 100, 100, 0.9)\",\"width\":1.0},\"type\":\"line\",\"x0\":\"2019-04-01T00:00:00\",\"x1\":\"2019-04-01T00:00:00\",\"xref\":\"x\",\"y0\":0,\"y1\":1,\"yref\":\"paper\"}],\"annotations\":[{\"arrowhead\":0,\"ax\":-60,\"ay\":0,\"showarrow\":true,\"text\":\"Train End Date\",\"x\":\"2019-04-01T00:00:00\",\"xref\":\"x\",\"y\":0.97,\"yref\":\"paper\"}]},                        {\"responsive\": true}                    ).then(function(){\n",
       "                            \n",
       "var gd = document.getElementById('f47b6b7e-3b0a-45d6-b85f-170c7256afb6');\n",
       "var x = new MutationObserver(function (mutations, observer) {{\n",
       "        var display = window.getComputedStyle(gd).display;\n",
       "        if (!display || display === 'none') {{\n",
       "            console.log([gd, 'removed!']);\n",
       "            Plotly.purge(gd);\n",
       "            observer.disconnect();\n",
       "        }}\n",
       "}});\n",
       "\n",
       "// Listen for the removal of the full notebook cells\n",
       "var notebookContainer = gd.closest('#notebook-container');\n",
       "if (notebookContainer) {{\n",
       "    x.observe(notebookContainer, {childList: true});\n",
       "}}\n",
       "\n",
       "// Listen for the clearing of the current output cell\n",
       "var outputEl = gd.closest('.output');\n",
       "if (outputEl) {{\n",
       "    x.observe(outputEl, {childList: true});\n",
       "}}\n",
       "\n",
       "                        })                };                            </script>        </div>\n",
       "</body>\n",
       "</html>"
      ]
     },
     "metadata": {},
     "output_type": "display_data"
    }
   ],
   "source": [
    "fig = backtest.plot()\n",
    "plotly.io.show(fig)"
   ]
  },
  {
   "cell_type": "markdown",
   "metadata": {
    "id": "lTwb1RGsvrhN"
   },
   "source": [
    "Forecast plot:\n",
    "\n"
   ]
  },
  {
   "cell_type": "code",
   "execution_count": 10,
   "metadata": {
    "colab": {
     "base_uri": "https://localhost:8080/",
     "height": 542
    },
    "id": "X8HpT5iZvrhN",
    "outputId": "9dc428d7-bca9-44ed-d16d-ba0851deb639"
   },
   "outputs": [
    {
     "data": {
      "text/html": [
       "<html>\n",
       "<head><meta charset=\"utf-8\" /></head>\n",
       "<body>\n",
       "    <div>            <script src=\"https://cdnjs.cloudflare.com/ajax/libs/mathjax/2.7.5/MathJax.js?config=TeX-AMS-MML_SVG\"></script><script type=\"text/javascript\">if (window.MathJax) {MathJax.Hub.Config({SVG: {font: \"STIX-Web\"}});}</script>                <script type=\"text/javascript\">window.PlotlyConfig = {MathJaxConfig: 'local'};</script>\n",
       "        <script src=\"https://cdn.plot.ly/plotly-2.8.3.min.js\"></script>                <div id=\"bee010b9-6fc2-45dc-b8e9-6b2f8b259d2e\" class=\"plotly-graph-div\" style=\"height:525px; width:100%;\"></div>            <script type=\"text/javascript\">                                    window.PLOTLYENV=window.PLOTLYENV || {};                                    if (document.getElementById(\"bee010b9-6fc2-45dc-b8e9-6b2f8b259d2e\")) {                    Plotly.newPlot(                        \"bee010b9-6fc2-45dc-b8e9-6b2f8b259d2e\",                        [{\"legendgroup\":\"interval\",\"line\":{\"color\":\"rgba(0, 90, 181, 0.5)\",\"width\":0.0},\"mode\":\"lines\",\"name\":\"Lower Bound\",\"x\":[\"2010-09-01T00:00:00\",\"2010-10-01T00:00:00\",\"2010-11-01T00:00:00\",\"2010-12-01T00:00:00\",\"2011-01-01T00:00:00\",\"2011-02-01T00:00:00\",\"2011-03-01T00:00:00\",\"2011-04-01T00:00:00\",\"2011-05-01T00:00:00\",\"2011-06-01T00:00:00\",\"2011-07-01T00:00:00\",\"2011-08-01T00:00:00\",\"2011-09-01T00:00:00\",\"2011-10-01T00:00:00\",\"2011-11-01T00:00:00\",\"2011-12-01T00:00:00\",\"2012-01-01T00:00:00\",\"2012-02-01T00:00:00\",\"2012-03-01T00:00:00\",\"2012-04-01T00:00:00\",\"2012-05-01T00:00:00\",\"2012-06-01T00:00:00\",\"2012-07-01T00:00:00\",\"2012-08-01T00:00:00\",\"2012-09-01T00:00:00\",\"2012-10-01T00:00:00\",\"2012-11-01T00:00:00\",\"2012-12-01T00:00:00\",\"2013-01-01T00:00:00\",\"2013-02-01T00:00:00\",\"2013-03-01T00:00:00\",\"2013-04-01T00:00:00\",\"2013-05-01T00:00:00\",\"2013-06-01T00:00:00\",\"2013-07-01T00:00:00\",\"2013-08-01T00:00:00\",\"2013-09-01T00:00:00\",\"2013-10-01T00:00:00\",\"2013-11-01T00:00:00\",\"2013-12-01T00:00:00\",\"2014-01-01T00:00:00\",\"2014-02-01T00:00:00\",\"2014-03-01T00:00:00\",\"2014-04-01T00:00:00\",\"2014-05-01T00:00:00\",\"2014-06-01T00:00:00\",\"2014-07-01T00:00:00\",\"2014-08-01T00:00:00\",\"2014-09-01T00:00:00\",\"2014-10-01T00:00:00\",\"2014-11-01T00:00:00\",\"2014-12-01T00:00:00\",\"2015-01-01T00:00:00\",\"2015-02-01T00:00:00\",\"2015-03-01T00:00:00\",\"2015-04-01T00:00:00\",\"2015-05-01T00:00:00\",\"2015-06-01T00:00:00\",\"2015-07-01T00:00:00\",\"2015-08-01T00:00:00\",\"2015-09-01T00:00:00\",\"2015-10-01T00:00:00\",\"2015-11-01T00:00:00\",\"2015-12-01T00:00:00\",\"2016-01-01T00:00:00\",\"2016-02-01T00:00:00\",\"2016-03-01T00:00:00\",\"2016-04-01T00:00:00\",\"2016-05-01T00:00:00\",\"2016-06-01T00:00:00\",\"2016-07-01T00:00:00\",\"2016-08-01T00:00:00\",\"2016-09-01T00:00:00\",\"2016-10-01T00:00:00\",\"2016-11-01T00:00:00\",\"2016-12-01T00:00:00\",\"2017-01-01T00:00:00\",\"2017-02-01T00:00:00\",\"2017-03-01T00:00:00\",\"2017-04-01T00:00:00\",\"2017-05-01T00:00:00\",\"2017-06-01T00:00:00\",\"2017-07-01T00:00:00\",\"2017-08-01T00:00:00\",\"2017-09-01T00:00:00\",\"2017-10-01T00:00:00\",\"2017-11-01T00:00:00\",\"2017-12-01T00:00:00\",\"2018-01-01T00:00:00\",\"2018-02-01T00:00:00\",\"2018-03-01T00:00:00\",\"2018-04-01T00:00:00\",\"2018-05-01T00:00:00\",\"2018-06-01T00:00:00\",\"2018-07-01T00:00:00\",\"2018-08-01T00:00:00\",\"2018-09-01T00:00:00\",\"2018-10-01T00:00:00\",\"2018-11-01T00:00:00\",\"2018-12-01T00:00:00\",\"2019-01-01T00:00:00\",\"2019-02-01T00:00:00\",\"2019-03-01T00:00:00\",\"2019-04-01T00:00:00\",\"2019-05-01T00:00:00\",\"2019-06-01T00:00:00\",\"2019-07-01T00:00:00\",\"2019-08-01T00:00:00\",\"2019-09-01T00:00:00\",\"2019-10-01T00:00:00\",\"2019-11-01T00:00:00\",\"2019-12-01T00:00:00\"],\"y\":[-3893.206421547533,15072.884608017113,-44839.8326071971,-80878.67641862592,-85985.72980119233,-72265.74516675674,-5992.15711000529,71704.96858192183,95067.20846838006,115104.6995324425,128756.14571185451,134336.75595673983,111427.62164109241,103054.46886286966,34036.41583583423,-7895.586973691497,-17602.44890466192,-7236.999273550195,56828.02611689532,132351.3996775138,153948.92750072322,172437.44997753913,184804.1142424284,189238.80348306574,165337.8781702323,156129.09127393097,86357.39625663063,43788.13765291434,33505.7788141023,42108.46735335791,104361.85535804636,178105.06954495615,198029.17879571335,214834.34944956034,225612.1052645314,228442.5642999498,202972.26147585607,192275.0564145581,120994.07653562125,76989.8334402502,65249.07174475093,73359.51542056596,135186.85570855142,208477.49768208718,227981.49154739658,244369.75898821477,254759.64518948505,257204.38681933022,231362.74591333966,220319.0453325875,148692.52930692828,104365.31263624554,92301.94485407913,99867.89096609363,162053.62814843003,235750.20997613168,255655.7404382467,271742.2382617074,281847.9372762526,284006.7345790053,257886.61825148267,246580.20446704887,174688.90209996613,130111.62088292494,117795.95704480889,125342.97905393894,186735.24125743413,259491.51342360408,278492.1380650323,294373.81275118206,304285.9698416435,306249.41420716647,279938.4793378902,268451.5556640124,196377.85741131147,151627.91593446722,139137.67214479565,146523.71997811744,207713.4242650207,280315.7186847865,299170.4125339694,314904.36641894036,324676.4443061964,326498.0140324318,300048.0300646937,285402.03751860006,210066.57271152677,162162.5251363078,146415.4835901776,150542.44380886847,208790.52246476465,278138.23790534766,293845.49765004875,306329.2681693416,312958.0427874862,311533.5757140963,281839.573050956,267083.1841520622,191635.51993125584,143624.65948358702,127769.0214165891,131789.14276584232,189942.1934329758,259186.28689894604,274794.81594779255,287178.12396708666,293711.14784189494,292189.2202015536,262399.2256659799,247551.3053516535,172010.4337021681,123910.67139780015],\"type\":\"scatter\"},{\"fill\":\"tonexty\",\"fillcolor\":\"rgba(0, 90, 181, 0.15)\",\"legendgroup\":\"interval\",\"line\":{\"color\":\"rgba(0, 90, 181, 0.5)\",\"width\":0.0},\"mode\":\"lines\",\"name\":\"Upper Bound\",\"x\":[\"2010-09-01T00:00:00\",\"2010-10-01T00:00:00\",\"2010-11-01T00:00:00\",\"2010-12-01T00:00:00\",\"2011-01-01T00:00:00\",\"2011-02-01T00:00:00\",\"2011-03-01T00:00:00\",\"2011-04-01T00:00:00\",\"2011-05-01T00:00:00\",\"2011-06-01T00:00:00\",\"2011-07-01T00:00:00\",\"2011-08-01T00:00:00\",\"2011-09-01T00:00:00\",\"2011-10-01T00:00:00\",\"2011-11-01T00:00:00\",\"2011-12-01T00:00:00\",\"2012-01-01T00:00:00\",\"2012-02-01T00:00:00\",\"2012-03-01T00:00:00\",\"2012-04-01T00:00:00\",\"2012-05-01T00:00:00\",\"2012-06-01T00:00:00\",\"2012-07-01T00:00:00\",\"2012-08-01T00:00:00\",\"2012-09-01T00:00:00\",\"2012-10-01T00:00:00\",\"2012-11-01T00:00:00\",\"2012-12-01T00:00:00\",\"2013-01-01T00:00:00\",\"2013-02-01T00:00:00\",\"2013-03-01T00:00:00\",\"2013-04-01T00:00:00\",\"2013-05-01T00:00:00\",\"2013-06-01T00:00:00\",\"2013-07-01T00:00:00\",\"2013-08-01T00:00:00\",\"2013-09-01T00:00:00\",\"2013-10-01T00:00:00\",\"2013-11-01T00:00:00\",\"2013-12-01T00:00:00\",\"2014-01-01T00:00:00\",\"2014-02-01T00:00:00\",\"2014-03-01T00:00:00\",\"2014-04-01T00:00:00\",\"2014-05-01T00:00:00\",\"2014-06-01T00:00:00\",\"2014-07-01T00:00:00\",\"2014-08-01T00:00:00\",\"2014-09-01T00:00:00\",\"2014-10-01T00:00:00\",\"2014-11-01T00:00:00\",\"2014-12-01T00:00:00\",\"2015-01-01T00:00:00\",\"2015-02-01T00:00:00\",\"2015-03-01T00:00:00\",\"2015-04-01T00:00:00\",\"2015-05-01T00:00:00\",\"2015-06-01T00:00:00\",\"2015-07-01T00:00:00\",\"2015-08-01T00:00:00\",\"2015-09-01T00:00:00\",\"2015-10-01T00:00:00\",\"2015-11-01T00:00:00\",\"2015-12-01T00:00:00\",\"2016-01-01T00:00:00\",\"2016-02-01T00:00:00\",\"2016-03-01T00:00:00\",\"2016-04-01T00:00:00\",\"2016-05-01T00:00:00\",\"2016-06-01T00:00:00\",\"2016-07-01T00:00:00\",\"2016-08-01T00:00:00\",\"2016-09-01T00:00:00\",\"2016-10-01T00:00:00\",\"2016-11-01T00:00:00\",\"2016-12-01T00:00:00\",\"2017-01-01T00:00:00\",\"2017-02-01T00:00:00\",\"2017-03-01T00:00:00\",\"2017-04-01T00:00:00\",\"2017-05-01T00:00:00\",\"2017-06-01T00:00:00\",\"2017-07-01T00:00:00\",\"2017-08-01T00:00:00\",\"2017-09-01T00:00:00\",\"2017-10-01T00:00:00\",\"2017-11-01T00:00:00\",\"2017-12-01T00:00:00\",\"2018-01-01T00:00:00\",\"2018-02-01T00:00:00\",\"2018-03-01T00:00:00\",\"2018-04-01T00:00:00\",\"2018-05-01T00:00:00\",\"2018-06-01T00:00:00\",\"2018-07-01T00:00:00\",\"2018-08-01T00:00:00\",\"2018-09-01T00:00:00\",\"2018-10-01T00:00:00\",\"2018-11-01T00:00:00\",\"2018-12-01T00:00:00\",\"2019-01-01T00:00:00\",\"2019-02-01T00:00:00\",\"2019-03-01T00:00:00\",\"2019-04-01T00:00:00\",\"2019-05-01T00:00:00\",\"2019-06-01T00:00:00\",\"2019-07-01T00:00:00\",\"2019-08-01T00:00:00\",\"2019-09-01T00:00:00\",\"2019-10-01T00:00:00\",\"2019-11-01T00:00:00\",\"2019-12-01T00:00:00\"],\"y\":[110090.51826216155,129056.6092917262,69143.89207651198,33105.04826508316,27997.994882516745,41717.97951695235,107991.5675737038,185688.69326563092,209050.93315208916,229088.4242161516,242739.8703955636,248320.48064044892,225411.3463248015,217038.19354657875,148020.14051954332,106088.13771001759,96381.27577904717,106746.72541015889,170811.7508006044,246335.1243612229,267932.6521844323,286421.1746612482,298787.8389261375,303222.52816677483,279321.6028539414,270112.81595764006,200341.12094033972,157771.86233662342,147489.50349781138,156092.192037067,218345.58004175546,292088.79422866524,312012.90347942244,328818.07413326943,339595.8299482405,342426.2889836589,316955.98615956516,306258.7810982672,234977.80121933034,190973.5581239593,179232.79642846002,187343.24010427506,249170.5803922605,322461.2223657963,341965.2162311057,358353.48367192387,368743.36987319414,371188.1115030393,345346.47059704876,334302.7700162966,262676.2539906374,218349.03731995463,206285.66953778823,213851.61564980273,276037.3528321391,349733.9346598408,369639.4651219558,385725.9629454165,395831.6619599617,397990.4592627144,371870.34293519176,360563.92915075796,288672.6267836752,244095.34556663403,231779.681728518,239326.70373764803,300718.9659411432,373475.23810731317,392475.8627487414,408357.53743489116,418269.6945253526,420233.13889087556,393922.2040215993,382435.2803477215,310361.58209502057,265611.6406181763,253121.39682850474,260507.44466182654,321697.1489487298,394299.4433684956,413154.1372176785,428888.09110264946,438660.1689899055,440481.7387161409,414031.7547484028,399385.76220230915,324050.29739523586,276146.2498200169,260399.2082738867,264526.16849257756,322774.24714847375,392121.96258905675,407829.22233375785,420312.9928530507,426941.7674711953,425517.3003978054,395823.2977346651,381066.9088357713,305619.24461496493,257608.3841672961,241752.7461002982,245772.8674495514,303925.9181166849,373170.01158265513,388778.54063150164,401161.84865079576,407694.87252560403,406172.9448852627,376382.950349689,361535.0300353626,285994.1583858772,237894.39608150924],\"type\":\"scatter\"},{\"line\":{\"color\":\"rgba(250, 43, 20, 0.7)\"},\"marker\":{\"color\":\"rgba(250, 43, 20, 0.7)\",\"size\":2.0},\"mode\":\"lines+markers\",\"name\":\"Actual\",\"opacity\":1.0,\"x\":[\"2010-09-01T00:00:00\",\"2010-10-01T00:00:00\",\"2010-11-01T00:00:00\",\"2010-12-01T00:00:00\",\"2011-01-01T00:00:00\",\"2011-02-01T00:00:00\",\"2011-03-01T00:00:00\",\"2011-04-01T00:00:00\",\"2011-05-01T00:00:00\",\"2011-06-01T00:00:00\",\"2011-07-01T00:00:00\",\"2011-08-01T00:00:00\",\"2011-09-01T00:00:00\",\"2011-10-01T00:00:00\",\"2011-11-01T00:00:00\",\"2011-12-01T00:00:00\",\"2012-01-01T00:00:00\",\"2012-02-01T00:00:00\",\"2012-03-01T00:00:00\",\"2012-04-01T00:00:00\",\"2012-05-01T00:00:00\",\"2012-06-01T00:00:00\",\"2012-07-01T00:00:00\",\"2012-08-01T00:00:00\",\"2012-09-01T00:00:00\",\"2012-10-01T00:00:00\",\"2012-11-01T00:00:00\",\"2012-12-01T00:00:00\",\"2013-01-01T00:00:00\",\"2013-02-01T00:00:00\",\"2013-03-01T00:00:00\",\"2013-04-01T00:00:00\",\"2013-05-01T00:00:00\",\"2013-06-01T00:00:00\",\"2013-07-01T00:00:00\",\"2013-08-01T00:00:00\",\"2013-09-01T00:00:00\",\"2013-10-01T00:00:00\",\"2013-11-01T00:00:00\",\"2013-12-01T00:00:00\",\"2014-01-01T00:00:00\",\"2014-02-01T00:00:00\",\"2014-03-01T00:00:00\",\"2014-04-01T00:00:00\",\"2014-05-01T00:00:00\",\"2014-06-01T00:00:00\",\"2014-07-01T00:00:00\",\"2014-08-01T00:00:00\",\"2014-09-01T00:00:00\",\"2014-10-01T00:00:00\",\"2014-11-01T00:00:00\",\"2014-12-01T00:00:00\",\"2015-01-01T00:00:00\",\"2015-02-01T00:00:00\",\"2015-03-01T00:00:00\",\"2015-04-01T00:00:00\",\"2015-05-01T00:00:00\",\"2015-06-01T00:00:00\",\"2015-07-01T00:00:00\",\"2015-08-01T00:00:00\",\"2015-09-01T00:00:00\",\"2015-10-01T00:00:00\",\"2015-11-01T00:00:00\",\"2015-12-01T00:00:00\",\"2016-01-01T00:00:00\",\"2016-02-01T00:00:00\",\"2016-03-01T00:00:00\",\"2016-04-01T00:00:00\",\"2016-05-01T00:00:00\",\"2016-06-01T00:00:00\",\"2016-07-01T00:00:00\",\"2016-08-01T00:00:00\",\"2016-09-01T00:00:00\",\"2016-10-01T00:00:00\",\"2016-11-01T00:00:00\",\"2016-12-01T00:00:00\",\"2017-01-01T00:00:00\",\"2017-02-01T00:00:00\",\"2017-03-01T00:00:00\",\"2017-04-01T00:00:00\",\"2017-05-01T00:00:00\",\"2017-06-01T00:00:00\",\"2017-07-01T00:00:00\",\"2017-08-01T00:00:00\",\"2017-09-01T00:00:00\",\"2017-10-01T00:00:00\",\"2017-11-01T00:00:00\",\"2017-12-01T00:00:00\",\"2018-01-01T00:00:00\",\"2018-02-01T00:00:00\",\"2018-03-01T00:00:00\",\"2018-04-01T00:00:00\",\"2018-05-01T00:00:00\",\"2018-06-01T00:00:00\",\"2018-07-01T00:00:00\",\"2018-08-01T00:00:00\",\"2018-09-01T00:00:00\",\"2018-10-01T00:00:00\",\"2018-11-01T00:00:00\",\"2018-12-01T00:00:00\",\"2019-01-01T00:00:00\",\"2019-02-01T00:00:00\",\"2019-03-01T00:00:00\",\"2019-04-01T00:00:00\",\"2019-05-01T00:00:00\",\"2019-06-01T00:00:00\",\"2019-07-01T00:00:00\",\"2019-08-01T00:00:00\",\"2019-09-01T00:00:00\",\"2019-10-01T00:00:00\",\"2019-11-01T00:00:00\",\"2019-12-01T00:00:00\"],\"y\":[4001.0,35949.0,47391.0,28253.0,37499.0,47538.0,63211.0,93048.0,133816.0,141709.0,139603.0,135018.0,125869.0,122105.0,101014.0,86328.0,95850.0,102254.0,163154.0,172520.0,193680.0,200620.0,201577.0,212070.0,216317.0,196874.0,151328.0,122656.0,124977.0,110090.0,157390.0,236423.0,250358.0,253876.0,267986.0,288700.0,282038.0,254591.0,192491.0,136609.0,112686.0,122672.0,165769.0,269495.0,306646.0,316641.0,327797.0,320890.0,323972.0,297921.0,197110.0,151567.0,127388.0,108058.0,188262.0,318295.0,367203.0,314276.0,363902.0,364456.0,328014.0,290339.0,228359.0,187349.0,123262.0,145646.0,283436.0,285528.0,288749.0,368043.0,366497.0,357324.0,344381.0,343295.0,259098.0,168728.0,174806.0,226305.0,245370.0,365973.0,339685.0,398684.0,397742.0,402521.0,391330.0,384901.0,252550.0,177932.0,168568.0,182362.0,238951.0,328939.0,374122.0,392256.0,404811.0,403896.0,325799.0,343026.0,202365.0,177581.0,150786.0,158105.0,253832.0,347955.0,337600.0,350221.0,356652.0,359982.0,null,null,null,null],\"type\":\"scatter\"},{\"line\":{\"color\":\"rgba(0, 90, 181, 0.7)\",\"dash\":\"solid\"},\"name\":\"Forecast\",\"x\":[\"2010-09-01T00:00:00\",\"2010-10-01T00:00:00\",\"2010-11-01T00:00:00\",\"2010-12-01T00:00:00\",\"2011-01-01T00:00:00\",\"2011-02-01T00:00:00\",\"2011-03-01T00:00:00\",\"2011-04-01T00:00:00\",\"2011-05-01T00:00:00\",\"2011-06-01T00:00:00\",\"2011-07-01T00:00:00\",\"2011-08-01T00:00:00\",\"2011-09-01T00:00:00\",\"2011-10-01T00:00:00\",\"2011-11-01T00:00:00\",\"2011-12-01T00:00:00\",\"2012-01-01T00:00:00\",\"2012-02-01T00:00:00\",\"2012-03-01T00:00:00\",\"2012-04-01T00:00:00\",\"2012-05-01T00:00:00\",\"2012-06-01T00:00:00\",\"2012-07-01T00:00:00\",\"2012-08-01T00:00:00\",\"2012-09-01T00:00:00\",\"2012-10-01T00:00:00\",\"2012-11-01T00:00:00\",\"2012-12-01T00:00:00\",\"2013-01-01T00:00:00\",\"2013-02-01T00:00:00\",\"2013-03-01T00:00:00\",\"2013-04-01T00:00:00\",\"2013-05-01T00:00:00\",\"2013-06-01T00:00:00\",\"2013-07-01T00:00:00\",\"2013-08-01T00:00:00\",\"2013-09-01T00:00:00\",\"2013-10-01T00:00:00\",\"2013-11-01T00:00:00\",\"2013-12-01T00:00:00\",\"2014-01-01T00:00:00\",\"2014-02-01T00:00:00\",\"2014-03-01T00:00:00\",\"2014-04-01T00:00:00\",\"2014-05-01T00:00:00\",\"2014-06-01T00:00:00\",\"2014-07-01T00:00:00\",\"2014-08-01T00:00:00\",\"2014-09-01T00:00:00\",\"2014-10-01T00:00:00\",\"2014-11-01T00:00:00\",\"2014-12-01T00:00:00\",\"2015-01-01T00:00:00\",\"2015-02-01T00:00:00\",\"2015-03-01T00:00:00\",\"2015-04-01T00:00:00\",\"2015-05-01T00:00:00\",\"2015-06-01T00:00:00\",\"2015-07-01T00:00:00\",\"2015-08-01T00:00:00\",\"2015-09-01T00:00:00\",\"2015-10-01T00:00:00\",\"2015-11-01T00:00:00\",\"2015-12-01T00:00:00\",\"2016-01-01T00:00:00\",\"2016-02-01T00:00:00\",\"2016-03-01T00:00:00\",\"2016-04-01T00:00:00\",\"2016-05-01T00:00:00\",\"2016-06-01T00:00:00\",\"2016-07-01T00:00:00\",\"2016-08-01T00:00:00\",\"2016-09-01T00:00:00\",\"2016-10-01T00:00:00\",\"2016-11-01T00:00:00\",\"2016-12-01T00:00:00\",\"2017-01-01T00:00:00\",\"2017-02-01T00:00:00\",\"2017-03-01T00:00:00\",\"2017-04-01T00:00:00\",\"2017-05-01T00:00:00\",\"2017-06-01T00:00:00\",\"2017-07-01T00:00:00\",\"2017-08-01T00:00:00\",\"2017-09-01T00:00:00\",\"2017-10-01T00:00:00\",\"2017-11-01T00:00:00\",\"2017-12-01T00:00:00\",\"2018-01-01T00:00:00\",\"2018-02-01T00:00:00\",\"2018-03-01T00:00:00\",\"2018-04-01T00:00:00\",\"2018-05-01T00:00:00\",\"2018-06-01T00:00:00\",\"2018-07-01T00:00:00\",\"2018-08-01T00:00:00\",\"2018-09-01T00:00:00\",\"2018-10-01T00:00:00\",\"2018-11-01T00:00:00\",\"2018-12-01T00:00:00\",\"2019-01-01T00:00:00\",\"2019-02-01T00:00:00\",\"2019-03-01T00:00:00\",\"2019-04-01T00:00:00\",\"2019-05-01T00:00:00\",\"2019-06-01T00:00:00\",\"2019-07-01T00:00:00\",\"2019-08-01T00:00:00\",\"2019-09-01T00:00:00\",\"2019-10-01T00:00:00\",\"2019-11-01T00:00:00\",\"2019-12-01T00:00:00\"],\"y\":[53098.65592030701,72064.74694987165,12152.029734657437,-23886.814076771378,-28993.867459337795,-15273.88282490219,50999.70523184925,128696.83092377638,152059.0708102346,172096.56187429704,185748.00805370905,191328.61829859437,168419.48398294696,160046.3312047242,91028.27817768877,49096.27536816304,39389.41343719262,49754.863068304345,113819.88845874986,189343.26201936835,210940.78984257777,229429.31231939368,241795.97658428294,246230.6658249203,222329.74051208684,213120.95361578552,143349.25859848518,100779.99999476888,90497.64115595684,99100.32969521245,161353.7176999009,235096.9318868107,255021.0411375679,271826.2117914149,282603.96760638594,285434.42664180434,259964.1238177106,249266.91875641263,177985.9388774758,133981.69578210474,122240.93408660547,130351.37776242051,192178.71805040597,265469.3600239417,284973.3538892511,301361.6213300693,311751.5075313396,314196.24916118477,288354.6082551942,277310.90767444205,205684.39164878282,161357.17497810008,149293.80719593368,156859.75330794818,219045.49049028457,292742.0723179862,312647.60278010124,328734.10060356196,338839.79961810715,340998.5969208598,314878.4805933372,303572.0668089034,231680.76444182068,187103.48322477948,174787.81938666344,182334.84139579348,243727.10359928868,316483.3757654586,335484.00040688686,351365.6750930366,361277.8321834981,363241.276549021,336930.3416797448,325443.41800586693,253369.71975316602,208619.77827632177,196129.5344866502,203515.582319972,264705.28660687525,337307.58102664107,356162.27487582393,371896.2287607949,381668.30664805096,383489.87637428637,357039.89240654826,342393.8998604546,267058.4350533813,219154.38747816236,203407.34593203216,207534.30615072302,265782.3848066192,335130.1002472022,350837.3599919033,363321.13051119616,369949.90512934077,368525.43805595086,338831.43539281056,324075.0464939168,248627.3822731104,200616.52182544157,184760.88375844364,188781.00510769687,246934.05577483034,316178.1492408006,331786.6782896471,344169.9863089412,350703.0101837495,349181.08254340815,319391.08800783445,304543.16769350803,229002.29604402266,180902.5337396547],\"type\":\"scatter\"}],                        {\"legend\":{\"traceorder\":\"reversed\"},\"showlegend\":true,\"title\":{\"text\":\"Forecast vs Actual\",\"x\":0.5},\"xaxis\":{\"title\":{\"text\":\"ts\"}},\"yaxis\":{\"title\":{\"text\":\"count\"}},\"template\":{\"data\":{\"bar\":[{\"error_x\":{\"color\":\"#2a3f5f\"},\"error_y\":{\"color\":\"#2a3f5f\"},\"marker\":{\"line\":{\"color\":\"#E5ECF6\",\"width\":0.5},\"pattern\":{\"fillmode\":\"overlay\",\"size\":10,\"solidity\":0.2}},\"type\":\"bar\"}],\"barpolar\":[{\"marker\":{\"line\":{\"color\":\"#E5ECF6\",\"width\":0.5},\"pattern\":{\"fillmode\":\"overlay\",\"size\":10,\"solidity\":0.2}},\"type\":\"barpolar\"}],\"carpet\":[{\"aaxis\":{\"endlinecolor\":\"#2a3f5f\",\"gridcolor\":\"white\",\"linecolor\":\"white\",\"minorgridcolor\":\"white\",\"startlinecolor\":\"#2a3f5f\"},\"baxis\":{\"endlinecolor\":\"#2a3f5f\",\"gridcolor\":\"white\",\"linecolor\":\"white\",\"minorgridcolor\":\"white\",\"startlinecolor\":\"#2a3f5f\"},\"type\":\"carpet\"}],\"choropleth\":[{\"colorbar\":{\"outlinewidth\":0,\"ticks\":\"\"},\"type\":\"choropleth\"}],\"contour\":[{\"colorbar\":{\"outlinewidth\":0,\"ticks\":\"\"},\"colorscale\":[[0.0,\"#0d0887\"],[0.1111111111111111,\"#46039f\"],[0.2222222222222222,\"#7201a8\"],[0.3333333333333333,\"#9c179e\"],[0.4444444444444444,\"#bd3786\"],[0.5555555555555556,\"#d8576b\"],[0.6666666666666666,\"#ed7953\"],[0.7777777777777778,\"#fb9f3a\"],[0.8888888888888888,\"#fdca26\"],[1.0,\"#f0f921\"]],\"type\":\"contour\"}],\"contourcarpet\":[{\"colorbar\":{\"outlinewidth\":0,\"ticks\":\"\"},\"type\":\"contourcarpet\"}],\"heatmap\":[{\"colorbar\":{\"outlinewidth\":0,\"ticks\":\"\"},\"colorscale\":[[0.0,\"#0d0887\"],[0.1111111111111111,\"#46039f\"],[0.2222222222222222,\"#7201a8\"],[0.3333333333333333,\"#9c179e\"],[0.4444444444444444,\"#bd3786\"],[0.5555555555555556,\"#d8576b\"],[0.6666666666666666,\"#ed7953\"],[0.7777777777777778,\"#fb9f3a\"],[0.8888888888888888,\"#fdca26\"],[1.0,\"#f0f921\"]],\"type\":\"heatmap\"}],\"heatmapgl\":[{\"colorbar\":{\"outlinewidth\":0,\"ticks\":\"\"},\"colorscale\":[[0.0,\"#0d0887\"],[0.1111111111111111,\"#46039f\"],[0.2222222222222222,\"#7201a8\"],[0.3333333333333333,\"#9c179e\"],[0.4444444444444444,\"#bd3786\"],[0.5555555555555556,\"#d8576b\"],[0.6666666666666666,\"#ed7953\"],[0.7777777777777778,\"#fb9f3a\"],[0.8888888888888888,\"#fdca26\"],[1.0,\"#f0f921\"]],\"type\":\"heatmapgl\"}],\"histogram\":[{\"marker\":{\"pattern\":{\"fillmode\":\"overlay\",\"size\":10,\"solidity\":0.2}},\"type\":\"histogram\"}],\"histogram2d\":[{\"colorbar\":{\"outlinewidth\":0,\"ticks\":\"\"},\"colorscale\":[[0.0,\"#0d0887\"],[0.1111111111111111,\"#46039f\"],[0.2222222222222222,\"#7201a8\"],[0.3333333333333333,\"#9c179e\"],[0.4444444444444444,\"#bd3786\"],[0.5555555555555556,\"#d8576b\"],[0.6666666666666666,\"#ed7953\"],[0.7777777777777778,\"#fb9f3a\"],[0.8888888888888888,\"#fdca26\"],[1.0,\"#f0f921\"]],\"type\":\"histogram2d\"}],\"histogram2dcontour\":[{\"colorbar\":{\"outlinewidth\":0,\"ticks\":\"\"},\"colorscale\":[[0.0,\"#0d0887\"],[0.1111111111111111,\"#46039f\"],[0.2222222222222222,\"#7201a8\"],[0.3333333333333333,\"#9c179e\"],[0.4444444444444444,\"#bd3786\"],[0.5555555555555556,\"#d8576b\"],[0.6666666666666666,\"#ed7953\"],[0.7777777777777778,\"#fb9f3a\"],[0.8888888888888888,\"#fdca26\"],[1.0,\"#f0f921\"]],\"type\":\"histogram2dcontour\"}],\"mesh3d\":[{\"colorbar\":{\"outlinewidth\":0,\"ticks\":\"\"},\"type\":\"mesh3d\"}],\"parcoords\":[{\"line\":{\"colorbar\":{\"outlinewidth\":0,\"ticks\":\"\"}},\"type\":\"parcoords\"}],\"pie\":[{\"automargin\":true,\"type\":\"pie\"}],\"scatter\":[{\"marker\":{\"colorbar\":{\"outlinewidth\":0,\"ticks\":\"\"}},\"type\":\"scatter\"}],\"scatter3d\":[{\"line\":{\"colorbar\":{\"outlinewidth\":0,\"ticks\":\"\"}},\"marker\":{\"colorbar\":{\"outlinewidth\":0,\"ticks\":\"\"}},\"type\":\"scatter3d\"}],\"scattercarpet\":[{\"marker\":{\"colorbar\":{\"outlinewidth\":0,\"ticks\":\"\"}},\"type\":\"scattercarpet\"}],\"scattergeo\":[{\"marker\":{\"colorbar\":{\"outlinewidth\":0,\"ticks\":\"\"}},\"type\":\"scattergeo\"}],\"scattergl\":[{\"marker\":{\"colorbar\":{\"outlinewidth\":0,\"ticks\":\"\"}},\"type\":\"scattergl\"}],\"scattermapbox\":[{\"marker\":{\"colorbar\":{\"outlinewidth\":0,\"ticks\":\"\"}},\"type\":\"scattermapbox\"}],\"scatterpolar\":[{\"marker\":{\"colorbar\":{\"outlinewidth\":0,\"ticks\":\"\"}},\"type\":\"scatterpolar\"}],\"scatterpolargl\":[{\"marker\":{\"colorbar\":{\"outlinewidth\":0,\"ticks\":\"\"}},\"type\":\"scatterpolargl\"}],\"scatterternary\":[{\"marker\":{\"colorbar\":{\"outlinewidth\":0,\"ticks\":\"\"}},\"type\":\"scatterternary\"}],\"surface\":[{\"colorbar\":{\"outlinewidth\":0,\"ticks\":\"\"},\"colorscale\":[[0.0,\"#0d0887\"],[0.1111111111111111,\"#46039f\"],[0.2222222222222222,\"#7201a8\"],[0.3333333333333333,\"#9c179e\"],[0.4444444444444444,\"#bd3786\"],[0.5555555555555556,\"#d8576b\"],[0.6666666666666666,\"#ed7953\"],[0.7777777777777778,\"#fb9f3a\"],[0.8888888888888888,\"#fdca26\"],[1.0,\"#f0f921\"]],\"type\":\"surface\"}],\"table\":[{\"cells\":{\"fill\":{\"color\":\"#EBF0F8\"},\"line\":{\"color\":\"white\"}},\"header\":{\"fill\":{\"color\":\"#C8D4E3\"},\"line\":{\"color\":\"white\"}},\"type\":\"table\"}]},\"layout\":{\"annotationdefaults\":{\"arrowcolor\":\"#2a3f5f\",\"arrowhead\":0,\"arrowwidth\":1},\"autotypenumbers\":\"strict\",\"coloraxis\":{\"colorbar\":{\"outlinewidth\":0,\"ticks\":\"\"}},\"colorscale\":{\"diverging\":[[0,\"#8e0152\"],[0.1,\"#c51b7d\"],[0.2,\"#de77ae\"],[0.3,\"#f1b6da\"],[0.4,\"#fde0ef\"],[0.5,\"#f7f7f7\"],[0.6,\"#e6f5d0\"],[0.7,\"#b8e186\"],[0.8,\"#7fbc41\"],[0.9,\"#4d9221\"],[1,\"#276419\"]],\"sequential\":[[0.0,\"#0d0887\"],[0.1111111111111111,\"#46039f\"],[0.2222222222222222,\"#7201a8\"],[0.3333333333333333,\"#9c179e\"],[0.4444444444444444,\"#bd3786\"],[0.5555555555555556,\"#d8576b\"],[0.6666666666666666,\"#ed7953\"],[0.7777777777777778,\"#fb9f3a\"],[0.8888888888888888,\"#fdca26\"],[1.0,\"#f0f921\"]],\"sequentialminus\":[[0.0,\"#0d0887\"],[0.1111111111111111,\"#46039f\"],[0.2222222222222222,\"#7201a8\"],[0.3333333333333333,\"#9c179e\"],[0.4444444444444444,\"#bd3786\"],[0.5555555555555556,\"#d8576b\"],[0.6666666666666666,\"#ed7953\"],[0.7777777777777778,\"#fb9f3a\"],[0.8888888888888888,\"#fdca26\"],[1.0,\"#f0f921\"]]},\"colorway\":[\"#636efa\",\"#EF553B\",\"#00cc96\",\"#ab63fa\",\"#FFA15A\",\"#19d3f3\",\"#FF6692\",\"#B6E880\",\"#FF97FF\",\"#FECB52\"],\"font\":{\"color\":\"#2a3f5f\"},\"geo\":{\"bgcolor\":\"white\",\"lakecolor\":\"white\",\"landcolor\":\"#E5ECF6\",\"showlakes\":true,\"showland\":true,\"subunitcolor\":\"white\"},\"hoverlabel\":{\"align\":\"left\"},\"hovermode\":\"closest\",\"mapbox\":{\"style\":\"light\"},\"paper_bgcolor\":\"white\",\"plot_bgcolor\":\"#E5ECF6\",\"polar\":{\"angularaxis\":{\"gridcolor\":\"white\",\"linecolor\":\"white\",\"ticks\":\"\"},\"bgcolor\":\"#E5ECF6\",\"radialaxis\":{\"gridcolor\":\"white\",\"linecolor\":\"white\",\"ticks\":\"\"}},\"scene\":{\"xaxis\":{\"backgroundcolor\":\"#E5ECF6\",\"gridcolor\":\"white\",\"gridwidth\":2,\"linecolor\":\"white\",\"showbackground\":true,\"ticks\":\"\",\"zerolinecolor\":\"white\"},\"yaxis\":{\"backgroundcolor\":\"#E5ECF6\",\"gridcolor\":\"white\",\"gridwidth\":2,\"linecolor\":\"white\",\"showbackground\":true,\"ticks\":\"\",\"zerolinecolor\":\"white\"},\"zaxis\":{\"backgroundcolor\":\"#E5ECF6\",\"gridcolor\":\"white\",\"gridwidth\":2,\"linecolor\":\"white\",\"showbackground\":true,\"ticks\":\"\",\"zerolinecolor\":\"white\"}},\"shapedefaults\":{\"line\":{\"color\":\"#2a3f5f\"}},\"ternary\":{\"aaxis\":{\"gridcolor\":\"white\",\"linecolor\":\"white\",\"ticks\":\"\"},\"baxis\":{\"gridcolor\":\"white\",\"linecolor\":\"white\",\"ticks\":\"\"},\"bgcolor\":\"#E5ECF6\",\"caxis\":{\"gridcolor\":\"white\",\"linecolor\":\"white\",\"ticks\":\"\"}},\"title\":{\"x\":0.05},\"xaxis\":{\"automargin\":true,\"gridcolor\":\"white\",\"linecolor\":\"white\",\"ticks\":\"\",\"title\":{\"standoff\":15},\"zerolinecolor\":\"white\",\"zerolinewidth\":2},\"yaxis\":{\"automargin\":true,\"gridcolor\":\"white\",\"linecolor\":\"white\",\"ticks\":\"\",\"title\":{\"standoff\":15},\"zerolinecolor\":\"white\",\"zerolinewidth\":2}}},\"shapes\":[{\"line\":{\"color\":\"rgba(100, 100, 100, 0.9)\",\"width\":1.0},\"type\":\"line\",\"x0\":\"2019-08-01T00:00:00\",\"x1\":\"2019-08-01T00:00:00\",\"xref\":\"x\",\"y0\":0,\"y1\":1,\"yref\":\"paper\"}],\"annotations\":[{\"arrowhead\":0,\"ax\":-60,\"ay\":0,\"showarrow\":true,\"text\":\"Train End Date\",\"x\":\"2019-08-01T00:00:00\",\"xref\":\"x\",\"y\":0.97,\"yref\":\"paper\"}]},                        {\"responsive\": true}                    ).then(function(){\n",
       "                            \n",
       "var gd = document.getElementById('bee010b9-6fc2-45dc-b8e9-6b2f8b259d2e');\n",
       "var x = new MutationObserver(function (mutations, observer) {{\n",
       "        var display = window.getComputedStyle(gd).display;\n",
       "        if (!display || display === 'none') {{\n",
       "            console.log([gd, 'removed!']);\n",
       "            Plotly.purge(gd);\n",
       "            observer.disconnect();\n",
       "        }}\n",
       "}});\n",
       "\n",
       "// Listen for the removal of the full notebook cells\n",
       "var notebookContainer = gd.closest('#notebook-container');\n",
       "if (notebookContainer) {{\n",
       "    x.observe(notebookContainer, {childList: true});\n",
       "}}\n",
       "\n",
       "// Listen for the clearing of the current output cell\n",
       "var outputEl = gd.closest('.output');\n",
       "if (outputEl) {{\n",
       "    x.observe(outputEl, {childList: true});\n",
       "}}\n",
       "\n",
       "                        })                };                            </script>        </div>\n",
       "</body>\n",
       "</html>"
      ]
     },
     "metadata": {},
     "output_type": "display_data"
    }
   ],
   "source": [
    "fig = forecast.plot()\n",
    "plotly.io.show(fig)"
   ]
  },
  {
   "cell_type": "markdown",
   "metadata": {
    "id": "Sy3yB0yhvrhN"
   },
   "source": [
    "Components plot:\n",
    "\n"
   ]
  },
  {
   "cell_type": "code",
   "execution_count": 11,
   "metadata": {
    "colab": {
     "base_uri": "https://localhost:8080/",
     "height": 1067
    },
    "id": "Os6r0RoPvrhN",
    "outputId": "fa703829-be7c-42ce-f7f6-dc45765075fd"
   },
   "outputs": [
    {
     "data": {
      "text/html": [
       "<html>\n",
       "<head><meta charset=\"utf-8\" /></head>\n",
       "<body>\n",
       "    <div>            <script src=\"https://cdnjs.cloudflare.com/ajax/libs/mathjax/2.7.5/MathJax.js?config=TeX-AMS-MML_SVG\"></script><script type=\"text/javascript\">if (window.MathJax) {MathJax.Hub.Config({SVG: {font: \"STIX-Web\"}});}</script>                <script type=\"text/javascript\">window.PlotlyConfig = {MathJaxConfig: 'local'};</script>\n",
       "        <script src=\"https://cdn.plot.ly/plotly-2.8.3.min.js\"></script>                <div id=\"74b10ec8-d3a1-43b9-a8ec-dd07f8854e8d\" class=\"plotly-graph-div\" style=\"height:1050px; width:100%;\"></div>            <script type=\"text/javascript\">                                    window.PLOTLYENV=window.PLOTLYENV || {};                                    if (document.getElementById(\"74b10ec8-d3a1-43b9-a8ec-dd07f8854e8d\")) {                    Plotly.newPlot(                        \"74b10ec8-d3a1-43b9-a8ec-dd07f8854e8d\",                        [{\"mode\":\"lines\",\"name\":\"y\",\"opacity\":0.8,\"showlegend\":false,\"x\":[\"2010-09-01T00:00:00\",\"2010-10-01T00:00:00\",\"2010-11-01T00:00:00\",\"2010-12-01T00:00:00\",\"2011-01-01T00:00:00\",\"2011-02-01T00:00:00\",\"2011-03-01T00:00:00\",\"2011-04-01T00:00:00\",\"2011-05-01T00:00:00\",\"2011-06-01T00:00:00\",\"2011-07-01T00:00:00\",\"2011-08-01T00:00:00\",\"2011-09-01T00:00:00\",\"2011-10-01T00:00:00\",\"2011-11-01T00:00:00\",\"2011-12-01T00:00:00\",\"2012-01-01T00:00:00\",\"2012-02-01T00:00:00\",\"2012-03-01T00:00:00\",\"2012-04-01T00:00:00\",\"2012-05-01T00:00:00\",\"2012-06-01T00:00:00\",\"2012-07-01T00:00:00\",\"2012-08-01T00:00:00\",\"2012-09-01T00:00:00\",\"2012-10-01T00:00:00\",\"2012-11-01T00:00:00\",\"2012-12-01T00:00:00\",\"2013-01-01T00:00:00\",\"2013-02-01T00:00:00\",\"2013-03-01T00:00:00\",\"2013-04-01T00:00:00\",\"2013-05-01T00:00:00\",\"2013-06-01T00:00:00\",\"2013-07-01T00:00:00\",\"2013-08-01T00:00:00\",\"2013-09-01T00:00:00\",\"2013-10-01T00:00:00\",\"2013-11-01T00:00:00\",\"2013-12-01T00:00:00\",\"2014-01-01T00:00:00\",\"2014-02-01T00:00:00\",\"2014-03-01T00:00:00\",\"2014-04-01T00:00:00\",\"2014-05-01T00:00:00\",\"2014-06-01T00:00:00\",\"2014-07-01T00:00:00\",\"2014-08-01T00:00:00\",\"2014-09-01T00:00:00\",\"2014-10-01T00:00:00\",\"2014-11-01T00:00:00\",\"2014-12-01T00:00:00\",\"2015-01-01T00:00:00\",\"2015-02-01T00:00:00\",\"2015-03-01T00:00:00\",\"2015-04-01T00:00:00\",\"2015-05-01T00:00:00\",\"2015-06-01T00:00:00\",\"2015-07-01T00:00:00\",\"2015-08-01T00:00:00\",\"2015-09-01T00:00:00\",\"2015-10-01T00:00:00\",\"2015-11-01T00:00:00\",\"2015-12-01T00:00:00\",\"2016-01-01T00:00:00\",\"2016-02-01T00:00:00\",\"2016-03-01T00:00:00\",\"2016-04-01T00:00:00\",\"2016-05-01T00:00:00\",\"2016-06-01T00:00:00\",\"2016-07-01T00:00:00\",\"2016-08-01T00:00:00\",\"2016-09-01T00:00:00\",\"2016-10-01T00:00:00\",\"2016-11-01T00:00:00\",\"2016-12-01T00:00:00\",\"2017-01-01T00:00:00\",\"2017-02-01T00:00:00\",\"2017-03-01T00:00:00\",\"2017-04-01T00:00:00\",\"2017-05-01T00:00:00\",\"2017-06-01T00:00:00\",\"2017-07-01T00:00:00\",\"2017-08-01T00:00:00\",\"2017-09-01T00:00:00\",\"2017-10-01T00:00:00\",\"2017-11-01T00:00:00\",\"2017-12-01T00:00:00\",\"2018-01-01T00:00:00\",\"2018-02-01T00:00:00\",\"2018-03-01T00:00:00\",\"2018-04-01T00:00:00\",\"2018-05-01T00:00:00\",\"2018-06-01T00:00:00\",\"2018-07-01T00:00:00\",\"2018-08-01T00:00:00\",\"2018-09-01T00:00:00\",\"2018-10-01T00:00:00\",\"2018-11-01T00:00:00\",\"2018-12-01T00:00:00\",\"2019-01-01T00:00:00\",\"2019-02-01T00:00:00\",\"2019-03-01T00:00:00\",\"2019-04-01T00:00:00\",\"2019-05-01T00:00:00\",\"2019-06-01T00:00:00\",\"2019-07-01T00:00:00\",\"2019-08-01T00:00:00\"],\"y\":[4001,35949,47391,28253,37499,47538,63211,93048,133816,141709,139603,135018,125869,122105,101014,86328,95850,102254,163154,172520,193680,200620,201577,212070,216317,196874,151328,122656,124977,110090,157390,236423,250358,253876,267986,288700,282038,254591,192491,136609,112686,122672,165769,269495,306646,316641,327797,320890,323972,297921,197110,151567,127388,108058,188262,318295,367203,314276,363902,364456,328014,290339,228359,187349,123262,145646,283436,285528,288749,368043,366497,357324,344381,343295,259098,168728,174806,226305,245370,365973,339685,398684,397742,402521,391330,384901,252550,177932,168568,182362,238951,328939,374122,392256,404811,403896,325799,343026,202365,177581,150786,158105,253832,347955,337600,350221,356652,359982],\"type\":\"scatter\",\"xaxis\":\"x\",\"yaxis\":\"y\"},{\"mode\":\"lines\",\"name\":\"trend\",\"opacity\":0.8,\"showlegend\":false,\"x\":[\"2010-09-01T00:00:00\",\"2010-10-01T00:00:00\",\"2010-11-01T00:00:00\",\"2010-12-01T00:00:00\",\"2011-01-01T00:00:00\",\"2011-02-01T00:00:00\",\"2011-03-01T00:00:00\",\"2011-04-01T00:00:00\",\"2011-05-01T00:00:00\",\"2011-06-01T00:00:00\",\"2011-07-01T00:00:00\",\"2011-08-01T00:00:00\",\"2011-09-01T00:00:00\",\"2011-10-01T00:00:00\",\"2011-11-01T00:00:00\",\"2011-12-01T00:00:00\",\"2012-01-01T00:00:00\",\"2012-02-01T00:00:00\",\"2012-03-01T00:00:00\",\"2012-04-01T00:00:00\",\"2012-05-01T00:00:00\",\"2012-06-01T00:00:00\",\"2012-07-01T00:00:00\",\"2012-08-01T00:00:00\",\"2012-09-01T00:00:00\",\"2012-10-01T00:00:00\",\"2012-11-01T00:00:00\",\"2012-12-01T00:00:00\",\"2013-01-01T00:00:00\",\"2013-02-01T00:00:00\",\"2013-03-01T00:00:00\",\"2013-04-01T00:00:00\",\"2013-05-01T00:00:00\",\"2013-06-01T00:00:00\",\"2013-07-01T00:00:00\",\"2013-08-01T00:00:00\",\"2013-09-01T00:00:00\",\"2013-10-01T00:00:00\",\"2013-11-01T00:00:00\",\"2013-12-01T00:00:00\",\"2014-01-01T00:00:00\",\"2014-02-01T00:00:00\",\"2014-03-01T00:00:00\",\"2014-04-01T00:00:00\",\"2014-05-01T00:00:00\",\"2014-06-01T00:00:00\",\"2014-07-01T00:00:00\",\"2014-08-01T00:00:00\",\"2014-09-01T00:00:00\",\"2014-10-01T00:00:00\",\"2014-11-01T00:00:00\",\"2014-12-01T00:00:00\",\"2015-01-01T00:00:00\",\"2015-02-01T00:00:00\",\"2015-03-01T00:00:00\",\"2015-04-01T00:00:00\",\"2015-05-01T00:00:00\",\"2015-06-01T00:00:00\",\"2015-07-01T00:00:00\",\"2015-08-01T00:00:00\",\"2015-09-01T00:00:00\",\"2015-10-01T00:00:00\",\"2015-11-01T00:00:00\",\"2015-12-01T00:00:00\",\"2016-01-01T00:00:00\",\"2016-02-01T00:00:00\",\"2016-03-01T00:00:00\",\"2016-04-01T00:00:00\",\"2016-05-01T00:00:00\",\"2016-06-01T00:00:00\",\"2016-07-01T00:00:00\",\"2016-08-01T00:00:00\",\"2016-09-01T00:00:00\",\"2016-10-01T00:00:00\",\"2016-11-01T00:00:00\",\"2016-12-01T00:00:00\",\"2017-01-01T00:00:00\",\"2017-02-01T00:00:00\",\"2017-03-01T00:00:00\",\"2017-04-01T00:00:00\",\"2017-05-01T00:00:00\",\"2017-06-01T00:00:00\",\"2017-07-01T00:00:00\",\"2017-08-01T00:00:00\",\"2017-09-01T00:00:00\",\"2017-10-01T00:00:00\",\"2017-11-01T00:00:00\",\"2017-12-01T00:00:00\",\"2018-01-01T00:00:00\",\"2018-02-01T00:00:00\",\"2018-03-01T00:00:00\",\"2018-04-01T00:00:00\",\"2018-05-01T00:00:00\",\"2018-06-01T00:00:00\",\"2018-07-01T00:00:00\",\"2018-08-01T00:00:00\",\"2018-09-01T00:00:00\",\"2018-10-01T00:00:00\",\"2018-11-01T00:00:00\",\"2018-12-01T00:00:00\",\"2019-01-01T00:00:00\",\"2019-02-01T00:00:00\",\"2019-03-01T00:00:00\",\"2019-04-01T00:00:00\",\"2019-05-01T00:00:00\",\"2019-06-01T00:00:00\",\"2019-07-01T00:00:00\",\"2019-08-01T00:00:00\"],\"y\":[0.0,32167.97897360536,46088.04195020607,56489.10378048698,65606.06110273268,73665.9807979982,80298.2353169476,87095.84049000106,93239.94463815715,99223.14791540225,104717.12873666165,110133.57566772695,115320.82806263998,120149.56322845792,124964.29039323742,129472.1932254214,133989.3419992631,138694.72669120473,143118.41854384824,147742.27158559306,152121.66367050033,156555.8983604989,160765.0972672355,165035.62319405287,169231.08459177983,173224.18563951922,177285.2708140338,181155.91785202723,185097.56971802734,188040.1933181128,190652.24778499923,193495.9414530354,196201.9149654905,198952.79783252013,201573.08828933848,204239.38401093695,206865.4678974036,209370.15078014642,211921.9510930245,214357.61363936303,216840.86264867595,219291.24138532087,221477.2481355043,223868.36959016643,226154.22771717366,228488.20737117453,230720.6282142921,233001.20653031731,235255.95233488723,237414.1396981757,239620.40386433149,241733.09283535843,243893.73575800422,245799.61693084857,248344.02057538292,251141.08188421093,253828.47660802372,255860.6866446672,257808.92030105973,259803.55428999235,261779.82467303012,263675.2988326372,265616.77665736934,267479.4010820378,269387.747948734,271274.7050186938,273025.633684387,274882.38533168327,276664.8742348093,278492.2611341419,280246.95286645065,282046.23391815356,283831.68575943774,285546.65002960066,287305.7319687146,288995.6961335801,290729.4630487207,292455.4459428724,294003.81669197365,295706.5905928657,297343.1487037464,299022.8148019001,300637.42733100354,302294.83374341903,303941.2364862413,302497.1318841884,300994.44726893,299530.30533542077,298007.27449410263,296474.16977362335,295080.9148917176,293529.1098134269,292018.23381982575,290447.7165523015,288919.0258122934,287330.39542508335,285732.77947250364,284178.2785176504,282563.3944886591,280992.4396826999,279360.812320514,277720.86873059726,276232.5858599287,274577.1588070252,272967.5521175696,271296.5723500464,269672.13086670206,267986.0399125408],\"type\":\"scatter\",\"xaxis\":\"x2\",\"yaxis\":\"y2\"},{\"mode\":\"lines\",\"name\":\"residual\",\"opacity\":0.8,\"showlegend\":false,\"x\":[\"2010-09-01T00:00:00\",\"2010-10-01T00:00:00\",\"2010-11-01T00:00:00\",\"2010-12-01T00:00:00\",\"2011-01-01T00:00:00\",\"2011-02-01T00:00:00\",\"2011-03-01T00:00:00\",\"2011-04-01T00:00:00\",\"2011-05-01T00:00:00\",\"2011-06-01T00:00:00\",\"2011-07-01T00:00:00\",\"2011-08-01T00:00:00\",\"2011-09-01T00:00:00\",\"2011-10-01T00:00:00\",\"2011-11-01T00:00:00\",\"2011-12-01T00:00:00\",\"2012-01-01T00:00:00\",\"2012-02-01T00:00:00\",\"2012-03-01T00:00:00\",\"2012-04-01T00:00:00\",\"2012-05-01T00:00:00\",\"2012-06-01T00:00:00\",\"2012-07-01T00:00:00\",\"2012-08-01T00:00:00\",\"2012-09-01T00:00:00\",\"2012-10-01T00:00:00\",\"2012-11-01T00:00:00\",\"2012-12-01T00:00:00\",\"2013-01-01T00:00:00\",\"2013-02-01T00:00:00\",\"2013-03-01T00:00:00\",\"2013-04-01T00:00:00\",\"2013-05-01T00:00:00\",\"2013-06-01T00:00:00\",\"2013-07-01T00:00:00\",\"2013-08-01T00:00:00\",\"2013-09-01T00:00:00\",\"2013-10-01T00:00:00\",\"2013-11-01T00:00:00\",\"2013-12-01T00:00:00\",\"2014-01-01T00:00:00\",\"2014-02-01T00:00:00\",\"2014-03-01T00:00:00\",\"2014-04-01T00:00:00\",\"2014-05-01T00:00:00\",\"2014-06-01T00:00:00\",\"2014-07-01T00:00:00\",\"2014-08-01T00:00:00\",\"2014-09-01T00:00:00\",\"2014-10-01T00:00:00\",\"2014-11-01T00:00:00\",\"2014-12-01T00:00:00\",\"2015-01-01T00:00:00\",\"2015-02-01T00:00:00\",\"2015-03-01T00:00:00\",\"2015-04-01T00:00:00\",\"2015-05-01T00:00:00\",\"2015-06-01T00:00:00\",\"2015-07-01T00:00:00\",\"2015-08-01T00:00:00\",\"2015-09-01T00:00:00\",\"2015-10-01T00:00:00\",\"2015-11-01T00:00:00\",\"2015-12-01T00:00:00\",\"2016-01-01T00:00:00\",\"2016-02-01T00:00:00\",\"2016-03-01T00:00:00\",\"2016-04-01T00:00:00\",\"2016-05-01T00:00:00\",\"2016-06-01T00:00:00\",\"2016-07-01T00:00:00\",\"2016-08-01T00:00:00\",\"2016-09-01T00:00:00\",\"2016-10-01T00:00:00\",\"2016-11-01T00:00:00\",\"2016-12-01T00:00:00\",\"2017-01-01T00:00:00\",\"2017-02-01T00:00:00\",\"2017-03-01T00:00:00\",\"2017-04-01T00:00:00\",\"2017-05-01T00:00:00\",\"2017-06-01T00:00:00\",\"2017-07-01T00:00:00\",\"2017-08-01T00:00:00\",\"2017-09-01T00:00:00\",\"2017-10-01T00:00:00\",\"2017-11-01T00:00:00\",\"2017-12-01T00:00:00\",\"2018-01-01T00:00:00\",\"2018-02-01T00:00:00\",\"2018-03-01T00:00:00\",\"2018-04-01T00:00:00\",\"2018-05-01T00:00:00\",\"2018-06-01T00:00:00\",\"2018-07-01T00:00:00\",\"2018-08-01T00:00:00\",\"2018-09-01T00:00:00\",\"2018-10-01T00:00:00\",\"2018-11-01T00:00:00\",\"2018-12-01T00:00:00\",\"2019-01-01T00:00:00\",\"2019-02-01T00:00:00\",\"2019-03-01T00:00:00\",\"2019-04-01T00:00:00\",\"2019-05-01T00:00:00\",\"2019-06-01T00:00:00\",\"2019-07-01T00:00:00\",\"2019-08-01T00:00:00\"],\"y\":[-49097.65592030701,-36115.74694987167,35238.97026534258,52139.814076771385,66492.8674593378,62811.88282490219,12211.29476815075,-35648.83092377636,-18243.07081023461,-30387.56187429707,-46145.00805370908,-56310.618298594374,-42550.483982946986,-37941.331204724236,9985.721822311214,37231.72463183695,56460.58656280737,52499.13693169565,49334.11154125014,-16823.262019368354,-17260.789842577797,-28809.312319393677,-40218.97658428294,-34160.66582492029,-6012.740512086835,-16246.953615785518,7978.741401514824,21876.000005231137,34479.358844043134,10989.670304787549,-3963.7176999008807,1326.068113189307,-4663.041137567954,-17950.211791414826,-14617.967606385937,3265.5733581956592,22073.876182289387,5324.0812435872795,14505.061122524145,2627.3042178953183,-9554.934086605455,-7679.377762420496,-26409.718050405965,4025.6399760582717,21672.646110748872,15279.37866993068,16045.492468660465,6693.750838815235,35617.39174480579,20610.092325558013,-8574.391648782825,-9790.174978100054,-21905.80719593371,-48801.75330794821,-30783.490490284574,25552.927682013775,54555.39721989876,-14458.100603561965,25062.20038189285,23457.403079140233,13135.519406662963,-13233.066808903473,-3321.7644418207346,245.51677522060345,-51525.81938666344,-36688.84139579354,39708.896400711325,-30955.375765458564,-46735.0004068868,16677.32490696333,5219.167816501926,-5917.276549021015,7450.658320255228,17851.581994133012,5728.28024683398,-39891.77827632177,-21323.53448665017,22789.41768002801,-19335.286606875306,28665.41897335899,-16477.274875823874,26787.77123920509,16073.693351949041,19031.123625713517,34290.107593451685,42507.10013954528,-14508.435053381312,-41222.38747816242,-34839.345932032156,-25172.306150723045,-26831.38480661926,-6191.100247202208,23284.640008096816,28934.869488803728,34861.09487065917,35370.5619440492,-13032.435392810672,18950.953506083286,-46262.382273110445,-23035.52182544151,-33974.88375844358,-30676.005107696838,6897.94422516966,31776.850759199588,5813.321710352902,6051.01369105879,5948.989816250512,10800.917456591735],\"type\":\"scatter\",\"xaxis\":\"x3\",\"yaxis\":\"y3\"},{\"line\":{\"color\":\"#F44336\",\"dash\":\"dash\",\"width\":1.5},\"mode\":\"lines\",\"name\":\"trend change point\",\"showlegend\":true,\"x\":[\"2015-02-01T00:00:00\",\"2015-02-01T00:00:00\"],\"y\":[0.0,303941.2364862413],\"type\":\"scatter\",\"xaxis\":\"x2\",\"yaxis\":\"y2\"}],                        {\"template\":{\"data\":{\"bar\":[{\"error_x\":{\"color\":\"#2a3f5f\"},\"error_y\":{\"color\":\"#2a3f5f\"},\"marker\":{\"line\":{\"color\":\"#E5ECF6\",\"width\":0.5},\"pattern\":{\"fillmode\":\"overlay\",\"size\":10,\"solidity\":0.2}},\"type\":\"bar\"}],\"barpolar\":[{\"marker\":{\"line\":{\"color\":\"#E5ECF6\",\"width\":0.5},\"pattern\":{\"fillmode\":\"overlay\",\"size\":10,\"solidity\":0.2}},\"type\":\"barpolar\"}],\"carpet\":[{\"aaxis\":{\"endlinecolor\":\"#2a3f5f\",\"gridcolor\":\"white\",\"linecolor\":\"white\",\"minorgridcolor\":\"white\",\"startlinecolor\":\"#2a3f5f\"},\"baxis\":{\"endlinecolor\":\"#2a3f5f\",\"gridcolor\":\"white\",\"linecolor\":\"white\",\"minorgridcolor\":\"white\",\"startlinecolor\":\"#2a3f5f\"},\"type\":\"carpet\"}],\"choropleth\":[{\"colorbar\":{\"outlinewidth\":0,\"ticks\":\"\"},\"type\":\"choropleth\"}],\"contour\":[{\"colorbar\":{\"outlinewidth\":0,\"ticks\":\"\"},\"colorscale\":[[0.0,\"#0d0887\"],[0.1111111111111111,\"#46039f\"],[0.2222222222222222,\"#7201a8\"],[0.3333333333333333,\"#9c179e\"],[0.4444444444444444,\"#bd3786\"],[0.5555555555555556,\"#d8576b\"],[0.6666666666666666,\"#ed7953\"],[0.7777777777777778,\"#fb9f3a\"],[0.8888888888888888,\"#fdca26\"],[1.0,\"#f0f921\"]],\"type\":\"contour\"}],\"contourcarpet\":[{\"colorbar\":{\"outlinewidth\":0,\"ticks\":\"\"},\"type\":\"contourcarpet\"}],\"heatmap\":[{\"colorbar\":{\"outlinewidth\":0,\"ticks\":\"\"},\"colorscale\":[[0.0,\"#0d0887\"],[0.1111111111111111,\"#46039f\"],[0.2222222222222222,\"#7201a8\"],[0.3333333333333333,\"#9c179e\"],[0.4444444444444444,\"#bd3786\"],[0.5555555555555556,\"#d8576b\"],[0.6666666666666666,\"#ed7953\"],[0.7777777777777778,\"#fb9f3a\"],[0.8888888888888888,\"#fdca26\"],[1.0,\"#f0f921\"]],\"type\":\"heatmap\"}],\"heatmapgl\":[{\"colorbar\":{\"outlinewidth\":0,\"ticks\":\"\"},\"colorscale\":[[0.0,\"#0d0887\"],[0.1111111111111111,\"#46039f\"],[0.2222222222222222,\"#7201a8\"],[0.3333333333333333,\"#9c179e\"],[0.4444444444444444,\"#bd3786\"],[0.5555555555555556,\"#d8576b\"],[0.6666666666666666,\"#ed7953\"],[0.7777777777777778,\"#fb9f3a\"],[0.8888888888888888,\"#fdca26\"],[1.0,\"#f0f921\"]],\"type\":\"heatmapgl\"}],\"histogram\":[{\"marker\":{\"pattern\":{\"fillmode\":\"overlay\",\"size\":10,\"solidity\":0.2}},\"type\":\"histogram\"}],\"histogram2d\":[{\"colorbar\":{\"outlinewidth\":0,\"ticks\":\"\"},\"colorscale\":[[0.0,\"#0d0887\"],[0.1111111111111111,\"#46039f\"],[0.2222222222222222,\"#7201a8\"],[0.3333333333333333,\"#9c179e\"],[0.4444444444444444,\"#bd3786\"],[0.5555555555555556,\"#d8576b\"],[0.6666666666666666,\"#ed7953\"],[0.7777777777777778,\"#fb9f3a\"],[0.8888888888888888,\"#fdca26\"],[1.0,\"#f0f921\"]],\"type\":\"histogram2d\"}],\"histogram2dcontour\":[{\"colorbar\":{\"outlinewidth\":0,\"ticks\":\"\"},\"colorscale\":[[0.0,\"#0d0887\"],[0.1111111111111111,\"#46039f\"],[0.2222222222222222,\"#7201a8\"],[0.3333333333333333,\"#9c179e\"],[0.4444444444444444,\"#bd3786\"],[0.5555555555555556,\"#d8576b\"],[0.6666666666666666,\"#ed7953\"],[0.7777777777777778,\"#fb9f3a\"],[0.8888888888888888,\"#fdca26\"],[1.0,\"#f0f921\"]],\"type\":\"histogram2dcontour\"}],\"mesh3d\":[{\"colorbar\":{\"outlinewidth\":0,\"ticks\":\"\"},\"type\":\"mesh3d\"}],\"parcoords\":[{\"line\":{\"colorbar\":{\"outlinewidth\":0,\"ticks\":\"\"}},\"type\":\"parcoords\"}],\"pie\":[{\"automargin\":true,\"type\":\"pie\"}],\"scatter\":[{\"marker\":{\"colorbar\":{\"outlinewidth\":0,\"ticks\":\"\"}},\"type\":\"scatter\"}],\"scatter3d\":[{\"line\":{\"colorbar\":{\"outlinewidth\":0,\"ticks\":\"\"}},\"marker\":{\"colorbar\":{\"outlinewidth\":0,\"ticks\":\"\"}},\"type\":\"scatter3d\"}],\"scattercarpet\":[{\"marker\":{\"colorbar\":{\"outlinewidth\":0,\"ticks\":\"\"}},\"type\":\"scattercarpet\"}],\"scattergeo\":[{\"marker\":{\"colorbar\":{\"outlinewidth\":0,\"ticks\":\"\"}},\"type\":\"scattergeo\"}],\"scattergl\":[{\"marker\":{\"colorbar\":{\"outlinewidth\":0,\"ticks\":\"\"}},\"type\":\"scattergl\"}],\"scattermapbox\":[{\"marker\":{\"colorbar\":{\"outlinewidth\":0,\"ticks\":\"\"}},\"type\":\"scattermapbox\"}],\"scatterpolar\":[{\"marker\":{\"colorbar\":{\"outlinewidth\":0,\"ticks\":\"\"}},\"type\":\"scatterpolar\"}],\"scatterpolargl\":[{\"marker\":{\"colorbar\":{\"outlinewidth\":0,\"ticks\":\"\"}},\"type\":\"scatterpolargl\"}],\"scatterternary\":[{\"marker\":{\"colorbar\":{\"outlinewidth\":0,\"ticks\":\"\"}},\"type\":\"scatterternary\"}],\"surface\":[{\"colorbar\":{\"outlinewidth\":0,\"ticks\":\"\"},\"colorscale\":[[0.0,\"#0d0887\"],[0.1111111111111111,\"#46039f\"],[0.2222222222222222,\"#7201a8\"],[0.3333333333333333,\"#9c179e\"],[0.4444444444444444,\"#bd3786\"],[0.5555555555555556,\"#d8576b\"],[0.6666666666666666,\"#ed7953\"],[0.7777777777777778,\"#fb9f3a\"],[0.8888888888888888,\"#fdca26\"],[1.0,\"#f0f921\"]],\"type\":\"surface\"}],\"table\":[{\"cells\":{\"fill\":{\"color\":\"#EBF0F8\"},\"line\":{\"color\":\"white\"}},\"header\":{\"fill\":{\"color\":\"#C8D4E3\"},\"line\":{\"color\":\"white\"}},\"type\":\"table\"}]},\"layout\":{\"annotationdefaults\":{\"arrowcolor\":\"#2a3f5f\",\"arrowhead\":0,\"arrowwidth\":1},\"autotypenumbers\":\"strict\",\"coloraxis\":{\"colorbar\":{\"outlinewidth\":0,\"ticks\":\"\"}},\"colorscale\":{\"diverging\":[[0,\"#8e0152\"],[0.1,\"#c51b7d\"],[0.2,\"#de77ae\"],[0.3,\"#f1b6da\"],[0.4,\"#fde0ef\"],[0.5,\"#f7f7f7\"],[0.6,\"#e6f5d0\"],[0.7,\"#b8e186\"],[0.8,\"#7fbc41\"],[0.9,\"#4d9221\"],[1,\"#276419\"]],\"sequential\":[[0.0,\"#0d0887\"],[0.1111111111111111,\"#46039f\"],[0.2222222222222222,\"#7201a8\"],[0.3333333333333333,\"#9c179e\"],[0.4444444444444444,\"#bd3786\"],[0.5555555555555556,\"#d8576b\"],[0.6666666666666666,\"#ed7953\"],[0.7777777777777778,\"#fb9f3a\"],[0.8888888888888888,\"#fdca26\"],[1.0,\"#f0f921\"]],\"sequentialminus\":[[0.0,\"#0d0887\"],[0.1111111111111111,\"#46039f\"],[0.2222222222222222,\"#7201a8\"],[0.3333333333333333,\"#9c179e\"],[0.4444444444444444,\"#bd3786\"],[0.5555555555555556,\"#d8576b\"],[0.6666666666666666,\"#ed7953\"],[0.7777777777777778,\"#fb9f3a\"],[0.8888888888888888,\"#fdca26\"],[1.0,\"#f0f921\"]]},\"colorway\":[\"#636efa\",\"#EF553B\",\"#00cc96\",\"#ab63fa\",\"#FFA15A\",\"#19d3f3\",\"#FF6692\",\"#B6E880\",\"#FF97FF\",\"#FECB52\"],\"font\":{\"color\":\"#2a3f5f\"},\"geo\":{\"bgcolor\":\"white\",\"lakecolor\":\"white\",\"landcolor\":\"#E5ECF6\",\"showlakes\":true,\"showland\":true,\"subunitcolor\":\"white\"},\"hoverlabel\":{\"align\":\"left\"},\"hovermode\":\"closest\",\"mapbox\":{\"style\":\"light\"},\"paper_bgcolor\":\"white\",\"plot_bgcolor\":\"#E5ECF6\",\"polar\":{\"angularaxis\":{\"gridcolor\":\"white\",\"linecolor\":\"white\",\"ticks\":\"\"},\"bgcolor\":\"#E5ECF6\",\"radialaxis\":{\"gridcolor\":\"white\",\"linecolor\":\"white\",\"ticks\":\"\"}},\"scene\":{\"xaxis\":{\"backgroundcolor\":\"#E5ECF6\",\"gridcolor\":\"white\",\"gridwidth\":2,\"linecolor\":\"white\",\"showbackground\":true,\"ticks\":\"\",\"zerolinecolor\":\"white\"},\"yaxis\":{\"backgroundcolor\":\"#E5ECF6\",\"gridcolor\":\"white\",\"gridwidth\":2,\"linecolor\":\"white\",\"showbackground\":true,\"ticks\":\"\",\"zerolinecolor\":\"white\"},\"zaxis\":{\"backgroundcolor\":\"#E5ECF6\",\"gridcolor\":\"white\",\"gridwidth\":2,\"linecolor\":\"white\",\"showbackground\":true,\"ticks\":\"\",\"zerolinecolor\":\"white\"}},\"shapedefaults\":{\"line\":{\"color\":\"#2a3f5f\"}},\"ternary\":{\"aaxis\":{\"gridcolor\":\"white\",\"linecolor\":\"white\",\"ticks\":\"\"},\"baxis\":{\"gridcolor\":\"white\",\"linecolor\":\"white\",\"ticks\":\"\"},\"bgcolor\":\"#E5ECF6\",\"caxis\":{\"gridcolor\":\"white\",\"linecolor\":\"white\",\"ticks\":\"\"}},\"title\":{\"x\":0.05},\"xaxis\":{\"automargin\":true,\"gridcolor\":\"white\",\"linecolor\":\"white\",\"ticks\":\"\",\"title\":{\"standoff\":15},\"zerolinecolor\":\"white\",\"zerolinewidth\":2},\"yaxis\":{\"automargin\":true,\"gridcolor\":\"white\",\"linecolor\":\"white\",\"ticks\":\"\",\"title\":{\"standoff\":15},\"zerolinecolor\":\"white\",\"zerolinewidth\":2}}},\"xaxis\":{\"anchor\":\"y\",\"domain\":[0.0,1.0],\"title\":{\"text\":\"ts\"},\"showline\":true,\"mirror\":true},\"yaxis\":{\"anchor\":\"x\",\"domain\":[0.7444444444444445,1.0],\"title\":{\"text\":\"y\"},\"showline\":true,\"mirror\":true},\"xaxis2\":{\"anchor\":\"y2\",\"domain\":[0.0,1.0],\"title\":{\"text\":\"ts\"},\"showline\":true,\"mirror\":true},\"yaxis2\":{\"anchor\":\"x2\",\"domain\":[0.37222222222222223,0.6277777777777778],\"title\":{\"text\":\"trend\"},\"showline\":true,\"mirror\":true},\"xaxis3\":{\"anchor\":\"y3\",\"domain\":[0.0,1.0],\"title\":{\"text\":\"ts\"},\"showline\":true,\"mirror\":true},\"yaxis3\":{\"anchor\":\"x3\",\"domain\":[0.0,0.2555555555555556],\"title\":{\"text\":\"residual\"},\"showline\":true,\"mirror\":true},\"title\":{\"text\":\"Component plots\",\"x\":0.5},\"showlegend\":true,\"height\":1050},                        {\"responsive\": true}                    ).then(function(){\n",
       "                            \n",
       "var gd = document.getElementById('74b10ec8-d3a1-43b9-a8ec-dd07f8854e8d');\n",
       "var x = new MutationObserver(function (mutations, observer) {{\n",
       "        var display = window.getComputedStyle(gd).display;\n",
       "        if (!display || display === 'none') {{\n",
       "            console.log([gd, 'removed!']);\n",
       "            Plotly.purge(gd);\n",
       "            observer.disconnect();\n",
       "        }}\n",
       "}});\n",
       "\n",
       "// Listen for the removal of the full notebook cells\n",
       "var notebookContainer = gd.closest('#notebook-container');\n",
       "if (notebookContainer) {{\n",
       "    x.observe(notebookContainer, {childList: true});\n",
       "}}\n",
       "\n",
       "// Listen for the clearing of the current output cell\n",
       "var outputEl = gd.closest('.output');\n",
       "if (outputEl) {{\n",
       "    x.observe(outputEl, {childList: true});\n",
       "}}\n",
       "\n",
       "                        })                };                            </script>        </div>\n",
       "</body>\n",
       "</html>"
      ]
     },
     "metadata": {},
     "output_type": "display_data"
    }
   ],
   "source": [
    "fig = forecast.plot_components()\n",
    "plotly.io.show(fig)"
   ]
  },
  {
   "cell_type": "markdown",
   "metadata": {
    "id": "Vg-0MGymvrhO"
   },
   "source": [
    "\n",
    "\n",
    "Ajuste un modelo simple con autorregresión.\n",
    "\n",
    "Esto se hace especificando el parámetro ``autoregression`` en ``ModelComponentsParam``.\n",
    "\n",
    "La estructura autorregresiva se puede personalizar aún más según sus datos."
   ]
  },
  {
   "cell_type": "code",
   "execution_count": 12,
   "metadata": {
    "colab": {
     "base_uri": "https://localhost:8080/",
     "height": 0
    },
    "id": "GoRYcpcpvrhO",
    "outputId": "17b74e50-9d9f-4799-b5de-5acd9c631967"
   },
   "outputs": [
    {
     "name": "stdout",
     "output_type": "stream",
     "text": [
      "Fitting 5 folds for each of 1 candidates, totalling 5 fits\n"
     ]
    },
    {
     "name": "stderr",
     "output_type": "stream",
     "text": [
      "/usr/local/lib/python3.8/dist-packages/greykite/algo/forecast/silverkite/forecast_silverkite.py:2546: UserWarning:\n",
      "\n",
      "``fut_df`` does not have regular time increments\n",
      "\n",
      "/usr/local/lib/python3.8/dist-packages/greykite/algo/forecast/silverkite/forecast_silverkite.py:2546: UserWarning:\n",
      "\n",
      "``fut_df`` does not have regular time increments\n",
      "\n",
      "/usr/local/lib/python3.8/dist-packages/greykite/algo/forecast/silverkite/forecast_silverkite.py:2546: UserWarning:\n",
      "\n",
      "``fut_df`` does not have regular time increments\n",
      "\n",
      "/usr/local/lib/python3.8/dist-packages/greykite/algo/forecast/silverkite/forecast_silverkite.py:2546: UserWarning:\n",
      "\n",
      "``fut_df`` does not have regular time increments\n",
      "\n",
      "/usr/local/lib/python3.8/dist-packages/greykite/algo/forecast/silverkite/forecast_silverkite.py:2546: UserWarning:\n",
      "\n",
      "``fut_df`` does not have regular time increments\n",
      "\n",
      "/usr/local/lib/python3.8/dist-packages/greykite/algo/forecast/silverkite/forecast_silverkite.py:2546: UserWarning:\n",
      "\n",
      "``fut_df`` does not have regular time increments\n",
      "\n",
      "/usr/local/lib/python3.8/dist-packages/greykite/algo/forecast/silverkite/forecast_silverkite.py:2546: UserWarning:\n",
      "\n",
      "``fut_df`` does not have regular time increments\n",
      "\n",
      "/usr/local/lib/python3.8/dist-packages/greykite/algo/forecast/silverkite/forecast_silverkite.py:2546: UserWarning:\n",
      "\n",
      "``fut_df`` does not have regular time increments\n",
      "\n",
      "/usr/local/lib/python3.8/dist-packages/greykite/algo/forecast/silverkite/forecast_silverkite.py:2546: UserWarning:\n",
      "\n",
      "``fut_df`` does not have regular time increments\n",
      "\n",
      "/usr/local/lib/python3.8/dist-packages/greykite/algo/forecast/silverkite/forecast_silverkite.py:2546: UserWarning:\n",
      "\n",
      "``fut_df`` does not have regular time increments\n",
      "\n",
      "/usr/local/lib/python3.8/dist-packages/greykite/algo/forecast/silverkite/forecast_silverkite.py:2546: UserWarning:\n",
      "\n",
      "``fut_df`` does not have regular time increments\n",
      "\n",
      "/usr/local/lib/python3.8/dist-packages/greykite/algo/forecast/silverkite/forecast_silverkite.py:2546: UserWarning:\n",
      "\n",
      "``fut_df`` does not have regular time increments\n",
      "\n"
     ]
    },
    {
     "name": "stdout",
     "output_type": "stream",
     "text": [
      "================================ Model Summary =================================\n",
      "\n",
      "Number of observations: 108,   Number of features: 22\n",
      "Method: Ridge regression\n",
      "Number of nonzero features: 22\n",
      "Regularization parameter: 0.0621\n",
      "\n",
      "Residuals:\n",
      "         Min           1Q       Median           3Q          Max\n",
      "  -5.655e+04   -1.618e+04      -1849.0    1.957e+04    6.007e+04\n",
      "\n",
      "           Pred_col   Estimate  Std. Err Pr(>)_boot sig. code                   95%CI\n",
      "          Intercept -2.605e+04 1.811e+04      0.144              (-6.090e+04, 7932.0)\n",
      "C(month,... 13)))_2  1.142e+04 1.267e+04      0.338           (-1.641e+04, 3.339e+04)\n",
      "C(month,... 13)))_3  6.686e+04 1.359e+04     <2e-16       ***  (3.817e+04, 9.118e+04)\n",
      "C(month,... 13)))_4  1.060e+05 1.651e+04     <2e-16       ***  (7.070e+04, 1.350e+05)\n",
      "C(month,... 13)))_5  8.563e+04 1.554e+04     <2e-16       ***  (5.623e+04, 1.147e+05)\n",
      "C(month,... 13)))_6  9.056e+04 1.750e+04     <2e-16       ***  (5.430e+04, 1.244e+05)\n",
      "C(month,... 13)))_7  9.126e+04 1.717e+04     <2e-16       ***  (5.813e+04, 1.258e+05)\n",
      "C(month,... 13)))_8  8.720e+04 1.711e+04     <2e-16       ***  (5.492e+04, 1.220e+05)\n",
      "C(month,... 13)))_9  6.215e+04 1.644e+04      0.002        **  (3.186e+04, 9.692e+04)\n",
      "C(month,...13)))_10  6.108e+04 1.479e+04     <2e-16       ***  (3.210e+04, 9.184e+04)\n",
      "C(month,...13)))_11    -6119.0 1.729e+04      0.744           (-4.064e+04, 2.736e+04)\n",
      "C(month,...13)))_12 -1.324e+04 1.401e+04      0.310           (-4.344e+04, 1.347e+04)\n",
      "            ct_sqrt  9.290e+04 3.947e+04      0.014         *     (9271.0, 1.707e+05)\n",
      "                ct1  4.863e+04 2.397e+04      0.038         *     (3407.0, 9.358e+04)\n",
      "  cp0_2011_12_31_00  2.021e+04 2.494e+04      0.436           (-2.571e+04, 7.118e+04)\n",
      "  cp1_2012_01_30_00  1.920e+04 2.282e+04      0.408           (-2.448e+04, 6.508e+04)\n",
      "  cp2_2012_12_31_00 -3.002e+04 3.287e+04      0.350           (-9.435e+04, 3.425e+04)\n",
      "  cp3_2014_12_30_00     -945.8 1.755e+04      0.942           (-3.871e+04, 3.158e+04)\n",
      "  cp4_2015_02_01_00     1769.0 1.311e+04      0.874           (-2.735e+04, 2.672e+04)\n",
      "  cp5_2015_04_29_00 -1.569e+04 3.116e+04      0.610           (-7.207e+04, 5.105e+04)\n",
      "  cp6_2017_08_31_00 -3.195e+04 2.015e+04      0.116              (-6.970e+04, 8243.0)\n",
      "             y_lag1  2.133e+05 2.971e+04     <2e-16       ***  (1.554e+05, 2.719e+05)\n",
      "Signif. Code: 0 '***' 0.001 '**' 0.01 '*' 0.05 '.' 0.1 ' ' 1\n",
      "\n",
      "Multiple R-squared: 0.9451,   Adjusted R-squared: 0.9355\n",
      "F-statistic: 97.446 on 15 and 91 DF,   p-value: 1.110e-16\n",
      "Model AIC: 2724.5,   model BIC: 2769.8\n",
      "\n",
      "WARNING: the condition number is large, 5.60e+03. This might indicate that there are strong multicollinearity or other numerical problems.\n",
      "WARNING: the F-ratio and its p-value on regularized methods might be misleading, they are provided only for reference purposes.\n",
      "\n",
      "                                                    0\n",
      "rank_test_MAPE                                      1\n",
      "mean_test_MAPE                                   15.1\n",
      "split_test_MAPE    (18.72, 10.19, 6.47, 23.27, 16.85)\n",
      "mean_train_MAPE                                 22.43\n",
      "split_train_MAPE  (23.53, 22.22, 22.94, 22.04, 21.44)\n",
      "mean_fit_time                                    1.61\n",
      "mean_score_time                                  2.13\n",
      "params                                             []\n",
      "                                                              train  \\\n",
      "CORR                                                       0.970891   \n",
      "R2                                                         0.942621   \n",
      "MSE                                                 630447348.36414   \n",
      "RMSE                                                   25108.710607   \n",
      "MAE                                                    20696.988688   \n",
      "MedAE                                                  18654.125854   \n",
      "MAPE                                                      20.976826   \n",
      "MedAPE                                                      8.37506   \n",
      "sMAPE                                                      8.810362   \n",
      "Q80                                                    10348.494344   \n",
      "Q95                                                    10348.494344   \n",
      "Q99                                                    10348.494344   \n",
      "OutsideTolerance1p                                         0.932692   \n",
      "OutsideTolerance2p                                            0.875   \n",
      "OutsideTolerance3p                                         0.788462   \n",
      "OutsideTolerance4p                                             0.75   \n",
      "OutsideTolerance5p                                         0.673077   \n",
      "Outside Tolerance (fraction)                                   None   \n",
      "R2_null_model_score                                            None   \n",
      "Prediction Band Width (%)                                 83.844321   \n",
      "Prediction Band Coverage (fraction)                        0.951923   \n",
      "Coverage: Lower Band                                       0.490385   \n",
      "Coverage: Upper Band                                       0.461538   \n",
      "Coverage Diff: Actual_Coverage - Intended_Coverage         0.001923   \n",
      "\n",
      "                                                                test  \n",
      "CORR                                                       -0.957638  \n",
      "R2                                                         -0.996541  \n",
      "MSE                                                 146115076.378113  \n",
      "RMSE                                                     12087.80693  \n",
      "MAE                                                       8885.83096  \n",
      "MedAE                                                    5688.929046  \n",
      "MAPE                                                        2.587784  \n",
      "MedAPE                                                       1.60874  \n",
      "sMAPE                                                       1.264923  \n",
      "Q80                                                      2614.213122  \n",
      "Q95                                                      1699.861943  \n",
      "Q99                                                      1456.034962  \n",
      "OutsideTolerance1p                                              0.75  \n",
      "OutsideTolerance2p                                               0.5  \n",
      "OutsideTolerance3p                                              0.25  \n",
      "OutsideTolerance4p                                              0.25  \n",
      "OutsideTolerance5p                                              0.25  \n",
      "Outside Tolerance (fraction)                                    None  \n",
      "R2_null_model_score                                             None  \n",
      "Prediction Band Width (%)                                  18.986862  \n",
      "Prediction Band Coverage (fraction)                             0.75  \n",
      "Coverage: Lower Band                                            0.25  \n",
      "Coverage: Upper Band                                             0.5  \n",
      "Coverage Diff: Actual_Coverage - Intended_Coverage              -0.2  \n"
     ]
    }
   ],
   "source": [
    "extra_pred_cols = [\"ct_sqrt\", \"ct1\", \"C(month, levels=list(range(1, 13)))\"]\n",
    "autoregression = {\n",
    "    \"autoreg_dict\": {\n",
    "        \"lag_dict\": {\"orders\": [1]},\n",
    "        \"agg_lag_dict\": None\n",
    "    }\n",
    "}\n",
    "\n",
    "# Specify the model parameters\n",
    "model_components = ModelComponentsParam(\n",
    "    growth=dict(growth_term=None),\n",
    "    seasonality=dict(\n",
    "        yearly_seasonality=[False],\n",
    "        quarterly_seasonality=[False],\n",
    "        monthly_seasonality=[False],\n",
    "        weekly_seasonality=[False],\n",
    "        daily_seasonality=[False]\n",
    "    ),\n",
    "    custom=dict(\n",
    "        fit_algorithm_dict=dict(fit_algorithm=\"ridge\"),\n",
    "        extra_pred_cols=extra_pred_cols\n",
    "    ),\n",
    "    regressors=dict(regressor_cols=None),\n",
    "    autoregression=autoregression,\n",
    "    uncertainty=dict(uncertainty_dict=None),\n",
    "    events=dict(holiday_lookup_countries=None),\n",
    ")\n",
    "\n",
    "# Run the forecast model\n",
    "forecaster = Forecaster()\n",
    "result = forecaster.run_forecast_config(\n",
    "    df=df,\n",
    "    config=ForecastConfig(\n",
    "        model_template=ModelTemplateEnum.SILVERKITE.name,\n",
    "        coverage=0.95,\n",
    "        forecast_horizon=forecast_horizon,\n",
    "        metadata_param=meta_data_params,\n",
    "        evaluation_period_param=evaluation_period_param,\n",
    "        model_components_param=model_components\n",
    "    )\n",
    ")\n",
    "\n",
    "# Get the useful fields from the forecast result\n",
    "model = result.model[-1]\n",
    "backtest = result.backtest\n",
    "forecast = result.forecast\n",
    "grid_search = result.grid_search\n",
    "\n",
    "# Check model coefficients / variables\n",
    "# Get model summary with p-values\n",
    "print(model.summary())\n",
    "\n",
    "# Get cross-validation results\n",
    "cv_results = summarize_grid_search_results(\n",
    "    grid_search=grid_search,\n",
    "    decimals=2,\n",
    "    cv_report_metrics=None,\n",
    "    column_order=[\n",
    "        \"rank\", \"mean_test\", \"split_test\", \"mean_train\", \"split_train\",\n",
    "        \"mean_fit_time\", \"mean_score_time\", \"params\"])\n",
    "# Transposes to save space in the printed output\n",
    "print(cv_results.transpose())\n",
    "\n",
    "# Check historical evaluation metrics (on the historical training/test set).\n",
    "backtest_eval = defaultdict(list)\n",
    "for metric, value in backtest.train_evaluation.items():\n",
    "    backtest_eval[metric].append(value)\n",
    "    backtest_eval[metric].append(backtest.test_evaluation[metric])\n",
    "metrics = pd.DataFrame(backtest_eval, index=[\"train\", \"test\"]).T\n",
    "print(metrics)"
   ]
  },
  {
   "cell_type": "markdown",
   "metadata": {
    "id": "X3bdF3cqvrhO"
   },
   "source": [
    "Fit/backtest plot:\n",
    "\n"
   ]
  },
  {
   "cell_type": "code",
   "execution_count": 13,
   "metadata": {
    "colab": {
     "base_uri": "https://localhost:8080/",
     "height": 542
    },
    "id": "XLSSLKUyvrhO",
    "outputId": "fc3ffb9a-46a4-4cb6-bceb-72c0d49cae98"
   },
   "outputs": [
    {
     "data": {
      "text/html": [
       "<html>\n",
       "<head><meta charset=\"utf-8\" /></head>\n",
       "<body>\n",
       "    <div>            <script src=\"https://cdnjs.cloudflare.com/ajax/libs/mathjax/2.7.5/MathJax.js?config=TeX-AMS-MML_SVG\"></script><script type=\"text/javascript\">if (window.MathJax) {MathJax.Hub.Config({SVG: {font: \"STIX-Web\"}});}</script>                <script type=\"text/javascript\">window.PlotlyConfig = {MathJaxConfig: 'local'};</script>\n",
       "        <script src=\"https://cdn.plot.ly/plotly-2.8.3.min.js\"></script>                <div id=\"a25ffc2e-5489-4bc7-ac61-47aa2a1fda34\" class=\"plotly-graph-div\" style=\"height:525px; width:100%;\"></div>            <script type=\"text/javascript\">                                    window.PLOTLYENV=window.PLOTLYENV || {};                                    if (document.getElementById(\"a25ffc2e-5489-4bc7-ac61-47aa2a1fda34\")) {                    Plotly.newPlot(                        \"a25ffc2e-5489-4bc7-ac61-47aa2a1fda34\",                        [{\"legendgroup\":\"interval\",\"line\":{\"color\":\"rgba(0, 90, 181, 0.5)\",\"width\":0.0},\"mode\":\"lines\",\"name\":\"Lower Bound\",\"x\":[\"2010-09-01T00:00:00\",\"2010-10-01T00:00:00\",\"2010-11-01T00:00:00\",\"2010-12-01T00:00:00\",\"2011-01-01T00:00:00\",\"2011-02-01T00:00:00\",\"2011-03-01T00:00:00\",\"2011-04-01T00:00:00\",\"2011-05-01T00:00:00\",\"2011-06-01T00:00:00\",\"2011-07-01T00:00:00\",\"2011-08-01T00:00:00\",\"2011-09-01T00:00:00\",\"2011-10-01T00:00:00\",\"2011-11-01T00:00:00\",\"2011-12-01T00:00:00\",\"2012-01-01T00:00:00\",\"2012-02-01T00:00:00\",\"2012-03-01T00:00:00\",\"2012-04-01T00:00:00\",\"2012-05-01T00:00:00\",\"2012-06-01T00:00:00\",\"2012-07-01T00:00:00\",\"2012-08-01T00:00:00\",\"2012-09-01T00:00:00\",\"2012-10-01T00:00:00\",\"2012-11-01T00:00:00\",\"2012-12-01T00:00:00\",\"2013-01-01T00:00:00\",\"2013-02-01T00:00:00\",\"2013-03-01T00:00:00\",\"2013-04-01T00:00:00\",\"2013-05-01T00:00:00\",\"2013-06-01T00:00:00\",\"2013-07-01T00:00:00\",\"2013-08-01T00:00:00\",\"2013-09-01T00:00:00\",\"2013-10-01T00:00:00\",\"2013-11-01T00:00:00\",\"2013-12-01T00:00:00\",\"2014-01-01T00:00:00\",\"2014-02-01T00:00:00\",\"2014-03-01T00:00:00\",\"2014-04-01T00:00:00\",\"2014-05-01T00:00:00\",\"2014-06-01T00:00:00\",\"2014-07-01T00:00:00\",\"2014-08-01T00:00:00\",\"2014-09-01T00:00:00\",\"2014-10-01T00:00:00\",\"2014-11-01T00:00:00\",\"2014-12-01T00:00:00\",\"2015-01-01T00:00:00\",\"2015-02-01T00:00:00\",\"2015-03-01T00:00:00\",\"2015-04-01T00:00:00\",\"2015-05-01T00:00:00\",\"2015-06-01T00:00:00\",\"2015-07-01T00:00:00\",\"2015-08-01T00:00:00\",\"2015-09-01T00:00:00\",\"2015-10-01T00:00:00\",\"2015-11-01T00:00:00\",\"2015-12-01T00:00:00\",\"2016-01-01T00:00:00\",\"2016-02-01T00:00:00\",\"2016-03-01T00:00:00\",\"2016-04-01T00:00:00\",\"2016-05-01T00:00:00\",\"2016-06-01T00:00:00\",\"2016-07-01T00:00:00\",\"2016-08-01T00:00:00\",\"2016-09-01T00:00:00\",\"2016-10-01T00:00:00\",\"2016-11-01T00:00:00\",\"2016-12-01T00:00:00\",\"2017-01-01T00:00:00\",\"2017-02-01T00:00:00\",\"2017-03-01T00:00:00\",\"2017-04-01T00:00:00\",\"2017-05-01T00:00:00\",\"2017-06-01T00:00:00\",\"2017-07-01T00:00:00\",\"2017-08-01T00:00:00\",\"2017-09-01T00:00:00\",\"2017-10-01T00:00:00\",\"2017-11-01T00:00:00\",\"2017-12-01T00:00:00\",\"2018-01-01T00:00:00\",\"2018-02-01T00:00:00\",\"2018-03-01T00:00:00\",\"2018-04-01T00:00:00\",\"2018-05-01T00:00:00\",\"2018-06-01T00:00:00\",\"2018-07-01T00:00:00\",\"2018-08-01T00:00:00\",\"2018-09-01T00:00:00\",\"2018-10-01T00:00:00\",\"2018-11-01T00:00:00\",\"2018-12-01T00:00:00\",\"2019-01-01T00:00:00\",\"2019-02-01T00:00:00\",\"2019-03-01T00:00:00\",\"2019-04-01T00:00:00\",\"2019-05-01T00:00:00\",\"2019-06-01T00:00:00\",\"2019-07-01T00:00:00\",\"2019-08-01T00:00:00\"],\"y\":[-14406.249203708081,-5700.427214427589,-51903.4151101984,-50031.8717747232,-46332.69945435094,-25023.97257710145,38244.90254794588,88513.06427249557,87713.9171648169,114642.2209191504,121603.04195360024,117847.64627691775,93187.53284190435,88914.9387168583,21201.00395192494,4193.643088588113,8861.871760306676,29457.63343119138,90522.45806679016,164321.5037800505,152592.39751872738,169121.58398866796,175566.25647495702,173461.72317204622,156820.86610440057,159716.78202185713,83908.69764799505,54211.65783773773,51729.80234423399,67949.48116613892,116976.65059783022,182789.4789445237,206931.2592229315,218857.7016880776,222738.61511855613,226777.99464791972,214748.62179135677,211171.08191662192,130402.31951816202,91277.34669790883,73743.69217674542,76006.62026120647,137994.8875226282,201460.9224095785,238470.85494495142,262489.2023941767,269662.5259537575,272032.30797670915,245357.7041679861,246804.04526141222,166666.68126231933,107075.29393169438,94885.74700587263,97145.44843028113,143828.81401731723,226957.8723649815,277945.97499865683,307881.3013666544,281686.0949158533,304034.1269400989,281022.87657507724,261419.2721411512,174906.7048264652,135500.03317492863,125440.9258317634,106220.83252437616,174448.7065764791,287402.98037077294,270607.7454251282,276440.4111917875,319762.2223276231,315124.1809682643,286936.82578356884,279643.94400735473,212329.55179198642,161179.90587382604,125094.41403025333,142748.2199389767,226228.33102552808,276663.510940922,322186.60770582646,312448.0572327815,345049.3746460537,340687.50908073253,319800.97334720864,311927.40088156954,240249.57624418248,162259.8767987505,132912.7553741768,140889.0583510922,203127.532585952,271757.5916611768,299671.0658300855,325991.82781635254,335591.1430151496,336783.5519974796,311353.4709647077,268240.5818556245,208977.18479955566,126582.81523443104,123426.22227382858,122198.32094205756,181001.23261871826,270195.0045424733,342279.2619453167,328554.0870091086,315731.73076451133,331756.3540293918],\"type\":\"scatter\"},{\"fill\":\"tonexty\",\"fillcolor\":\"rgba(0, 90, 181, 0.15)\",\"legendgroup\":\"interval\",\"line\":{\"color\":\"rgba(0, 90, 181, 0.5)\",\"width\":0.0},\"mode\":\"lines\",\"name\":\"Upper Bound\",\"x\":[\"2010-09-01T00:00:00\",\"2010-10-01T00:00:00\",\"2010-11-01T00:00:00\",\"2010-12-01T00:00:00\",\"2011-01-01T00:00:00\",\"2011-02-01T00:00:00\",\"2011-03-01T00:00:00\",\"2011-04-01T00:00:00\",\"2011-05-01T00:00:00\",\"2011-06-01T00:00:00\",\"2011-07-01T00:00:00\",\"2011-08-01T00:00:00\",\"2011-09-01T00:00:00\",\"2011-10-01T00:00:00\",\"2011-11-01T00:00:00\",\"2011-12-01T00:00:00\",\"2012-01-01T00:00:00\",\"2012-02-01T00:00:00\",\"2012-03-01T00:00:00\",\"2012-04-01T00:00:00\",\"2012-05-01T00:00:00\",\"2012-06-01T00:00:00\",\"2012-07-01T00:00:00\",\"2012-08-01T00:00:00\",\"2012-09-01T00:00:00\",\"2012-10-01T00:00:00\",\"2012-11-01T00:00:00\",\"2012-12-01T00:00:00\",\"2013-01-01T00:00:00\",\"2013-02-01T00:00:00\",\"2013-03-01T00:00:00\",\"2013-04-01T00:00:00\",\"2013-05-01T00:00:00\",\"2013-06-01T00:00:00\",\"2013-07-01T00:00:00\",\"2013-08-01T00:00:00\",\"2013-09-01T00:00:00\",\"2013-10-01T00:00:00\",\"2013-11-01T00:00:00\",\"2013-12-01T00:00:00\",\"2014-01-01T00:00:00\",\"2014-02-01T00:00:00\",\"2014-03-01T00:00:00\",\"2014-04-01T00:00:00\",\"2014-05-01T00:00:00\",\"2014-06-01T00:00:00\",\"2014-07-01T00:00:00\",\"2014-08-01T00:00:00\",\"2014-09-01T00:00:00\",\"2014-10-01T00:00:00\",\"2014-11-01T00:00:00\",\"2014-12-01T00:00:00\",\"2015-01-01T00:00:00\",\"2015-02-01T00:00:00\",\"2015-03-01T00:00:00\",\"2015-04-01T00:00:00\",\"2015-05-01T00:00:00\",\"2015-06-01T00:00:00\",\"2015-07-01T00:00:00\",\"2015-08-01T00:00:00\",\"2015-09-01T00:00:00\",\"2015-10-01T00:00:00\",\"2015-11-01T00:00:00\",\"2015-12-01T00:00:00\",\"2016-01-01T00:00:00\",\"2016-02-01T00:00:00\",\"2016-03-01T00:00:00\",\"2016-04-01T00:00:00\",\"2016-05-01T00:00:00\",\"2016-06-01T00:00:00\",\"2016-07-01T00:00:00\",\"2016-08-01T00:00:00\",\"2016-09-01T00:00:00\",\"2016-10-01T00:00:00\",\"2016-11-01T00:00:00\",\"2016-12-01T00:00:00\",\"2017-01-01T00:00:00\",\"2017-02-01T00:00:00\",\"2017-03-01T00:00:00\",\"2017-04-01T00:00:00\",\"2017-05-01T00:00:00\",\"2017-06-01T00:00:00\",\"2017-07-01T00:00:00\",\"2017-08-01T00:00:00\",\"2017-09-01T00:00:00\",\"2017-10-01T00:00:00\",\"2017-11-01T00:00:00\",\"2017-12-01T00:00:00\",\"2018-01-01T00:00:00\",\"2018-02-01T00:00:00\",\"2018-03-01T00:00:00\",\"2018-04-01T00:00:00\",\"2018-05-01T00:00:00\",\"2018-06-01T00:00:00\",\"2018-07-01T00:00:00\",\"2018-08-01T00:00:00\",\"2018-09-01T00:00:00\",\"2018-10-01T00:00:00\",\"2018-11-01T00:00:00\",\"2018-12-01T00:00:00\",\"2019-01-01T00:00:00\",\"2019-02-01T00:00:00\",\"2019-03-01T00:00:00\",\"2019-04-01T00:00:00\",\"2019-05-01T00:00:00\",\"2019-06-01T00:00:00\",\"2019-07-01T00:00:00\",\"2019-08-01T00:00:00\"],\"y\":[84494.72173306561,93200.5437223461,46997.55582657529,48869.099162050494,52568.27148242275,73876.99835967224,137145.87348471957,187414.03520926926,186614.8881015906,213543.1918559241,220504.01289037394,216748.61721369144,192088.50377867804,187815.909653632,120101.97488869863,103094.6140253618,107762.84269708037,128358.60436796508,189423.42900356386,263222.4747168242,251493.36845550107,268022.5549254416,274467.2274117307,272362.69410881994,255721.83704117427,258617.75295863082,182809.66858476875,153112.62877451142,150630.77328100769,166850.45210291262,215877.6215346039,281690.4498812974,305832.23015970516,317758.6726248513,321639.5860553298,325678.9655846934,313649.59272813046,310072.0528533956,229303.29045493572,190178.31763468252,172644.6631135191,174907.59119798016,236895.8584594019,300361.89334635215,337371.8258817251,361390.1733309504,368563.4968905312,370933.27891348285,344258.6751047598,345705.0161981859,265567.652199093,205976.26486846808,193786.71794264633,196046.41936705483,242729.78495409092,325858.8433017552,376846.9459354305,406782.2723034281,380587.065852627,402935.0978768726,379923.84751185094,360320.2430779249,273807.6757632389,234401.00411170232,224341.8967685371,205121.80346114986,273349.6775132528,386303.95130754664,369508.7163619019,375341.3821285612,418663.1932643968,414025.151905038,385837.79672034254,378544.9149441284,311230.52272876014,260080.87681059973,223995.38496702703,241649.19087575038,325129.3019623018,375564.4818776957,421087.57864260016,411349.0281695552,443950.3455828274,439588.4800175062,418701.94428398233,410828.37181834324,339150.5471809562,261160.8477355242,231813.7263109505,239790.02928786588,302028.50352272566,370658.5625979505,398572.0367668592,424892.79875312623,434492.11395192327,435684.52293425327,410254.4419014814,367141.5527923982,307878.1557363294,225483.78617120473,222327.19321060227,221099.29187883125,279902.203555492,369095.975479247,398883.0530501134,394317.1828946025,398069.26281775656,394094.73591169645],\"type\":\"scatter\"},{\"line\":{\"color\":\"rgba(250, 43, 20, 0.7)\"},\"marker\":{\"color\":\"rgba(250, 43, 20, 0.7)\",\"size\":2.0},\"mode\":\"lines+markers\",\"name\":\"Actual\",\"opacity\":1.0,\"x\":[\"2010-09-01T00:00:00\",\"2010-10-01T00:00:00\",\"2010-11-01T00:00:00\",\"2010-12-01T00:00:00\",\"2011-01-01T00:00:00\",\"2011-02-01T00:00:00\",\"2011-03-01T00:00:00\",\"2011-04-01T00:00:00\",\"2011-05-01T00:00:00\",\"2011-06-01T00:00:00\",\"2011-07-01T00:00:00\",\"2011-08-01T00:00:00\",\"2011-09-01T00:00:00\",\"2011-10-01T00:00:00\",\"2011-11-01T00:00:00\",\"2011-12-01T00:00:00\",\"2012-01-01T00:00:00\",\"2012-02-01T00:00:00\",\"2012-03-01T00:00:00\",\"2012-04-01T00:00:00\",\"2012-05-01T00:00:00\",\"2012-06-01T00:00:00\",\"2012-07-01T00:00:00\",\"2012-08-01T00:00:00\",\"2012-09-01T00:00:00\",\"2012-10-01T00:00:00\",\"2012-11-01T00:00:00\",\"2012-12-01T00:00:00\",\"2013-01-01T00:00:00\",\"2013-02-01T00:00:00\",\"2013-03-01T00:00:00\",\"2013-04-01T00:00:00\",\"2013-05-01T00:00:00\",\"2013-06-01T00:00:00\",\"2013-07-01T00:00:00\",\"2013-08-01T00:00:00\",\"2013-09-01T00:00:00\",\"2013-10-01T00:00:00\",\"2013-11-01T00:00:00\",\"2013-12-01T00:00:00\",\"2014-01-01T00:00:00\",\"2014-02-01T00:00:00\",\"2014-03-01T00:00:00\",\"2014-04-01T00:00:00\",\"2014-05-01T00:00:00\",\"2014-06-01T00:00:00\",\"2014-07-01T00:00:00\",\"2014-08-01T00:00:00\",\"2014-09-01T00:00:00\",\"2014-10-01T00:00:00\",\"2014-11-01T00:00:00\",\"2014-12-01T00:00:00\",\"2015-01-01T00:00:00\",\"2015-02-01T00:00:00\",\"2015-03-01T00:00:00\",\"2015-04-01T00:00:00\",\"2015-05-01T00:00:00\",\"2015-06-01T00:00:00\",\"2015-07-01T00:00:00\",\"2015-08-01T00:00:00\",\"2015-09-01T00:00:00\",\"2015-10-01T00:00:00\",\"2015-11-01T00:00:00\",\"2015-12-01T00:00:00\",\"2016-01-01T00:00:00\",\"2016-02-01T00:00:00\",\"2016-03-01T00:00:00\",\"2016-04-01T00:00:00\",\"2016-05-01T00:00:00\",\"2016-06-01T00:00:00\",\"2016-07-01T00:00:00\",\"2016-08-01T00:00:00\",\"2016-09-01T00:00:00\",\"2016-10-01T00:00:00\",\"2016-11-01T00:00:00\",\"2016-12-01T00:00:00\",\"2017-01-01T00:00:00\",\"2017-02-01T00:00:00\",\"2017-03-01T00:00:00\",\"2017-04-01T00:00:00\",\"2017-05-01T00:00:00\",\"2017-06-01T00:00:00\",\"2017-07-01T00:00:00\",\"2017-08-01T00:00:00\",\"2017-09-01T00:00:00\",\"2017-10-01T00:00:00\",\"2017-11-01T00:00:00\",\"2017-12-01T00:00:00\",\"2018-01-01T00:00:00\",\"2018-02-01T00:00:00\",\"2018-03-01T00:00:00\",\"2018-04-01T00:00:00\",\"2018-05-01T00:00:00\",\"2018-06-01T00:00:00\",\"2018-07-01T00:00:00\",\"2018-08-01T00:00:00\",\"2018-09-01T00:00:00\",\"2018-10-01T00:00:00\",\"2018-11-01T00:00:00\",\"2018-12-01T00:00:00\",\"2019-01-01T00:00:00\",\"2019-02-01T00:00:00\",\"2019-03-01T00:00:00\",\"2019-04-01T00:00:00\",\"2019-05-01T00:00:00\",\"2019-06-01T00:00:00\",\"2019-07-01T00:00:00\",\"2019-08-01T00:00:00\"],\"y\":[4001,35949,47391,28253,37499,47538,63211,93048,133816,141709,139603,135018,125869,122105,101014,86328,95850,102254,163154,172520,193680,200620,201577,212070,216317,196874,151328,122656,124977,110090,157390,236423,250358,253876,267986,288700,282038,254591,192491,136609,112686,122672,165769,269495,306646,316641,327797,320890,323972,297921,197110,151567,127388,108058,188262,318295,367203,314276,363902,364456,328014,290339,228359,187349,123262,145646,283436,285528,288749,368043,366497,357324,344381,343295,259098,168728,174806,226305,245370,365973,339685,398684,397742,402521,391330,384901,252550,177932,168568,182362,238951,328939,374122,392256,404811,403896,325799,343026,202365,177581,150786,158105,253832,347955,337600,350221,356652,359982],\"type\":\"scatter\"},{\"line\":{\"color\":\"rgba(0, 90, 181, 0.7)\",\"dash\":\"solid\"},\"name\":\"Forecast\",\"x\":[\"2010-09-01T00:00:00\",\"2010-10-01T00:00:00\",\"2010-11-01T00:00:00\",\"2010-12-01T00:00:00\",\"2011-01-01T00:00:00\",\"2011-02-01T00:00:00\",\"2011-03-01T00:00:00\",\"2011-04-01T00:00:00\",\"2011-05-01T00:00:00\",\"2011-06-01T00:00:00\",\"2011-07-01T00:00:00\",\"2011-08-01T00:00:00\",\"2011-09-01T00:00:00\",\"2011-10-01T00:00:00\",\"2011-11-01T00:00:00\",\"2011-12-01T00:00:00\",\"2012-01-01T00:00:00\",\"2012-02-01T00:00:00\",\"2012-03-01T00:00:00\",\"2012-04-01T00:00:00\",\"2012-05-01T00:00:00\",\"2012-06-01T00:00:00\",\"2012-07-01T00:00:00\",\"2012-08-01T00:00:00\",\"2012-09-01T00:00:00\",\"2012-10-01T00:00:00\",\"2012-11-01T00:00:00\",\"2012-12-01T00:00:00\",\"2013-01-01T00:00:00\",\"2013-02-01T00:00:00\",\"2013-03-01T00:00:00\",\"2013-04-01T00:00:00\",\"2013-05-01T00:00:00\",\"2013-06-01T00:00:00\",\"2013-07-01T00:00:00\",\"2013-08-01T00:00:00\",\"2013-09-01T00:00:00\",\"2013-10-01T00:00:00\",\"2013-11-01T00:00:00\",\"2013-12-01T00:00:00\",\"2014-01-01T00:00:00\",\"2014-02-01T00:00:00\",\"2014-03-01T00:00:00\",\"2014-04-01T00:00:00\",\"2014-05-01T00:00:00\",\"2014-06-01T00:00:00\",\"2014-07-01T00:00:00\",\"2014-08-01T00:00:00\",\"2014-09-01T00:00:00\",\"2014-10-01T00:00:00\",\"2014-11-01T00:00:00\",\"2014-12-01T00:00:00\",\"2015-01-01T00:00:00\",\"2015-02-01T00:00:00\",\"2015-03-01T00:00:00\",\"2015-04-01T00:00:00\",\"2015-05-01T00:00:00\",\"2015-06-01T00:00:00\",\"2015-07-01T00:00:00\",\"2015-08-01T00:00:00\",\"2015-09-01T00:00:00\",\"2015-10-01T00:00:00\",\"2015-11-01T00:00:00\",\"2015-12-01T00:00:00\",\"2016-01-01T00:00:00\",\"2016-02-01T00:00:00\",\"2016-03-01T00:00:00\",\"2016-04-01T00:00:00\",\"2016-05-01T00:00:00\",\"2016-06-01T00:00:00\",\"2016-07-01T00:00:00\",\"2016-08-01T00:00:00\",\"2016-09-01T00:00:00\",\"2016-10-01T00:00:00\",\"2016-11-01T00:00:00\",\"2016-12-01T00:00:00\",\"2017-01-01T00:00:00\",\"2017-02-01T00:00:00\",\"2017-03-01T00:00:00\",\"2017-04-01T00:00:00\",\"2017-05-01T00:00:00\",\"2017-06-01T00:00:00\",\"2017-07-01T00:00:00\",\"2017-08-01T00:00:00\",\"2017-09-01T00:00:00\",\"2017-10-01T00:00:00\",\"2017-11-01T00:00:00\",\"2017-12-01T00:00:00\",\"2018-01-01T00:00:00\",\"2018-02-01T00:00:00\",\"2018-03-01T00:00:00\",\"2018-04-01T00:00:00\",\"2018-05-01T00:00:00\",\"2018-06-01T00:00:00\",\"2018-07-01T00:00:00\",\"2018-08-01T00:00:00\",\"2018-09-01T00:00:00\",\"2018-10-01T00:00:00\",\"2018-11-01T00:00:00\",\"2018-12-01T00:00:00\",\"2019-01-01T00:00:00\",\"2019-02-01T00:00:00\",\"2019-03-01T00:00:00\",\"2019-04-01T00:00:00\",\"2019-05-01T00:00:00\",\"2019-06-01T00:00:00\",\"2019-07-01T00:00:00\",\"2019-08-01T00:00:00\"],\"y\":[35044.236264678766,43750.05825395926,-2452.929641811559,-581.3863063363533,3117.7860140359044,24426.512891285398,87695.38801633273,137963.54974088242,137164.40263320375,164092.70638753724,171053.5274219871,167298.1317453046,142638.0183102912,138365.42418524515,70651.48942031179,53644.12855697496,58312.35722869352,78908.11889957823,139972.943535177,213771.98924843734,202042.88298711422,218572.0694570548,225016.74194334386,222912.20864043306,206271.35157278742,209167.26749024398,133359.1831163819,103662.14330612458,101180.28781262084,117399.96663452577,166427.13606621706,232239.96441291054,256381.74469131834,268308.18715646444,272189.100586943,276228.4801163066,264199.1072597436,260621.56738500876,179852.80498654887,140727.83216629567,123194.17764513227,125457.10572959331,187445.37299101506,250911.40787796534,287921.3404133383,311939.6878625635,319113.01142214437,321482.793445096,294808.18963637296,296254.53072979907,216117.16673070617,156525.77940008123,144336.23247425948,146595.93389866798,193279.29948570408,276408.35783336835,327396.4604670437,357331.78683504125,331136.58038424014,353484.61240848573,330473.3620434641,310869.75760953804,224357.19029485204,184950.51864331547,174891.41130015024,155671.317992763,223899.19204486595,336853.4658391598,320058.23089351505,325890.89666017436,369212.70779600996,364574.66643665114,336387.3112519557,329094.4294757416,261780.03726037327,210630.39134221288,174544.89949864018,192198.70540736354,275678.8164939149,326113.99640930886,371637.0931742133,361898.54270116834,394499.86011444055,390137.9945491194,369251.4588155955,361377.8863499564,289700.0617125693,211710.36226713736,182363.24084256365,190339.54381947903,252578.01805433884,321208.07712956367,349121.55129847233,375442.3132847394,385041.6284835364,386234.0374658664,360803.9564330946,317691.06732401135,258427.6702679425,176033.30070281788,172876.70774221543,171648.8064104444,230451.7180871051,319645.49001086014,360225.8397777552,357558.17119475576,355112.3740305601,355941.3131033358],\"type\":\"scatter\"}],                        {\"legend\":{\"traceorder\":\"reversed\"},\"showlegend\":true,\"title\":{\"text\":\"Forecast vs Actual\",\"x\":0.5},\"xaxis\":{\"title\":{\"text\":\"ts\"}},\"yaxis\":{\"title\":{\"text\":\"count\"}},\"template\":{\"data\":{\"bar\":[{\"error_x\":{\"color\":\"#2a3f5f\"},\"error_y\":{\"color\":\"#2a3f5f\"},\"marker\":{\"line\":{\"color\":\"#E5ECF6\",\"width\":0.5},\"pattern\":{\"fillmode\":\"overlay\",\"size\":10,\"solidity\":0.2}},\"type\":\"bar\"}],\"barpolar\":[{\"marker\":{\"line\":{\"color\":\"#E5ECF6\",\"width\":0.5},\"pattern\":{\"fillmode\":\"overlay\",\"size\":10,\"solidity\":0.2}},\"type\":\"barpolar\"}],\"carpet\":[{\"aaxis\":{\"endlinecolor\":\"#2a3f5f\",\"gridcolor\":\"white\",\"linecolor\":\"white\",\"minorgridcolor\":\"white\",\"startlinecolor\":\"#2a3f5f\"},\"baxis\":{\"endlinecolor\":\"#2a3f5f\",\"gridcolor\":\"white\",\"linecolor\":\"white\",\"minorgridcolor\":\"white\",\"startlinecolor\":\"#2a3f5f\"},\"type\":\"carpet\"}],\"choropleth\":[{\"colorbar\":{\"outlinewidth\":0,\"ticks\":\"\"},\"type\":\"choropleth\"}],\"contour\":[{\"colorbar\":{\"outlinewidth\":0,\"ticks\":\"\"},\"colorscale\":[[0.0,\"#0d0887\"],[0.1111111111111111,\"#46039f\"],[0.2222222222222222,\"#7201a8\"],[0.3333333333333333,\"#9c179e\"],[0.4444444444444444,\"#bd3786\"],[0.5555555555555556,\"#d8576b\"],[0.6666666666666666,\"#ed7953\"],[0.7777777777777778,\"#fb9f3a\"],[0.8888888888888888,\"#fdca26\"],[1.0,\"#f0f921\"]],\"type\":\"contour\"}],\"contourcarpet\":[{\"colorbar\":{\"outlinewidth\":0,\"ticks\":\"\"},\"type\":\"contourcarpet\"}],\"heatmap\":[{\"colorbar\":{\"outlinewidth\":0,\"ticks\":\"\"},\"colorscale\":[[0.0,\"#0d0887\"],[0.1111111111111111,\"#46039f\"],[0.2222222222222222,\"#7201a8\"],[0.3333333333333333,\"#9c179e\"],[0.4444444444444444,\"#bd3786\"],[0.5555555555555556,\"#d8576b\"],[0.6666666666666666,\"#ed7953\"],[0.7777777777777778,\"#fb9f3a\"],[0.8888888888888888,\"#fdca26\"],[1.0,\"#f0f921\"]],\"type\":\"heatmap\"}],\"heatmapgl\":[{\"colorbar\":{\"outlinewidth\":0,\"ticks\":\"\"},\"colorscale\":[[0.0,\"#0d0887\"],[0.1111111111111111,\"#46039f\"],[0.2222222222222222,\"#7201a8\"],[0.3333333333333333,\"#9c179e\"],[0.4444444444444444,\"#bd3786\"],[0.5555555555555556,\"#d8576b\"],[0.6666666666666666,\"#ed7953\"],[0.7777777777777778,\"#fb9f3a\"],[0.8888888888888888,\"#fdca26\"],[1.0,\"#f0f921\"]],\"type\":\"heatmapgl\"}],\"histogram\":[{\"marker\":{\"pattern\":{\"fillmode\":\"overlay\",\"size\":10,\"solidity\":0.2}},\"type\":\"histogram\"}],\"histogram2d\":[{\"colorbar\":{\"outlinewidth\":0,\"ticks\":\"\"},\"colorscale\":[[0.0,\"#0d0887\"],[0.1111111111111111,\"#46039f\"],[0.2222222222222222,\"#7201a8\"],[0.3333333333333333,\"#9c179e\"],[0.4444444444444444,\"#bd3786\"],[0.5555555555555556,\"#d8576b\"],[0.6666666666666666,\"#ed7953\"],[0.7777777777777778,\"#fb9f3a\"],[0.8888888888888888,\"#fdca26\"],[1.0,\"#f0f921\"]],\"type\":\"histogram2d\"}],\"histogram2dcontour\":[{\"colorbar\":{\"outlinewidth\":0,\"ticks\":\"\"},\"colorscale\":[[0.0,\"#0d0887\"],[0.1111111111111111,\"#46039f\"],[0.2222222222222222,\"#7201a8\"],[0.3333333333333333,\"#9c179e\"],[0.4444444444444444,\"#bd3786\"],[0.5555555555555556,\"#d8576b\"],[0.6666666666666666,\"#ed7953\"],[0.7777777777777778,\"#fb9f3a\"],[0.8888888888888888,\"#fdca26\"],[1.0,\"#f0f921\"]],\"type\":\"histogram2dcontour\"}],\"mesh3d\":[{\"colorbar\":{\"outlinewidth\":0,\"ticks\":\"\"},\"type\":\"mesh3d\"}],\"parcoords\":[{\"line\":{\"colorbar\":{\"outlinewidth\":0,\"ticks\":\"\"}},\"type\":\"parcoords\"}],\"pie\":[{\"automargin\":true,\"type\":\"pie\"}],\"scatter\":[{\"marker\":{\"colorbar\":{\"outlinewidth\":0,\"ticks\":\"\"}},\"type\":\"scatter\"}],\"scatter3d\":[{\"line\":{\"colorbar\":{\"outlinewidth\":0,\"ticks\":\"\"}},\"marker\":{\"colorbar\":{\"outlinewidth\":0,\"ticks\":\"\"}},\"type\":\"scatter3d\"}],\"scattercarpet\":[{\"marker\":{\"colorbar\":{\"outlinewidth\":0,\"ticks\":\"\"}},\"type\":\"scattercarpet\"}],\"scattergeo\":[{\"marker\":{\"colorbar\":{\"outlinewidth\":0,\"ticks\":\"\"}},\"type\":\"scattergeo\"}],\"scattergl\":[{\"marker\":{\"colorbar\":{\"outlinewidth\":0,\"ticks\":\"\"}},\"type\":\"scattergl\"}],\"scattermapbox\":[{\"marker\":{\"colorbar\":{\"outlinewidth\":0,\"ticks\":\"\"}},\"type\":\"scattermapbox\"}],\"scatterpolar\":[{\"marker\":{\"colorbar\":{\"outlinewidth\":0,\"ticks\":\"\"}},\"type\":\"scatterpolar\"}],\"scatterpolargl\":[{\"marker\":{\"colorbar\":{\"outlinewidth\":0,\"ticks\":\"\"}},\"type\":\"scatterpolargl\"}],\"scatterternary\":[{\"marker\":{\"colorbar\":{\"outlinewidth\":0,\"ticks\":\"\"}},\"type\":\"scatterternary\"}],\"surface\":[{\"colorbar\":{\"outlinewidth\":0,\"ticks\":\"\"},\"colorscale\":[[0.0,\"#0d0887\"],[0.1111111111111111,\"#46039f\"],[0.2222222222222222,\"#7201a8\"],[0.3333333333333333,\"#9c179e\"],[0.4444444444444444,\"#bd3786\"],[0.5555555555555556,\"#d8576b\"],[0.6666666666666666,\"#ed7953\"],[0.7777777777777778,\"#fb9f3a\"],[0.8888888888888888,\"#fdca26\"],[1.0,\"#f0f921\"]],\"type\":\"surface\"}],\"table\":[{\"cells\":{\"fill\":{\"color\":\"#EBF0F8\"},\"line\":{\"color\":\"white\"}},\"header\":{\"fill\":{\"color\":\"#C8D4E3\"},\"line\":{\"color\":\"white\"}},\"type\":\"table\"}]},\"layout\":{\"annotationdefaults\":{\"arrowcolor\":\"#2a3f5f\",\"arrowhead\":0,\"arrowwidth\":1},\"autotypenumbers\":\"strict\",\"coloraxis\":{\"colorbar\":{\"outlinewidth\":0,\"ticks\":\"\"}},\"colorscale\":{\"diverging\":[[0,\"#8e0152\"],[0.1,\"#c51b7d\"],[0.2,\"#de77ae\"],[0.3,\"#f1b6da\"],[0.4,\"#fde0ef\"],[0.5,\"#f7f7f7\"],[0.6,\"#e6f5d0\"],[0.7,\"#b8e186\"],[0.8,\"#7fbc41\"],[0.9,\"#4d9221\"],[1,\"#276419\"]],\"sequential\":[[0.0,\"#0d0887\"],[0.1111111111111111,\"#46039f\"],[0.2222222222222222,\"#7201a8\"],[0.3333333333333333,\"#9c179e\"],[0.4444444444444444,\"#bd3786\"],[0.5555555555555556,\"#d8576b\"],[0.6666666666666666,\"#ed7953\"],[0.7777777777777778,\"#fb9f3a\"],[0.8888888888888888,\"#fdca26\"],[1.0,\"#f0f921\"]],\"sequentialminus\":[[0.0,\"#0d0887\"],[0.1111111111111111,\"#46039f\"],[0.2222222222222222,\"#7201a8\"],[0.3333333333333333,\"#9c179e\"],[0.4444444444444444,\"#bd3786\"],[0.5555555555555556,\"#d8576b\"],[0.6666666666666666,\"#ed7953\"],[0.7777777777777778,\"#fb9f3a\"],[0.8888888888888888,\"#fdca26\"],[1.0,\"#f0f921\"]]},\"colorway\":[\"#636efa\",\"#EF553B\",\"#00cc96\",\"#ab63fa\",\"#FFA15A\",\"#19d3f3\",\"#FF6692\",\"#B6E880\",\"#FF97FF\",\"#FECB52\"],\"font\":{\"color\":\"#2a3f5f\"},\"geo\":{\"bgcolor\":\"white\",\"lakecolor\":\"white\",\"landcolor\":\"#E5ECF6\",\"showlakes\":true,\"showland\":true,\"subunitcolor\":\"white\"},\"hoverlabel\":{\"align\":\"left\"},\"hovermode\":\"closest\",\"mapbox\":{\"style\":\"light\"},\"paper_bgcolor\":\"white\",\"plot_bgcolor\":\"#E5ECF6\",\"polar\":{\"angularaxis\":{\"gridcolor\":\"white\",\"linecolor\":\"white\",\"ticks\":\"\"},\"bgcolor\":\"#E5ECF6\",\"radialaxis\":{\"gridcolor\":\"white\",\"linecolor\":\"white\",\"ticks\":\"\"}},\"scene\":{\"xaxis\":{\"backgroundcolor\":\"#E5ECF6\",\"gridcolor\":\"white\",\"gridwidth\":2,\"linecolor\":\"white\",\"showbackground\":true,\"ticks\":\"\",\"zerolinecolor\":\"white\"},\"yaxis\":{\"backgroundcolor\":\"#E5ECF6\",\"gridcolor\":\"white\",\"gridwidth\":2,\"linecolor\":\"white\",\"showbackground\":true,\"ticks\":\"\",\"zerolinecolor\":\"white\"},\"zaxis\":{\"backgroundcolor\":\"#E5ECF6\",\"gridcolor\":\"white\",\"gridwidth\":2,\"linecolor\":\"white\",\"showbackground\":true,\"ticks\":\"\",\"zerolinecolor\":\"white\"}},\"shapedefaults\":{\"line\":{\"color\":\"#2a3f5f\"}},\"ternary\":{\"aaxis\":{\"gridcolor\":\"white\",\"linecolor\":\"white\",\"ticks\":\"\"},\"baxis\":{\"gridcolor\":\"white\",\"linecolor\":\"white\",\"ticks\":\"\"},\"bgcolor\":\"#E5ECF6\",\"caxis\":{\"gridcolor\":\"white\",\"linecolor\":\"white\",\"ticks\":\"\"}},\"title\":{\"x\":0.05},\"xaxis\":{\"automargin\":true,\"gridcolor\":\"white\",\"linecolor\":\"white\",\"ticks\":\"\",\"title\":{\"standoff\":15},\"zerolinecolor\":\"white\",\"zerolinewidth\":2},\"yaxis\":{\"automargin\":true,\"gridcolor\":\"white\",\"linecolor\":\"white\",\"ticks\":\"\",\"title\":{\"standoff\":15},\"zerolinecolor\":\"white\",\"zerolinewidth\":2}}},\"shapes\":[{\"line\":{\"color\":\"rgba(100, 100, 100, 0.9)\",\"width\":1.0},\"type\":\"line\",\"x0\":\"2019-04-01T00:00:00\",\"x1\":\"2019-04-01T00:00:00\",\"xref\":\"x\",\"y0\":0,\"y1\":1,\"yref\":\"paper\"}],\"annotations\":[{\"arrowhead\":0,\"ax\":-60,\"ay\":0,\"showarrow\":true,\"text\":\"Train End Date\",\"x\":\"2019-04-01T00:00:00\",\"xref\":\"x\",\"y\":0.97,\"yref\":\"paper\"}]},                        {\"responsive\": true}                    ).then(function(){\n",
       "                            \n",
       "var gd = document.getElementById('a25ffc2e-5489-4bc7-ac61-47aa2a1fda34');\n",
       "var x = new MutationObserver(function (mutations, observer) {{\n",
       "        var display = window.getComputedStyle(gd).display;\n",
       "        if (!display || display === 'none') {{\n",
       "            console.log([gd, 'removed!']);\n",
       "            Plotly.purge(gd);\n",
       "            observer.disconnect();\n",
       "        }}\n",
       "}});\n",
       "\n",
       "// Listen for the removal of the full notebook cells\n",
       "var notebookContainer = gd.closest('#notebook-container');\n",
       "if (notebookContainer) {{\n",
       "    x.observe(notebookContainer, {childList: true});\n",
       "}}\n",
       "\n",
       "// Listen for the clearing of the current output cell\n",
       "var outputEl = gd.closest('.output');\n",
       "if (outputEl) {{\n",
       "    x.observe(outputEl, {childList: true});\n",
       "}}\n",
       "\n",
       "                        })                };                            </script>        </div>\n",
       "</body>\n",
       "</html>"
      ]
     },
     "metadata": {},
     "output_type": "display_data"
    }
   ],
   "source": [
    "fig = backtest.plot()\n",
    "plotly.io.show(fig)"
   ]
  },
  {
   "cell_type": "markdown",
   "metadata": {
    "id": "cAvUwzpovrhP"
   },
   "source": [
    "Forecast plot:\n",
    "\n"
   ]
  },
  {
   "cell_type": "code",
   "execution_count": 14,
   "metadata": {
    "colab": {
     "base_uri": "https://localhost:8080/",
     "height": 542
    },
    "id": "A78OLMOfvrhP",
    "outputId": "11d510c0-e90e-415b-b121-b030b37f8342"
   },
   "outputs": [
    {
     "data": {
      "text/html": [
       "<html>\n",
       "<head><meta charset=\"utf-8\" /></head>\n",
       "<body>\n",
       "    <div>            <script src=\"https://cdnjs.cloudflare.com/ajax/libs/mathjax/2.7.5/MathJax.js?config=TeX-AMS-MML_SVG\"></script><script type=\"text/javascript\">if (window.MathJax) {MathJax.Hub.Config({SVG: {font: \"STIX-Web\"}});}</script>                <script type=\"text/javascript\">window.PlotlyConfig = {MathJaxConfig: 'local'};</script>\n",
       "        <script src=\"https://cdn.plot.ly/plotly-2.8.3.min.js\"></script>                <div id=\"e14db1bf-7909-495d-b226-1e43c3c90256\" class=\"plotly-graph-div\" style=\"height:525px; width:100%;\"></div>            <script type=\"text/javascript\">                                    window.PLOTLYENV=window.PLOTLYENV || {};                                    if (document.getElementById(\"e14db1bf-7909-495d-b226-1e43c3c90256\")) {                    Plotly.newPlot(                        \"e14db1bf-7909-495d-b226-1e43c3c90256\",                        [{\"legendgroup\":\"interval\",\"line\":{\"color\":\"rgba(0, 90, 181, 0.5)\",\"width\":0.0},\"mode\":\"lines\",\"name\":\"Lower Bound\",\"x\":[\"2010-09-01T00:00:00\",\"2010-10-01T00:00:00\",\"2010-11-01T00:00:00\",\"2010-12-01T00:00:00\",\"2011-01-01T00:00:00\",\"2011-02-01T00:00:00\",\"2011-03-01T00:00:00\",\"2011-04-01T00:00:00\",\"2011-05-01T00:00:00\",\"2011-06-01T00:00:00\",\"2011-07-01T00:00:00\",\"2011-08-01T00:00:00\",\"2011-09-01T00:00:00\",\"2011-10-01T00:00:00\",\"2011-11-01T00:00:00\",\"2011-12-01T00:00:00\",\"2012-01-01T00:00:00\",\"2012-02-01T00:00:00\",\"2012-03-01T00:00:00\",\"2012-04-01T00:00:00\",\"2012-05-01T00:00:00\",\"2012-06-01T00:00:00\",\"2012-07-01T00:00:00\",\"2012-08-01T00:00:00\",\"2012-09-01T00:00:00\",\"2012-10-01T00:00:00\",\"2012-11-01T00:00:00\",\"2012-12-01T00:00:00\",\"2013-01-01T00:00:00\",\"2013-02-01T00:00:00\",\"2013-03-01T00:00:00\",\"2013-04-01T00:00:00\",\"2013-05-01T00:00:00\",\"2013-06-01T00:00:00\",\"2013-07-01T00:00:00\",\"2013-08-01T00:00:00\",\"2013-09-01T00:00:00\",\"2013-10-01T00:00:00\",\"2013-11-01T00:00:00\",\"2013-12-01T00:00:00\",\"2014-01-01T00:00:00\",\"2014-02-01T00:00:00\",\"2014-03-01T00:00:00\",\"2014-04-01T00:00:00\",\"2014-05-01T00:00:00\",\"2014-06-01T00:00:00\",\"2014-07-01T00:00:00\",\"2014-08-01T00:00:00\",\"2014-09-01T00:00:00\",\"2014-10-01T00:00:00\",\"2014-11-01T00:00:00\",\"2014-12-01T00:00:00\",\"2015-01-01T00:00:00\",\"2015-02-01T00:00:00\",\"2015-03-01T00:00:00\",\"2015-04-01T00:00:00\",\"2015-05-01T00:00:00\",\"2015-06-01T00:00:00\",\"2015-07-01T00:00:00\",\"2015-08-01T00:00:00\",\"2015-09-01T00:00:00\",\"2015-10-01T00:00:00\",\"2015-11-01T00:00:00\",\"2015-12-01T00:00:00\",\"2016-01-01T00:00:00\",\"2016-02-01T00:00:00\",\"2016-03-01T00:00:00\",\"2016-04-01T00:00:00\",\"2016-05-01T00:00:00\",\"2016-06-01T00:00:00\",\"2016-07-01T00:00:00\",\"2016-08-01T00:00:00\",\"2016-09-01T00:00:00\",\"2016-10-01T00:00:00\",\"2016-11-01T00:00:00\",\"2016-12-01T00:00:00\",\"2017-01-01T00:00:00\",\"2017-02-01T00:00:00\",\"2017-03-01T00:00:00\",\"2017-04-01T00:00:00\",\"2017-05-01T00:00:00\",\"2017-06-01T00:00:00\",\"2017-07-01T00:00:00\",\"2017-08-01T00:00:00\",\"2017-09-01T00:00:00\",\"2017-10-01T00:00:00\",\"2017-11-01T00:00:00\",\"2017-12-01T00:00:00\",\"2018-01-01T00:00:00\",\"2018-02-01T00:00:00\",\"2018-03-01T00:00:00\",\"2018-04-01T00:00:00\",\"2018-05-01T00:00:00\",\"2018-06-01T00:00:00\",\"2018-07-01T00:00:00\",\"2018-08-01T00:00:00\",\"2018-09-01T00:00:00\",\"2018-10-01T00:00:00\",\"2018-11-01T00:00:00\",\"2018-12-01T00:00:00\",\"2019-01-01T00:00:00\",\"2019-02-01T00:00:00\",\"2019-03-01T00:00:00\",\"2019-04-01T00:00:00\",\"2019-05-01T00:00:00\",\"2019-06-01T00:00:00\",\"2019-07-01T00:00:00\",\"2019-08-01T00:00:00\",\"2019-09-01T00:00:00\",\"2019-10-01T00:00:00\",\"2019-11-01T00:00:00\",\"2019-12-01T00:00:00\"],\"y\":[-12596.109396734348,-4303.2626250863395,-50231.40209108056,-48000.352279038314,-42028.83655850131,-23064.577255198295,39901.74563093456,89645.1332651539,87231.45196143021,115897.4229610111,122690.23074333348,119384.76482043044,93708.15833214195,89464.7801392539,21974.862412905437,5236.9826260723785,12288.288598005442,30591.075445303053,91305.4085910599,164822.83798688877,151318.75086965755,169424.18374054396,175650.0307087904,173964.1622789952,156345.60897213663,159298.77483982837,83562.63695188683,53929.94582218352,53686.12171221674,67721.83386754685,116467.22815099162,182128.41187677794,205122.4218364319,218791.98263714626,222636.4793971908,227383.54199921712,214647.074935165,211261.9581040002,130724.12104631744,91763.46204134416,76509.4127736531,76438.1727600817,138303.26797443343,201600.4067995028,237619.97247948364,263529.8256834425,270713.0743594316,273779.6458225546,246237.19431637996,247941.36047004058,168049.67819960538,108393.7131901507,98552.34715685969,98239.84414385063,144438.66918698448,227420.46367939166,277380.7362613175,309173.6462646307,282504.7881299914,305677.4058830026,281737.9076826557,262050.06258930598,175606.78276112163,136268.4374862411,128478.8768759565,106580.57103958844,174668.3772859883,287927.0497735541,269427.08443906566,276843.9844057879,320497.5487462134,316377.30637539143,287206.1858067921,279974.86407607526,212954.98139158537,161742.06556871656,127629.94481829922,143033.99839152192,226554.3053972182,276576.6545465332,321116.411547192,312785.82071365905,345598.3578724045,341760.5368007326,319977.38144687004,312271.0490596022,240953.50597300008,162703.46110350167,135523.32731145865,141254.35397111933,203392.9477989666,271935.79326324794,298775.09979165805,327035.2371259759,336692.7057620899,338588.9042054835,312325.5240123739,268976.1193999903,210218.51302838413,127515.34472975509,126829.94481937219,123252.99815192587,181918.49031816248,271264.2953992283,300276.85588557005,298947.5619021198,305643.7707787903,304253.0124917547,298911.6708746066,268795.6143037191,192524.6442460146,166200.32068272916],\"type\":\"scatter\"},{\"fill\":\"tonexty\",\"fillcolor\":\"rgba(0, 90, 181, 0.15)\",\"legendgroup\":\"interval\",\"line\":{\"color\":\"rgba(0, 90, 181, 0.5)\",\"width\":0.0},\"mode\":\"lines\",\"name\":\"Upper Bound\",\"x\":[\"2010-09-01T00:00:00\",\"2010-10-01T00:00:00\",\"2010-11-01T00:00:00\",\"2010-12-01T00:00:00\",\"2011-01-01T00:00:00\",\"2011-02-01T00:00:00\",\"2011-03-01T00:00:00\",\"2011-04-01T00:00:00\",\"2011-05-01T00:00:00\",\"2011-06-01T00:00:00\",\"2011-07-01T00:00:00\",\"2011-08-01T00:00:00\",\"2011-09-01T00:00:00\",\"2011-10-01T00:00:00\",\"2011-11-01T00:00:00\",\"2011-12-01T00:00:00\",\"2012-01-01T00:00:00\",\"2012-02-01T00:00:00\",\"2012-03-01T00:00:00\",\"2012-04-01T00:00:00\",\"2012-05-01T00:00:00\",\"2012-06-01T00:00:00\",\"2012-07-01T00:00:00\",\"2012-08-01T00:00:00\",\"2012-09-01T00:00:00\",\"2012-10-01T00:00:00\",\"2012-11-01T00:00:00\",\"2012-12-01T00:00:00\",\"2013-01-01T00:00:00\",\"2013-02-01T00:00:00\",\"2013-03-01T00:00:00\",\"2013-04-01T00:00:00\",\"2013-05-01T00:00:00\",\"2013-06-01T00:00:00\",\"2013-07-01T00:00:00\",\"2013-08-01T00:00:00\",\"2013-09-01T00:00:00\",\"2013-10-01T00:00:00\",\"2013-11-01T00:00:00\",\"2013-12-01T00:00:00\",\"2014-01-01T00:00:00\",\"2014-02-01T00:00:00\",\"2014-03-01T00:00:00\",\"2014-04-01T00:00:00\",\"2014-05-01T00:00:00\",\"2014-06-01T00:00:00\",\"2014-07-01T00:00:00\",\"2014-08-01T00:00:00\",\"2014-09-01T00:00:00\",\"2014-10-01T00:00:00\",\"2014-11-01T00:00:00\",\"2014-12-01T00:00:00\",\"2015-01-01T00:00:00\",\"2015-02-01T00:00:00\",\"2015-03-01T00:00:00\",\"2015-04-01T00:00:00\",\"2015-05-01T00:00:00\",\"2015-06-01T00:00:00\",\"2015-07-01T00:00:00\",\"2015-08-01T00:00:00\",\"2015-09-01T00:00:00\",\"2015-10-01T00:00:00\",\"2015-11-01T00:00:00\",\"2015-12-01T00:00:00\",\"2016-01-01T00:00:00\",\"2016-02-01T00:00:00\",\"2016-03-01T00:00:00\",\"2016-04-01T00:00:00\",\"2016-05-01T00:00:00\",\"2016-06-01T00:00:00\",\"2016-07-01T00:00:00\",\"2016-08-01T00:00:00\",\"2016-09-01T00:00:00\",\"2016-10-01T00:00:00\",\"2016-11-01T00:00:00\",\"2016-12-01T00:00:00\",\"2017-01-01T00:00:00\",\"2017-02-01T00:00:00\",\"2017-03-01T00:00:00\",\"2017-04-01T00:00:00\",\"2017-05-01T00:00:00\",\"2017-06-01T00:00:00\",\"2017-07-01T00:00:00\",\"2017-08-01T00:00:00\",\"2017-09-01T00:00:00\",\"2017-10-01T00:00:00\",\"2017-11-01T00:00:00\",\"2017-12-01T00:00:00\",\"2018-01-01T00:00:00\",\"2018-02-01T00:00:00\",\"2018-03-01T00:00:00\",\"2018-04-01T00:00:00\",\"2018-05-01T00:00:00\",\"2018-06-01T00:00:00\",\"2018-07-01T00:00:00\",\"2018-08-01T00:00:00\",\"2018-09-01T00:00:00\",\"2018-10-01T00:00:00\",\"2018-11-01T00:00:00\",\"2018-12-01T00:00:00\",\"2019-01-01T00:00:00\",\"2019-02-01T00:00:00\",\"2019-03-01T00:00:00\",\"2019-04-01T00:00:00\",\"2019-05-01T00:00:00\",\"2019-06-01T00:00:00\",\"2019-07-01T00:00:00\",\"2019-08-01T00:00:00\",\"2019-09-01T00:00:00\",\"2019-10-01T00:00:00\",\"2019-11-01T00:00:00\",\"2019-12-01T00:00:00\"],\"y\":[84797.73736709078,93090.58413873879,47162.44467274457,49393.49448478682,55365.01020532382,74329.26950862684,137295.5923947597,187038.98002897901,184625.29872525536,213291.26972483622,220084.07750715862,216778.6115842556,191102.0050959671,186858.62690307904,119368.70917673057,102630.82938989751,109682.13536183057,127984.92220912818,188699.255354885,262216.6847507139,248712.59763348266,266818.0305043691,273043.87747261557,271358.00904282037,253739.4557359618,256692.62160365353,180956.48371571198,151323.79258600867,151079.96847604186,165115.68063137197,213861.07491481677,279522.2586406031,302516.26860025706,316185.8294009714,320030.32616101595,324777.3887630423,312040.92169899016,308655.80486782535,228117.96781014255,189157.3088051693,173903.2595374782,173832.0195239068,235697.1147382586,298994.25356332795,335013.8192433088,360923.6724472677,368106.92112325673,371173.49258637975,343631.0410802051,345335.20723386575,265443.52496343054,205787.55995397584,195946.1939206848,195633.69090767577,241832.51595080964,324814.3104432168,374774.58302514267,406567.4930284559,379898.63489381655,403071.2526468278,379131.7544464809,359443.90935313114,273000.62952494674,233662.28425006627,225872.72363978165,203974.41780341358,272062.2240498134,385320.89653737925,366820.9312028908,374237.83116961305,417891.39551003854,413771.1531392166,384600.0325706173,377368.7108399004,310348.82815541053,259135.91233254172,225023.79158212437,240427.84515534702,323948.15216104337,373970.50131035835,418510.2583110172,410179.6674774842,442992.20463622967,439154.38356455776,417371.2282106952,409664.89582342736,338347.35273682524,260097.30786732683,232917.17407528375,238648.2007349445,300786.79456279177,369329.6400270731,396168.9465554832,424429.08388980106,434086.5525259151,435982.75096930866,409719.37077619904,366369.96616381546,307612.3597922093,224909.19149358023,224223.7915831973,220646.84491575102,279312.33708198764,368658.14216305345,397670.7026493952,396341.40866594494,403037.61754261545,401646.8592555799,362707.01740981353,351962.2062377586,273440.4836347477,223358.26570330496],\"type\":\"scatter\"},{\"line\":{\"color\":\"rgba(250, 43, 20, 0.7)\"},\"marker\":{\"color\":\"rgba(250, 43, 20, 0.7)\",\"size\":2.0},\"mode\":\"lines+markers\",\"name\":\"Actual\",\"opacity\":1.0,\"x\":[\"2010-09-01T00:00:00\",\"2010-10-01T00:00:00\",\"2010-11-01T00:00:00\",\"2010-12-01T00:00:00\",\"2011-01-01T00:00:00\",\"2011-02-01T00:00:00\",\"2011-03-01T00:00:00\",\"2011-04-01T00:00:00\",\"2011-05-01T00:00:00\",\"2011-06-01T00:00:00\",\"2011-07-01T00:00:00\",\"2011-08-01T00:00:00\",\"2011-09-01T00:00:00\",\"2011-10-01T00:00:00\",\"2011-11-01T00:00:00\",\"2011-12-01T00:00:00\",\"2012-01-01T00:00:00\",\"2012-02-01T00:00:00\",\"2012-03-01T00:00:00\",\"2012-04-01T00:00:00\",\"2012-05-01T00:00:00\",\"2012-06-01T00:00:00\",\"2012-07-01T00:00:00\",\"2012-08-01T00:00:00\",\"2012-09-01T00:00:00\",\"2012-10-01T00:00:00\",\"2012-11-01T00:00:00\",\"2012-12-01T00:00:00\",\"2013-01-01T00:00:00\",\"2013-02-01T00:00:00\",\"2013-03-01T00:00:00\",\"2013-04-01T00:00:00\",\"2013-05-01T00:00:00\",\"2013-06-01T00:00:00\",\"2013-07-01T00:00:00\",\"2013-08-01T00:00:00\",\"2013-09-01T00:00:00\",\"2013-10-01T00:00:00\",\"2013-11-01T00:00:00\",\"2013-12-01T00:00:00\",\"2014-01-01T00:00:00\",\"2014-02-01T00:00:00\",\"2014-03-01T00:00:00\",\"2014-04-01T00:00:00\",\"2014-05-01T00:00:00\",\"2014-06-01T00:00:00\",\"2014-07-01T00:00:00\",\"2014-08-01T00:00:00\",\"2014-09-01T00:00:00\",\"2014-10-01T00:00:00\",\"2014-11-01T00:00:00\",\"2014-12-01T00:00:00\",\"2015-01-01T00:00:00\",\"2015-02-01T00:00:00\",\"2015-03-01T00:00:00\",\"2015-04-01T00:00:00\",\"2015-05-01T00:00:00\",\"2015-06-01T00:00:00\",\"2015-07-01T00:00:00\",\"2015-08-01T00:00:00\",\"2015-09-01T00:00:00\",\"2015-10-01T00:00:00\",\"2015-11-01T00:00:00\",\"2015-12-01T00:00:00\",\"2016-01-01T00:00:00\",\"2016-02-01T00:00:00\",\"2016-03-01T00:00:00\",\"2016-04-01T00:00:00\",\"2016-05-01T00:00:00\",\"2016-06-01T00:00:00\",\"2016-07-01T00:00:00\",\"2016-08-01T00:00:00\",\"2016-09-01T00:00:00\",\"2016-10-01T00:00:00\",\"2016-11-01T00:00:00\",\"2016-12-01T00:00:00\",\"2017-01-01T00:00:00\",\"2017-02-01T00:00:00\",\"2017-03-01T00:00:00\",\"2017-04-01T00:00:00\",\"2017-05-01T00:00:00\",\"2017-06-01T00:00:00\",\"2017-07-01T00:00:00\",\"2017-08-01T00:00:00\",\"2017-09-01T00:00:00\",\"2017-10-01T00:00:00\",\"2017-11-01T00:00:00\",\"2017-12-01T00:00:00\",\"2018-01-01T00:00:00\",\"2018-02-01T00:00:00\",\"2018-03-01T00:00:00\",\"2018-04-01T00:00:00\",\"2018-05-01T00:00:00\",\"2018-06-01T00:00:00\",\"2018-07-01T00:00:00\",\"2018-08-01T00:00:00\",\"2018-09-01T00:00:00\",\"2018-10-01T00:00:00\",\"2018-11-01T00:00:00\",\"2018-12-01T00:00:00\",\"2019-01-01T00:00:00\",\"2019-02-01T00:00:00\",\"2019-03-01T00:00:00\",\"2019-04-01T00:00:00\",\"2019-05-01T00:00:00\",\"2019-06-01T00:00:00\",\"2019-07-01T00:00:00\",\"2019-08-01T00:00:00\",\"2019-09-01T00:00:00\",\"2019-10-01T00:00:00\",\"2019-11-01T00:00:00\",\"2019-12-01T00:00:00\"],\"y\":[4001.0,35949.0,47391.0,28253.0,37499.0,47538.0,63211.0,93048.0,133816.0,141709.0,139603.0,135018.0,125869.0,122105.0,101014.0,86328.0,95850.0,102254.0,163154.0,172520.0,193680.0,200620.0,201577.0,212070.0,216317.0,196874.0,151328.0,122656.0,124977.0,110090.0,157390.0,236423.0,250358.0,253876.0,267986.0,288700.0,282038.0,254591.0,192491.0,136609.0,112686.0,122672.0,165769.0,269495.0,306646.0,316641.0,327797.0,320890.0,323972.0,297921.0,197110.0,151567.0,127388.0,108058.0,188262.0,318295.0,367203.0,314276.0,363902.0,364456.0,328014.0,290339.0,228359.0,187349.0,123262.0,145646.0,283436.0,285528.0,288749.0,368043.0,366497.0,357324.0,344381.0,343295.0,259098.0,168728.0,174806.0,226305.0,245370.0,365973.0,339685.0,398684.0,397742.0,402521.0,391330.0,384901.0,252550.0,177932.0,168568.0,182362.0,238951.0,328939.0,374122.0,392256.0,404811.0,403896.0,325799.0,343026.0,202365.0,177581.0,150786.0,158105.0,253832.0,347955.0,337600.0,350221.0,356652.0,359982.0,null,null,null,null],\"type\":\"scatter\"},{\"line\":{\"color\":\"rgba(0, 90, 181, 0.7)\",\"dash\":\"solid\"},\"name\":\"Forecast\",\"x\":[\"2010-09-01T00:00:00\",\"2010-10-01T00:00:00\",\"2010-11-01T00:00:00\",\"2010-12-01T00:00:00\",\"2011-01-01T00:00:00\",\"2011-02-01T00:00:00\",\"2011-03-01T00:00:00\",\"2011-04-01T00:00:00\",\"2011-05-01T00:00:00\",\"2011-06-01T00:00:00\",\"2011-07-01T00:00:00\",\"2011-08-01T00:00:00\",\"2011-09-01T00:00:00\",\"2011-10-01T00:00:00\",\"2011-11-01T00:00:00\",\"2011-12-01T00:00:00\",\"2012-01-01T00:00:00\",\"2012-02-01T00:00:00\",\"2012-03-01T00:00:00\",\"2012-04-01T00:00:00\",\"2012-05-01T00:00:00\",\"2012-06-01T00:00:00\",\"2012-07-01T00:00:00\",\"2012-08-01T00:00:00\",\"2012-09-01T00:00:00\",\"2012-10-01T00:00:00\",\"2012-11-01T00:00:00\",\"2012-12-01T00:00:00\",\"2013-01-01T00:00:00\",\"2013-02-01T00:00:00\",\"2013-03-01T00:00:00\",\"2013-04-01T00:00:00\",\"2013-05-01T00:00:00\",\"2013-06-01T00:00:00\",\"2013-07-01T00:00:00\",\"2013-08-01T00:00:00\",\"2013-09-01T00:00:00\",\"2013-10-01T00:00:00\",\"2013-11-01T00:00:00\",\"2013-12-01T00:00:00\",\"2014-01-01T00:00:00\",\"2014-02-01T00:00:00\",\"2014-03-01T00:00:00\",\"2014-04-01T00:00:00\",\"2014-05-01T00:00:00\",\"2014-06-01T00:00:00\",\"2014-07-01T00:00:00\",\"2014-08-01T00:00:00\",\"2014-09-01T00:00:00\",\"2014-10-01T00:00:00\",\"2014-11-01T00:00:00\",\"2014-12-01T00:00:00\",\"2015-01-01T00:00:00\",\"2015-02-01T00:00:00\",\"2015-03-01T00:00:00\",\"2015-04-01T00:00:00\",\"2015-05-01T00:00:00\",\"2015-06-01T00:00:00\",\"2015-07-01T00:00:00\",\"2015-08-01T00:00:00\",\"2015-09-01T00:00:00\",\"2015-10-01T00:00:00\",\"2015-11-01T00:00:00\",\"2015-12-01T00:00:00\",\"2016-01-01T00:00:00\",\"2016-02-01T00:00:00\",\"2016-03-01T00:00:00\",\"2016-04-01T00:00:00\",\"2016-05-01T00:00:00\",\"2016-06-01T00:00:00\",\"2016-07-01T00:00:00\",\"2016-08-01T00:00:00\",\"2016-09-01T00:00:00\",\"2016-10-01T00:00:00\",\"2016-11-01T00:00:00\",\"2016-12-01T00:00:00\",\"2017-01-01T00:00:00\",\"2017-02-01T00:00:00\",\"2017-03-01T00:00:00\",\"2017-04-01T00:00:00\",\"2017-05-01T00:00:00\",\"2017-06-01T00:00:00\",\"2017-07-01T00:00:00\",\"2017-08-01T00:00:00\",\"2017-09-01T00:00:00\",\"2017-10-01T00:00:00\",\"2017-11-01T00:00:00\",\"2017-12-01T00:00:00\",\"2018-01-01T00:00:00\",\"2018-02-01T00:00:00\",\"2018-03-01T00:00:00\",\"2018-04-01T00:00:00\",\"2018-05-01T00:00:00\",\"2018-06-01T00:00:00\",\"2018-07-01T00:00:00\",\"2018-08-01T00:00:00\",\"2018-09-01T00:00:00\",\"2018-10-01T00:00:00\",\"2018-11-01T00:00:00\",\"2018-12-01T00:00:00\",\"2019-01-01T00:00:00\",\"2019-02-01T00:00:00\",\"2019-03-01T00:00:00\",\"2019-04-01T00:00:00\",\"2019-05-01T00:00:00\",\"2019-06-01T00:00:00\",\"2019-07-01T00:00:00\",\"2019-08-01T00:00:00\",\"2019-09-01T00:00:00\",\"2019-10-01T00:00:00\",\"2019-11-01T00:00:00\",\"2019-12-01T00:00:00\"],\"y\":[36100.81398517822,44393.660756826226,-1534.4787091679973,696.5711028742517,6668.086823411253,25632.34612671427,88598.66901284712,138342.05664706646,135928.37534334278,164594.34634292367,171387.15412524604,168081.688202343,142405.0817140545,138161.70352116646,70671.785794818,53933.906007984944,60985.21197991801,79287.99882721562,140002.33197297246,213519.76136880132,200015.6742515701,218121.10712245654,224346.954090703,222661.0856609078,205042.5323540492,207995.69822174095,132259.5603337994,102626.86920409609,102383.04509412931,116418.75724945942,165164.1515329042,230825.33525869052,253819.34521834448,267488.90601905884,271333.4027791034,276080.4653811297,263343.9983170776,259958.88148591277,179421.04442823,140460.38542325672,125206.33615556566,125135.09614199426,187000.191356346,250297.33018141537,286316.8958613962,312226.7490653551,319409.99774134415,322476.5692044672,294934.11769829254,296638.28385195317,216746.60158151796,157090.63657206326,147249.27053877225,146936.7675257632,193135.59256889706,276117.38706130424,326077.6596432301,357870.5696465433,331201.71151190397,354374.3292649152,330434.8310645683,310746.98597121856,224303.7061430342,184965.3608681537,177175.80025786906,155277.494421501,223365.30066790085,336623.97315546667,318124.00782097824,325540.9077877005,369194.47212812596,365074.229757304,335903.1091887047,328671.78745798784,261651.90477349795,210438.98895062914,176326.8682002118,191730.92177343447,275251.2287791308,325273.57792844577,369813.3349291046,361482.74409557163,394295.2812543171,390457.4601826452,368674.3048287826,360967.9724415148,289650.42935491266,211400.38448541425,184220.2506933712,189951.2773530319,252089.87118087918,320632.7166451605,347472.02317357063,375732.1605078885,385389.6291440025,387285.8275873961,361022.44739428646,317673.0427819029,258915.4364102967,176212.26811166765,175526.86820128476,171949.92153383844,230615.41370007506,319961.21878114087,348973.77926748263,347644.48528403236,354340.6941607029,352949.9358736673,336072.27058045525,310818.20865680143,236616.5964018521,195654.69728009647],\"type\":\"scatter\"}],                        {\"legend\":{\"traceorder\":\"reversed\"},\"showlegend\":true,\"title\":{\"text\":\"Forecast vs Actual\",\"x\":0.5},\"xaxis\":{\"title\":{\"text\":\"ts\"}},\"yaxis\":{\"title\":{\"text\":\"count\"}},\"template\":{\"data\":{\"bar\":[{\"error_x\":{\"color\":\"#2a3f5f\"},\"error_y\":{\"color\":\"#2a3f5f\"},\"marker\":{\"line\":{\"color\":\"#E5ECF6\",\"width\":0.5},\"pattern\":{\"fillmode\":\"overlay\",\"size\":10,\"solidity\":0.2}},\"type\":\"bar\"}],\"barpolar\":[{\"marker\":{\"line\":{\"color\":\"#E5ECF6\",\"width\":0.5},\"pattern\":{\"fillmode\":\"overlay\",\"size\":10,\"solidity\":0.2}},\"type\":\"barpolar\"}],\"carpet\":[{\"aaxis\":{\"endlinecolor\":\"#2a3f5f\",\"gridcolor\":\"white\",\"linecolor\":\"white\",\"minorgridcolor\":\"white\",\"startlinecolor\":\"#2a3f5f\"},\"baxis\":{\"endlinecolor\":\"#2a3f5f\",\"gridcolor\":\"white\",\"linecolor\":\"white\",\"minorgridcolor\":\"white\",\"startlinecolor\":\"#2a3f5f\"},\"type\":\"carpet\"}],\"choropleth\":[{\"colorbar\":{\"outlinewidth\":0,\"ticks\":\"\"},\"type\":\"choropleth\"}],\"contour\":[{\"colorbar\":{\"outlinewidth\":0,\"ticks\":\"\"},\"colorscale\":[[0.0,\"#0d0887\"],[0.1111111111111111,\"#46039f\"],[0.2222222222222222,\"#7201a8\"],[0.3333333333333333,\"#9c179e\"],[0.4444444444444444,\"#bd3786\"],[0.5555555555555556,\"#d8576b\"],[0.6666666666666666,\"#ed7953\"],[0.7777777777777778,\"#fb9f3a\"],[0.8888888888888888,\"#fdca26\"],[1.0,\"#f0f921\"]],\"type\":\"contour\"}],\"contourcarpet\":[{\"colorbar\":{\"outlinewidth\":0,\"ticks\":\"\"},\"type\":\"contourcarpet\"}],\"heatmap\":[{\"colorbar\":{\"outlinewidth\":0,\"ticks\":\"\"},\"colorscale\":[[0.0,\"#0d0887\"],[0.1111111111111111,\"#46039f\"],[0.2222222222222222,\"#7201a8\"],[0.3333333333333333,\"#9c179e\"],[0.4444444444444444,\"#bd3786\"],[0.5555555555555556,\"#d8576b\"],[0.6666666666666666,\"#ed7953\"],[0.7777777777777778,\"#fb9f3a\"],[0.8888888888888888,\"#fdca26\"],[1.0,\"#f0f921\"]],\"type\":\"heatmap\"}],\"heatmapgl\":[{\"colorbar\":{\"outlinewidth\":0,\"ticks\":\"\"},\"colorscale\":[[0.0,\"#0d0887\"],[0.1111111111111111,\"#46039f\"],[0.2222222222222222,\"#7201a8\"],[0.3333333333333333,\"#9c179e\"],[0.4444444444444444,\"#bd3786\"],[0.5555555555555556,\"#d8576b\"],[0.6666666666666666,\"#ed7953\"],[0.7777777777777778,\"#fb9f3a\"],[0.8888888888888888,\"#fdca26\"],[1.0,\"#f0f921\"]],\"type\":\"heatmapgl\"}],\"histogram\":[{\"marker\":{\"pattern\":{\"fillmode\":\"overlay\",\"size\":10,\"solidity\":0.2}},\"type\":\"histogram\"}],\"histogram2d\":[{\"colorbar\":{\"outlinewidth\":0,\"ticks\":\"\"},\"colorscale\":[[0.0,\"#0d0887\"],[0.1111111111111111,\"#46039f\"],[0.2222222222222222,\"#7201a8\"],[0.3333333333333333,\"#9c179e\"],[0.4444444444444444,\"#bd3786\"],[0.5555555555555556,\"#d8576b\"],[0.6666666666666666,\"#ed7953\"],[0.7777777777777778,\"#fb9f3a\"],[0.8888888888888888,\"#fdca26\"],[1.0,\"#f0f921\"]],\"type\":\"histogram2d\"}],\"histogram2dcontour\":[{\"colorbar\":{\"outlinewidth\":0,\"ticks\":\"\"},\"colorscale\":[[0.0,\"#0d0887\"],[0.1111111111111111,\"#46039f\"],[0.2222222222222222,\"#7201a8\"],[0.3333333333333333,\"#9c179e\"],[0.4444444444444444,\"#bd3786\"],[0.5555555555555556,\"#d8576b\"],[0.6666666666666666,\"#ed7953\"],[0.7777777777777778,\"#fb9f3a\"],[0.8888888888888888,\"#fdca26\"],[1.0,\"#f0f921\"]],\"type\":\"histogram2dcontour\"}],\"mesh3d\":[{\"colorbar\":{\"outlinewidth\":0,\"ticks\":\"\"},\"type\":\"mesh3d\"}],\"parcoords\":[{\"line\":{\"colorbar\":{\"outlinewidth\":0,\"ticks\":\"\"}},\"type\":\"parcoords\"}],\"pie\":[{\"automargin\":true,\"type\":\"pie\"}],\"scatter\":[{\"marker\":{\"colorbar\":{\"outlinewidth\":0,\"ticks\":\"\"}},\"type\":\"scatter\"}],\"scatter3d\":[{\"line\":{\"colorbar\":{\"outlinewidth\":0,\"ticks\":\"\"}},\"marker\":{\"colorbar\":{\"outlinewidth\":0,\"ticks\":\"\"}},\"type\":\"scatter3d\"}],\"scattercarpet\":[{\"marker\":{\"colorbar\":{\"outlinewidth\":0,\"ticks\":\"\"}},\"type\":\"scattercarpet\"}],\"scattergeo\":[{\"marker\":{\"colorbar\":{\"outlinewidth\":0,\"ticks\":\"\"}},\"type\":\"scattergeo\"}],\"scattergl\":[{\"marker\":{\"colorbar\":{\"outlinewidth\":0,\"ticks\":\"\"}},\"type\":\"scattergl\"}],\"scattermapbox\":[{\"marker\":{\"colorbar\":{\"outlinewidth\":0,\"ticks\":\"\"}},\"type\":\"scattermapbox\"}],\"scatterpolar\":[{\"marker\":{\"colorbar\":{\"outlinewidth\":0,\"ticks\":\"\"}},\"type\":\"scatterpolar\"}],\"scatterpolargl\":[{\"marker\":{\"colorbar\":{\"outlinewidth\":0,\"ticks\":\"\"}},\"type\":\"scatterpolargl\"}],\"scatterternary\":[{\"marker\":{\"colorbar\":{\"outlinewidth\":0,\"ticks\":\"\"}},\"type\":\"scatterternary\"}],\"surface\":[{\"colorbar\":{\"outlinewidth\":0,\"ticks\":\"\"},\"colorscale\":[[0.0,\"#0d0887\"],[0.1111111111111111,\"#46039f\"],[0.2222222222222222,\"#7201a8\"],[0.3333333333333333,\"#9c179e\"],[0.4444444444444444,\"#bd3786\"],[0.5555555555555556,\"#d8576b\"],[0.6666666666666666,\"#ed7953\"],[0.7777777777777778,\"#fb9f3a\"],[0.8888888888888888,\"#fdca26\"],[1.0,\"#f0f921\"]],\"type\":\"surface\"}],\"table\":[{\"cells\":{\"fill\":{\"color\":\"#EBF0F8\"},\"line\":{\"color\":\"white\"}},\"header\":{\"fill\":{\"color\":\"#C8D4E3\"},\"line\":{\"color\":\"white\"}},\"type\":\"table\"}]},\"layout\":{\"annotationdefaults\":{\"arrowcolor\":\"#2a3f5f\",\"arrowhead\":0,\"arrowwidth\":1},\"autotypenumbers\":\"strict\",\"coloraxis\":{\"colorbar\":{\"outlinewidth\":0,\"ticks\":\"\"}},\"colorscale\":{\"diverging\":[[0,\"#8e0152\"],[0.1,\"#c51b7d\"],[0.2,\"#de77ae\"],[0.3,\"#f1b6da\"],[0.4,\"#fde0ef\"],[0.5,\"#f7f7f7\"],[0.6,\"#e6f5d0\"],[0.7,\"#b8e186\"],[0.8,\"#7fbc41\"],[0.9,\"#4d9221\"],[1,\"#276419\"]],\"sequential\":[[0.0,\"#0d0887\"],[0.1111111111111111,\"#46039f\"],[0.2222222222222222,\"#7201a8\"],[0.3333333333333333,\"#9c179e\"],[0.4444444444444444,\"#bd3786\"],[0.5555555555555556,\"#d8576b\"],[0.6666666666666666,\"#ed7953\"],[0.7777777777777778,\"#fb9f3a\"],[0.8888888888888888,\"#fdca26\"],[1.0,\"#f0f921\"]],\"sequentialminus\":[[0.0,\"#0d0887\"],[0.1111111111111111,\"#46039f\"],[0.2222222222222222,\"#7201a8\"],[0.3333333333333333,\"#9c179e\"],[0.4444444444444444,\"#bd3786\"],[0.5555555555555556,\"#d8576b\"],[0.6666666666666666,\"#ed7953\"],[0.7777777777777778,\"#fb9f3a\"],[0.8888888888888888,\"#fdca26\"],[1.0,\"#f0f921\"]]},\"colorway\":[\"#636efa\",\"#EF553B\",\"#00cc96\",\"#ab63fa\",\"#FFA15A\",\"#19d3f3\",\"#FF6692\",\"#B6E880\",\"#FF97FF\",\"#FECB52\"],\"font\":{\"color\":\"#2a3f5f\"},\"geo\":{\"bgcolor\":\"white\",\"lakecolor\":\"white\",\"landcolor\":\"#E5ECF6\",\"showlakes\":true,\"showland\":true,\"subunitcolor\":\"white\"},\"hoverlabel\":{\"align\":\"left\"},\"hovermode\":\"closest\",\"mapbox\":{\"style\":\"light\"},\"paper_bgcolor\":\"white\",\"plot_bgcolor\":\"#E5ECF6\",\"polar\":{\"angularaxis\":{\"gridcolor\":\"white\",\"linecolor\":\"white\",\"ticks\":\"\"},\"bgcolor\":\"#E5ECF6\",\"radialaxis\":{\"gridcolor\":\"white\",\"linecolor\":\"white\",\"ticks\":\"\"}},\"scene\":{\"xaxis\":{\"backgroundcolor\":\"#E5ECF6\",\"gridcolor\":\"white\",\"gridwidth\":2,\"linecolor\":\"white\",\"showbackground\":true,\"ticks\":\"\",\"zerolinecolor\":\"white\"},\"yaxis\":{\"backgroundcolor\":\"#E5ECF6\",\"gridcolor\":\"white\",\"gridwidth\":2,\"linecolor\":\"white\",\"showbackground\":true,\"ticks\":\"\",\"zerolinecolor\":\"white\"},\"zaxis\":{\"backgroundcolor\":\"#E5ECF6\",\"gridcolor\":\"white\",\"gridwidth\":2,\"linecolor\":\"white\",\"showbackground\":true,\"ticks\":\"\",\"zerolinecolor\":\"white\"}},\"shapedefaults\":{\"line\":{\"color\":\"#2a3f5f\"}},\"ternary\":{\"aaxis\":{\"gridcolor\":\"white\",\"linecolor\":\"white\",\"ticks\":\"\"},\"baxis\":{\"gridcolor\":\"white\",\"linecolor\":\"white\",\"ticks\":\"\"},\"bgcolor\":\"#E5ECF6\",\"caxis\":{\"gridcolor\":\"white\",\"linecolor\":\"white\",\"ticks\":\"\"}},\"title\":{\"x\":0.05},\"xaxis\":{\"automargin\":true,\"gridcolor\":\"white\",\"linecolor\":\"white\",\"ticks\":\"\",\"title\":{\"standoff\":15},\"zerolinecolor\":\"white\",\"zerolinewidth\":2},\"yaxis\":{\"automargin\":true,\"gridcolor\":\"white\",\"linecolor\":\"white\",\"ticks\":\"\",\"title\":{\"standoff\":15},\"zerolinecolor\":\"white\",\"zerolinewidth\":2}}},\"shapes\":[{\"line\":{\"color\":\"rgba(100, 100, 100, 0.9)\",\"width\":1.0},\"type\":\"line\",\"x0\":\"2019-08-01T00:00:00\",\"x1\":\"2019-08-01T00:00:00\",\"xref\":\"x\",\"y0\":0,\"y1\":1,\"yref\":\"paper\"}],\"annotations\":[{\"arrowhead\":0,\"ax\":-60,\"ay\":0,\"showarrow\":true,\"text\":\"Train End Date\",\"x\":\"2019-08-01T00:00:00\",\"xref\":\"x\",\"y\":0.97,\"yref\":\"paper\"}]},                        {\"responsive\": true}                    ).then(function(){\n",
       "                            \n",
       "var gd = document.getElementById('e14db1bf-7909-495d-b226-1e43c3c90256');\n",
       "var x = new MutationObserver(function (mutations, observer) {{\n",
       "        var display = window.getComputedStyle(gd).display;\n",
       "        if (!display || display === 'none') {{\n",
       "            console.log([gd, 'removed!']);\n",
       "            Plotly.purge(gd);\n",
       "            observer.disconnect();\n",
       "        }}\n",
       "}});\n",
       "\n",
       "// Listen for the removal of the full notebook cells\n",
       "var notebookContainer = gd.closest('#notebook-container');\n",
       "if (notebookContainer) {{\n",
       "    x.observe(notebookContainer, {childList: true});\n",
       "}}\n",
       "\n",
       "// Listen for the clearing of the current output cell\n",
       "var outputEl = gd.closest('.output');\n",
       "if (outputEl) {{\n",
       "    x.observe(outputEl, {childList: true});\n",
       "}}\n",
       "\n",
       "                        })                };                            </script>        </div>\n",
       "</body>\n",
       "</html>"
      ]
     },
     "metadata": {},
     "output_type": "display_data"
    }
   ],
   "source": [
    "fig = forecast.plot()\n",
    "plotly.io.show(fig)"
   ]
  },
  {
   "cell_type": "markdown",
   "metadata": {
    "id": "Vd5VqJ6xvrhP"
   },
   "source": [
    "The components plot:\n",
    "\n"
   ]
  },
  {
   "cell_type": "code",
   "execution_count": 15,
   "metadata": {
    "colab": {
     "base_uri": "https://localhost:8080/",
     "height": 1417
    },
    "id": "CLd6L1TdvrhP",
    "outputId": "74cf03a5-f1c5-4e11-be94-9758d18b6ec4"
   },
   "outputs": [
    {
     "data": {
      "text/html": [
       "<html>\n",
       "<head><meta charset=\"utf-8\" /></head>\n",
       "<body>\n",
       "    <div>            <script src=\"https://cdnjs.cloudflare.com/ajax/libs/mathjax/2.7.5/MathJax.js?config=TeX-AMS-MML_SVG\"></script><script type=\"text/javascript\">if (window.MathJax) {MathJax.Hub.Config({SVG: {font: \"STIX-Web\"}});}</script>                <script type=\"text/javascript\">window.PlotlyConfig = {MathJaxConfig: 'local'};</script>\n",
       "        <script src=\"https://cdn.plot.ly/plotly-2.8.3.min.js\"></script>                <div id=\"b89f125f-3c46-4a72-b9b6-7d7ac35f2d1c\" class=\"plotly-graph-div\" style=\"height:1400px; width:100%;\"></div>            <script type=\"text/javascript\">                                    window.PLOTLYENV=window.PLOTLYENV || {};                                    if (document.getElementById(\"b89f125f-3c46-4a72-b9b6-7d7ac35f2d1c\")) {                    Plotly.newPlot(                        \"b89f125f-3c46-4a72-b9b6-7d7ac35f2d1c\",                        [{\"mode\":\"lines\",\"name\":\"y\",\"opacity\":0.8,\"showlegend\":false,\"x\":[\"2010-09-01T00:00:00\",\"2010-10-01T00:00:00\",\"2010-11-01T00:00:00\",\"2010-12-01T00:00:00\",\"2011-01-01T00:00:00\",\"2011-02-01T00:00:00\",\"2011-03-01T00:00:00\",\"2011-04-01T00:00:00\",\"2011-05-01T00:00:00\",\"2011-06-01T00:00:00\",\"2011-07-01T00:00:00\",\"2011-08-01T00:00:00\",\"2011-09-01T00:00:00\",\"2011-10-01T00:00:00\",\"2011-11-01T00:00:00\",\"2011-12-01T00:00:00\",\"2012-01-01T00:00:00\",\"2012-02-01T00:00:00\",\"2012-03-01T00:00:00\",\"2012-04-01T00:00:00\",\"2012-05-01T00:00:00\",\"2012-06-01T00:00:00\",\"2012-07-01T00:00:00\",\"2012-08-01T00:00:00\",\"2012-09-01T00:00:00\",\"2012-10-01T00:00:00\",\"2012-11-01T00:00:00\",\"2012-12-01T00:00:00\",\"2013-01-01T00:00:00\",\"2013-02-01T00:00:00\",\"2013-03-01T00:00:00\",\"2013-04-01T00:00:00\",\"2013-05-01T00:00:00\",\"2013-06-01T00:00:00\",\"2013-07-01T00:00:00\",\"2013-08-01T00:00:00\",\"2013-09-01T00:00:00\",\"2013-10-01T00:00:00\",\"2013-11-01T00:00:00\",\"2013-12-01T00:00:00\",\"2014-01-01T00:00:00\",\"2014-02-01T00:00:00\",\"2014-03-01T00:00:00\",\"2014-04-01T00:00:00\",\"2014-05-01T00:00:00\",\"2014-06-01T00:00:00\",\"2014-07-01T00:00:00\",\"2014-08-01T00:00:00\",\"2014-09-01T00:00:00\",\"2014-10-01T00:00:00\",\"2014-11-01T00:00:00\",\"2014-12-01T00:00:00\",\"2015-01-01T00:00:00\",\"2015-02-01T00:00:00\",\"2015-03-01T00:00:00\",\"2015-04-01T00:00:00\",\"2015-05-01T00:00:00\",\"2015-06-01T00:00:00\",\"2015-07-01T00:00:00\",\"2015-08-01T00:00:00\",\"2015-09-01T00:00:00\",\"2015-10-01T00:00:00\",\"2015-11-01T00:00:00\",\"2015-12-01T00:00:00\",\"2016-01-01T00:00:00\",\"2016-02-01T00:00:00\",\"2016-03-01T00:00:00\",\"2016-04-01T00:00:00\",\"2016-05-01T00:00:00\",\"2016-06-01T00:00:00\",\"2016-07-01T00:00:00\",\"2016-08-01T00:00:00\",\"2016-09-01T00:00:00\",\"2016-10-01T00:00:00\",\"2016-11-01T00:00:00\",\"2016-12-01T00:00:00\",\"2017-01-01T00:00:00\",\"2017-02-01T00:00:00\",\"2017-03-01T00:00:00\",\"2017-04-01T00:00:00\",\"2017-05-01T00:00:00\",\"2017-06-01T00:00:00\",\"2017-07-01T00:00:00\",\"2017-08-01T00:00:00\",\"2017-09-01T00:00:00\",\"2017-10-01T00:00:00\",\"2017-11-01T00:00:00\",\"2017-12-01T00:00:00\",\"2018-01-01T00:00:00\",\"2018-02-01T00:00:00\",\"2018-03-01T00:00:00\",\"2018-04-01T00:00:00\",\"2018-05-01T00:00:00\",\"2018-06-01T00:00:00\",\"2018-07-01T00:00:00\",\"2018-08-01T00:00:00\",\"2018-09-01T00:00:00\",\"2018-10-01T00:00:00\",\"2018-11-01T00:00:00\",\"2018-12-01T00:00:00\",\"2019-01-01T00:00:00\",\"2019-02-01T00:00:00\",\"2019-03-01T00:00:00\",\"2019-04-01T00:00:00\",\"2019-05-01T00:00:00\",\"2019-06-01T00:00:00\",\"2019-07-01T00:00:00\",\"2019-08-01T00:00:00\"],\"y\":[4001,35949,47391,28253,37499,47538,63211,93048,133816,141709,139603,135018,125869,122105,101014,86328,95850,102254,163154,172520,193680,200620,201577,212070,216317,196874,151328,122656,124977,110090,157390,236423,250358,253876,267986,288700,282038,254591,192491,136609,112686,122672,165769,269495,306646,316641,327797,320890,323972,297921,197110,151567,127388,108058,188262,318295,367203,314276,363902,364456,328014,290339,228359,187349,123262,145646,283436,285528,288749,368043,366497,357324,344381,343295,259098,168728,174806,226305,245370,365973,339685,398684,397742,402521,391330,384901,252550,177932,168568,182362,238951,328939,374122,392256,404811,403896,325799,343026,202365,177581,150786,158105,253832,347955,337600,350221,356652,359982],\"type\":\"scatter\",\"xaxis\":\"x\",\"yaxis\":\"y\"},{\"mode\":\"lines\",\"name\":\"trend\",\"opacity\":0.8,\"showlegend\":false,\"x\":[\"2010-09-01T00:00:00\",\"2010-10-01T00:00:00\",\"2010-11-01T00:00:00\",\"2010-12-01T00:00:00\",\"2011-01-01T00:00:00\",\"2011-02-01T00:00:00\",\"2011-03-01T00:00:00\",\"2011-04-01T00:00:00\",\"2011-05-01T00:00:00\",\"2011-06-01T00:00:00\",\"2011-07-01T00:00:00\",\"2011-08-01T00:00:00\",\"2011-09-01T00:00:00\",\"2011-10-01T00:00:00\",\"2011-11-01T00:00:00\",\"2011-12-01T00:00:00\",\"2012-01-01T00:00:00\",\"2012-02-01T00:00:00\",\"2012-03-01T00:00:00\",\"2012-04-01T00:00:00\",\"2012-05-01T00:00:00\",\"2012-06-01T00:00:00\",\"2012-07-01T00:00:00\",\"2012-08-01T00:00:00\",\"2012-09-01T00:00:00\",\"2012-10-01T00:00:00\",\"2012-11-01T00:00:00\",\"2012-12-01T00:00:00\",\"2013-01-01T00:00:00\",\"2013-02-01T00:00:00\",\"2013-03-01T00:00:00\",\"2013-04-01T00:00:00\",\"2013-05-01T00:00:00\",\"2013-06-01T00:00:00\",\"2013-07-01T00:00:00\",\"2013-08-01T00:00:00\",\"2013-09-01T00:00:00\",\"2013-10-01T00:00:00\",\"2013-11-01T00:00:00\",\"2013-12-01T00:00:00\",\"2014-01-01T00:00:00\",\"2014-02-01T00:00:00\",\"2014-03-01T00:00:00\",\"2014-04-01T00:00:00\",\"2014-05-01T00:00:00\",\"2014-06-01T00:00:00\",\"2014-07-01T00:00:00\",\"2014-08-01T00:00:00\",\"2014-09-01T00:00:00\",\"2014-10-01T00:00:00\",\"2014-11-01T00:00:00\",\"2014-12-01T00:00:00\",\"2015-01-01T00:00:00\",\"2015-02-01T00:00:00\",\"2015-03-01T00:00:00\",\"2015-04-01T00:00:00\",\"2015-05-01T00:00:00\",\"2015-06-01T00:00:00\",\"2015-07-01T00:00:00\",\"2015-08-01T00:00:00\",\"2015-09-01T00:00:00\",\"2015-10-01T00:00:00\",\"2015-11-01T00:00:00\",\"2015-12-01T00:00:00\",\"2016-01-01T00:00:00\",\"2016-02-01T00:00:00\",\"2016-03-01T00:00:00\",\"2016-04-01T00:00:00\",\"2016-05-01T00:00:00\",\"2016-06-01T00:00:00\",\"2016-07-01T00:00:00\",\"2016-08-01T00:00:00\",\"2016-09-01T00:00:00\",\"2016-10-01T00:00:00\",\"2016-11-01T00:00:00\",\"2016-12-01T00:00:00\",\"2017-01-01T00:00:00\",\"2017-02-01T00:00:00\",\"2017-03-01T00:00:00\",\"2017-04-01T00:00:00\",\"2017-05-01T00:00:00\",\"2017-06-01T00:00:00\",\"2017-07-01T00:00:00\",\"2017-08-01T00:00:00\",\"2017-09-01T00:00:00\",\"2017-10-01T00:00:00\",\"2017-11-01T00:00:00\",\"2017-12-01T00:00:00\",\"2018-01-01T00:00:00\",\"2018-02-01T00:00:00\",\"2018-03-01T00:00:00\",\"2018-04-01T00:00:00\",\"2018-05-01T00:00:00\",\"2018-06-01T00:00:00\",\"2018-07-01T00:00:00\",\"2018-08-01T00:00:00\",\"2018-09-01T00:00:00\",\"2018-10-01T00:00:00\",\"2018-11-01T00:00:00\",\"2018-12-01T00:00:00\",\"2019-01-01T00:00:00\",\"2019-02-01T00:00:00\",\"2019-03-01T00:00:00\",\"2019-04-01T00:00:00\",\"2019-05-01T00:00:00\",\"2019-06-01T00:00:00\",\"2019-07-01T00:00:00\",\"2019-08-01T00:00:00\"],\"y\":[0.0,9368.178871708371,13630.859276257903,16895.15285434319,19810.944961652556,22430.322267378033,24614.59080865445,26879.989505590096,28950.54576109402,30987.569639390294,32875.81812076449,34753.91201812978,36567.73511640272,38269.43521583655,39978.79467974343,41590.52688202066,43216.439326205575,45027.43741572627,46894.520830122165,48860.94663816901,50737.21406582334,52650.46704002489,54479.00884670723,56346.354561489425,58192.65065899548,59960.594240636034,61769.208518189494,63502.813510480315,65277.93626460809,66654.74219910247,67885.46585048008,69234.52982439609,70527.17960860774,71850.21755046528,73118.84006706996,74418.15805678052,75706.1998318833,76942.40363863496,78209.61479222933,79426.4638959915,80674.45187292124,81913.2223583425,83024.47358396306,84246.62712498092,85421.46802950717,86627.5978500118,87787.45385570805,88978.608857345,90162.51989853961,91301.5593300342,92471.87513595457,93598.1558949395,94755.67857836557,95889.44740714277,96938.48129489741,98094.31531949024,99207.41334130501,100038.6913391924,100837.98823449807,101658.72914605834,102474.32052986478,103258.822591597,104064.65743599157,104839.94776541201,105636.49201683063,106426.32391368733,107161.19192153,107942.55360489848,108694.68112576776,109467.80833789479,110212.1409679654,110977.38673005076,111738.75450089248,112471.9467443687,113225.91985950399,113952.1015661162,114698.97583479919,115444.38152751555,116114.68390623055,116853.58132624622,117565.47807360622,118297.89559679551,119003.63835767348,119729.81381325515,120452.9036165807,119778.546638762,119078.78261173176,118398.80675954466,117693.33723783132,116985.04279596714,116342.90516102791,115629.36675933724,114936.28572830414,114217.50004901738,113519.42340156775,112795.55843594286,112069.17373543912,111363.85937996834,110632.63236041009,109922.7040111824,109186.78182121583,108448.5275922282,107779.74218079072,107037.14607456747,106316.37895282668,105569.42154980596,104844.49445080833,104093.2995643957],\"type\":\"scatter\",\"xaxis\":\"x2\",\"yaxis\":\"y2\"},{\"mode\":\"lines\",\"name\":\"autoregression\",\"opacity\":0.8,\"showlegend\":false,\"x\":[\"2010-09-01T00:00:00\",\"2010-10-01T00:00:00\",\"2010-11-01T00:00:00\",\"2010-12-01T00:00:00\",\"2011-01-01T00:00:00\",\"2011-02-01T00:00:00\",\"2011-03-01T00:00:00\",\"2011-04-01T00:00:00\",\"2011-05-01T00:00:00\",\"2011-06-01T00:00:00\",\"2011-07-01T00:00:00\",\"2011-08-01T00:00:00\",\"2011-09-01T00:00:00\",\"2011-10-01T00:00:00\",\"2011-11-01T00:00:00\",\"2011-12-01T00:00:00\",\"2012-01-01T00:00:00\",\"2012-02-01T00:00:00\",\"2012-03-01T00:00:00\",\"2012-04-01T00:00:00\",\"2012-05-01T00:00:00\",\"2012-06-01T00:00:00\",\"2012-07-01T00:00:00\",\"2012-08-01T00:00:00\",\"2012-09-01T00:00:00\",\"2012-10-01T00:00:00\",\"2012-11-01T00:00:00\",\"2012-12-01T00:00:00\",\"2013-01-01T00:00:00\",\"2013-02-01T00:00:00\",\"2013-03-01T00:00:00\",\"2013-04-01T00:00:00\",\"2013-05-01T00:00:00\",\"2013-06-01T00:00:00\",\"2013-07-01T00:00:00\",\"2013-08-01T00:00:00\",\"2013-09-01T00:00:00\",\"2013-10-01T00:00:00\",\"2013-11-01T00:00:00\",\"2013-12-01T00:00:00\",\"2014-01-01T00:00:00\",\"2014-02-01T00:00:00\",\"2014-03-01T00:00:00\",\"2014-04-01T00:00:00\",\"2014-05-01T00:00:00\",\"2014-06-01T00:00:00\",\"2014-07-01T00:00:00\",\"2014-08-01T00:00:00\",\"2014-09-01T00:00:00\",\"2014-10-01T00:00:00\",\"2014-11-01T00:00:00\",\"2014-12-01T00:00:00\",\"2015-01-01T00:00:00\",\"2015-02-01T00:00:00\",\"2015-03-01T00:00:00\",\"2015-04-01T00:00:00\",\"2015-05-01T00:00:00\",\"2015-06-01T00:00:00\",\"2015-07-01T00:00:00\",\"2015-08-01T00:00:00\",\"2015-09-01T00:00:00\",\"2015-10-01T00:00:00\",\"2015-11-01T00:00:00\",\"2015-12-01T00:00:00\",\"2016-01-01T00:00:00\",\"2016-02-01T00:00:00\",\"2016-03-01T00:00:00\",\"2016-04-01T00:00:00\",\"2016-05-01T00:00:00\",\"2016-06-01T00:00:00\",\"2016-07-01T00:00:00\",\"2016-08-01T00:00:00\",\"2016-09-01T00:00:00\",\"2016-10-01T00:00:00\",\"2016-11-01T00:00:00\",\"2016-12-01T00:00:00\",\"2017-01-01T00:00:00\",\"2017-02-01T00:00:00\",\"2017-03-01T00:00:00\",\"2017-04-01T00:00:00\",\"2017-05-01T00:00:00\",\"2017-06-01T00:00:00\",\"2017-07-01T00:00:00\",\"2017-08-01T00:00:00\",\"2017-09-01T00:00:00\",\"2017-10-01T00:00:00\",\"2017-11-01T00:00:00\",\"2017-12-01T00:00:00\",\"2018-01-01T00:00:00\",\"2018-02-01T00:00:00\",\"2018-03-01T00:00:00\",\"2018-04-01T00:00:00\",\"2018-05-01T00:00:00\",\"2018-06-01T00:00:00\",\"2018-07-01T00:00:00\",\"2018-08-01T00:00:00\",\"2018-09-01T00:00:00\",\"2018-10-01T00:00:00\",\"2018-11-01T00:00:00\",\"2018-12-01T00:00:00\",\"2019-01-01T00:00:00\",\"2019-02-01T00:00:00\",\"2019-03-01T00:00:00\",\"2019-04-01T00:00:00\",\"2019-05-01T00:00:00\",\"2019-06-01T00:00:00\",\"2019-07-01T00:00:00\",\"2019-08-01T00:00:00\"],\"y\":[0.0,0.0,17004.98976394899,23095.233061779978,12908.633146215441,17830.009612894806,23173.47687971226,31515.75822973018,47397.124186502,69096.74302638783,73297.95700556804,72176.99455274231,69736.53261247356,64866.78642021208,62863.318864449466,51637.193939213204,43820.26393816917,48888.547165047916,52297.20981836986,84712.50581888613,89697.75479,100960.6064052861,104654.56624508223,105163.94946794747,110749.06770987551,113009.62209598704,102660.67956498479,78417.8705068647,63156.600113977955,64392.00080391553,56468.08435794368,81644.49652254826,123711.46021399,131128.65479144803,133001.18371311988,140511.52569287826,151536.9845000161,147990.99596215994,133381.75738537556,100327.73634051414,70583.37556710116,57849.85953721035,63165.116447902554,86104.39414468827,141314.72243614227,161089.11753819778,166409.16488672257,172347.1787156513,168670.78381457468,170311.24263680112,156445.05419493828,102786.29549037266,78545.08324486343,65675.30587217899,55386.50994951923,98076.76283006778,167289.5409061783,193321.8446302054,165150.34427849235,191564.81848738596,191859.69654952528,172462.68149450372,152409.37645641752,119419.2279159906,97590.79952549518,63479.156261372256,75393.50742189042,148735.11063882202,149848.62129946373,151563.06577266016,193768.952161247,192946.06139578234,188063.54070263394,181174.35882850125,180596.31266336888,135780.70219776186,87679.38364986933,90914.52599947751,118325.94354841982,128473.68769045337,192667.15145975162,178674.81482163057,210078.26389773007,209576.86473791912,212120.58722702367,206163.94391763487,202741.97449255575,132295.3925391185,92578.40473999662,87594.22031062332,94936.3646953708,125057.04097407711,172955.03204951977,197004.62678172544,206656.82674352123,213339.48751998233,212852.45967366916,171283.70151681665,180453.13179926152,105583.37891373412,92391.57766452567,78129.3796951688,82025.0701948039,132977.76379482725,183076.6949189092,177565.03005708088,184282.82071098097,187705.85467780067],\"type\":\"scatter\",\"xaxis\":\"x3\",\"yaxis\":\"y3\"},{\"mode\":\"lines\",\"name\":\"residual\",\"opacity\":0.8,\"showlegend\":false,\"x\":[\"2010-09-01T00:00:00\",\"2010-10-01T00:00:00\",\"2010-11-01T00:00:00\",\"2010-12-01T00:00:00\",\"2011-01-01T00:00:00\",\"2011-02-01T00:00:00\",\"2011-03-01T00:00:00\",\"2011-04-01T00:00:00\",\"2011-05-01T00:00:00\",\"2011-06-01T00:00:00\",\"2011-07-01T00:00:00\",\"2011-08-01T00:00:00\",\"2011-09-01T00:00:00\",\"2011-10-01T00:00:00\",\"2011-11-01T00:00:00\",\"2011-12-01T00:00:00\",\"2012-01-01T00:00:00\",\"2012-02-01T00:00:00\",\"2012-03-01T00:00:00\",\"2012-04-01T00:00:00\",\"2012-05-01T00:00:00\",\"2012-06-01T00:00:00\",\"2012-07-01T00:00:00\",\"2012-08-01T00:00:00\",\"2012-09-01T00:00:00\",\"2012-10-01T00:00:00\",\"2012-11-01T00:00:00\",\"2012-12-01T00:00:00\",\"2013-01-01T00:00:00\",\"2013-02-01T00:00:00\",\"2013-03-01T00:00:00\",\"2013-04-01T00:00:00\",\"2013-05-01T00:00:00\",\"2013-06-01T00:00:00\",\"2013-07-01T00:00:00\",\"2013-08-01T00:00:00\",\"2013-09-01T00:00:00\",\"2013-10-01T00:00:00\",\"2013-11-01T00:00:00\",\"2013-12-01T00:00:00\",\"2014-01-01T00:00:00\",\"2014-02-01T00:00:00\",\"2014-03-01T00:00:00\",\"2014-04-01T00:00:00\",\"2014-05-01T00:00:00\",\"2014-06-01T00:00:00\",\"2014-07-01T00:00:00\",\"2014-08-01T00:00:00\",\"2014-09-01T00:00:00\",\"2014-10-01T00:00:00\",\"2014-11-01T00:00:00\",\"2014-12-01T00:00:00\",\"2015-01-01T00:00:00\",\"2015-02-01T00:00:00\",\"2015-03-01T00:00:00\",\"2015-04-01T00:00:00\",\"2015-05-01T00:00:00\",\"2015-06-01T00:00:00\",\"2015-07-01T00:00:00\",\"2015-08-01T00:00:00\",\"2015-09-01T00:00:00\",\"2015-10-01T00:00:00\",\"2015-11-01T00:00:00\",\"2015-12-01T00:00:00\",\"2016-01-01T00:00:00\",\"2016-02-01T00:00:00\",\"2016-03-01T00:00:00\",\"2016-04-01T00:00:00\",\"2016-05-01T00:00:00\",\"2016-06-01T00:00:00\",\"2016-07-01T00:00:00\",\"2016-08-01T00:00:00\",\"2016-09-01T00:00:00\",\"2016-10-01T00:00:00\",\"2016-11-01T00:00:00\",\"2016-12-01T00:00:00\",\"2017-01-01T00:00:00\",\"2017-02-01T00:00:00\",\"2017-03-01T00:00:00\",\"2017-04-01T00:00:00\",\"2017-05-01T00:00:00\",\"2017-06-01T00:00:00\",\"2017-07-01T00:00:00\",\"2017-08-01T00:00:00\",\"2017-09-01T00:00:00\",\"2017-10-01T00:00:00\",\"2017-11-01T00:00:00\",\"2017-12-01T00:00:00\",\"2018-01-01T00:00:00\",\"2018-02-01T00:00:00\",\"2018-03-01T00:00:00\",\"2018-04-01T00:00:00\",\"2018-05-01T00:00:00\",\"2018-06-01T00:00:00\",\"2018-07-01T00:00:00\",\"2018-08-01T00:00:00\",\"2018-09-01T00:00:00\",\"2018-10-01T00:00:00\",\"2018-11-01T00:00:00\",\"2018-12-01T00:00:00\",\"2019-01-01T00:00:00\",\"2019-02-01T00:00:00\",\"2019-03-01T00:00:00\",\"2019-04-01T00:00:00\",\"2019-05-01T00:00:00\",\"2019-06-01T00:00:00\",\"2019-07-01T00:00:00\",\"2019-08-01T00:00:00\"],\"y\":[-32099.813985178218,-8444.660756826219,48925.478709168,27556.428897125745,30830.913176588747,21905.65387328573,-25387.669012847124,-45294.05664706646,-2112.3753433427773,-22885.346342923673,-31784.154125246045,-33063.68820234301,-16536.08171405451,-16056.703521166462,30342.214205181997,32394.09399201505,34864.788020082,22966.00117278438,23151.66802702754,-40999.76136880129,-6335.6742515701335,-17501.10712245654,-22769.954090702988,-10591.08566090779,11274.46764595079,-11121.698221740953,19068.439666200604,20029.13079590391,22593.95490587069,-6328.757249459421,-7774.151532904187,5597.664741309505,-3461.3452183445334,-13612.906019058835,-3347.402779103373,12619.534618870355,18694.00168292236,-5367.881485912745,13069.955571769999,-3851.3854232567246,-12520.33615556566,-2463.0961419942905,-21231.19135634604,19197.669818584603,20329.104138603783,4414.250934644835,8387.002258655848,-1586.5692044672323,29037.88230170746,1282.7161480468349,-19636.601581517956,-5523.636572063231,-19861.270538772253,-38878.76752576319,-4873.59256889706,42177.61293869582,41125.34035676991,-43594.56964654336,32700.288488096092,10081.670735084801,-2420.8310645682504,-20407.985971218557,4055.2938569657854,2383.639131846314,-53913.800257869065,-9631.494421501033,60070.69933209912,-51095.97315546661,-29375.007820978295,42502.09221229947,-2697.4721281259554,-7750.229757303954,8477.890811295365,14623.212542012217,-2553.904773497954,-41710.98895062914,-1520.8682002117857,34574.0782265655,-29881.22877913079,40699.42207155423,-30128.33492910466,37201.25590442843,3446.7187456829706,12063.539817354816,22655.695171217434,23933.02755848528,-37100.4293549126,-33468.38448541425,-15652.250693371228,-7589.27735303191,-13138.871180879127,8306.283354839426,26649.976826429367,16523.839492111583,19421.37085599755,16610.17241260386,-35223.447394286515,25352.957218097115,-56550.43641029671,1368.731888332346,-24740.868201284728,-13844.921533838438,23216.586299924966,27993.781218859134,-11373.779267482692,2576.5147159675835,2311.305839297129,7032.064126332698],\"type\":\"scatter\",\"xaxis\":\"x4\",\"yaxis\":\"y4\"},{\"line\":{\"color\":\"#F44336\",\"dash\":\"dash\",\"width\":1.5},\"mode\":\"lines\",\"name\":\"trend change point\",\"showlegend\":true,\"x\":[\"2015-02-01T00:00:00\",\"2015-02-01T00:00:00\"],\"y\":[0.0,120452.9036165807],\"type\":\"scatter\",\"xaxis\":\"x2\",\"yaxis\":\"y2\"}],                        {\"template\":{\"data\":{\"bar\":[{\"error_x\":{\"color\":\"#2a3f5f\"},\"error_y\":{\"color\":\"#2a3f5f\"},\"marker\":{\"line\":{\"color\":\"#E5ECF6\",\"width\":0.5},\"pattern\":{\"fillmode\":\"overlay\",\"size\":10,\"solidity\":0.2}},\"type\":\"bar\"}],\"barpolar\":[{\"marker\":{\"line\":{\"color\":\"#E5ECF6\",\"width\":0.5},\"pattern\":{\"fillmode\":\"overlay\",\"size\":10,\"solidity\":0.2}},\"type\":\"barpolar\"}],\"carpet\":[{\"aaxis\":{\"endlinecolor\":\"#2a3f5f\",\"gridcolor\":\"white\",\"linecolor\":\"white\",\"minorgridcolor\":\"white\",\"startlinecolor\":\"#2a3f5f\"},\"baxis\":{\"endlinecolor\":\"#2a3f5f\",\"gridcolor\":\"white\",\"linecolor\":\"white\",\"minorgridcolor\":\"white\",\"startlinecolor\":\"#2a3f5f\"},\"type\":\"carpet\"}],\"choropleth\":[{\"colorbar\":{\"outlinewidth\":0,\"ticks\":\"\"},\"type\":\"choropleth\"}],\"contour\":[{\"colorbar\":{\"outlinewidth\":0,\"ticks\":\"\"},\"colorscale\":[[0.0,\"#0d0887\"],[0.1111111111111111,\"#46039f\"],[0.2222222222222222,\"#7201a8\"],[0.3333333333333333,\"#9c179e\"],[0.4444444444444444,\"#bd3786\"],[0.5555555555555556,\"#d8576b\"],[0.6666666666666666,\"#ed7953\"],[0.7777777777777778,\"#fb9f3a\"],[0.8888888888888888,\"#fdca26\"],[1.0,\"#f0f921\"]],\"type\":\"contour\"}],\"contourcarpet\":[{\"colorbar\":{\"outlinewidth\":0,\"ticks\":\"\"},\"type\":\"contourcarpet\"}],\"heatmap\":[{\"colorbar\":{\"outlinewidth\":0,\"ticks\":\"\"},\"colorscale\":[[0.0,\"#0d0887\"],[0.1111111111111111,\"#46039f\"],[0.2222222222222222,\"#7201a8\"],[0.3333333333333333,\"#9c179e\"],[0.4444444444444444,\"#bd3786\"],[0.5555555555555556,\"#d8576b\"],[0.6666666666666666,\"#ed7953\"],[0.7777777777777778,\"#fb9f3a\"],[0.8888888888888888,\"#fdca26\"],[1.0,\"#f0f921\"]],\"type\":\"heatmap\"}],\"heatmapgl\":[{\"colorbar\":{\"outlinewidth\":0,\"ticks\":\"\"},\"colorscale\":[[0.0,\"#0d0887\"],[0.1111111111111111,\"#46039f\"],[0.2222222222222222,\"#7201a8\"],[0.3333333333333333,\"#9c179e\"],[0.4444444444444444,\"#bd3786\"],[0.5555555555555556,\"#d8576b\"],[0.6666666666666666,\"#ed7953\"],[0.7777777777777778,\"#fb9f3a\"],[0.8888888888888888,\"#fdca26\"],[1.0,\"#f0f921\"]],\"type\":\"heatmapgl\"}],\"histogram\":[{\"marker\":{\"pattern\":{\"fillmode\":\"overlay\",\"size\":10,\"solidity\":0.2}},\"type\":\"histogram\"}],\"histogram2d\":[{\"colorbar\":{\"outlinewidth\":0,\"ticks\":\"\"},\"colorscale\":[[0.0,\"#0d0887\"],[0.1111111111111111,\"#46039f\"],[0.2222222222222222,\"#7201a8\"],[0.3333333333333333,\"#9c179e\"],[0.4444444444444444,\"#bd3786\"],[0.5555555555555556,\"#d8576b\"],[0.6666666666666666,\"#ed7953\"],[0.7777777777777778,\"#fb9f3a\"],[0.8888888888888888,\"#fdca26\"],[1.0,\"#f0f921\"]],\"type\":\"histogram2d\"}],\"histogram2dcontour\":[{\"colorbar\":{\"outlinewidth\":0,\"ticks\":\"\"},\"colorscale\":[[0.0,\"#0d0887\"],[0.1111111111111111,\"#46039f\"],[0.2222222222222222,\"#7201a8\"],[0.3333333333333333,\"#9c179e\"],[0.4444444444444444,\"#bd3786\"],[0.5555555555555556,\"#d8576b\"],[0.6666666666666666,\"#ed7953\"],[0.7777777777777778,\"#fb9f3a\"],[0.8888888888888888,\"#fdca26\"],[1.0,\"#f0f921\"]],\"type\":\"histogram2dcontour\"}],\"mesh3d\":[{\"colorbar\":{\"outlinewidth\":0,\"ticks\":\"\"},\"type\":\"mesh3d\"}],\"parcoords\":[{\"line\":{\"colorbar\":{\"outlinewidth\":0,\"ticks\":\"\"}},\"type\":\"parcoords\"}],\"pie\":[{\"automargin\":true,\"type\":\"pie\"}],\"scatter\":[{\"marker\":{\"colorbar\":{\"outlinewidth\":0,\"ticks\":\"\"}},\"type\":\"scatter\"}],\"scatter3d\":[{\"line\":{\"colorbar\":{\"outlinewidth\":0,\"ticks\":\"\"}},\"marker\":{\"colorbar\":{\"outlinewidth\":0,\"ticks\":\"\"}},\"type\":\"scatter3d\"}],\"scattercarpet\":[{\"marker\":{\"colorbar\":{\"outlinewidth\":0,\"ticks\":\"\"}},\"type\":\"scattercarpet\"}],\"scattergeo\":[{\"marker\":{\"colorbar\":{\"outlinewidth\":0,\"ticks\":\"\"}},\"type\":\"scattergeo\"}],\"scattergl\":[{\"marker\":{\"colorbar\":{\"outlinewidth\":0,\"ticks\":\"\"}},\"type\":\"scattergl\"}],\"scattermapbox\":[{\"marker\":{\"colorbar\":{\"outlinewidth\":0,\"ticks\":\"\"}},\"type\":\"scattermapbox\"}],\"scatterpolar\":[{\"marker\":{\"colorbar\":{\"outlinewidth\":0,\"ticks\":\"\"}},\"type\":\"scatterpolar\"}],\"scatterpolargl\":[{\"marker\":{\"colorbar\":{\"outlinewidth\":0,\"ticks\":\"\"}},\"type\":\"scatterpolargl\"}],\"scatterternary\":[{\"marker\":{\"colorbar\":{\"outlinewidth\":0,\"ticks\":\"\"}},\"type\":\"scatterternary\"}],\"surface\":[{\"colorbar\":{\"outlinewidth\":0,\"ticks\":\"\"},\"colorscale\":[[0.0,\"#0d0887\"],[0.1111111111111111,\"#46039f\"],[0.2222222222222222,\"#7201a8\"],[0.3333333333333333,\"#9c179e\"],[0.4444444444444444,\"#bd3786\"],[0.5555555555555556,\"#d8576b\"],[0.6666666666666666,\"#ed7953\"],[0.7777777777777778,\"#fb9f3a\"],[0.8888888888888888,\"#fdca26\"],[1.0,\"#f0f921\"]],\"type\":\"surface\"}],\"table\":[{\"cells\":{\"fill\":{\"color\":\"#EBF0F8\"},\"line\":{\"color\":\"white\"}},\"header\":{\"fill\":{\"color\":\"#C8D4E3\"},\"line\":{\"color\":\"white\"}},\"type\":\"table\"}]},\"layout\":{\"annotationdefaults\":{\"arrowcolor\":\"#2a3f5f\",\"arrowhead\":0,\"arrowwidth\":1},\"autotypenumbers\":\"strict\",\"coloraxis\":{\"colorbar\":{\"outlinewidth\":0,\"ticks\":\"\"}},\"colorscale\":{\"diverging\":[[0,\"#8e0152\"],[0.1,\"#c51b7d\"],[0.2,\"#de77ae\"],[0.3,\"#f1b6da\"],[0.4,\"#fde0ef\"],[0.5,\"#f7f7f7\"],[0.6,\"#e6f5d0\"],[0.7,\"#b8e186\"],[0.8,\"#7fbc41\"],[0.9,\"#4d9221\"],[1,\"#276419\"]],\"sequential\":[[0.0,\"#0d0887\"],[0.1111111111111111,\"#46039f\"],[0.2222222222222222,\"#7201a8\"],[0.3333333333333333,\"#9c179e\"],[0.4444444444444444,\"#bd3786\"],[0.5555555555555556,\"#d8576b\"],[0.6666666666666666,\"#ed7953\"],[0.7777777777777778,\"#fb9f3a\"],[0.8888888888888888,\"#fdca26\"],[1.0,\"#f0f921\"]],\"sequentialminus\":[[0.0,\"#0d0887\"],[0.1111111111111111,\"#46039f\"],[0.2222222222222222,\"#7201a8\"],[0.3333333333333333,\"#9c179e\"],[0.4444444444444444,\"#bd3786\"],[0.5555555555555556,\"#d8576b\"],[0.6666666666666666,\"#ed7953\"],[0.7777777777777778,\"#fb9f3a\"],[0.8888888888888888,\"#fdca26\"],[1.0,\"#f0f921\"]]},\"colorway\":[\"#636efa\",\"#EF553B\",\"#00cc96\",\"#ab63fa\",\"#FFA15A\",\"#19d3f3\",\"#FF6692\",\"#B6E880\",\"#FF97FF\",\"#FECB52\"],\"font\":{\"color\":\"#2a3f5f\"},\"geo\":{\"bgcolor\":\"white\",\"lakecolor\":\"white\",\"landcolor\":\"#E5ECF6\",\"showlakes\":true,\"showland\":true,\"subunitcolor\":\"white\"},\"hoverlabel\":{\"align\":\"left\"},\"hovermode\":\"closest\",\"mapbox\":{\"style\":\"light\"},\"paper_bgcolor\":\"white\",\"plot_bgcolor\":\"#E5ECF6\",\"polar\":{\"angularaxis\":{\"gridcolor\":\"white\",\"linecolor\":\"white\",\"ticks\":\"\"},\"bgcolor\":\"#E5ECF6\",\"radialaxis\":{\"gridcolor\":\"white\",\"linecolor\":\"white\",\"ticks\":\"\"}},\"scene\":{\"xaxis\":{\"backgroundcolor\":\"#E5ECF6\",\"gridcolor\":\"white\",\"gridwidth\":2,\"linecolor\":\"white\",\"showbackground\":true,\"ticks\":\"\",\"zerolinecolor\":\"white\"},\"yaxis\":{\"backgroundcolor\":\"#E5ECF6\",\"gridcolor\":\"white\",\"gridwidth\":2,\"linecolor\":\"white\",\"showbackground\":true,\"ticks\":\"\",\"zerolinecolor\":\"white\"},\"zaxis\":{\"backgroundcolor\":\"#E5ECF6\",\"gridcolor\":\"white\",\"gridwidth\":2,\"linecolor\":\"white\",\"showbackground\":true,\"ticks\":\"\",\"zerolinecolor\":\"white\"}},\"shapedefaults\":{\"line\":{\"color\":\"#2a3f5f\"}},\"ternary\":{\"aaxis\":{\"gridcolor\":\"white\",\"linecolor\":\"white\",\"ticks\":\"\"},\"baxis\":{\"gridcolor\":\"white\",\"linecolor\":\"white\",\"ticks\":\"\"},\"bgcolor\":\"#E5ECF6\",\"caxis\":{\"gridcolor\":\"white\",\"linecolor\":\"white\",\"ticks\":\"\"}},\"title\":{\"x\":0.05},\"xaxis\":{\"automargin\":true,\"gridcolor\":\"white\",\"linecolor\":\"white\",\"ticks\":\"\",\"title\":{\"standoff\":15},\"zerolinecolor\":\"white\",\"zerolinewidth\":2},\"yaxis\":{\"automargin\":true,\"gridcolor\":\"white\",\"linecolor\":\"white\",\"ticks\":\"\",\"title\":{\"standoff\":15},\"zerolinecolor\":\"white\",\"zerolinewidth\":2}}},\"xaxis\":{\"anchor\":\"y\",\"domain\":[0.0,1.0],\"title\":{\"text\":\"ts\"},\"showline\":true,\"mirror\":true},\"yaxis\":{\"anchor\":\"x\",\"domain\":[0.815625,1.0],\"title\":{\"text\":\"y\"},\"showline\":true,\"mirror\":true},\"xaxis2\":{\"anchor\":\"y2\",\"domain\":[0.0,1.0],\"title\":{\"text\":\"ts\"},\"showline\":true,\"mirror\":true},\"yaxis2\":{\"anchor\":\"x2\",\"domain\":[0.54375,0.7281249999999999],\"title\":{\"text\":\"trend\"},\"showline\":true,\"mirror\":true},\"xaxis3\":{\"anchor\":\"y3\",\"domain\":[0.0,1.0],\"title\":{\"text\":\"ts\"},\"showline\":true,\"mirror\":true},\"yaxis3\":{\"anchor\":\"x3\",\"domain\":[0.271875,0.45625],\"title\":{\"text\":\"autoregression\"},\"showline\":true,\"mirror\":true},\"xaxis4\":{\"anchor\":\"y4\",\"domain\":[0.0,1.0],\"title\":{\"text\":\"ts\"},\"showline\":true,\"mirror\":true},\"yaxis4\":{\"anchor\":\"x4\",\"domain\":[0.0,0.184375],\"title\":{\"text\":\"residual\"},\"showline\":true,\"mirror\":true},\"title\":{\"text\":\"Component plots\",\"x\":0.5},\"showlegend\":true,\"height\":1400},                        {\"responsive\": true}                    ).then(function(){\n",
       "                            \n",
       "var gd = document.getElementById('b89f125f-3c46-4a72-b9b6-7d7ac35f2d1c');\n",
       "var x = new MutationObserver(function (mutations, observer) {{\n",
       "        var display = window.getComputedStyle(gd).display;\n",
       "        if (!display || display === 'none') {{\n",
       "            console.log([gd, 'removed!']);\n",
       "            Plotly.purge(gd);\n",
       "            observer.disconnect();\n",
       "        }}\n",
       "}});\n",
       "\n",
       "// Listen for the removal of the full notebook cells\n",
       "var notebookContainer = gd.closest('#notebook-container');\n",
       "if (notebookContainer) {{\n",
       "    x.observe(notebookContainer, {childList: true});\n",
       "}}\n",
       "\n",
       "// Listen for the clearing of the current output cell\n",
       "var outputEl = gd.closest('.output');\n",
       "if (outputEl) {{\n",
       "    x.observe(outputEl, {childList: true});\n",
       "}}\n",
       "\n",
       "                        })                };                            </script>        </div>\n",
       "</body>\n",
       "</html>"
      ]
     },
     "metadata": {},
     "output_type": "display_data"
    }
   ],
   "source": [
    "fig = forecast.plot_components()\n",
    "plotly.io.show(fig)"
   ]
  },
  {
   "cell_type": "markdown",
   "metadata": {
    "id": "ZKxfhAwwvrhQ"
   },
   "source": [
    "\n",
    "\n",
    "Ajuste un modelo con estacionalidad variable en el tiempo (efecto mes).\n",
    "\n",
    "Esto se logra agregando ``\"ct1*C(mes)\"`` a ``ModelComponentsParam``.\n",
    "\n",
    "Esta característica puede o no ser útil en su caso de uso.\n",
    "\n",
    "Esto solo con fines de demostración.\n",
    "\n",
    "En este ejemplo, aunque el ajuste ha mejorado, el backtest es inferior al ajuste anterior."
   ]
  },
  {
   "cell_type": "code",
   "execution_count": 16,
   "metadata": {
    "colab": {
     "base_uri": "https://localhost:8080/",
     "height": 0
    },
    "id": "6MgH23YtvrhQ",
    "outputId": "1467e802-f668-4328-d97e-e9d39db905b6"
   },
   "outputs": [
    {
     "name": "stdout",
     "output_type": "stream",
     "text": [
      "Fitting 5 folds for each of 1 candidates, totalling 5 fits\n"
     ]
    },
    {
     "name": "stderr",
     "output_type": "stream",
     "text": [
      "/usr/local/lib/python3.8/dist-packages/greykite/algo/forecast/silverkite/forecast_silverkite.py:2546: UserWarning:\n",
      "\n",
      "``fut_df`` does not have regular time increments\n",
      "\n",
      "/usr/local/lib/python3.8/dist-packages/greykite/algo/forecast/silverkite/forecast_silverkite.py:2546: UserWarning:\n",
      "\n",
      "``fut_df`` does not have regular time increments\n",
      "\n",
      "/usr/local/lib/python3.8/dist-packages/greykite/algo/forecast/silverkite/forecast_silverkite.py:2546: UserWarning:\n",
      "\n",
      "``fut_df`` does not have regular time increments\n",
      "\n",
      "/usr/local/lib/python3.8/dist-packages/greykite/algo/forecast/silverkite/forecast_silverkite.py:2546: UserWarning:\n",
      "\n",
      "``fut_df`` does not have regular time increments\n",
      "\n",
      "/usr/local/lib/python3.8/dist-packages/greykite/algo/forecast/silverkite/forecast_silverkite.py:2546: UserWarning:\n",
      "\n",
      "``fut_df`` does not have regular time increments\n",
      "\n",
      "/usr/local/lib/python3.8/dist-packages/greykite/algo/forecast/silverkite/forecast_silverkite.py:2546: UserWarning:\n",
      "\n",
      "``fut_df`` does not have regular time increments\n",
      "\n",
      "/usr/local/lib/python3.8/dist-packages/greykite/algo/forecast/silverkite/forecast_silverkite.py:2546: UserWarning:\n",
      "\n",
      "``fut_df`` does not have regular time increments\n",
      "\n",
      "/usr/local/lib/python3.8/dist-packages/greykite/algo/forecast/silverkite/forecast_silverkite.py:2546: UserWarning:\n",
      "\n",
      "``fut_df`` does not have regular time increments\n",
      "\n",
      "/usr/local/lib/python3.8/dist-packages/greykite/algo/forecast/silverkite/forecast_silverkite.py:2546: UserWarning:\n",
      "\n",
      "``fut_df`` does not have regular time increments\n",
      "\n",
      "/usr/local/lib/python3.8/dist-packages/greykite/algo/forecast/silverkite/forecast_silverkite.py:2546: UserWarning:\n",
      "\n",
      "``fut_df`` does not have regular time increments\n",
      "\n",
      "/usr/local/lib/python3.8/dist-packages/greykite/algo/forecast/silverkite/forecast_silverkite.py:2546: UserWarning:\n",
      "\n",
      "``fut_df`` does not have regular time increments\n",
      "\n",
      "/usr/local/lib/python3.8/dist-packages/greykite/algo/forecast/silverkite/forecast_silverkite.py:2546: UserWarning:\n",
      "\n",
      "``fut_df`` does not have regular time increments\n",
      "\n"
     ]
    },
    {
     "name": "stdout",
     "output_type": "stream",
     "text": [
      "================================ Model Summary =================================\n",
      "\n",
      "Number of observations: 108,   Number of features: 33\n",
      "Method: Ridge regression\n",
      "Number of nonzero features: 33\n",
      "Regularization parameter: 0.01269\n",
      "\n",
      "Residuals:\n",
      "         Min           1Q       Median           3Q          Max\n",
      "  -5.127e+04   -1.256e+04        752.4    1.392e+04    5.073e+04\n",
      "\n",
      "           Pred_col   Estimate  Std. Err Pr(>)_boot sig. code                    95%CI\n",
      "          Intercept -2.220e+04 2.070e+04      0.254            (-7.323e+04, 1.022e+04)\n",
      "C(month,... 13)))_2    -1857.0 2.432e+04      0.902            (-5.935e+04, 4.664e+04)\n",
      "C(month,... 13)))_3  3.125e+04 2.288e+04      0.124               (-4224.0, 8.796e+04)\n",
      "C(month,... 13)))_4  5.244e+04 2.336e+04      0.040         *   (2.262e+04, 1.151e+05)\n",
      "C(month,... 13)))_5  7.419e+04 2.139e+04      0.004        **   (4.432e+04, 1.339e+05)\n",
      "C(month,... 13)))_6  5.570e+04 2.268e+04      0.022         *   (2.319e+04, 1.116e+05)\n",
      "C(month,... 13)))_7  5.992e+04 2.393e+04      0.022         *   (3.003e+04, 1.211e+05)\n",
      "C(month,... 13)))_8  5.781e+04 2.344e+04      0.018         *   (2.389e+04, 1.170e+05)\n",
      "C(month,... 13)))_9  4.858e+04 2.627e+04      0.054         .   (1.829e+04, 1.219e+05)\n",
      "C(month,...13)))_10  3.069e+04 1.922e+04      0.108               (-3003.0, 8.138e+04)\n",
      "C(month,...13)))_11  2.508e+04 1.856e+04      0.134               (-2748.0, 7.212e+04)\n",
      "C(month,...13)))_12    -1322.0 1.768e+04      0.920            (-2.821e+04, 4.589e+04)\n",
      "            ct_sqrt  1.757e+05 6.215e+04      0.002        **   (4.446e+04, 2.833e+05)\n",
      "                ct1  3.731e+04 5.283e+04      0.516            (-5.080e+04, 1.418e+05)\n",
      "ct1:C(mo... 13)))_2  2.775e+04 4.225e+04      0.366            (-6.277e+04, 1.179e+05)\n",
      "ct1:C(mo... 13)))_3  7.465e+04 3.994e+04      0.082         .     (-6932.0, 1.561e+05)\n",
      "ct1:C(mo... 13)))_4  1.332e+05 4.019e+04      0.008        **   (4.149e+04, 2.076e+05)\n",
      "ct1:C(mo... 13)))_5  8.293e+04 3.497e+04      0.030         *      (6899.0, 1.511e+05)\n",
      "ct1:C(mo... 13)))_6  1.336e+05 3.205e+04      0.002        **   (6.586e+04, 1.981e+05)\n",
      "ct1:C(mo... 13)))_7  1.330e+05 3.677e+04     <2e-16       ***   (5.579e+04, 2.046e+05)\n",
      "ct1:C(mo... 13)))_8  1.329e+05 3.442e+04     <2e-16       ***   (6.240e+04, 2.024e+05)\n",
      "ct1:C(mo... 13)))_9  9.543e+04 4.804e+04      0.046         *     (-4095.0, 1.808e+05)\n",
      "ct1:C(mo...13)))_10  1.198e+05 3.119e+04      0.004        **   (4.243e+04, 1.779e+05)\n",
      "ct1:C(mo...13)))_11    -6389.0 3.267e+04      0.826            (-7.271e+04, 6.508e+04)\n",
      "ct1:C(mo...13)))_12     1972.0 3.171e+04      0.954            (-7.442e+04, 5.083e+04)\n",
      "  cp0_2011_12_31_00     6598.0 3.688e+04      0.846            (-6.065e+04, 8.740e+04)\n",
      "  cp1_2012_01_30_00    -9129.0 3.871e+04      0.830            (-7.582e+04, 7.087e+04)\n",
      "  cp2_2012_12_31_00 -6.343e+04 5.890e+04      0.258            (-1.869e+05, 5.925e+04)\n",
      "  cp3_2014_12_30_00    -6911.0 5.578e+04      0.900            (-1.171e+05, 9.395e+04)\n",
      "  cp4_2015_02_01_00  3.416e+04 4.078e+04      0.432            (-4.588e+04, 1.072e+05)\n",
      "  cp5_2015_04_29_00 -2.803e+04 9.079e+04      0.746            (-1.954e+05, 1.612e+05)\n",
      "  cp6_2017_08_31_00 -5.819e+04 2.130e+04      0.006        ** (-9.607e+04, -1.688e+04)\n",
      "             y_lag1  1.281e+05 5.356e+04      0.020         *   (3.304e+04, 2.408e+05)\n",
      "Signif. Code: 0 '***' 0.001 '**' 0.01 '*' 0.05 '.' 0.1 ' ' 1\n",
      "\n",
      "Multiple R-squared: 0.9678,   Adjusted R-squared: 0.9566\n",
      "F-statistic: 85.908 on 27 and 79 DF,   p-value: 1.110e-16\n",
      "Model AIC: 2690.2,   model BIC: 2767.1\n",
      "\n",
      "WARNING: the condition number is large, 2.75e+04. This might indicate that there are strong multicollinearity or other numerical problems.\n",
      "WARNING: the F-ratio and its p-value on regularized methods might be misleading, they are provided only for reference purposes.\n",
      "\n",
      "                                                  0\n",
      "rank_test_MAPE                                    1\n",
      "mean_test_MAPE                                 8.16\n",
      "split_test_MAPE      (3.0, 8.84, 6.12, 17.98, 4.84)\n",
      "mean_train_MAPE                               12.42\n",
      "split_train_MAPE  (15.4, 11.02, 11.4, 11.17, 13.12)\n",
      "mean_fit_time                                  1.71\n",
      "mean_score_time                                2.26\n",
      "params                                           []\n",
      "                                                               train  \\\n",
      "CORR                                                        0.983665   \n",
      "R2                                                          0.967592   \n",
      "MSE                                                 356082880.527499   \n",
      "RMSE                                                    18870.158466   \n",
      "MAE                                                      15056.50024   \n",
      "MedAE                                                    13205.77968   \n",
      "MAPE                                                       13.832901   \n",
      "MedAPE                                                       6.51192   \n",
      "sMAPE                                                       5.013717   \n",
      "Q80                                                       7528.25012   \n",
      "Q95                                                       7528.25012   \n",
      "Q99                                                       7528.25012   \n",
      "OutsideTolerance1p                                          0.913462   \n",
      "OutsideTolerance2p                                          0.798077   \n",
      "OutsideTolerance3p                                          0.759615   \n",
      "OutsideTolerance4p                                          0.701923   \n",
      "OutsideTolerance5p                                             0.625   \n",
      "Outside Tolerance (fraction)                                    None   \n",
      "R2_null_model_score                                             None   \n",
      "Prediction Band Width (%)                                  63.012221   \n",
      "Prediction Band Coverage (fraction)                         0.923077   \n",
      "Coverage: Lower Band                                        0.442308   \n",
      "Coverage: Upper Band                                        0.480769   \n",
      "Coverage Diff: Actual_Coverage - Intended_Coverage         -0.026923   \n",
      "\n",
      "                                                                 test  \n",
      "CORR                                                         0.952414  \n",
      "R2                                                         -22.440179  \n",
      "MSE                                                 1715449037.000645  \n",
      "RMSE                                                     41417.979634  \n",
      "MAE                                                      38680.183183  \n",
      "MedAE                                                    44107.398203  \n",
      "MAPE                                                        10.929964  \n",
      "MedAPE                                                      12.427167  \n",
      "sMAPE                                                        5.145665  \n",
      "Q80                                                       7736.036637  \n",
      "Q95                                                       1934.009159  \n",
      "Q99                                                        386.801832  \n",
      "OutsideTolerance1p                                                1.0  \n",
      "OutsideTolerance2p                                                1.0  \n",
      "OutsideTolerance3p                                                1.0  \n",
      "OutsideTolerance4p                                                1.0  \n",
      "OutsideTolerance5p                                               0.75  \n",
      "Outside Tolerance (fraction)                                     None  \n",
      "R2_null_model_score                                              None  \n",
      "Prediction Band Width (%)                                   13.792769  \n",
      "Prediction Band Coverage (fraction)                              0.25  \n",
      "Coverage: Lower Band                                             0.25  \n",
      "Coverage: Upper Band                                              0.0  \n",
      "Coverage Diff: Actual_Coverage - Intended_Coverage               -0.7  \n"
     ]
    }
   ],
   "source": [
    "extra_pred_cols = [\"ct_sqrt\", \"ct1\", \"C(month, levels=list(range(1, 13)))\",\n",
    "                   \"ct1*C(month, levels=list(range(1, 13)))\"]\n",
    "autoregression = {\n",
    "    \"autoreg_dict\": {\n",
    "        \"lag_dict\": {\"orders\": [1]},\n",
    "        \"agg_lag_dict\": None\n",
    "    }\n",
    "}\n",
    "\n",
    "# Specify the model parameters\n",
    "model_components = ModelComponentsParam(\n",
    "    growth=dict(growth_term=None),\n",
    "    seasonality=dict(\n",
    "        yearly_seasonality=[False],\n",
    "        quarterly_seasonality=[False],\n",
    "        monthly_seasonality=[False],\n",
    "        weekly_seasonality=[False],\n",
    "        daily_seasonality=[False]\n",
    "    ),\n",
    "    custom=dict(\n",
    "        fit_algorithm_dict=dict(fit_algorithm=\"ridge\"),\n",
    "        extra_pred_cols=extra_pred_cols\n",
    "    ),\n",
    "    regressors=dict(regressor_cols=None),\n",
    "    autoregression=autoregression,\n",
    "    uncertainty=dict(uncertainty_dict=None),\n",
    "    events=dict(holiday_lookup_countries=None),\n",
    ")\n",
    "\n",
    "# Run the forecast model\n",
    "forecaster = Forecaster()\n",
    "result = forecaster.run_forecast_config(\n",
    "    df=df,\n",
    "    config=ForecastConfig(\n",
    "        model_template=ModelTemplateEnum.SILVERKITE.name,\n",
    "        coverage=0.95,\n",
    "        forecast_horizon=forecast_horizon,\n",
    "        metadata_param=meta_data_params,\n",
    "        evaluation_period_param=evaluation_period_param,\n",
    "        model_components_param=model_components\n",
    "    )\n",
    ")\n",
    "\n",
    "# Get the useful fields from the forecast result\n",
    "model = result.model[-1]\n",
    "backtest = result.backtest\n",
    "forecast = result.forecast\n",
    "grid_search = result.grid_search\n",
    "\n",
    "# Check model coefficients / variables\n",
    "# Get model summary with p-values\n",
    "print(model.summary())\n",
    "\n",
    "# Get cross-validation results\n",
    "cv_results = summarize_grid_search_results(\n",
    "    grid_search=grid_search,\n",
    "    decimals=2,\n",
    "    cv_report_metrics=None,\n",
    "    column_order=[\n",
    "        \"rank\", \"mean_test\", \"split_test\", \"mean_train\", \"split_train\",\n",
    "        \"mean_fit_time\", \"mean_score_time\", \"params\"])\n",
    "# Transposes to save space in the printed output\n",
    "print(cv_results.transpose())\n",
    "\n",
    "# Check historical evaluation metrics (on the historical training/test set).\n",
    "backtest_eval = defaultdict(list)\n",
    "for metric, value in backtest.train_evaluation.items():\n",
    "    backtest_eval[metric].append(value)\n",
    "    backtest_eval[metric].append(backtest.test_evaluation[metric])\n",
    "metrics = pd.DataFrame(backtest_eval, index=[\"train\", \"test\"]).T\n",
    "print(metrics)"
   ]
  },
  {
   "cell_type": "markdown",
   "metadata": {
    "id": "dM5IfYnhvrhQ"
   },
   "source": [
    "Fit/backtest plot:\n",
    "\n"
   ]
  },
  {
   "cell_type": "code",
   "execution_count": 17,
   "metadata": {
    "colab": {
     "base_uri": "https://localhost:8080/",
     "height": 542
    },
    "id": "Uv15BbLRvrhQ",
    "outputId": "4f77cc25-3dbc-4617-958d-f576edc31c0f"
   },
   "outputs": [
    {
     "data": {
      "text/html": [
       "<html>\n",
       "<head><meta charset=\"utf-8\" /></head>\n",
       "<body>\n",
       "    <div>            <script src=\"https://cdnjs.cloudflare.com/ajax/libs/mathjax/2.7.5/MathJax.js?config=TeX-AMS-MML_SVG\"></script><script type=\"text/javascript\">if (window.MathJax) {MathJax.Hub.Config({SVG: {font: \"STIX-Web\"}});}</script>                <script type=\"text/javascript\">window.PlotlyConfig = {MathJaxConfig: 'local'};</script>\n",
       "        <script src=\"https://cdn.plot.ly/plotly-2.8.3.min.js\"></script>                <div id=\"a37b1602-7322-48ba-bfd2-b08bea8c4ff2\" class=\"plotly-graph-div\" style=\"height:525px; width:100%;\"></div>            <script type=\"text/javascript\">                                    window.PLOTLYENV=window.PLOTLYENV || {};                                    if (document.getElementById(\"a37b1602-7322-48ba-bfd2-b08bea8c4ff2\")) {                    Plotly.newPlot(                        \"a37b1602-7322-48ba-bfd2-b08bea8c4ff2\",                        [{\"legendgroup\":\"interval\",\"line\":{\"color\":\"rgba(0, 90, 181, 0.5)\",\"width\":0.0},\"mode\":\"lines\",\"name\":\"Lower Bound\",\"x\":[\"2010-09-01T00:00:00\",\"2010-10-01T00:00:00\",\"2010-11-01T00:00:00\",\"2010-12-01T00:00:00\",\"2011-01-01T00:00:00\",\"2011-02-01T00:00:00\",\"2011-03-01T00:00:00\",\"2011-04-01T00:00:00\",\"2011-05-01T00:00:00\",\"2011-06-01T00:00:00\",\"2011-07-01T00:00:00\",\"2011-08-01T00:00:00\",\"2011-09-01T00:00:00\",\"2011-10-01T00:00:00\",\"2011-11-01T00:00:00\",\"2011-12-01T00:00:00\",\"2012-01-01T00:00:00\",\"2012-02-01T00:00:00\",\"2012-03-01T00:00:00\",\"2012-04-01T00:00:00\",\"2012-05-01T00:00:00\",\"2012-06-01T00:00:00\",\"2012-07-01T00:00:00\",\"2012-08-01T00:00:00\",\"2012-09-01T00:00:00\",\"2012-10-01T00:00:00\",\"2012-11-01T00:00:00\",\"2012-12-01T00:00:00\",\"2013-01-01T00:00:00\",\"2013-02-01T00:00:00\",\"2013-03-01T00:00:00\",\"2013-04-01T00:00:00\",\"2013-05-01T00:00:00\",\"2013-06-01T00:00:00\",\"2013-07-01T00:00:00\",\"2013-08-01T00:00:00\",\"2013-09-01T00:00:00\",\"2013-10-01T00:00:00\",\"2013-11-01T00:00:00\",\"2013-12-01T00:00:00\",\"2014-01-01T00:00:00\",\"2014-02-01T00:00:00\",\"2014-03-01T00:00:00\",\"2014-04-01T00:00:00\",\"2014-05-01T00:00:00\",\"2014-06-01T00:00:00\",\"2014-07-01T00:00:00\",\"2014-08-01T00:00:00\",\"2014-09-01T00:00:00\",\"2014-10-01T00:00:00\",\"2014-11-01T00:00:00\",\"2014-12-01T00:00:00\",\"2015-01-01T00:00:00\",\"2015-02-01T00:00:00\",\"2015-03-01T00:00:00\",\"2015-04-01T00:00:00\",\"2015-05-01T00:00:00\",\"2015-06-01T00:00:00\",\"2015-07-01T00:00:00\",\"2015-08-01T00:00:00\",\"2015-09-01T00:00:00\",\"2015-10-01T00:00:00\",\"2015-11-01T00:00:00\",\"2015-12-01T00:00:00\",\"2016-01-01T00:00:00\",\"2016-02-01T00:00:00\",\"2016-03-01T00:00:00\",\"2016-04-01T00:00:00\",\"2016-05-01T00:00:00\",\"2016-06-01T00:00:00\",\"2016-07-01T00:00:00\",\"2016-08-01T00:00:00\",\"2016-09-01T00:00:00\",\"2016-10-01T00:00:00\",\"2016-11-01T00:00:00\",\"2016-12-01T00:00:00\",\"2017-01-01T00:00:00\",\"2017-02-01T00:00:00\",\"2017-03-01T00:00:00\",\"2017-04-01T00:00:00\",\"2017-05-01T00:00:00\",\"2017-06-01T00:00:00\",\"2017-07-01T00:00:00\",\"2017-08-01T00:00:00\",\"2017-09-01T00:00:00\",\"2017-10-01T00:00:00\",\"2017-11-01T00:00:00\",\"2017-12-01T00:00:00\",\"2018-01-01T00:00:00\",\"2018-02-01T00:00:00\",\"2018-03-01T00:00:00\",\"2018-04-01T00:00:00\",\"2018-05-01T00:00:00\",\"2018-06-01T00:00:00\",\"2018-07-01T00:00:00\",\"2018-08-01T00:00:00\",\"2018-09-01T00:00:00\",\"2018-10-01T00:00:00\",\"2018-11-01T00:00:00\",\"2018-12-01T00:00:00\",\"2019-01-01T00:00:00\",\"2019-02-01T00:00:00\",\"2019-03-01T00:00:00\",\"2019-04-01T00:00:00\",\"2019-05-01T00:00:00\",\"2019-06-01T00:00:00\",\"2019-07-01T00:00:00\",\"2019-08-01T00:00:00\"],\"y\":[-10696.611643957287,-9130.600693545275,928.8450446733768,-16109.039737722102,-15688.689901296086,-8923.563625094932,33960.86713808677,69539.99952898565,100026.68958265797,99421.6122949908,110378.49951175711,113603.27173491736,107024.06475282874,93220.56242549221,72130.53327658237,42826.88189600901,41480.91646579862,49466.64631521301,95252.73318814786,149213.46724471846,167541.50841992395,167118.59847411697,176540.5204401476,178871.86445095588,171658.66476933216,163635.51643425948,121536.50136748565,84914.22438292165,78351.32558786639,85951.86406991695,129829.00601457464,185433.7885795532,217937.5257437426,221317.12109167216,228443.9063882918,232681.8826400361,223238.2664857328,213699.66933143744,152534.9743736232,110553.37172749126,94563.18445750914,97459.57548748323,153841.19727328484,214832.427427175,249412.74046493456,266401.9525484338,275025.49450078583,277437.99198659643,255714.76042619842,251540.92898127367,174938.35879344412,122047.57575097476,108415.57997805122,114568.82641445898,168119.04889468462,246889.0873106477,284408.5525490928,311579.73275795666,301469.6048548032,313955.61744879565,290008.7682577538,276795.7349603851,180855.54016378877,139418.5746201051,126331.07889806933,123462.23172333435,194105.86144141795,295820.92804529134,290776.1734226331,311706.64250749146,339664.6008066959,336447.0246413041,305505.7595372096,301740.79728019633,200651.4407170266,153175.14589527276,125219.3321089326,145789.74751597238,230293.19207761763,304339.7948773521,328743.1152572453,348135.1216923581,369968.86389605637,366098.55135253485,335070.37056462216,332664.9406495156,212443.70033634355,149620.60107537755,123832.0674091664,141166.43677000783,218515.03973005997,308364.13142587885,317166.7443491934,362459.7618414151,370407.11516656337,367764.7250719907,329091.30659916287,309956.6608043851,180884.50682642873,116090.25643671287,104233.85945651698,119637.5481214759,200587.23668410542,308588.271731932,333808.30802528275,380519.37627541024,373202.4316250633,374156.6316578444],\"type\":\"scatter\"},{\"fill\":\"tonexty\",\"fillcolor\":\"rgba(0, 90, 181, 0.15)\",\"legendgroup\":\"interval\",\"line\":{\"color\":\"rgba(0, 90, 181, 0.5)\",\"width\":0.0},\"mode\":\"lines\",\"name\":\"Upper Bound\",\"x\":[\"2010-09-01T00:00:00\",\"2010-10-01T00:00:00\",\"2010-11-01T00:00:00\",\"2010-12-01T00:00:00\",\"2011-01-01T00:00:00\",\"2011-02-01T00:00:00\",\"2011-03-01T00:00:00\",\"2011-04-01T00:00:00\",\"2011-05-01T00:00:00\",\"2011-06-01T00:00:00\",\"2011-07-01T00:00:00\",\"2011-08-01T00:00:00\",\"2011-09-01T00:00:00\",\"2011-10-01T00:00:00\",\"2011-11-01T00:00:00\",\"2011-12-01T00:00:00\",\"2012-01-01T00:00:00\",\"2012-02-01T00:00:00\",\"2012-03-01T00:00:00\",\"2012-04-01T00:00:00\",\"2012-05-01T00:00:00\",\"2012-06-01T00:00:00\",\"2012-07-01T00:00:00\",\"2012-08-01T00:00:00\",\"2012-09-01T00:00:00\",\"2012-10-01T00:00:00\",\"2012-11-01T00:00:00\",\"2012-12-01T00:00:00\",\"2013-01-01T00:00:00\",\"2013-02-01T00:00:00\",\"2013-03-01T00:00:00\",\"2013-04-01T00:00:00\",\"2013-05-01T00:00:00\",\"2013-06-01T00:00:00\",\"2013-07-01T00:00:00\",\"2013-08-01T00:00:00\",\"2013-09-01T00:00:00\",\"2013-10-01T00:00:00\",\"2013-11-01T00:00:00\",\"2013-12-01T00:00:00\",\"2014-01-01T00:00:00\",\"2014-02-01T00:00:00\",\"2014-03-01T00:00:00\",\"2014-04-01T00:00:00\",\"2014-05-01T00:00:00\",\"2014-06-01T00:00:00\",\"2014-07-01T00:00:00\",\"2014-08-01T00:00:00\",\"2014-09-01T00:00:00\",\"2014-10-01T00:00:00\",\"2014-11-01T00:00:00\",\"2014-12-01T00:00:00\",\"2015-01-01T00:00:00\",\"2015-02-01T00:00:00\",\"2015-03-01T00:00:00\",\"2015-04-01T00:00:00\",\"2015-05-01T00:00:00\",\"2015-06-01T00:00:00\",\"2015-07-01T00:00:00\",\"2015-08-01T00:00:00\",\"2015-09-01T00:00:00\",\"2015-10-01T00:00:00\",\"2015-11-01T00:00:00\",\"2015-12-01T00:00:00\",\"2016-01-01T00:00:00\",\"2016-02-01T00:00:00\",\"2016-03-01T00:00:00\",\"2016-04-01T00:00:00\",\"2016-05-01T00:00:00\",\"2016-06-01T00:00:00\",\"2016-07-01T00:00:00\",\"2016-08-01T00:00:00\",\"2016-09-01T00:00:00\",\"2016-10-01T00:00:00\",\"2016-11-01T00:00:00\",\"2016-12-01T00:00:00\",\"2017-01-01T00:00:00\",\"2017-02-01T00:00:00\",\"2017-03-01T00:00:00\",\"2017-04-01T00:00:00\",\"2017-05-01T00:00:00\",\"2017-06-01T00:00:00\",\"2017-07-01T00:00:00\",\"2017-08-01T00:00:00\",\"2017-09-01T00:00:00\",\"2017-10-01T00:00:00\",\"2017-11-01T00:00:00\",\"2017-12-01T00:00:00\",\"2018-01-01T00:00:00\",\"2018-02-01T00:00:00\",\"2018-03-01T00:00:00\",\"2018-04-01T00:00:00\",\"2018-05-01T00:00:00\",\"2018-06-01T00:00:00\",\"2018-07-01T00:00:00\",\"2018-08-01T00:00:00\",\"2018-09-01T00:00:00\",\"2018-10-01T00:00:00\",\"2018-11-01T00:00:00\",\"2018-12-01T00:00:00\",\"2019-01-01T00:00:00\",\"2019-02-01T00:00:00\",\"2019-03-01T00:00:00\",\"2019-04-01T00:00:00\",\"2019-05-01T00:00:00\",\"2019-06-01T00:00:00\",\"2019-07-01T00:00:00\",\"2019-08-01T00:00:00\"],\"y\":[63631.2589978541,65197.26994826611,75256.71568648476,58218.830904089285,58639.1807405153,65404.307016716455,108288.73777989816,143867.87017079702,174354.56022446937,173749.4829368022,184706.3701535685,187931.14237672876,181351.93539464014,167548.43306730362,146458.40391839377,117154.7525378204,115808.78710761,123794.5169570244,169580.60382995926,223541.33788652986,241869.37906173535,241446.46911592837,250868.391081959,253199.73509276728,245986.53541114356,237963.38707607088,195864.37200929705,159242.09502473305,152679.1962296778,160279.73471172835,204156.87665638604,259761.6592213646,292265.396385554,295644.99173348356,302771.7770301032,307009.7532818475,297566.1371275442,288027.53997324884,226862.8450154346,184881.24236930266,168891.05509932054,171787.44612929464,228169.06791509624,289160.2980689864,323740.61110674596,340729.8231902452,349353.36514259723,351765.86262840783,330042.6310680098,325868.79962308507,249266.22943525552,196375.44639278617,182743.45061986262,188896.69705627038,242446.91953649602,321216.9579524591,358736.4231909042,385907.60339976806,375797.4754966146,388283.48809060705,364336.6388995652,351123.6056021965,255183.41080560017,213746.4452619165,200658.94953988073,197790.10236514575,268433.73208322935,370148.79868710274,365104.0440644445,386034.51314930286,413992.4714485073,410774.8952831155,379833.630179021,376068.66792200773,274979.311358838,227503.01653708416,199547.202750744,220117.61815778379,304621.062719429,378667.6655191635,403070.9858990567,422462.9923341695,444296.7345378678,440426.42199434625,409398.24120643357,406992.811291327,286771.57097815495,223948.47171718895,198159.9380509778,215494.30741181923,292842.9103718714,382692.00206769025,391494.6149910048,436787.6324832265,444734.98580837477,442092.5957138021,403419.17724097427,384284.5314461965,255212.37746824013,190418.12707852427,178561.73009832838,193965.4187632873,274915.1073259168,382916.1423737434,365599.5801084865,421618.6947013753,441353.85639811313,427831.09101672325],\"type\":\"scatter\"},{\"line\":{\"color\":\"rgba(250, 43, 20, 0.7)\"},\"marker\":{\"color\":\"rgba(250, 43, 20, 0.7)\",\"size\":2.0},\"mode\":\"lines+markers\",\"name\":\"Actual\",\"opacity\":1.0,\"x\":[\"2010-09-01T00:00:00\",\"2010-10-01T00:00:00\",\"2010-11-01T00:00:00\",\"2010-12-01T00:00:00\",\"2011-01-01T00:00:00\",\"2011-02-01T00:00:00\",\"2011-03-01T00:00:00\",\"2011-04-01T00:00:00\",\"2011-05-01T00:00:00\",\"2011-06-01T00:00:00\",\"2011-07-01T00:00:00\",\"2011-08-01T00:00:00\",\"2011-09-01T00:00:00\",\"2011-10-01T00:00:00\",\"2011-11-01T00:00:00\",\"2011-12-01T00:00:00\",\"2012-01-01T00:00:00\",\"2012-02-01T00:00:00\",\"2012-03-01T00:00:00\",\"2012-04-01T00:00:00\",\"2012-05-01T00:00:00\",\"2012-06-01T00:00:00\",\"2012-07-01T00:00:00\",\"2012-08-01T00:00:00\",\"2012-09-01T00:00:00\",\"2012-10-01T00:00:00\",\"2012-11-01T00:00:00\",\"2012-12-01T00:00:00\",\"2013-01-01T00:00:00\",\"2013-02-01T00:00:00\",\"2013-03-01T00:00:00\",\"2013-04-01T00:00:00\",\"2013-05-01T00:00:00\",\"2013-06-01T00:00:00\",\"2013-07-01T00:00:00\",\"2013-08-01T00:00:00\",\"2013-09-01T00:00:00\",\"2013-10-01T00:00:00\",\"2013-11-01T00:00:00\",\"2013-12-01T00:00:00\",\"2014-01-01T00:00:00\",\"2014-02-01T00:00:00\",\"2014-03-01T00:00:00\",\"2014-04-01T00:00:00\",\"2014-05-01T00:00:00\",\"2014-06-01T00:00:00\",\"2014-07-01T00:00:00\",\"2014-08-01T00:00:00\",\"2014-09-01T00:00:00\",\"2014-10-01T00:00:00\",\"2014-11-01T00:00:00\",\"2014-12-01T00:00:00\",\"2015-01-01T00:00:00\",\"2015-02-01T00:00:00\",\"2015-03-01T00:00:00\",\"2015-04-01T00:00:00\",\"2015-05-01T00:00:00\",\"2015-06-01T00:00:00\",\"2015-07-01T00:00:00\",\"2015-08-01T00:00:00\",\"2015-09-01T00:00:00\",\"2015-10-01T00:00:00\",\"2015-11-01T00:00:00\",\"2015-12-01T00:00:00\",\"2016-01-01T00:00:00\",\"2016-02-01T00:00:00\",\"2016-03-01T00:00:00\",\"2016-04-01T00:00:00\",\"2016-05-01T00:00:00\",\"2016-06-01T00:00:00\",\"2016-07-01T00:00:00\",\"2016-08-01T00:00:00\",\"2016-09-01T00:00:00\",\"2016-10-01T00:00:00\",\"2016-11-01T00:00:00\",\"2016-12-01T00:00:00\",\"2017-01-01T00:00:00\",\"2017-02-01T00:00:00\",\"2017-03-01T00:00:00\",\"2017-04-01T00:00:00\",\"2017-05-01T00:00:00\",\"2017-06-01T00:00:00\",\"2017-07-01T00:00:00\",\"2017-08-01T00:00:00\",\"2017-09-01T00:00:00\",\"2017-10-01T00:00:00\",\"2017-11-01T00:00:00\",\"2017-12-01T00:00:00\",\"2018-01-01T00:00:00\",\"2018-02-01T00:00:00\",\"2018-03-01T00:00:00\",\"2018-04-01T00:00:00\",\"2018-05-01T00:00:00\",\"2018-06-01T00:00:00\",\"2018-07-01T00:00:00\",\"2018-08-01T00:00:00\",\"2018-09-01T00:00:00\",\"2018-10-01T00:00:00\",\"2018-11-01T00:00:00\",\"2018-12-01T00:00:00\",\"2019-01-01T00:00:00\",\"2019-02-01T00:00:00\",\"2019-03-01T00:00:00\",\"2019-04-01T00:00:00\",\"2019-05-01T00:00:00\",\"2019-06-01T00:00:00\",\"2019-07-01T00:00:00\",\"2019-08-01T00:00:00\"],\"y\":[4001,35949,47391,28253,37499,47538,63211,93048,133816,141709,139603,135018,125869,122105,101014,86328,95850,102254,163154,172520,193680,200620,201577,212070,216317,196874,151328,122656,124977,110090,157390,236423,250358,253876,267986,288700,282038,254591,192491,136609,112686,122672,165769,269495,306646,316641,327797,320890,323972,297921,197110,151567,127388,108058,188262,318295,367203,314276,363902,364456,328014,290339,228359,187349,123262,145646,283436,285528,288749,368043,366497,357324,344381,343295,259098,168728,174806,226305,245370,365973,339685,398684,397742,402521,391330,384901,252550,177932,168568,182362,238951,328939,374122,392256,404811,403896,325799,343026,202365,177581,150786,158105,253832,347955,337600,350221,356652,359982],\"type\":\"scatter\"},{\"line\":{\"color\":\"rgba(0, 90, 181, 0.7)\",\"dash\":\"solid\"},\"name\":\"Forecast\",\"x\":[\"2010-09-01T00:00:00\",\"2010-10-01T00:00:00\",\"2010-11-01T00:00:00\",\"2010-12-01T00:00:00\",\"2011-01-01T00:00:00\",\"2011-02-01T00:00:00\",\"2011-03-01T00:00:00\",\"2011-04-01T00:00:00\",\"2011-05-01T00:00:00\",\"2011-06-01T00:00:00\",\"2011-07-01T00:00:00\",\"2011-08-01T00:00:00\",\"2011-09-01T00:00:00\",\"2011-10-01T00:00:00\",\"2011-11-01T00:00:00\",\"2011-12-01T00:00:00\",\"2012-01-01T00:00:00\",\"2012-02-01T00:00:00\",\"2012-03-01T00:00:00\",\"2012-04-01T00:00:00\",\"2012-05-01T00:00:00\",\"2012-06-01T00:00:00\",\"2012-07-01T00:00:00\",\"2012-08-01T00:00:00\",\"2012-09-01T00:00:00\",\"2012-10-01T00:00:00\",\"2012-11-01T00:00:00\",\"2012-12-01T00:00:00\",\"2013-01-01T00:00:00\",\"2013-02-01T00:00:00\",\"2013-03-01T00:00:00\",\"2013-04-01T00:00:00\",\"2013-05-01T00:00:00\",\"2013-06-01T00:00:00\",\"2013-07-01T00:00:00\",\"2013-08-01T00:00:00\",\"2013-09-01T00:00:00\",\"2013-10-01T00:00:00\",\"2013-11-01T00:00:00\",\"2013-12-01T00:00:00\",\"2014-01-01T00:00:00\",\"2014-02-01T00:00:00\",\"2014-03-01T00:00:00\",\"2014-04-01T00:00:00\",\"2014-05-01T00:00:00\",\"2014-06-01T00:00:00\",\"2014-07-01T00:00:00\",\"2014-08-01T00:00:00\",\"2014-09-01T00:00:00\",\"2014-10-01T00:00:00\",\"2014-11-01T00:00:00\",\"2014-12-01T00:00:00\",\"2015-01-01T00:00:00\",\"2015-02-01T00:00:00\",\"2015-03-01T00:00:00\",\"2015-04-01T00:00:00\",\"2015-05-01T00:00:00\",\"2015-06-01T00:00:00\",\"2015-07-01T00:00:00\",\"2015-08-01T00:00:00\",\"2015-09-01T00:00:00\",\"2015-10-01T00:00:00\",\"2015-11-01T00:00:00\",\"2015-12-01T00:00:00\",\"2016-01-01T00:00:00\",\"2016-02-01T00:00:00\",\"2016-03-01T00:00:00\",\"2016-04-01T00:00:00\",\"2016-05-01T00:00:00\",\"2016-06-01T00:00:00\",\"2016-07-01T00:00:00\",\"2016-08-01T00:00:00\",\"2016-09-01T00:00:00\",\"2016-10-01T00:00:00\",\"2016-11-01T00:00:00\",\"2016-12-01T00:00:00\",\"2017-01-01T00:00:00\",\"2017-02-01T00:00:00\",\"2017-03-01T00:00:00\",\"2017-04-01T00:00:00\",\"2017-05-01T00:00:00\",\"2017-06-01T00:00:00\",\"2017-07-01T00:00:00\",\"2017-08-01T00:00:00\",\"2017-09-01T00:00:00\",\"2017-10-01T00:00:00\",\"2017-11-01T00:00:00\",\"2017-12-01T00:00:00\",\"2018-01-01T00:00:00\",\"2018-02-01T00:00:00\",\"2018-03-01T00:00:00\",\"2018-04-01T00:00:00\",\"2018-05-01T00:00:00\",\"2018-06-01T00:00:00\",\"2018-07-01T00:00:00\",\"2018-08-01T00:00:00\",\"2018-09-01T00:00:00\",\"2018-10-01T00:00:00\",\"2018-11-01T00:00:00\",\"2018-12-01T00:00:00\",\"2019-01-01T00:00:00\",\"2019-02-01T00:00:00\",\"2019-03-01T00:00:00\",\"2019-04-01T00:00:00\",\"2019-05-01T00:00:00\",\"2019-06-01T00:00:00\",\"2019-07-01T00:00:00\",\"2019-08-01T00:00:00\"],\"y\":[26467.323676948407,28033.33462736042,38092.78036557907,21054.895583183592,21475.245419609608,28240.37169581076,71124.80245899246,106703.93484989133,137190.62490356367,136585.5476158965,147542.4348326628,150767.20705582306,144188.00007373444,130384.49774639792,109294.46859748807,79990.8172169147,78644.85178670431,86630.5816361187,132416.66850905356,186377.40256562416,204705.44374082965,204282.53379502267,213704.4557610533,216035.79977186158,208822.60009023786,200799.45175516518,158700.43668839135,122078.15970382735,115515.26090877209,123115.79939082265,166992.94133548034,222597.7239004589,255101.4610646483,258481.05641257786,265607.8417091975,269845.8179609418,260402.2018066385,250863.60465234314,189698.9096945289,147717.30704839696,131727.11977841484,134623.51080838894,191005.13259419054,251996.3627480807,286576.67578584026,303565.8878693395,312189.42982169153,314601.92730750213,292878.6957471041,288704.86430217937,212102.29411434982,159211.51107188046,145579.51529895692,151732.76173536468,205282.98421559032,284053.0226315534,321572.4878699985,348743.66807886236,338633.5401757089,351119.55276970135,327172.7035786595,313959.6702812908,218019.47548469447,176582.5099410108,163495.01421897503,160626.16704424005,231269.79676232365,332984.86336619704,327940.1087435388,348870.57782839716,376828.5361276016,373610.9599622098,342669.6948581153,338904.73260110203,237815.3760379323,190339.08121617846,162383.2674298383,182953.68283687808,267457.1273985233,341503.7301982578,365907.050578151,385299.0570132638,407132.79921696207,403262.48667344055,372234.30588552787,369828.8759704213,249607.63565724925,186784.53639628325,160996.0027300721,178330.37209091353,255678.97505096567,345528.06674678455,354330.6796700991,399623.6971623208,407571.05048746907,404928.6603928964,366255.24192006857,347120.5961252908,218048.44214733443,153254.19175761857,141397.79477742268,156801.4834423816,237751.17200501112,345752.2070528377,351391.82293145556,395297.64140629506,409366.11339428567,403120.1550000998],\"type\":\"scatter\"}],                        {\"legend\":{\"traceorder\":\"reversed\"},\"showlegend\":true,\"title\":{\"text\":\"Forecast vs Actual\",\"x\":0.5},\"xaxis\":{\"title\":{\"text\":\"ts\"}},\"yaxis\":{\"title\":{\"text\":\"count\"}},\"template\":{\"data\":{\"bar\":[{\"error_x\":{\"color\":\"#2a3f5f\"},\"error_y\":{\"color\":\"#2a3f5f\"},\"marker\":{\"line\":{\"color\":\"#E5ECF6\",\"width\":0.5},\"pattern\":{\"fillmode\":\"overlay\",\"size\":10,\"solidity\":0.2}},\"type\":\"bar\"}],\"barpolar\":[{\"marker\":{\"line\":{\"color\":\"#E5ECF6\",\"width\":0.5},\"pattern\":{\"fillmode\":\"overlay\",\"size\":10,\"solidity\":0.2}},\"type\":\"barpolar\"}],\"carpet\":[{\"aaxis\":{\"endlinecolor\":\"#2a3f5f\",\"gridcolor\":\"white\",\"linecolor\":\"white\",\"minorgridcolor\":\"white\",\"startlinecolor\":\"#2a3f5f\"},\"baxis\":{\"endlinecolor\":\"#2a3f5f\",\"gridcolor\":\"white\",\"linecolor\":\"white\",\"minorgridcolor\":\"white\",\"startlinecolor\":\"#2a3f5f\"},\"type\":\"carpet\"}],\"choropleth\":[{\"colorbar\":{\"outlinewidth\":0,\"ticks\":\"\"},\"type\":\"choropleth\"}],\"contour\":[{\"colorbar\":{\"outlinewidth\":0,\"ticks\":\"\"},\"colorscale\":[[0.0,\"#0d0887\"],[0.1111111111111111,\"#46039f\"],[0.2222222222222222,\"#7201a8\"],[0.3333333333333333,\"#9c179e\"],[0.4444444444444444,\"#bd3786\"],[0.5555555555555556,\"#d8576b\"],[0.6666666666666666,\"#ed7953\"],[0.7777777777777778,\"#fb9f3a\"],[0.8888888888888888,\"#fdca26\"],[1.0,\"#f0f921\"]],\"type\":\"contour\"}],\"contourcarpet\":[{\"colorbar\":{\"outlinewidth\":0,\"ticks\":\"\"},\"type\":\"contourcarpet\"}],\"heatmap\":[{\"colorbar\":{\"outlinewidth\":0,\"ticks\":\"\"},\"colorscale\":[[0.0,\"#0d0887\"],[0.1111111111111111,\"#46039f\"],[0.2222222222222222,\"#7201a8\"],[0.3333333333333333,\"#9c179e\"],[0.4444444444444444,\"#bd3786\"],[0.5555555555555556,\"#d8576b\"],[0.6666666666666666,\"#ed7953\"],[0.7777777777777778,\"#fb9f3a\"],[0.8888888888888888,\"#fdca26\"],[1.0,\"#f0f921\"]],\"type\":\"heatmap\"}],\"heatmapgl\":[{\"colorbar\":{\"outlinewidth\":0,\"ticks\":\"\"},\"colorscale\":[[0.0,\"#0d0887\"],[0.1111111111111111,\"#46039f\"],[0.2222222222222222,\"#7201a8\"],[0.3333333333333333,\"#9c179e\"],[0.4444444444444444,\"#bd3786\"],[0.5555555555555556,\"#d8576b\"],[0.6666666666666666,\"#ed7953\"],[0.7777777777777778,\"#fb9f3a\"],[0.8888888888888888,\"#fdca26\"],[1.0,\"#f0f921\"]],\"type\":\"heatmapgl\"}],\"histogram\":[{\"marker\":{\"pattern\":{\"fillmode\":\"overlay\",\"size\":10,\"solidity\":0.2}},\"type\":\"histogram\"}],\"histogram2d\":[{\"colorbar\":{\"outlinewidth\":0,\"ticks\":\"\"},\"colorscale\":[[0.0,\"#0d0887\"],[0.1111111111111111,\"#46039f\"],[0.2222222222222222,\"#7201a8\"],[0.3333333333333333,\"#9c179e\"],[0.4444444444444444,\"#bd3786\"],[0.5555555555555556,\"#d8576b\"],[0.6666666666666666,\"#ed7953\"],[0.7777777777777778,\"#fb9f3a\"],[0.8888888888888888,\"#fdca26\"],[1.0,\"#f0f921\"]],\"type\":\"histogram2d\"}],\"histogram2dcontour\":[{\"colorbar\":{\"outlinewidth\":0,\"ticks\":\"\"},\"colorscale\":[[0.0,\"#0d0887\"],[0.1111111111111111,\"#46039f\"],[0.2222222222222222,\"#7201a8\"],[0.3333333333333333,\"#9c179e\"],[0.4444444444444444,\"#bd3786\"],[0.5555555555555556,\"#d8576b\"],[0.6666666666666666,\"#ed7953\"],[0.7777777777777778,\"#fb9f3a\"],[0.8888888888888888,\"#fdca26\"],[1.0,\"#f0f921\"]],\"type\":\"histogram2dcontour\"}],\"mesh3d\":[{\"colorbar\":{\"outlinewidth\":0,\"ticks\":\"\"},\"type\":\"mesh3d\"}],\"parcoords\":[{\"line\":{\"colorbar\":{\"outlinewidth\":0,\"ticks\":\"\"}},\"type\":\"parcoords\"}],\"pie\":[{\"automargin\":true,\"type\":\"pie\"}],\"scatter\":[{\"marker\":{\"colorbar\":{\"outlinewidth\":0,\"ticks\":\"\"}},\"type\":\"scatter\"}],\"scatter3d\":[{\"line\":{\"colorbar\":{\"outlinewidth\":0,\"ticks\":\"\"}},\"marker\":{\"colorbar\":{\"outlinewidth\":0,\"ticks\":\"\"}},\"type\":\"scatter3d\"}],\"scattercarpet\":[{\"marker\":{\"colorbar\":{\"outlinewidth\":0,\"ticks\":\"\"}},\"type\":\"scattercarpet\"}],\"scattergeo\":[{\"marker\":{\"colorbar\":{\"outlinewidth\":0,\"ticks\":\"\"}},\"type\":\"scattergeo\"}],\"scattergl\":[{\"marker\":{\"colorbar\":{\"outlinewidth\":0,\"ticks\":\"\"}},\"type\":\"scattergl\"}],\"scattermapbox\":[{\"marker\":{\"colorbar\":{\"outlinewidth\":0,\"ticks\":\"\"}},\"type\":\"scattermapbox\"}],\"scatterpolar\":[{\"marker\":{\"colorbar\":{\"outlinewidth\":0,\"ticks\":\"\"}},\"type\":\"scatterpolar\"}],\"scatterpolargl\":[{\"marker\":{\"colorbar\":{\"outlinewidth\":0,\"ticks\":\"\"}},\"type\":\"scatterpolargl\"}],\"scatterternary\":[{\"marker\":{\"colorbar\":{\"outlinewidth\":0,\"ticks\":\"\"}},\"type\":\"scatterternary\"}],\"surface\":[{\"colorbar\":{\"outlinewidth\":0,\"ticks\":\"\"},\"colorscale\":[[0.0,\"#0d0887\"],[0.1111111111111111,\"#46039f\"],[0.2222222222222222,\"#7201a8\"],[0.3333333333333333,\"#9c179e\"],[0.4444444444444444,\"#bd3786\"],[0.5555555555555556,\"#d8576b\"],[0.6666666666666666,\"#ed7953\"],[0.7777777777777778,\"#fb9f3a\"],[0.8888888888888888,\"#fdca26\"],[1.0,\"#f0f921\"]],\"type\":\"surface\"}],\"table\":[{\"cells\":{\"fill\":{\"color\":\"#EBF0F8\"},\"line\":{\"color\":\"white\"}},\"header\":{\"fill\":{\"color\":\"#C8D4E3\"},\"line\":{\"color\":\"white\"}},\"type\":\"table\"}]},\"layout\":{\"annotationdefaults\":{\"arrowcolor\":\"#2a3f5f\",\"arrowhead\":0,\"arrowwidth\":1},\"autotypenumbers\":\"strict\",\"coloraxis\":{\"colorbar\":{\"outlinewidth\":0,\"ticks\":\"\"}},\"colorscale\":{\"diverging\":[[0,\"#8e0152\"],[0.1,\"#c51b7d\"],[0.2,\"#de77ae\"],[0.3,\"#f1b6da\"],[0.4,\"#fde0ef\"],[0.5,\"#f7f7f7\"],[0.6,\"#e6f5d0\"],[0.7,\"#b8e186\"],[0.8,\"#7fbc41\"],[0.9,\"#4d9221\"],[1,\"#276419\"]],\"sequential\":[[0.0,\"#0d0887\"],[0.1111111111111111,\"#46039f\"],[0.2222222222222222,\"#7201a8\"],[0.3333333333333333,\"#9c179e\"],[0.4444444444444444,\"#bd3786\"],[0.5555555555555556,\"#d8576b\"],[0.6666666666666666,\"#ed7953\"],[0.7777777777777778,\"#fb9f3a\"],[0.8888888888888888,\"#fdca26\"],[1.0,\"#f0f921\"]],\"sequentialminus\":[[0.0,\"#0d0887\"],[0.1111111111111111,\"#46039f\"],[0.2222222222222222,\"#7201a8\"],[0.3333333333333333,\"#9c179e\"],[0.4444444444444444,\"#bd3786\"],[0.5555555555555556,\"#d8576b\"],[0.6666666666666666,\"#ed7953\"],[0.7777777777777778,\"#fb9f3a\"],[0.8888888888888888,\"#fdca26\"],[1.0,\"#f0f921\"]]},\"colorway\":[\"#636efa\",\"#EF553B\",\"#00cc96\",\"#ab63fa\",\"#FFA15A\",\"#19d3f3\",\"#FF6692\",\"#B6E880\",\"#FF97FF\",\"#FECB52\"],\"font\":{\"color\":\"#2a3f5f\"},\"geo\":{\"bgcolor\":\"white\",\"lakecolor\":\"white\",\"landcolor\":\"#E5ECF6\",\"showlakes\":true,\"showland\":true,\"subunitcolor\":\"white\"},\"hoverlabel\":{\"align\":\"left\"},\"hovermode\":\"closest\",\"mapbox\":{\"style\":\"light\"},\"paper_bgcolor\":\"white\",\"plot_bgcolor\":\"#E5ECF6\",\"polar\":{\"angularaxis\":{\"gridcolor\":\"white\",\"linecolor\":\"white\",\"ticks\":\"\"},\"bgcolor\":\"#E5ECF6\",\"radialaxis\":{\"gridcolor\":\"white\",\"linecolor\":\"white\",\"ticks\":\"\"}},\"scene\":{\"xaxis\":{\"backgroundcolor\":\"#E5ECF6\",\"gridcolor\":\"white\",\"gridwidth\":2,\"linecolor\":\"white\",\"showbackground\":true,\"ticks\":\"\",\"zerolinecolor\":\"white\"},\"yaxis\":{\"backgroundcolor\":\"#E5ECF6\",\"gridcolor\":\"white\",\"gridwidth\":2,\"linecolor\":\"white\",\"showbackground\":true,\"ticks\":\"\",\"zerolinecolor\":\"white\"},\"zaxis\":{\"backgroundcolor\":\"#E5ECF6\",\"gridcolor\":\"white\",\"gridwidth\":2,\"linecolor\":\"white\",\"showbackground\":true,\"ticks\":\"\",\"zerolinecolor\":\"white\"}},\"shapedefaults\":{\"line\":{\"color\":\"#2a3f5f\"}},\"ternary\":{\"aaxis\":{\"gridcolor\":\"white\",\"linecolor\":\"white\",\"ticks\":\"\"},\"baxis\":{\"gridcolor\":\"white\",\"linecolor\":\"white\",\"ticks\":\"\"},\"bgcolor\":\"#E5ECF6\",\"caxis\":{\"gridcolor\":\"white\",\"linecolor\":\"white\",\"ticks\":\"\"}},\"title\":{\"x\":0.05},\"xaxis\":{\"automargin\":true,\"gridcolor\":\"white\",\"linecolor\":\"white\",\"ticks\":\"\",\"title\":{\"standoff\":15},\"zerolinecolor\":\"white\",\"zerolinewidth\":2},\"yaxis\":{\"automargin\":true,\"gridcolor\":\"white\",\"linecolor\":\"white\",\"ticks\":\"\",\"title\":{\"standoff\":15},\"zerolinecolor\":\"white\",\"zerolinewidth\":2}}},\"shapes\":[{\"line\":{\"color\":\"rgba(100, 100, 100, 0.9)\",\"width\":1.0},\"type\":\"line\",\"x0\":\"2019-04-01T00:00:00\",\"x1\":\"2019-04-01T00:00:00\",\"xref\":\"x\",\"y0\":0,\"y1\":1,\"yref\":\"paper\"}],\"annotations\":[{\"arrowhead\":0,\"ax\":-60,\"ay\":0,\"showarrow\":true,\"text\":\"Train End Date\",\"x\":\"2019-04-01T00:00:00\",\"xref\":\"x\",\"y\":0.97,\"yref\":\"paper\"}]},                        {\"responsive\": true}                    ).then(function(){\n",
       "                            \n",
       "var gd = document.getElementById('a37b1602-7322-48ba-bfd2-b08bea8c4ff2');\n",
       "var x = new MutationObserver(function (mutations, observer) {{\n",
       "        var display = window.getComputedStyle(gd).display;\n",
       "        if (!display || display === 'none') {{\n",
       "            console.log([gd, 'removed!']);\n",
       "            Plotly.purge(gd);\n",
       "            observer.disconnect();\n",
       "        }}\n",
       "}});\n",
       "\n",
       "// Listen for the removal of the full notebook cells\n",
       "var notebookContainer = gd.closest('#notebook-container');\n",
       "if (notebookContainer) {{\n",
       "    x.observe(notebookContainer, {childList: true});\n",
       "}}\n",
       "\n",
       "// Listen for the clearing of the current output cell\n",
       "var outputEl = gd.closest('.output');\n",
       "if (outputEl) {{\n",
       "    x.observe(outputEl, {childList: true});\n",
       "}}\n",
       "\n",
       "                        })                };                            </script>        </div>\n",
       "</body>\n",
       "</html>"
      ]
     },
     "metadata": {},
     "output_type": "display_data"
    }
   ],
   "source": [
    "fig = backtest.plot()\n",
    "plotly.io.show(fig)"
   ]
  },
  {
   "cell_type": "markdown",
   "metadata": {
    "id": "Mhz3Ao8jvrhQ"
   },
   "source": [
    "Forecast plot:\n",
    "\n"
   ]
  },
  {
   "cell_type": "code",
   "execution_count": 18,
   "metadata": {
    "colab": {
     "base_uri": "https://localhost:8080/",
     "height": 542
    },
    "id": "bNZxDDyhvrhR",
    "outputId": "bd23e6d5-9712-4456-c1be-37aedb83c370"
   },
   "outputs": [
    {
     "data": {
      "text/html": [
       "<html>\n",
       "<head><meta charset=\"utf-8\" /></head>\n",
       "<body>\n",
       "    <div>            <script src=\"https://cdnjs.cloudflare.com/ajax/libs/mathjax/2.7.5/MathJax.js?config=TeX-AMS-MML_SVG\"></script><script type=\"text/javascript\">if (window.MathJax) {MathJax.Hub.Config({SVG: {font: \"STIX-Web\"}});}</script>                <script type=\"text/javascript\">window.PlotlyConfig = {MathJaxConfig: 'local'};</script>\n",
       "        <script src=\"https://cdn.plot.ly/plotly-2.8.3.min.js\"></script>                <div id=\"d582af8e-89d2-462d-9c96-569d1c935a6b\" class=\"plotly-graph-div\" style=\"height:525px; width:100%;\"></div>            <script type=\"text/javascript\">                                    window.PLOTLYENV=window.PLOTLYENV || {};                                    if (document.getElementById(\"d582af8e-89d2-462d-9c96-569d1c935a6b\")) {                    Plotly.newPlot(                        \"d582af8e-89d2-462d-9c96-569d1c935a6b\",                        [{\"legendgroup\":\"interval\",\"line\":{\"color\":\"rgba(0, 90, 181, 0.5)\",\"width\":0.0},\"mode\":\"lines\",\"name\":\"Lower Bound\",\"x\":[\"2010-09-01T00:00:00\",\"2010-10-01T00:00:00\",\"2010-11-01T00:00:00\",\"2010-12-01T00:00:00\",\"2011-01-01T00:00:00\",\"2011-02-01T00:00:00\",\"2011-03-01T00:00:00\",\"2011-04-01T00:00:00\",\"2011-05-01T00:00:00\",\"2011-06-01T00:00:00\",\"2011-07-01T00:00:00\",\"2011-08-01T00:00:00\",\"2011-09-01T00:00:00\",\"2011-10-01T00:00:00\",\"2011-11-01T00:00:00\",\"2011-12-01T00:00:00\",\"2012-01-01T00:00:00\",\"2012-02-01T00:00:00\",\"2012-03-01T00:00:00\",\"2012-04-01T00:00:00\",\"2012-05-01T00:00:00\",\"2012-06-01T00:00:00\",\"2012-07-01T00:00:00\",\"2012-08-01T00:00:00\",\"2012-09-01T00:00:00\",\"2012-10-01T00:00:00\",\"2012-11-01T00:00:00\",\"2012-12-01T00:00:00\",\"2013-01-01T00:00:00\",\"2013-02-01T00:00:00\",\"2013-03-01T00:00:00\",\"2013-04-01T00:00:00\",\"2013-05-01T00:00:00\",\"2013-06-01T00:00:00\",\"2013-07-01T00:00:00\",\"2013-08-01T00:00:00\",\"2013-09-01T00:00:00\",\"2013-10-01T00:00:00\",\"2013-11-01T00:00:00\",\"2013-12-01T00:00:00\",\"2014-01-01T00:00:00\",\"2014-02-01T00:00:00\",\"2014-03-01T00:00:00\",\"2014-04-01T00:00:00\",\"2014-05-01T00:00:00\",\"2014-06-01T00:00:00\",\"2014-07-01T00:00:00\",\"2014-08-01T00:00:00\",\"2014-09-01T00:00:00\",\"2014-10-01T00:00:00\",\"2014-11-01T00:00:00\",\"2014-12-01T00:00:00\",\"2015-01-01T00:00:00\",\"2015-02-01T00:00:00\",\"2015-03-01T00:00:00\",\"2015-04-01T00:00:00\",\"2015-05-01T00:00:00\",\"2015-06-01T00:00:00\",\"2015-07-01T00:00:00\",\"2015-08-01T00:00:00\",\"2015-09-01T00:00:00\",\"2015-10-01T00:00:00\",\"2015-11-01T00:00:00\",\"2015-12-01T00:00:00\",\"2016-01-01T00:00:00\",\"2016-02-01T00:00:00\",\"2016-03-01T00:00:00\",\"2016-04-01T00:00:00\",\"2016-05-01T00:00:00\",\"2016-06-01T00:00:00\",\"2016-07-01T00:00:00\",\"2016-08-01T00:00:00\",\"2016-09-01T00:00:00\",\"2016-10-01T00:00:00\",\"2016-11-01T00:00:00\",\"2016-12-01T00:00:00\",\"2017-01-01T00:00:00\",\"2017-02-01T00:00:00\",\"2017-03-01T00:00:00\",\"2017-04-01T00:00:00\",\"2017-05-01T00:00:00\",\"2017-06-01T00:00:00\",\"2017-07-01T00:00:00\",\"2017-08-01T00:00:00\",\"2017-09-01T00:00:00\",\"2017-10-01T00:00:00\",\"2017-11-01T00:00:00\",\"2017-12-01T00:00:00\",\"2018-01-01T00:00:00\",\"2018-02-01T00:00:00\",\"2018-03-01T00:00:00\",\"2018-04-01T00:00:00\",\"2018-05-01T00:00:00\",\"2018-06-01T00:00:00\",\"2018-07-01T00:00:00\",\"2018-08-01T00:00:00\",\"2018-09-01T00:00:00\",\"2018-10-01T00:00:00\",\"2018-11-01T00:00:00\",\"2018-12-01T00:00:00\",\"2019-01-01T00:00:00\",\"2019-02-01T00:00:00\",\"2019-03-01T00:00:00\",\"2019-04-01T00:00:00\",\"2019-05-01T00:00:00\",\"2019-06-01T00:00:00\",\"2019-07-01T00:00:00\",\"2019-08-01T00:00:00\",\"2019-09-01T00:00:00\",\"2019-10-01T00:00:00\",\"2019-11-01T00:00:00\",\"2019-12-01T00:00:00\"],\"y\":[-10884.873000926476,-10346.109360046285,447.3186955093406,-16434.329488026196,-16295.140527165182,-9382.096684797812,33566.827176028644,68189.48676515279,100218.32382692852,103175.3228109833,114059.86013378577,115444.028830546,105946.67692842138,91959.24742092901,70901.09654084909,41517.107084318166,40400.80985876841,48816.47376328727,94689.04537920163,149079.97944099217,167401.46293960582,168703.0900499802,178115.4909333334,179431.1293183646,170966.4314013676,163444.8534575152,121078.86085867036,84293.30585597786,77884.55946834995,85871.21453120651,129168.77300516698,184675.35632669617,218142.89001708594,221626.75097437185,228589.96166049544,232791.1750580109,223477.55944168655,214274.4812149998,152638.95547323942,110519.23410775246,94088.00766740898,96721.33883459769,153233.68163867906,213888.40688271885,249080.50123057485,265467.93211151013,274082.14063948364,276976.38853625586,255660.9273218038,252285.46394391527,175304.58198544075,121661.93601452927,108125.19275251542,113679.09354398686,166634.44232346793,246242.7676634973,284252.809907047,309913.59368765046,298024.41706912237,312876.0162588157,290792.3055259826,277513.8725925036,181040.24934547587,140669.85697413835,128180.44334372705,124241.27122074451,195448.29140664113,299533.23119034927,290042.5208610071,306704.4660267301,336757.6497299686,334989.1892342732,306713.80415079714,303747.97822441667,203254.73982177168,156714.65029982512,128118.18960321085,149815.52004047402,235704.4972684838,308478.86719906883,330857.7872025971,343705.7031885883,366986.82620384236,365180.35766727856,338318.96672566707,336242.1966483639,215790.66936152597,152314.38265520724,125863.50675284448,143271.02403625863,220206.73443185713,309058.4829321937,313145.8204810905,351896.4636909016,359343.6565411961,359049.71588460595,324749.67860066035,304126.5491731477,175568.24381493096,110400.56123216463,99581.21776463497,114656.6517245169,194963.12166515453,303000.8990583703,302412.40647878166,329062.76414603315,334483.58249987796,332022.34019071964,307428.5205152284,298699.59068804025,149943.21336166892,93276.11931925119],\"type\":\"scatter\"},{\"fill\":\"tonexty\",\"fillcolor\":\"rgba(0, 90, 181, 0.15)\",\"legendgroup\":\"interval\",\"line\":{\"color\":\"rgba(0, 90, 181, 0.5)\",\"width\":0.0},\"mode\":\"lines\",\"name\":\"Upper Bound\",\"x\":[\"2010-09-01T00:00:00\",\"2010-10-01T00:00:00\",\"2010-11-01T00:00:00\",\"2010-12-01T00:00:00\",\"2011-01-01T00:00:00\",\"2011-02-01T00:00:00\",\"2011-03-01T00:00:00\",\"2011-04-01T00:00:00\",\"2011-05-01T00:00:00\",\"2011-06-01T00:00:00\",\"2011-07-01T00:00:00\",\"2011-08-01T00:00:00\",\"2011-09-01T00:00:00\",\"2011-10-01T00:00:00\",\"2011-11-01T00:00:00\",\"2011-12-01T00:00:00\",\"2012-01-01T00:00:00\",\"2012-02-01T00:00:00\",\"2012-03-01T00:00:00\",\"2012-04-01T00:00:00\",\"2012-05-01T00:00:00\",\"2012-06-01T00:00:00\",\"2012-07-01T00:00:00\",\"2012-08-01T00:00:00\",\"2012-09-01T00:00:00\",\"2012-10-01T00:00:00\",\"2012-11-01T00:00:00\",\"2012-12-01T00:00:00\",\"2013-01-01T00:00:00\",\"2013-02-01T00:00:00\",\"2013-03-01T00:00:00\",\"2013-04-01T00:00:00\",\"2013-05-01T00:00:00\",\"2013-06-01T00:00:00\",\"2013-07-01T00:00:00\",\"2013-08-01T00:00:00\",\"2013-09-01T00:00:00\",\"2013-10-01T00:00:00\",\"2013-11-01T00:00:00\",\"2013-12-01T00:00:00\",\"2014-01-01T00:00:00\",\"2014-02-01T00:00:00\",\"2014-03-01T00:00:00\",\"2014-04-01T00:00:00\",\"2014-05-01T00:00:00\",\"2014-06-01T00:00:00\",\"2014-07-01T00:00:00\",\"2014-08-01T00:00:00\",\"2014-09-01T00:00:00\",\"2014-10-01T00:00:00\",\"2014-11-01T00:00:00\",\"2014-12-01T00:00:00\",\"2015-01-01T00:00:00\",\"2015-02-01T00:00:00\",\"2015-03-01T00:00:00\",\"2015-04-01T00:00:00\",\"2015-05-01T00:00:00\",\"2015-06-01T00:00:00\",\"2015-07-01T00:00:00\",\"2015-08-01T00:00:00\",\"2015-09-01T00:00:00\",\"2015-10-01T00:00:00\",\"2015-11-01T00:00:00\",\"2015-12-01T00:00:00\",\"2016-01-01T00:00:00\",\"2016-02-01T00:00:00\",\"2016-03-01T00:00:00\",\"2016-04-01T00:00:00\",\"2016-05-01T00:00:00\",\"2016-06-01T00:00:00\",\"2016-07-01T00:00:00\",\"2016-08-01T00:00:00\",\"2016-09-01T00:00:00\",\"2016-10-01T00:00:00\",\"2016-11-01T00:00:00\",\"2016-12-01T00:00:00\",\"2017-01-01T00:00:00\",\"2017-02-01T00:00:00\",\"2017-03-01T00:00:00\",\"2017-04-01T00:00:00\",\"2017-05-01T00:00:00\",\"2017-06-01T00:00:00\",\"2017-07-01T00:00:00\",\"2017-08-01T00:00:00\",\"2017-09-01T00:00:00\",\"2017-10-01T00:00:00\",\"2017-11-01T00:00:00\",\"2017-12-01T00:00:00\",\"2018-01-01T00:00:00\",\"2018-02-01T00:00:00\",\"2018-03-01T00:00:00\",\"2018-04-01T00:00:00\",\"2018-05-01T00:00:00\",\"2018-06-01T00:00:00\",\"2018-07-01T00:00:00\",\"2018-08-01T00:00:00\",\"2018-09-01T00:00:00\",\"2018-10-01T00:00:00\",\"2018-11-01T00:00:00\",\"2018-12-01T00:00:00\",\"2019-01-01T00:00:00\",\"2019-02-01T00:00:00\",\"2019-03-01T00:00:00\",\"2019-04-01T00:00:00\",\"2019-05-01T00:00:00\",\"2019-06-01T00:00:00\",\"2019-07-01T00:00:00\",\"2019-08-01T00:00:00\",\"2019-09-01T00:00:00\",\"2019-10-01T00:00:00\",\"2019-11-01T00:00:00\",\"2019-12-01T00:00:00\"],\"y\":[63640.25410066173,64179.017741541924,74972.44579709755,58090.79761356201,58229.98657442303,65143.030416790396,108091.95427761685,142714.613866741,174743.45092851674,177700.44991257152,188584.987235374,189969.1559321342,180471.8040300096,166484.3745225172,145426.2236424373,116042.23418590637,114925.93696035662,123341.60086487548,169214.17248078983,223605.1065425804,241926.59004119405,243228.2171515684,252640.61803492164,253956.25641995284,245491.55850295583,237969.98055910342,195603.98796025856,158818.43295756605,152409.68656993815,160396.3416327947,203693.9001067552,259200.48342828435,292668.0171186742,296151.8780759601,303115.0887620836,307316.3021595991,298002.6865432748,288799.60831658804,227164.0825748276,185044.36120934068,168613.1347689972,171246.4659361859,227758.8087402673,288413.5339843071,323605.62833216303,339993.0592130983,348607.2677410718,351501.51563784404,330186.054423392,326810.59104550345,249829.70908702898,196187.0631161175,182650.3198541036,188204.2206455751,241159.5694250561,320767.8947650855,358777.9370086352,384438.72078923864,372549.54417071055,387401.1433604039,365317.43262757076,352038.9996940918,255565.37644706405,215194.9840757266,202705.57044531527,198766.3983223327,269973.41850822937,374058.35829193745,364567.6479625953,381229.59312831826,411282.77683155675,409514.3163358614,381238.9312523853,378273.10532600485,277779.8669233599,231239.77740141336,202643.31670479907,224340.6471420622,310229.624370072,383003.994300657,405382.91430418525,418230.8302901765,441511.95330543054,439705.48476886674,412844.09382725524,410767.3237499521,290315.7964631142,226839.50975679548,200388.63385443267,217796.1511378468,294731.86153344536,383583.6100337819,387670.9475826787,426421.59079248976,433868.7836427843,433574.8429861941,399274.80570224853,378651.6762747359,250093.3709165192,184925.68833375286,174106.34486622317,189181.77882610512,269488.24876674276,377526.0261599585,376937.53358036984,403587.89124762133,409008.70960146614,406547.4672923078,356172.63209148037,375925.8209478334,208192.54306782165,132618.216066479],\"type\":\"scatter\"},{\"line\":{\"color\":\"rgba(250, 43, 20, 0.7)\"},\"marker\":{\"color\":\"rgba(250, 43, 20, 0.7)\",\"size\":2.0},\"mode\":\"lines+markers\",\"name\":\"Actual\",\"opacity\":1.0,\"x\":[\"2010-09-01T00:00:00\",\"2010-10-01T00:00:00\",\"2010-11-01T00:00:00\",\"2010-12-01T00:00:00\",\"2011-01-01T00:00:00\",\"2011-02-01T00:00:00\",\"2011-03-01T00:00:00\",\"2011-04-01T00:00:00\",\"2011-05-01T00:00:00\",\"2011-06-01T00:00:00\",\"2011-07-01T00:00:00\",\"2011-08-01T00:00:00\",\"2011-09-01T00:00:00\",\"2011-10-01T00:00:00\",\"2011-11-01T00:00:00\",\"2011-12-01T00:00:00\",\"2012-01-01T00:00:00\",\"2012-02-01T00:00:00\",\"2012-03-01T00:00:00\",\"2012-04-01T00:00:00\",\"2012-05-01T00:00:00\",\"2012-06-01T00:00:00\",\"2012-07-01T00:00:00\",\"2012-08-01T00:00:00\",\"2012-09-01T00:00:00\",\"2012-10-01T00:00:00\",\"2012-11-01T00:00:00\",\"2012-12-01T00:00:00\",\"2013-01-01T00:00:00\",\"2013-02-01T00:00:00\",\"2013-03-01T00:00:00\",\"2013-04-01T00:00:00\",\"2013-05-01T00:00:00\",\"2013-06-01T00:00:00\",\"2013-07-01T00:00:00\",\"2013-08-01T00:00:00\",\"2013-09-01T00:00:00\",\"2013-10-01T00:00:00\",\"2013-11-01T00:00:00\",\"2013-12-01T00:00:00\",\"2014-01-01T00:00:00\",\"2014-02-01T00:00:00\",\"2014-03-01T00:00:00\",\"2014-04-01T00:00:00\",\"2014-05-01T00:00:00\",\"2014-06-01T00:00:00\",\"2014-07-01T00:00:00\",\"2014-08-01T00:00:00\",\"2014-09-01T00:00:00\",\"2014-10-01T00:00:00\",\"2014-11-01T00:00:00\",\"2014-12-01T00:00:00\",\"2015-01-01T00:00:00\",\"2015-02-01T00:00:00\",\"2015-03-01T00:00:00\",\"2015-04-01T00:00:00\",\"2015-05-01T00:00:00\",\"2015-06-01T00:00:00\",\"2015-07-01T00:00:00\",\"2015-08-01T00:00:00\",\"2015-09-01T00:00:00\",\"2015-10-01T00:00:00\",\"2015-11-01T00:00:00\",\"2015-12-01T00:00:00\",\"2016-01-01T00:00:00\",\"2016-02-01T00:00:00\",\"2016-03-01T00:00:00\",\"2016-04-01T00:00:00\",\"2016-05-01T00:00:00\",\"2016-06-01T00:00:00\",\"2016-07-01T00:00:00\",\"2016-08-01T00:00:00\",\"2016-09-01T00:00:00\",\"2016-10-01T00:00:00\",\"2016-11-01T00:00:00\",\"2016-12-01T00:00:00\",\"2017-01-01T00:00:00\",\"2017-02-01T00:00:00\",\"2017-03-01T00:00:00\",\"2017-04-01T00:00:00\",\"2017-05-01T00:00:00\",\"2017-06-01T00:00:00\",\"2017-07-01T00:00:00\",\"2017-08-01T00:00:00\",\"2017-09-01T00:00:00\",\"2017-10-01T00:00:00\",\"2017-11-01T00:00:00\",\"2017-12-01T00:00:00\",\"2018-01-01T00:00:00\",\"2018-02-01T00:00:00\",\"2018-03-01T00:00:00\",\"2018-04-01T00:00:00\",\"2018-05-01T00:00:00\",\"2018-06-01T00:00:00\",\"2018-07-01T00:00:00\",\"2018-08-01T00:00:00\",\"2018-09-01T00:00:00\",\"2018-10-01T00:00:00\",\"2018-11-01T00:00:00\",\"2018-12-01T00:00:00\",\"2019-01-01T00:00:00\",\"2019-02-01T00:00:00\",\"2019-03-01T00:00:00\",\"2019-04-01T00:00:00\",\"2019-05-01T00:00:00\",\"2019-06-01T00:00:00\",\"2019-07-01T00:00:00\",\"2019-08-01T00:00:00\",\"2019-09-01T00:00:00\",\"2019-10-01T00:00:00\",\"2019-11-01T00:00:00\",\"2019-12-01T00:00:00\"],\"y\":[4001.0,35949.0,47391.0,28253.0,37499.0,47538.0,63211.0,93048.0,133816.0,141709.0,139603.0,135018.0,125869.0,122105.0,101014.0,86328.0,95850.0,102254.0,163154.0,172520.0,193680.0,200620.0,201577.0,212070.0,216317.0,196874.0,151328.0,122656.0,124977.0,110090.0,157390.0,236423.0,250358.0,253876.0,267986.0,288700.0,282038.0,254591.0,192491.0,136609.0,112686.0,122672.0,165769.0,269495.0,306646.0,316641.0,327797.0,320890.0,323972.0,297921.0,197110.0,151567.0,127388.0,108058.0,188262.0,318295.0,367203.0,314276.0,363902.0,364456.0,328014.0,290339.0,228359.0,187349.0,123262.0,145646.0,283436.0,285528.0,288749.0,368043.0,366497.0,357324.0,344381.0,343295.0,259098.0,168728.0,174806.0,226305.0,245370.0,365973.0,339685.0,398684.0,397742.0,402521.0,391330.0,384901.0,252550.0,177932.0,168568.0,182362.0,238951.0,328939.0,374122.0,392256.0,404811.0,403896.0,325799.0,343026.0,202365.0,177581.0,150786.0,158105.0,253832.0,347955.0,337600.0,350221.0,356652.0,359982.0,null,null,null,null],\"type\":\"scatter\"},{\"line\":{\"color\":\"rgba(0, 90, 181, 0.7)\",\"dash\":\"solid\"},\"name\":\"Forecast\",\"x\":[\"2010-09-01T00:00:00\",\"2010-10-01T00:00:00\",\"2010-11-01T00:00:00\",\"2010-12-01T00:00:00\",\"2011-01-01T00:00:00\",\"2011-02-01T00:00:00\",\"2011-03-01T00:00:00\",\"2011-04-01T00:00:00\",\"2011-05-01T00:00:00\",\"2011-06-01T00:00:00\",\"2011-07-01T00:00:00\",\"2011-08-01T00:00:00\",\"2011-09-01T00:00:00\",\"2011-10-01T00:00:00\",\"2011-11-01T00:00:00\",\"2011-12-01T00:00:00\",\"2012-01-01T00:00:00\",\"2012-02-01T00:00:00\",\"2012-03-01T00:00:00\",\"2012-04-01T00:00:00\",\"2012-05-01T00:00:00\",\"2012-06-01T00:00:00\",\"2012-07-01T00:00:00\",\"2012-08-01T00:00:00\",\"2012-09-01T00:00:00\",\"2012-10-01T00:00:00\",\"2012-11-01T00:00:00\",\"2012-12-01T00:00:00\",\"2013-01-01T00:00:00\",\"2013-02-01T00:00:00\",\"2013-03-01T00:00:00\",\"2013-04-01T00:00:00\",\"2013-05-01T00:00:00\",\"2013-06-01T00:00:00\",\"2013-07-01T00:00:00\",\"2013-08-01T00:00:00\",\"2013-09-01T00:00:00\",\"2013-10-01T00:00:00\",\"2013-11-01T00:00:00\",\"2013-12-01T00:00:00\",\"2014-01-01T00:00:00\",\"2014-02-01T00:00:00\",\"2014-03-01T00:00:00\",\"2014-04-01T00:00:00\",\"2014-05-01T00:00:00\",\"2014-06-01T00:00:00\",\"2014-07-01T00:00:00\",\"2014-08-01T00:00:00\",\"2014-09-01T00:00:00\",\"2014-10-01T00:00:00\",\"2014-11-01T00:00:00\",\"2014-12-01T00:00:00\",\"2015-01-01T00:00:00\",\"2015-02-01T00:00:00\",\"2015-03-01T00:00:00\",\"2015-04-01T00:00:00\",\"2015-05-01T00:00:00\",\"2015-06-01T00:00:00\",\"2015-07-01T00:00:00\",\"2015-08-01T00:00:00\",\"2015-09-01T00:00:00\",\"2015-10-01T00:00:00\",\"2015-11-01T00:00:00\",\"2015-12-01T00:00:00\",\"2016-01-01T00:00:00\",\"2016-02-01T00:00:00\",\"2016-03-01T00:00:00\",\"2016-04-01T00:00:00\",\"2016-05-01T00:00:00\",\"2016-06-01T00:00:00\",\"2016-07-01T00:00:00\",\"2016-08-01T00:00:00\",\"2016-09-01T00:00:00\",\"2016-10-01T00:00:00\",\"2016-11-01T00:00:00\",\"2016-12-01T00:00:00\",\"2017-01-01T00:00:00\",\"2017-02-01T00:00:00\",\"2017-03-01T00:00:00\",\"2017-04-01T00:00:00\",\"2017-05-01T00:00:00\",\"2017-06-01T00:00:00\",\"2017-07-01T00:00:00\",\"2017-08-01T00:00:00\",\"2017-09-01T00:00:00\",\"2017-10-01T00:00:00\",\"2017-11-01T00:00:00\",\"2017-12-01T00:00:00\",\"2018-01-01T00:00:00\",\"2018-02-01T00:00:00\",\"2018-03-01T00:00:00\",\"2018-04-01T00:00:00\",\"2018-05-01T00:00:00\",\"2018-06-01T00:00:00\",\"2018-07-01T00:00:00\",\"2018-08-01T00:00:00\",\"2018-09-01T00:00:00\",\"2018-10-01T00:00:00\",\"2018-11-01T00:00:00\",\"2018-12-01T00:00:00\",\"2019-01-01T00:00:00\",\"2019-02-01T00:00:00\",\"2019-03-01T00:00:00\",\"2019-04-01T00:00:00\",\"2019-05-01T00:00:00\",\"2019-06-01T00:00:00\",\"2019-07-01T00:00:00\",\"2019-08-01T00:00:00\",\"2019-09-01T00:00:00\",\"2019-10-01T00:00:00\",\"2019-11-01T00:00:00\",\"2019-12-01T00:00:00\"],\"y\":[26377.690549867628,26916.45419074782,37709.882246303445,20828.234062767908,20967.423023628922,27880.46686599629,70829.39072682275,105452.0503159469,137480.88737772263,140437.8863617774,151322.42368457987,152706.5923813401,143209.24047921548,129221.81097172311,108163.66009164319,78779.67063511227,77663.37340956251,86079.03731408138,131951.60892999574,186342.5429917863,204664.02649039993,205965.6536007743,215378.05448412753,216693.69286915872,208228.9949521617,200707.4170083093,158341.42440946447,121555.86940677196,115147.12301914406,123133.77808200062,166431.33655596108,221937.91987749026,255405.45356788006,258889.31452516597,265852.5252112895,270053.738608805,260740.12299248067,251537.04476579392,189901.5190240335,147781.79765854657,131350.57121820308,133983.9023853918,190496.24518947318,251150.97043351296,286343.06478136894,302730.4956623042,311344.7041902777,314238.95208704995,292923.4908725979,289548.02749470936,212567.14553623486,158924.49956532338,145387.75630330952,150941.65709478097,203897.00587426202,283505.3312142914,321515.3734578411,347176.15723844455,335286.98061991646,350138.5798096098,328054.86907677667,314776.4361432977,218302.81289626996,177932.42052493247,165443.00689452115,161503.83477153862,232710.85495743525,336795.79474114336,327305.0844118012,343967.02957752417,374020.21328076266,372251.7527850673,343976.3677015912,341010.54177521076,240517.3033725658,193977.21385061924,165380.75315400495,187078.0835912681,272967.0608192779,345741.4307498629,368120.35075339116,380968.2667393824,404249.38975463645,402442.92121807265,375581.53027646116,373504.760199158,253053.2329123201,189576.94620600136,163126.07030363858,180533.58758705272,257469.29798265125,346321.0464829878,350408.3840318846,389159.0272416957,396606.2200919902,396312.27943540004,362012.24215145444,341389.1127239418,212830.80736572508,147663.12478295874,136843.78131542908,151919.215275311,232225.68521594864,340263.4626091644,339674.97002957575,366325.32769682724,371746.14605067205,369284.9037415137,330293.14963789005,332815.98163296044,181706.7123319717,111046.91857549075],\"type\":\"scatter\"}],                        {\"legend\":{\"traceorder\":\"reversed\"},\"showlegend\":true,\"title\":{\"text\":\"Forecast vs Actual\",\"x\":0.5},\"xaxis\":{\"title\":{\"text\":\"ts\"}},\"yaxis\":{\"title\":{\"text\":\"count\"}},\"template\":{\"data\":{\"bar\":[{\"error_x\":{\"color\":\"#2a3f5f\"},\"error_y\":{\"color\":\"#2a3f5f\"},\"marker\":{\"line\":{\"color\":\"#E5ECF6\",\"width\":0.5},\"pattern\":{\"fillmode\":\"overlay\",\"size\":10,\"solidity\":0.2}},\"type\":\"bar\"}],\"barpolar\":[{\"marker\":{\"line\":{\"color\":\"#E5ECF6\",\"width\":0.5},\"pattern\":{\"fillmode\":\"overlay\",\"size\":10,\"solidity\":0.2}},\"type\":\"barpolar\"}],\"carpet\":[{\"aaxis\":{\"endlinecolor\":\"#2a3f5f\",\"gridcolor\":\"white\",\"linecolor\":\"white\",\"minorgridcolor\":\"white\",\"startlinecolor\":\"#2a3f5f\"},\"baxis\":{\"endlinecolor\":\"#2a3f5f\",\"gridcolor\":\"white\",\"linecolor\":\"white\",\"minorgridcolor\":\"white\",\"startlinecolor\":\"#2a3f5f\"},\"type\":\"carpet\"}],\"choropleth\":[{\"colorbar\":{\"outlinewidth\":0,\"ticks\":\"\"},\"type\":\"choropleth\"}],\"contour\":[{\"colorbar\":{\"outlinewidth\":0,\"ticks\":\"\"},\"colorscale\":[[0.0,\"#0d0887\"],[0.1111111111111111,\"#46039f\"],[0.2222222222222222,\"#7201a8\"],[0.3333333333333333,\"#9c179e\"],[0.4444444444444444,\"#bd3786\"],[0.5555555555555556,\"#d8576b\"],[0.6666666666666666,\"#ed7953\"],[0.7777777777777778,\"#fb9f3a\"],[0.8888888888888888,\"#fdca26\"],[1.0,\"#f0f921\"]],\"type\":\"contour\"}],\"contourcarpet\":[{\"colorbar\":{\"outlinewidth\":0,\"ticks\":\"\"},\"type\":\"contourcarpet\"}],\"heatmap\":[{\"colorbar\":{\"outlinewidth\":0,\"ticks\":\"\"},\"colorscale\":[[0.0,\"#0d0887\"],[0.1111111111111111,\"#46039f\"],[0.2222222222222222,\"#7201a8\"],[0.3333333333333333,\"#9c179e\"],[0.4444444444444444,\"#bd3786\"],[0.5555555555555556,\"#d8576b\"],[0.6666666666666666,\"#ed7953\"],[0.7777777777777778,\"#fb9f3a\"],[0.8888888888888888,\"#fdca26\"],[1.0,\"#f0f921\"]],\"type\":\"heatmap\"}],\"heatmapgl\":[{\"colorbar\":{\"outlinewidth\":0,\"ticks\":\"\"},\"colorscale\":[[0.0,\"#0d0887\"],[0.1111111111111111,\"#46039f\"],[0.2222222222222222,\"#7201a8\"],[0.3333333333333333,\"#9c179e\"],[0.4444444444444444,\"#bd3786\"],[0.5555555555555556,\"#d8576b\"],[0.6666666666666666,\"#ed7953\"],[0.7777777777777778,\"#fb9f3a\"],[0.8888888888888888,\"#fdca26\"],[1.0,\"#f0f921\"]],\"type\":\"heatmapgl\"}],\"histogram\":[{\"marker\":{\"pattern\":{\"fillmode\":\"overlay\",\"size\":10,\"solidity\":0.2}},\"type\":\"histogram\"}],\"histogram2d\":[{\"colorbar\":{\"outlinewidth\":0,\"ticks\":\"\"},\"colorscale\":[[0.0,\"#0d0887\"],[0.1111111111111111,\"#46039f\"],[0.2222222222222222,\"#7201a8\"],[0.3333333333333333,\"#9c179e\"],[0.4444444444444444,\"#bd3786\"],[0.5555555555555556,\"#d8576b\"],[0.6666666666666666,\"#ed7953\"],[0.7777777777777778,\"#fb9f3a\"],[0.8888888888888888,\"#fdca26\"],[1.0,\"#f0f921\"]],\"type\":\"histogram2d\"}],\"histogram2dcontour\":[{\"colorbar\":{\"outlinewidth\":0,\"ticks\":\"\"},\"colorscale\":[[0.0,\"#0d0887\"],[0.1111111111111111,\"#46039f\"],[0.2222222222222222,\"#7201a8\"],[0.3333333333333333,\"#9c179e\"],[0.4444444444444444,\"#bd3786\"],[0.5555555555555556,\"#d8576b\"],[0.6666666666666666,\"#ed7953\"],[0.7777777777777778,\"#fb9f3a\"],[0.8888888888888888,\"#fdca26\"],[1.0,\"#f0f921\"]],\"type\":\"histogram2dcontour\"}],\"mesh3d\":[{\"colorbar\":{\"outlinewidth\":0,\"ticks\":\"\"},\"type\":\"mesh3d\"}],\"parcoords\":[{\"line\":{\"colorbar\":{\"outlinewidth\":0,\"ticks\":\"\"}},\"type\":\"parcoords\"}],\"pie\":[{\"automargin\":true,\"type\":\"pie\"}],\"scatter\":[{\"marker\":{\"colorbar\":{\"outlinewidth\":0,\"ticks\":\"\"}},\"type\":\"scatter\"}],\"scatter3d\":[{\"line\":{\"colorbar\":{\"outlinewidth\":0,\"ticks\":\"\"}},\"marker\":{\"colorbar\":{\"outlinewidth\":0,\"ticks\":\"\"}},\"type\":\"scatter3d\"}],\"scattercarpet\":[{\"marker\":{\"colorbar\":{\"outlinewidth\":0,\"ticks\":\"\"}},\"type\":\"scattercarpet\"}],\"scattergeo\":[{\"marker\":{\"colorbar\":{\"outlinewidth\":0,\"ticks\":\"\"}},\"type\":\"scattergeo\"}],\"scattergl\":[{\"marker\":{\"colorbar\":{\"outlinewidth\":0,\"ticks\":\"\"}},\"type\":\"scattergl\"}],\"scattermapbox\":[{\"marker\":{\"colorbar\":{\"outlinewidth\":0,\"ticks\":\"\"}},\"type\":\"scattermapbox\"}],\"scatterpolar\":[{\"marker\":{\"colorbar\":{\"outlinewidth\":0,\"ticks\":\"\"}},\"type\":\"scatterpolar\"}],\"scatterpolargl\":[{\"marker\":{\"colorbar\":{\"outlinewidth\":0,\"ticks\":\"\"}},\"type\":\"scatterpolargl\"}],\"scatterternary\":[{\"marker\":{\"colorbar\":{\"outlinewidth\":0,\"ticks\":\"\"}},\"type\":\"scatterternary\"}],\"surface\":[{\"colorbar\":{\"outlinewidth\":0,\"ticks\":\"\"},\"colorscale\":[[0.0,\"#0d0887\"],[0.1111111111111111,\"#46039f\"],[0.2222222222222222,\"#7201a8\"],[0.3333333333333333,\"#9c179e\"],[0.4444444444444444,\"#bd3786\"],[0.5555555555555556,\"#d8576b\"],[0.6666666666666666,\"#ed7953\"],[0.7777777777777778,\"#fb9f3a\"],[0.8888888888888888,\"#fdca26\"],[1.0,\"#f0f921\"]],\"type\":\"surface\"}],\"table\":[{\"cells\":{\"fill\":{\"color\":\"#EBF0F8\"},\"line\":{\"color\":\"white\"}},\"header\":{\"fill\":{\"color\":\"#C8D4E3\"},\"line\":{\"color\":\"white\"}},\"type\":\"table\"}]},\"layout\":{\"annotationdefaults\":{\"arrowcolor\":\"#2a3f5f\",\"arrowhead\":0,\"arrowwidth\":1},\"autotypenumbers\":\"strict\",\"coloraxis\":{\"colorbar\":{\"outlinewidth\":0,\"ticks\":\"\"}},\"colorscale\":{\"diverging\":[[0,\"#8e0152\"],[0.1,\"#c51b7d\"],[0.2,\"#de77ae\"],[0.3,\"#f1b6da\"],[0.4,\"#fde0ef\"],[0.5,\"#f7f7f7\"],[0.6,\"#e6f5d0\"],[0.7,\"#b8e186\"],[0.8,\"#7fbc41\"],[0.9,\"#4d9221\"],[1,\"#276419\"]],\"sequential\":[[0.0,\"#0d0887\"],[0.1111111111111111,\"#46039f\"],[0.2222222222222222,\"#7201a8\"],[0.3333333333333333,\"#9c179e\"],[0.4444444444444444,\"#bd3786\"],[0.5555555555555556,\"#d8576b\"],[0.6666666666666666,\"#ed7953\"],[0.7777777777777778,\"#fb9f3a\"],[0.8888888888888888,\"#fdca26\"],[1.0,\"#f0f921\"]],\"sequentialminus\":[[0.0,\"#0d0887\"],[0.1111111111111111,\"#46039f\"],[0.2222222222222222,\"#7201a8\"],[0.3333333333333333,\"#9c179e\"],[0.4444444444444444,\"#bd3786\"],[0.5555555555555556,\"#d8576b\"],[0.6666666666666666,\"#ed7953\"],[0.7777777777777778,\"#fb9f3a\"],[0.8888888888888888,\"#fdca26\"],[1.0,\"#f0f921\"]]},\"colorway\":[\"#636efa\",\"#EF553B\",\"#00cc96\",\"#ab63fa\",\"#FFA15A\",\"#19d3f3\",\"#FF6692\",\"#B6E880\",\"#FF97FF\",\"#FECB52\"],\"font\":{\"color\":\"#2a3f5f\"},\"geo\":{\"bgcolor\":\"white\",\"lakecolor\":\"white\",\"landcolor\":\"#E5ECF6\",\"showlakes\":true,\"showland\":true,\"subunitcolor\":\"white\"},\"hoverlabel\":{\"align\":\"left\"},\"hovermode\":\"closest\",\"mapbox\":{\"style\":\"light\"},\"paper_bgcolor\":\"white\",\"plot_bgcolor\":\"#E5ECF6\",\"polar\":{\"angularaxis\":{\"gridcolor\":\"white\",\"linecolor\":\"white\",\"ticks\":\"\"},\"bgcolor\":\"#E5ECF6\",\"radialaxis\":{\"gridcolor\":\"white\",\"linecolor\":\"white\",\"ticks\":\"\"}},\"scene\":{\"xaxis\":{\"backgroundcolor\":\"#E5ECF6\",\"gridcolor\":\"white\",\"gridwidth\":2,\"linecolor\":\"white\",\"showbackground\":true,\"ticks\":\"\",\"zerolinecolor\":\"white\"},\"yaxis\":{\"backgroundcolor\":\"#E5ECF6\",\"gridcolor\":\"white\",\"gridwidth\":2,\"linecolor\":\"white\",\"showbackground\":true,\"ticks\":\"\",\"zerolinecolor\":\"white\"},\"zaxis\":{\"backgroundcolor\":\"#E5ECF6\",\"gridcolor\":\"white\",\"gridwidth\":2,\"linecolor\":\"white\",\"showbackground\":true,\"ticks\":\"\",\"zerolinecolor\":\"white\"}},\"shapedefaults\":{\"line\":{\"color\":\"#2a3f5f\"}},\"ternary\":{\"aaxis\":{\"gridcolor\":\"white\",\"linecolor\":\"white\",\"ticks\":\"\"},\"baxis\":{\"gridcolor\":\"white\",\"linecolor\":\"white\",\"ticks\":\"\"},\"bgcolor\":\"#E5ECF6\",\"caxis\":{\"gridcolor\":\"white\",\"linecolor\":\"white\",\"ticks\":\"\"}},\"title\":{\"x\":0.05},\"xaxis\":{\"automargin\":true,\"gridcolor\":\"white\",\"linecolor\":\"white\",\"ticks\":\"\",\"title\":{\"standoff\":15},\"zerolinecolor\":\"white\",\"zerolinewidth\":2},\"yaxis\":{\"automargin\":true,\"gridcolor\":\"white\",\"linecolor\":\"white\",\"ticks\":\"\",\"title\":{\"standoff\":15},\"zerolinecolor\":\"white\",\"zerolinewidth\":2}}},\"shapes\":[{\"line\":{\"color\":\"rgba(100, 100, 100, 0.9)\",\"width\":1.0},\"type\":\"line\",\"x0\":\"2019-08-01T00:00:00\",\"x1\":\"2019-08-01T00:00:00\",\"xref\":\"x\",\"y0\":0,\"y1\":1,\"yref\":\"paper\"}],\"annotations\":[{\"arrowhead\":0,\"ax\":-60,\"ay\":0,\"showarrow\":true,\"text\":\"Train End Date\",\"x\":\"2019-08-01T00:00:00\",\"xref\":\"x\",\"y\":0.97,\"yref\":\"paper\"}]},                        {\"responsive\": true}                    ).then(function(){\n",
       "                            \n",
       "var gd = document.getElementById('d582af8e-89d2-462d-9c96-569d1c935a6b');\n",
       "var x = new MutationObserver(function (mutations, observer) {{\n",
       "        var display = window.getComputedStyle(gd).display;\n",
       "        if (!display || display === 'none') {{\n",
       "            console.log([gd, 'removed!']);\n",
       "            Plotly.purge(gd);\n",
       "            observer.disconnect();\n",
       "        }}\n",
       "}});\n",
       "\n",
       "// Listen for the removal of the full notebook cells\n",
       "var notebookContainer = gd.closest('#notebook-container');\n",
       "if (notebookContainer) {{\n",
       "    x.observe(notebookContainer, {childList: true});\n",
       "}}\n",
       "\n",
       "// Listen for the clearing of the current output cell\n",
       "var outputEl = gd.closest('.output');\n",
       "if (outputEl) {{\n",
       "    x.observe(outputEl, {childList: true});\n",
       "}}\n",
       "\n",
       "                        })                };                            </script>        </div>\n",
       "</body>\n",
       "</html>"
      ]
     },
     "metadata": {},
     "output_type": "display_data"
    }
   ],
   "source": [
    "fig = forecast.plot()\n",
    "plotly.io.show(fig)"
   ]
  },
  {
   "cell_type": "markdown",
   "metadata": {
    "id": "b0zMoOr_vrhR"
   },
   "source": [
    "The components plot:\n",
    "\n"
   ]
  },
  {
   "cell_type": "code",
   "execution_count": 19,
   "metadata": {
    "colab": {
     "base_uri": "https://localhost:8080/",
     "height": 1417
    },
    "id": "6YJGMNnGvrhR",
    "outputId": "947b3d7e-fde9-41ee-d65c-2adbea4aa7d8"
   },
   "outputs": [
    {
     "data": {
      "text/html": [
       "<html>\n",
       "<head><meta charset=\"utf-8\" /></head>\n",
       "<body>\n",
       "    <div>            <script src=\"https://cdnjs.cloudflare.com/ajax/libs/mathjax/2.7.5/MathJax.js?config=TeX-AMS-MML_SVG\"></script><script type=\"text/javascript\">if (window.MathJax) {MathJax.Hub.Config({SVG: {font: \"STIX-Web\"}});}</script>                <script type=\"text/javascript\">window.PlotlyConfig = {MathJaxConfig: 'local'};</script>\n",
       "        <script src=\"https://cdn.plot.ly/plotly-2.8.3.min.js\"></script>                <div id=\"9a424658-7e33-42a6-9eba-127e605c26cd\" class=\"plotly-graph-div\" style=\"height:1400px; width:100%;\"></div>            <script type=\"text/javascript\">                                    window.PLOTLYENV=window.PLOTLYENV || {};                                    if (document.getElementById(\"9a424658-7e33-42a6-9eba-127e605c26cd\")) {                    Plotly.newPlot(                        \"9a424658-7e33-42a6-9eba-127e605c26cd\",                        [{\"mode\":\"lines\",\"name\":\"y\",\"opacity\":0.8,\"showlegend\":false,\"x\":[\"2010-09-01T00:00:00\",\"2010-10-01T00:00:00\",\"2010-11-01T00:00:00\",\"2010-12-01T00:00:00\",\"2011-01-01T00:00:00\",\"2011-02-01T00:00:00\",\"2011-03-01T00:00:00\",\"2011-04-01T00:00:00\",\"2011-05-01T00:00:00\",\"2011-06-01T00:00:00\",\"2011-07-01T00:00:00\",\"2011-08-01T00:00:00\",\"2011-09-01T00:00:00\",\"2011-10-01T00:00:00\",\"2011-11-01T00:00:00\",\"2011-12-01T00:00:00\",\"2012-01-01T00:00:00\",\"2012-02-01T00:00:00\",\"2012-03-01T00:00:00\",\"2012-04-01T00:00:00\",\"2012-05-01T00:00:00\",\"2012-06-01T00:00:00\",\"2012-07-01T00:00:00\",\"2012-08-01T00:00:00\",\"2012-09-01T00:00:00\",\"2012-10-01T00:00:00\",\"2012-11-01T00:00:00\",\"2012-12-01T00:00:00\",\"2013-01-01T00:00:00\",\"2013-02-01T00:00:00\",\"2013-03-01T00:00:00\",\"2013-04-01T00:00:00\",\"2013-05-01T00:00:00\",\"2013-06-01T00:00:00\",\"2013-07-01T00:00:00\",\"2013-08-01T00:00:00\",\"2013-09-01T00:00:00\",\"2013-10-01T00:00:00\",\"2013-11-01T00:00:00\",\"2013-12-01T00:00:00\",\"2014-01-01T00:00:00\",\"2014-02-01T00:00:00\",\"2014-03-01T00:00:00\",\"2014-04-01T00:00:00\",\"2014-05-01T00:00:00\",\"2014-06-01T00:00:00\",\"2014-07-01T00:00:00\",\"2014-08-01T00:00:00\",\"2014-09-01T00:00:00\",\"2014-10-01T00:00:00\",\"2014-11-01T00:00:00\",\"2014-12-01T00:00:00\",\"2015-01-01T00:00:00\",\"2015-02-01T00:00:00\",\"2015-03-01T00:00:00\",\"2015-04-01T00:00:00\",\"2015-05-01T00:00:00\",\"2015-06-01T00:00:00\",\"2015-07-01T00:00:00\",\"2015-08-01T00:00:00\",\"2015-09-01T00:00:00\",\"2015-10-01T00:00:00\",\"2015-11-01T00:00:00\",\"2015-12-01T00:00:00\",\"2016-01-01T00:00:00\",\"2016-02-01T00:00:00\",\"2016-03-01T00:00:00\",\"2016-04-01T00:00:00\",\"2016-05-01T00:00:00\",\"2016-06-01T00:00:00\",\"2016-07-01T00:00:00\",\"2016-08-01T00:00:00\",\"2016-09-01T00:00:00\",\"2016-10-01T00:00:00\",\"2016-11-01T00:00:00\",\"2016-12-01T00:00:00\",\"2017-01-01T00:00:00\",\"2017-02-01T00:00:00\",\"2017-03-01T00:00:00\",\"2017-04-01T00:00:00\",\"2017-05-01T00:00:00\",\"2017-06-01T00:00:00\",\"2017-07-01T00:00:00\",\"2017-08-01T00:00:00\",\"2017-09-01T00:00:00\",\"2017-10-01T00:00:00\",\"2017-11-01T00:00:00\",\"2017-12-01T00:00:00\",\"2018-01-01T00:00:00\",\"2018-02-01T00:00:00\",\"2018-03-01T00:00:00\",\"2018-04-01T00:00:00\",\"2018-05-01T00:00:00\",\"2018-06-01T00:00:00\",\"2018-07-01T00:00:00\",\"2018-08-01T00:00:00\",\"2018-09-01T00:00:00\",\"2018-10-01T00:00:00\",\"2018-11-01T00:00:00\",\"2018-12-01T00:00:00\",\"2019-01-01T00:00:00\",\"2019-02-01T00:00:00\",\"2019-03-01T00:00:00\",\"2019-04-01T00:00:00\",\"2019-05-01T00:00:00\",\"2019-06-01T00:00:00\",\"2019-07-01T00:00:00\",\"2019-08-01T00:00:00\"],\"y\":[4001,35949,47391,28253,37499,47538,63211,93048,133816,141709,139603,135018,125869,122105,101014,86328,95850,102254,163154,172520,193680,200620,201577,212070,216317,196874,151328,122656,124977,110090,157390,236423,250358,253876,267986,288700,282038,254591,192491,136609,112686,122672,165769,269495,306646,316641,327797,320890,323972,297921,197110,151567,127388,108058,188262,318295,367203,314276,363902,364456,328014,290339,228359,187349,123262,145646,283436,285528,288749,368043,366497,357324,344381,343295,259098,168728,174806,226305,245370,365973,339685,398684,397742,402521,391330,384901,252550,177932,168568,182362,238951,328939,374122,392256,404811,403896,325799,343026,202365,177581,150786,158105,253832,347955,337600,350221,356652,359982],\"type\":\"scatter\",\"xaxis\":\"x\",\"yaxis\":\"y\"},{\"mode\":\"lines\",\"name\":\"trend\",\"opacity\":0.8,\"showlegend\":false,\"x\":[\"2010-09-01T00:00:00\",\"2010-10-01T00:00:00\",\"2010-11-01T00:00:00\",\"2010-12-01T00:00:00\",\"2011-01-01T00:00:00\",\"2011-02-01T00:00:00\",\"2011-03-01T00:00:00\",\"2011-04-01T00:00:00\",\"2011-05-01T00:00:00\",\"2011-06-01T00:00:00\",\"2011-07-01T00:00:00\",\"2011-08-01T00:00:00\",\"2011-09-01T00:00:00\",\"2011-10-01T00:00:00\",\"2011-11-01T00:00:00\",\"2011-12-01T00:00:00\",\"2012-01-01T00:00:00\",\"2012-02-01T00:00:00\",\"2012-03-01T00:00:00\",\"2012-04-01T00:00:00\",\"2012-05-01T00:00:00\",\"2012-06-01T00:00:00\",\"2012-07-01T00:00:00\",\"2012-08-01T00:00:00\",\"2012-09-01T00:00:00\",\"2012-10-01T00:00:00\",\"2012-11-01T00:00:00\",\"2012-12-01T00:00:00\",\"2013-01-01T00:00:00\",\"2013-02-01T00:00:00\",\"2013-03-01T00:00:00\",\"2013-04-01T00:00:00\",\"2013-05-01T00:00:00\",\"2013-06-01T00:00:00\",\"2013-07-01T00:00:00\",\"2013-08-01T00:00:00\",\"2013-09-01T00:00:00\",\"2013-10-01T00:00:00\",\"2013-11-01T00:00:00\",\"2013-12-01T00:00:00\",\"2014-01-01T00:00:00\",\"2014-02-01T00:00:00\",\"2014-03-01T00:00:00\",\"2014-04-01T00:00:00\",\"2014-05-01T00:00:00\",\"2014-06-01T00:00:00\",\"2014-07-01T00:00:00\",\"2014-08-01T00:00:00\",\"2014-09-01T00:00:00\",\"2014-10-01T00:00:00\",\"2014-11-01T00:00:00\",\"2014-12-01T00:00:00\",\"2015-01-01T00:00:00\",\"2015-02-01T00:00:00\",\"2015-03-01T00:00:00\",\"2015-04-01T00:00:00\",\"2015-05-01T00:00:00\",\"2015-06-01T00:00:00\",\"2015-07-01T00:00:00\",\"2015-08-01T00:00:00\",\"2015-09-01T00:00:00\",\"2015-10-01T00:00:00\",\"2015-11-01T00:00:00\",\"2015-12-01T00:00:00\",\"2016-01-01T00:00:00\",\"2016-02-01T00:00:00\",\"2016-03-01T00:00:00\",\"2016-04-01T00:00:00\",\"2016-05-01T00:00:00\",\"2016-06-01T00:00:00\",\"2016-07-01T00:00:00\",\"2016-08-01T00:00:00\",\"2016-09-01T00:00:00\",\"2016-10-01T00:00:00\",\"2016-11-01T00:00:00\",\"2016-12-01T00:00:00\",\"2017-01-01T00:00:00\",\"2017-02-01T00:00:00\",\"2017-03-01T00:00:00\",\"2017-04-01T00:00:00\",\"2017-05-01T00:00:00\",\"2017-06-01T00:00:00\",\"2017-07-01T00:00:00\",\"2017-08-01T00:00:00\",\"2017-09-01T00:00:00\",\"2017-10-01T00:00:00\",\"2017-11-01T00:00:00\",\"2017-12-01T00:00:00\",\"2018-01-01T00:00:00\",\"2018-02-01T00:00:00\",\"2018-03-01T00:00:00\",\"2018-04-01T00:00:00\",\"2018-05-01T00:00:00\",\"2018-06-01T00:00:00\",\"2018-07-01T00:00:00\",\"2018-08-01T00:00:00\",\"2018-09-01T00:00:00\",\"2018-10-01T00:00:00\",\"2018-11-01T00:00:00\",\"2018-12-01T00:00:00\",\"2019-01-01T00:00:00\",\"2019-02-01T00:00:00\",\"2019-03-01T00:00:00\",\"2019-04-01T00:00:00\",\"2019-05-01T00:00:00\",\"2019-06-01T00:00:00\",\"2019-07-01T00:00:00\",\"2019-08-01T00:00:00\"],\"y\":[0.0,18431.8446510735,24623.43960703428,30483.323598704235,35417.39706939076,41232.06759115851,47868.295983674885,56288.02009969908,57033.74071744135,65445.01384200089,69590.61020009327,73756.36976962787,74955.36236744311,81785.25454123154,67539.68556274545,71295.55834508695,73551.17924312579,80780.25358207617,91501.96324584646,105234.32375045435,98815.71526430127,111838.80539688146,114816.867059928,117935.08777302474,115347.4425384294,124361.50215410811,93819.47734405578,97990.19135818342,99423.62542071854,108525.30388909645,123477.1166124784,142672.01381007332,129132.20501480557,146646.81294321045,148269.43799701083,150069.21825130392,143365.77763684955,154185.11601449584,106931.82916562502,111059.43377063426,111167.35888771032,123303.92771028586,143520.5151220838,169206.93423350865,149499.20878767743,172496.99409191596,173700.4118474818,175137.39612145923,165260.44651135895,178792.98274151143,115748.14446586659,120725.79207048645,120423.60704439548,135562.56925470315,161592.26205315875,194371.99067340055,169073.86255661125,197587.18049928994,198398.5992167993,199496.99658097245,186467.08222164807,202729.47087501222,123907.20156993766,129745.78027997947,129042.06894910018,147443.51586893012,178392.08136861585,217242.5523934892,185336.69560801625,219453.84009484513,219946.6041847436,220780.74507927703,204668.13975631027,223732.28925545645,129195.67947894662,135965.64913429695,134931.53512729856,156543.06131664818,192867.72888645978,238354.99847824057,200439.80315786606,240174.70532288437,240382.17934669362,240985.25925847024,221827.25296937677,241220.4769364934,128433.32971372058,133658.27993915777,129735.03228166616,151992.3802983595,191415.2068203651,240986.2811550435,194564.79446598588,237358.57152087596,234793.55324440912,232595.19488273637,207818.48173990555,230050.11478393915,101595.16234854296,107784.79276887767,103564.93134412359,129061.56330559008,173924.71526456738,230172.37140664872,177753.40903495278,226198.1824787353,223368.8772366643,220960.5950636889],\"type\":\"scatter\",\"xaxis\":\"x2\",\"yaxis\":\"y2\"},{\"mode\":\"lines\",\"name\":\"autoregression\",\"opacity\":0.8,\"showlegend\":false,\"x\":[\"2010-09-01T00:00:00\",\"2010-10-01T00:00:00\",\"2010-11-01T00:00:00\",\"2010-12-01T00:00:00\",\"2011-01-01T00:00:00\",\"2011-02-01T00:00:00\",\"2011-03-01T00:00:00\",\"2011-04-01T00:00:00\",\"2011-05-01T00:00:00\",\"2011-06-01T00:00:00\",\"2011-07-01T00:00:00\",\"2011-08-01T00:00:00\",\"2011-09-01T00:00:00\",\"2011-10-01T00:00:00\",\"2011-11-01T00:00:00\",\"2011-12-01T00:00:00\",\"2012-01-01T00:00:00\",\"2012-02-01T00:00:00\",\"2012-03-01T00:00:00\",\"2012-04-01T00:00:00\",\"2012-05-01T00:00:00\",\"2012-06-01T00:00:00\",\"2012-07-01T00:00:00\",\"2012-08-01T00:00:00\",\"2012-09-01T00:00:00\",\"2012-10-01T00:00:00\",\"2012-11-01T00:00:00\",\"2012-12-01T00:00:00\",\"2013-01-01T00:00:00\",\"2013-02-01T00:00:00\",\"2013-03-01T00:00:00\",\"2013-04-01T00:00:00\",\"2013-05-01T00:00:00\",\"2013-06-01T00:00:00\",\"2013-07-01T00:00:00\",\"2013-08-01T00:00:00\",\"2013-09-01T00:00:00\",\"2013-10-01T00:00:00\",\"2013-11-01T00:00:00\",\"2013-12-01T00:00:00\",\"2014-01-01T00:00:00\",\"2014-02-01T00:00:00\",\"2014-03-01T00:00:00\",\"2014-04-01T00:00:00\",\"2014-05-01T00:00:00\",\"2014-06-01T00:00:00\",\"2014-07-01T00:00:00\",\"2014-08-01T00:00:00\",\"2014-09-01T00:00:00\",\"2014-10-01T00:00:00\",\"2014-11-01T00:00:00\",\"2014-12-01T00:00:00\",\"2015-01-01T00:00:00\",\"2015-02-01T00:00:00\",\"2015-03-01T00:00:00\",\"2015-04-01T00:00:00\",\"2015-05-01T00:00:00\",\"2015-06-01T00:00:00\",\"2015-07-01T00:00:00\",\"2015-08-01T00:00:00\",\"2015-09-01T00:00:00\",\"2015-10-01T00:00:00\",\"2015-11-01T00:00:00\",\"2015-12-01T00:00:00\",\"2016-01-01T00:00:00\",\"2016-02-01T00:00:00\",\"2016-03-01T00:00:00\",\"2016-04-01T00:00:00\",\"2016-05-01T00:00:00\",\"2016-06-01T00:00:00\",\"2016-07-01T00:00:00\",\"2016-08-01T00:00:00\",\"2016-09-01T00:00:00\",\"2016-10-01T00:00:00\",\"2016-11-01T00:00:00\",\"2016-12-01T00:00:00\",\"2017-01-01T00:00:00\",\"2017-02-01T00:00:00\",\"2017-03-01T00:00:00\",\"2017-04-01T00:00:00\",\"2017-05-01T00:00:00\",\"2017-06-01T00:00:00\",\"2017-07-01T00:00:00\",\"2017-08-01T00:00:00\",\"2017-09-01T00:00:00\",\"2017-10-01T00:00:00\",\"2017-11-01T00:00:00\",\"2017-12-01T00:00:00\",\"2018-01-01T00:00:00\",\"2018-02-01T00:00:00\",\"2018-03-01T00:00:00\",\"2018-04-01T00:00:00\",\"2018-05-01T00:00:00\",\"2018-06-01T00:00:00\",\"2018-07-01T00:00:00\",\"2018-08-01T00:00:00\",\"2018-09-01T00:00:00\",\"2018-10-01T00:00:00\",\"2018-11-01T00:00:00\",\"2018-12-01T00:00:00\",\"2019-01-01T00:00:00\",\"2019-02-01T00:00:00\",\"2019-03-01T00:00:00\",\"2019-04-01T00:00:00\",\"2019-05-01T00:00:00\",\"2019-06-01T00:00:00\",\"2019-07-01T00:00:00\",\"2019-08-01T00:00:00\"],\"y\":[0.0,0.0,10211.34997922203,13868.488656518215,7751.523090524999,10706.767296981958,13915.473395686415,18924.94153842921,28461.56509326982,41491.99942258382,44014.79225424776,43341.66395024621,41876.18756190475,38951.94689081728,37748.88186885059,31007.69048247987,26313.691302723553,29357.151754149378,31404.024336687813,50869.13056351333,53862.729659087185,60625.97510670012,62844.16619396071,63150.046434667966,66503.86186386469,67861.30531452688,61646.85440536155,47089.25624104308,37924.994734712345,38666.842215048346,33908.59859602122,49026.81738959835,74287.66698606306,78741.6284847628,79866.06598403984,84375.96169603505,90996.65480576352,88867.31921162376,80094.59719836136,60245.94208036687,42384.70946677961,34738.34269725011,37930.108719927935,51704.94752218572,84858.27442668003,96732.62847319555,99927.27111255715,103492.99730412473,101285.35381137129,102270.43521352361,93943.90841032112,61722.28568729145,47165.6463952009,39437.45586222201,33259.12247364176,58894.251863072204,100455.92933421838,116088.10364196195,99171.3601728783,115033.02456717129,115210.09630526096,103562.35572861112,91520.51866628515,71710.21843740754,58602.43508170781,38118.686924752685,45273.15224135798,89314.1536698356,89982.80723677353,91012.31638548625,116356.58786578022,115862.4490443242,112930.53739541334,108793.64298007998,108446.53123357204,81535.14290877683,52650.71516299322,54593.39029676408,71053.71058535665,77147.34359380376,115694.96602851374,107292.68831930538,126150.18917770406,125849.1032981364,127376.58675721685,123799.67372299018,121744.81053855238,79442.24445929812,55592.53515825926,52599.57531083736,57008.46981482473,75095.67665012571,103858.0079988872,118299.58262362705,124095.64561734223,128108.52589119764,127816.0698616813,102854.38840032839,108360.552357135,63401.91020653559,55480.347107592344,46916.01999186508,49255.34860391986,79852.00252469699,109935.97942761157,106626.27212089927,110660.24758376899,112715.75001635871],\"type\":\"scatter\",\"xaxis\":\"x3\",\"yaxis\":\"y3\"},{\"mode\":\"lines\",\"name\":\"residual\",\"opacity\":0.8,\"showlegend\":false,\"x\":[\"2010-09-01T00:00:00\",\"2010-10-01T00:00:00\",\"2010-11-01T00:00:00\",\"2010-12-01T00:00:00\",\"2011-01-01T00:00:00\",\"2011-02-01T00:00:00\",\"2011-03-01T00:00:00\",\"2011-04-01T00:00:00\",\"2011-05-01T00:00:00\",\"2011-06-01T00:00:00\",\"2011-07-01T00:00:00\",\"2011-08-01T00:00:00\",\"2011-09-01T00:00:00\",\"2011-10-01T00:00:00\",\"2011-11-01T00:00:00\",\"2011-12-01T00:00:00\",\"2012-01-01T00:00:00\",\"2012-02-01T00:00:00\",\"2012-03-01T00:00:00\",\"2012-04-01T00:00:00\",\"2012-05-01T00:00:00\",\"2012-06-01T00:00:00\",\"2012-07-01T00:00:00\",\"2012-08-01T00:00:00\",\"2012-09-01T00:00:00\",\"2012-10-01T00:00:00\",\"2012-11-01T00:00:00\",\"2012-12-01T00:00:00\",\"2013-01-01T00:00:00\",\"2013-02-01T00:00:00\",\"2013-03-01T00:00:00\",\"2013-04-01T00:00:00\",\"2013-05-01T00:00:00\",\"2013-06-01T00:00:00\",\"2013-07-01T00:00:00\",\"2013-08-01T00:00:00\",\"2013-09-01T00:00:00\",\"2013-10-01T00:00:00\",\"2013-11-01T00:00:00\",\"2013-12-01T00:00:00\",\"2014-01-01T00:00:00\",\"2014-02-01T00:00:00\",\"2014-03-01T00:00:00\",\"2014-04-01T00:00:00\",\"2014-05-01T00:00:00\",\"2014-06-01T00:00:00\",\"2014-07-01T00:00:00\",\"2014-08-01T00:00:00\",\"2014-09-01T00:00:00\",\"2014-10-01T00:00:00\",\"2014-11-01T00:00:00\",\"2014-12-01T00:00:00\",\"2015-01-01T00:00:00\",\"2015-02-01T00:00:00\",\"2015-03-01T00:00:00\",\"2015-04-01T00:00:00\",\"2015-05-01T00:00:00\",\"2015-06-01T00:00:00\",\"2015-07-01T00:00:00\",\"2015-08-01T00:00:00\",\"2015-09-01T00:00:00\",\"2015-10-01T00:00:00\",\"2015-11-01T00:00:00\",\"2015-12-01T00:00:00\",\"2016-01-01T00:00:00\",\"2016-02-01T00:00:00\",\"2016-03-01T00:00:00\",\"2016-04-01T00:00:00\",\"2016-05-01T00:00:00\",\"2016-06-01T00:00:00\",\"2016-07-01T00:00:00\",\"2016-08-01T00:00:00\",\"2016-09-01T00:00:00\",\"2016-10-01T00:00:00\",\"2016-11-01T00:00:00\",\"2016-12-01T00:00:00\",\"2017-01-01T00:00:00\",\"2017-02-01T00:00:00\",\"2017-03-01T00:00:00\",\"2017-04-01T00:00:00\",\"2017-05-01T00:00:00\",\"2017-06-01T00:00:00\",\"2017-07-01T00:00:00\",\"2017-08-01T00:00:00\",\"2017-09-01T00:00:00\",\"2017-10-01T00:00:00\",\"2017-11-01T00:00:00\",\"2017-12-01T00:00:00\",\"2018-01-01T00:00:00\",\"2018-02-01T00:00:00\",\"2018-03-01T00:00:00\",\"2018-04-01T00:00:00\",\"2018-05-01T00:00:00\",\"2018-06-01T00:00:00\",\"2018-07-01T00:00:00\",\"2018-08-01T00:00:00\",\"2018-09-01T00:00:00\",\"2018-10-01T00:00:00\",\"2018-11-01T00:00:00\",\"2018-12-01T00:00:00\",\"2019-01-01T00:00:00\",\"2019-02-01T00:00:00\",\"2019-03-01T00:00:00\",\"2019-04-01T00:00:00\",\"2019-05-01T00:00:00\",\"2019-06-01T00:00:00\",\"2019-07-01T00:00:00\",\"2019-08-01T00:00:00\"],\"y\":[-22376.690549867628,9032.545809252188,9681.117753696555,7424.765937232096,16531.576976371078,19657.53313400371,-7618.390726822749,-12404.050315946894,-3664.8873777225963,1271.113638222596,-11719.423684579844,-17688.592381340102,-17340.240479215514,-7116.810971723113,-7149.660091643193,7548.329364887715,18186.62659043749,16174.962685918625,31202.39107000429,-13822.542991786322,-10984.026490399905,-5345.653600774269,-13801.054484127526,-4623.692869158753,8088.005047838262,-3833.417008309334,-7013.424409464438,1100.1305932280375,9829.876980855945,-13043.778082000616,-9041.336555961083,14485.08012250971,-5047.45356788006,-5013.314525165944,2133.474788710533,18646.261391195003,21297.877007519302,3053.955234206107,2589.480975966493,-11172.797658546566,-18664.571218203084,-11311.90238539179,-24727.24518947315,18344.029566487006,20302.935218631115,13910.504337695776,16452.295809722273,6651.047912950045,31048.509127402096,8372.972505290643,-15457.145536234835,-7357.499565323349,-17999.75630330952,-42883.657094780996,-15635.005874261988,34789.66878570861,45687.62654215895,-32900.157238444604,28615.01938008354,14317.4201903902,-40.8690767766675,-24437.436143297644,10056.187103730044,9416.579475067498,-42181.00689452115,-15857.834771538619,50725.14504256475,-51267.794741143414,-38556.08441180119,24075.970422475948,-7523.213280762604,-14927.75278506719,404.63229840883287,2284.4582247892395,18580.696627434227,-25249.213850619213,9425.246845995076,39226.91640873192,-27597.06081927789,20231.56925013708,-28435.35075339122,17715.733260617533,-6507.389754636504,78.07878192741191,15748.469723538728,11396.23980084213,-503.2329123200325,-11644.946206001332,5441.929696361418,1828.4124129473348,-18518.297982651304,-17382.04648298782,23713.61596811551,3096.9727583042695,8204.779908009921,7583.72056460008,-36213.24215145444,1636.8872760582017,-10465.807365725137,29917.875217041263,13942.218684570922,6185.784724689001,21606.314784051327,7691.5373908357,-2074.9700295758084,-16104.327696827298,-15094.146050671989,-9302.903741513612],\"type\":\"scatter\",\"xaxis\":\"x4\",\"yaxis\":\"y4\"},{\"line\":{\"color\":\"#F44336\",\"dash\":\"dash\",\"width\":1.5},\"mode\":\"lines\",\"name\":\"trend change point\",\"showlegend\":true,\"x\":[\"2015-02-01T00:00:00\",\"2015-02-01T00:00:00\"],\"y\":[0.0,241220.4769364934],\"type\":\"scatter\",\"xaxis\":\"x2\",\"yaxis\":\"y2\"}],                        {\"template\":{\"data\":{\"bar\":[{\"error_x\":{\"color\":\"#2a3f5f\"},\"error_y\":{\"color\":\"#2a3f5f\"},\"marker\":{\"line\":{\"color\":\"#E5ECF6\",\"width\":0.5},\"pattern\":{\"fillmode\":\"overlay\",\"size\":10,\"solidity\":0.2}},\"type\":\"bar\"}],\"barpolar\":[{\"marker\":{\"line\":{\"color\":\"#E5ECF6\",\"width\":0.5},\"pattern\":{\"fillmode\":\"overlay\",\"size\":10,\"solidity\":0.2}},\"type\":\"barpolar\"}],\"carpet\":[{\"aaxis\":{\"endlinecolor\":\"#2a3f5f\",\"gridcolor\":\"white\",\"linecolor\":\"white\",\"minorgridcolor\":\"white\",\"startlinecolor\":\"#2a3f5f\"},\"baxis\":{\"endlinecolor\":\"#2a3f5f\",\"gridcolor\":\"white\",\"linecolor\":\"white\",\"minorgridcolor\":\"white\",\"startlinecolor\":\"#2a3f5f\"},\"type\":\"carpet\"}],\"choropleth\":[{\"colorbar\":{\"outlinewidth\":0,\"ticks\":\"\"},\"type\":\"choropleth\"}],\"contour\":[{\"colorbar\":{\"outlinewidth\":0,\"ticks\":\"\"},\"colorscale\":[[0.0,\"#0d0887\"],[0.1111111111111111,\"#46039f\"],[0.2222222222222222,\"#7201a8\"],[0.3333333333333333,\"#9c179e\"],[0.4444444444444444,\"#bd3786\"],[0.5555555555555556,\"#d8576b\"],[0.6666666666666666,\"#ed7953\"],[0.7777777777777778,\"#fb9f3a\"],[0.8888888888888888,\"#fdca26\"],[1.0,\"#f0f921\"]],\"type\":\"contour\"}],\"contourcarpet\":[{\"colorbar\":{\"outlinewidth\":0,\"ticks\":\"\"},\"type\":\"contourcarpet\"}],\"heatmap\":[{\"colorbar\":{\"outlinewidth\":0,\"ticks\":\"\"},\"colorscale\":[[0.0,\"#0d0887\"],[0.1111111111111111,\"#46039f\"],[0.2222222222222222,\"#7201a8\"],[0.3333333333333333,\"#9c179e\"],[0.4444444444444444,\"#bd3786\"],[0.5555555555555556,\"#d8576b\"],[0.6666666666666666,\"#ed7953\"],[0.7777777777777778,\"#fb9f3a\"],[0.8888888888888888,\"#fdca26\"],[1.0,\"#f0f921\"]],\"type\":\"heatmap\"}],\"heatmapgl\":[{\"colorbar\":{\"outlinewidth\":0,\"ticks\":\"\"},\"colorscale\":[[0.0,\"#0d0887\"],[0.1111111111111111,\"#46039f\"],[0.2222222222222222,\"#7201a8\"],[0.3333333333333333,\"#9c179e\"],[0.4444444444444444,\"#bd3786\"],[0.5555555555555556,\"#d8576b\"],[0.6666666666666666,\"#ed7953\"],[0.7777777777777778,\"#fb9f3a\"],[0.8888888888888888,\"#fdca26\"],[1.0,\"#f0f921\"]],\"type\":\"heatmapgl\"}],\"histogram\":[{\"marker\":{\"pattern\":{\"fillmode\":\"overlay\",\"size\":10,\"solidity\":0.2}},\"type\":\"histogram\"}],\"histogram2d\":[{\"colorbar\":{\"outlinewidth\":0,\"ticks\":\"\"},\"colorscale\":[[0.0,\"#0d0887\"],[0.1111111111111111,\"#46039f\"],[0.2222222222222222,\"#7201a8\"],[0.3333333333333333,\"#9c179e\"],[0.4444444444444444,\"#bd3786\"],[0.5555555555555556,\"#d8576b\"],[0.6666666666666666,\"#ed7953\"],[0.7777777777777778,\"#fb9f3a\"],[0.8888888888888888,\"#fdca26\"],[1.0,\"#f0f921\"]],\"type\":\"histogram2d\"}],\"histogram2dcontour\":[{\"colorbar\":{\"outlinewidth\":0,\"ticks\":\"\"},\"colorscale\":[[0.0,\"#0d0887\"],[0.1111111111111111,\"#46039f\"],[0.2222222222222222,\"#7201a8\"],[0.3333333333333333,\"#9c179e\"],[0.4444444444444444,\"#bd3786\"],[0.5555555555555556,\"#d8576b\"],[0.6666666666666666,\"#ed7953\"],[0.7777777777777778,\"#fb9f3a\"],[0.8888888888888888,\"#fdca26\"],[1.0,\"#f0f921\"]],\"type\":\"histogram2dcontour\"}],\"mesh3d\":[{\"colorbar\":{\"outlinewidth\":0,\"ticks\":\"\"},\"type\":\"mesh3d\"}],\"parcoords\":[{\"line\":{\"colorbar\":{\"outlinewidth\":0,\"ticks\":\"\"}},\"type\":\"parcoords\"}],\"pie\":[{\"automargin\":true,\"type\":\"pie\"}],\"scatter\":[{\"marker\":{\"colorbar\":{\"outlinewidth\":0,\"ticks\":\"\"}},\"type\":\"scatter\"}],\"scatter3d\":[{\"line\":{\"colorbar\":{\"outlinewidth\":0,\"ticks\":\"\"}},\"marker\":{\"colorbar\":{\"outlinewidth\":0,\"ticks\":\"\"}},\"type\":\"scatter3d\"}],\"scattercarpet\":[{\"marker\":{\"colorbar\":{\"outlinewidth\":0,\"ticks\":\"\"}},\"type\":\"scattercarpet\"}],\"scattergeo\":[{\"marker\":{\"colorbar\":{\"outlinewidth\":0,\"ticks\":\"\"}},\"type\":\"scattergeo\"}],\"scattergl\":[{\"marker\":{\"colorbar\":{\"outlinewidth\":0,\"ticks\":\"\"}},\"type\":\"scattergl\"}],\"scattermapbox\":[{\"marker\":{\"colorbar\":{\"outlinewidth\":0,\"ticks\":\"\"}},\"type\":\"scattermapbox\"}],\"scatterpolar\":[{\"marker\":{\"colorbar\":{\"outlinewidth\":0,\"ticks\":\"\"}},\"type\":\"scatterpolar\"}],\"scatterpolargl\":[{\"marker\":{\"colorbar\":{\"outlinewidth\":0,\"ticks\":\"\"}},\"type\":\"scatterpolargl\"}],\"scatterternary\":[{\"marker\":{\"colorbar\":{\"outlinewidth\":0,\"ticks\":\"\"}},\"type\":\"scatterternary\"}],\"surface\":[{\"colorbar\":{\"outlinewidth\":0,\"ticks\":\"\"},\"colorscale\":[[0.0,\"#0d0887\"],[0.1111111111111111,\"#46039f\"],[0.2222222222222222,\"#7201a8\"],[0.3333333333333333,\"#9c179e\"],[0.4444444444444444,\"#bd3786\"],[0.5555555555555556,\"#d8576b\"],[0.6666666666666666,\"#ed7953\"],[0.7777777777777778,\"#fb9f3a\"],[0.8888888888888888,\"#fdca26\"],[1.0,\"#f0f921\"]],\"type\":\"surface\"}],\"table\":[{\"cells\":{\"fill\":{\"color\":\"#EBF0F8\"},\"line\":{\"color\":\"white\"}},\"header\":{\"fill\":{\"color\":\"#C8D4E3\"},\"line\":{\"color\":\"white\"}},\"type\":\"table\"}]},\"layout\":{\"annotationdefaults\":{\"arrowcolor\":\"#2a3f5f\",\"arrowhead\":0,\"arrowwidth\":1},\"autotypenumbers\":\"strict\",\"coloraxis\":{\"colorbar\":{\"outlinewidth\":0,\"ticks\":\"\"}},\"colorscale\":{\"diverging\":[[0,\"#8e0152\"],[0.1,\"#c51b7d\"],[0.2,\"#de77ae\"],[0.3,\"#f1b6da\"],[0.4,\"#fde0ef\"],[0.5,\"#f7f7f7\"],[0.6,\"#e6f5d0\"],[0.7,\"#b8e186\"],[0.8,\"#7fbc41\"],[0.9,\"#4d9221\"],[1,\"#276419\"]],\"sequential\":[[0.0,\"#0d0887\"],[0.1111111111111111,\"#46039f\"],[0.2222222222222222,\"#7201a8\"],[0.3333333333333333,\"#9c179e\"],[0.4444444444444444,\"#bd3786\"],[0.5555555555555556,\"#d8576b\"],[0.6666666666666666,\"#ed7953\"],[0.7777777777777778,\"#fb9f3a\"],[0.8888888888888888,\"#fdca26\"],[1.0,\"#f0f921\"]],\"sequentialminus\":[[0.0,\"#0d0887\"],[0.1111111111111111,\"#46039f\"],[0.2222222222222222,\"#7201a8\"],[0.3333333333333333,\"#9c179e\"],[0.4444444444444444,\"#bd3786\"],[0.5555555555555556,\"#d8576b\"],[0.6666666666666666,\"#ed7953\"],[0.7777777777777778,\"#fb9f3a\"],[0.8888888888888888,\"#fdca26\"],[1.0,\"#f0f921\"]]},\"colorway\":[\"#636efa\",\"#EF553B\",\"#00cc96\",\"#ab63fa\",\"#FFA15A\",\"#19d3f3\",\"#FF6692\",\"#B6E880\",\"#FF97FF\",\"#FECB52\"],\"font\":{\"color\":\"#2a3f5f\"},\"geo\":{\"bgcolor\":\"white\",\"lakecolor\":\"white\",\"landcolor\":\"#E5ECF6\",\"showlakes\":true,\"showland\":true,\"subunitcolor\":\"white\"},\"hoverlabel\":{\"align\":\"left\"},\"hovermode\":\"closest\",\"mapbox\":{\"style\":\"light\"},\"paper_bgcolor\":\"white\",\"plot_bgcolor\":\"#E5ECF6\",\"polar\":{\"angularaxis\":{\"gridcolor\":\"white\",\"linecolor\":\"white\",\"ticks\":\"\"},\"bgcolor\":\"#E5ECF6\",\"radialaxis\":{\"gridcolor\":\"white\",\"linecolor\":\"white\",\"ticks\":\"\"}},\"scene\":{\"xaxis\":{\"backgroundcolor\":\"#E5ECF6\",\"gridcolor\":\"white\",\"gridwidth\":2,\"linecolor\":\"white\",\"showbackground\":true,\"ticks\":\"\",\"zerolinecolor\":\"white\"},\"yaxis\":{\"backgroundcolor\":\"#E5ECF6\",\"gridcolor\":\"white\",\"gridwidth\":2,\"linecolor\":\"white\",\"showbackground\":true,\"ticks\":\"\",\"zerolinecolor\":\"white\"},\"zaxis\":{\"backgroundcolor\":\"#E5ECF6\",\"gridcolor\":\"white\",\"gridwidth\":2,\"linecolor\":\"white\",\"showbackground\":true,\"ticks\":\"\",\"zerolinecolor\":\"white\"}},\"shapedefaults\":{\"line\":{\"color\":\"#2a3f5f\"}},\"ternary\":{\"aaxis\":{\"gridcolor\":\"white\",\"linecolor\":\"white\",\"ticks\":\"\"},\"baxis\":{\"gridcolor\":\"white\",\"linecolor\":\"white\",\"ticks\":\"\"},\"bgcolor\":\"#E5ECF6\",\"caxis\":{\"gridcolor\":\"white\",\"linecolor\":\"white\",\"ticks\":\"\"}},\"title\":{\"x\":0.05},\"xaxis\":{\"automargin\":true,\"gridcolor\":\"white\",\"linecolor\":\"white\",\"ticks\":\"\",\"title\":{\"standoff\":15},\"zerolinecolor\":\"white\",\"zerolinewidth\":2},\"yaxis\":{\"automargin\":true,\"gridcolor\":\"white\",\"linecolor\":\"white\",\"ticks\":\"\",\"title\":{\"standoff\":15},\"zerolinecolor\":\"white\",\"zerolinewidth\":2}}},\"xaxis\":{\"anchor\":\"y\",\"domain\":[0.0,1.0],\"title\":{\"text\":\"ts\"},\"showline\":true,\"mirror\":true},\"yaxis\":{\"anchor\":\"x\",\"domain\":[0.815625,1.0],\"title\":{\"text\":\"y\"},\"showline\":true,\"mirror\":true},\"xaxis2\":{\"anchor\":\"y2\",\"domain\":[0.0,1.0],\"title\":{\"text\":\"ts\"},\"showline\":true,\"mirror\":true},\"yaxis2\":{\"anchor\":\"x2\",\"domain\":[0.54375,0.7281249999999999],\"title\":{\"text\":\"trend\"},\"showline\":true,\"mirror\":true},\"xaxis3\":{\"anchor\":\"y3\",\"domain\":[0.0,1.0],\"title\":{\"text\":\"ts\"},\"showline\":true,\"mirror\":true},\"yaxis3\":{\"anchor\":\"x3\",\"domain\":[0.271875,0.45625],\"title\":{\"text\":\"autoregression\"},\"showline\":true,\"mirror\":true},\"xaxis4\":{\"anchor\":\"y4\",\"domain\":[0.0,1.0],\"title\":{\"text\":\"ts\"},\"showline\":true,\"mirror\":true},\"yaxis4\":{\"anchor\":\"x4\",\"domain\":[0.0,0.184375],\"title\":{\"text\":\"residual\"},\"showline\":true,\"mirror\":true},\"title\":{\"text\":\"Component plots\",\"x\":0.5},\"showlegend\":true,\"height\":1400},                        {\"responsive\": true}                    ).then(function(){\n",
       "                            \n",
       "var gd = document.getElementById('9a424658-7e33-42a6-9eba-127e605c26cd');\n",
       "var x = new MutationObserver(function (mutations, observer) {{\n",
       "        var display = window.getComputedStyle(gd).display;\n",
       "        if (!display || display === 'none') {{\n",
       "            console.log([gd, 'removed!']);\n",
       "            Plotly.purge(gd);\n",
       "            observer.disconnect();\n",
       "        }}\n",
       "}});\n",
       "\n",
       "// Listen for the removal of the full notebook cells\n",
       "var notebookContainer = gd.closest('#notebook-container');\n",
       "if (notebookContainer) {{\n",
       "    x.observe(notebookContainer, {childList: true});\n",
       "}}\n",
       "\n",
       "// Listen for the clearing of the current output cell\n",
       "var outputEl = gd.closest('.output');\n",
       "if (outputEl) {{\n",
       "    x.observe(outputEl, {childList: true});\n",
       "}}\n",
       "\n",
       "                        })                };                            </script>        </div>\n",
       "</body>\n",
       "</html>"
      ]
     },
     "metadata": {},
     "output_type": "display_data"
    }
   ],
   "source": [
    "fig = forecast.plot_components()\n",
    "plotly.io.show(fig)"
   ]
  }
 ],
 "metadata": {
  "colab": {
   "provenance": [],
   "toc_visible": true
  },
  "kernelspec": {
   "display_name": "Python 3 (ipykernel)",
   "language": "python",
   "name": "python3"
  },
  "language_info": {
   "codemirror_mode": {
    "name": "ipython",
    "version": 3
   },
   "file_extension": ".py",
   "mimetype": "text/x-python",
   "name": "python",
   "nbconvert_exporter": "python",
   "pygments_lexer": "ipython3",
   "version": "3.9.13"
  },
  "vscode": {
   "interpreter": {
    "hash": "29964575cd32f8ab971f09616316ca0a9a0dc70686ff92303f4096d29f0b2abb"
   }
  }
 },
 "nbformat": 4,
 "nbformat_minor": 1
}
